{
 "cells": [
  {
   "cell_type": "code",
   "execution_count": 1,
   "metadata": {
    "collapsed": true
   },
   "outputs": [],
   "source": [
    "import pandas as pd\n",
    "import matplotlib.pyplot as plt\n",
    "import seaborn as sns\n",
    "import ydata_profiling\n",
    "import cufflinks as cf\n",
    "import plotly.offline\n",
    "from sklearn.model_selection import train_test_split\n",
    "from sklearn.model_selection import GridSearchCV\n",
    "from catboost import CatBoostClassifier\n",
    "from sklearn.metrics import f1_score\n",
    "import numpy as np\n",
    "from sklearn.model_selection import train_test_split\n",
    "import lightgbm as lgb\n",
    "from sklearn.metrics import f1_score\n",
    "\n",
    "DATA_DIR = \"/home/gangda/workspace/ds-richter/data\"\n",
    "\n",
    "\n",
    "X = pd.read_csv(DATA_DIR + '/train_values.csv', index_col='building_id')\n",
    "y = pd.read_csv(DATA_DIR + '/train_labels.csv', index_col='building_id')\n",
    "y -= 1\n",
    "\n",
    "# Identify categorical and numerical columns\n",
    "categorical_columns = [\n",
    "    \"land_surface_condition\", \"foundation_type\", \"roof_type\",\n",
    "    \"ground_floor_type\", \"other_floor_type\", \"position\",\n",
    "    \"plan_configuration\", \"legal_ownership_status\",\n",
    "]\n",
    "numerical_columns = [\n",
    "    \"geo_level_1_id\", \"geo_level_2_id\", \"geo_level_3_id\",\n",
    "    \"count_floors_pre_eq\", \"age\", \"area_percentage\",\n",
    "    \"height_percentage\", \"count_families\"\n",
    "]\n",
    "other_columns = [\n",
    "    \"has_superstructure_adobe_mud\",\n",
    "    \"has_superstructure_mud_mortar_stone\",\n",
    "    \"has_superstructure_stone_flag\",\n",
    "    \"has_superstructure_cement_mortar_stone\",\n",
    "    \"has_superstructure_mud_mortar_brick\",\n",
    "    \"has_superstructure_cement_mortar_brick\",\n",
    "    \"has_superstructure_timber\",\n",
    "    \"has_superstructure_bamboo\",\n",
    "    \"has_superstructure_rc_non_engineered\",\n",
    "    \"has_superstructure_rc_engineered\",\n",
    "    \"has_superstructure_other\",\n",
    "    \"has_secondary_use\",\n",
    "    \"has_secondary_use_agriculture\",\n",
    "    \"has_secondary_use_hotel\",\n",
    "    \"has_secondary_use_rental\",\n",
    "    \"has_secondary_use_institution\",\n",
    "    \"has_secondary_use_school\",\n",
    "    \"has_secondary_use_industry\",\n",
    "    \"has_secondary_use_health_post\",\n",
    "    \"has_secondary_use_gov_office\",\n",
    "    \"has_secondary_use_use_police\",\n",
    "    \"has_secondary_use_other\",\n",
    "]"
   ]
  },
  {
   "cell_type": "code",
   "execution_count": 12,
   "outputs": [],
   "source": [
    "from xgboost import XGBClassifier\n",
    "from sklearn.pipeline import Pipeline\n",
    "from sklearn.preprocessing import StandardScaler, OneHotEncoder, FunctionTransformer\n",
    "from sklearn.compose import ColumnTransformer\n",
    "\n",
    "preprocessor = ColumnTransformer(transformers=[\n",
    "    (\"num\", StandardScaler(), numerical_columns),\n",
    "    (\"cat\", OneHotEncoder(handle_unknown='ignore'), categorical_columns),\n",
    "    (\"other\", FunctionTransformer(validate=False), other_columns),\n",
    "])\n",
    "\n",
    "params = {\n",
    "    'objective': 'multi:softmax',\n",
    "    'num_class': 3,  # Number of classes\n",
    "    'eval_metric': 'mlogloss',\n",
    "    'learning_rate': 0.1,\n",
    "    'max_depth': 9,\n",
    "    'n_estimators': 500,\n",
    "}"
   ],
   "metadata": {
    "collapsed": false
   }
  },
  {
   "cell_type": "code",
   "execution_count": 15,
   "outputs": [
    {
     "name": "stdout",
     "output_type": "stream",
     "text": [
      "0.7466664108516721\n",
      "0.742344589409056\n",
      "0.7484650805832693\n",
      "0.7448004604758249\n",
      "0.7459516500383728\n",
      "\n",
      " ========================================================\n",
      "val_acc:  0.74565\n"
     ]
    }
   ],
   "source": [
    "from sklearn.model_selection import KFold\n",
    "import xgboost as xgb\n",
    "\n",
    "kf = KFold(n_splits=5)\n",
    "best_models = []\n",
    "val_acc = 0\n",
    "for train_index, val_index in kf.split(X):\n",
    "    X_train = X.iloc[train_index, :]\n",
    "    y_train = y.iloc[train_index, :]\n",
    "    X_val = X.iloc[val_index, :]\n",
    "    y_val = y.iloc[val_index, :]\n",
    "\n",
    "    model = Pipeline(steps=[\n",
    "        (\"preprocessor\", preprocessor),\n",
    "        (\"classifier\", XGBClassifier(random_state=42, **params))\n",
    "    ])\n",
    "    model.fit(X_train, y_train)\n",
    "    val_preds = model.predict(X_val)\n",
    "\n",
    "    # train_x = preprocessor.fit_transform(X_train)\n",
    "    # valid_x = preprocessor.transform(X_val)\n",
    "    # dtrain = xgb.DMatrix(train_x, label=y_train)\n",
    "    # dval = xgb.DMatrix(valid_x, label=y_val)\n",
    "\n",
    "    # model = xgb.train(params,\n",
    "    #                   dtrain,\n",
    "    #                   # num_boost_round=500,\n",
    "    #                   evals=[(dtrain, 'train'), (dval, 'validation')],\n",
    "    #                   early_stopping_rounds=100,\n",
    "    #                   verbose_eval=True)\n",
    "    # val_preds = model.predict(dval)\n",
    "\n",
    "    score = f1_score(y_val, val_preds, average='micro')\n",
    "    print(score)\n",
    "    val_acc += score\n",
    "    best_models.append(model)\n",
    "\n",
    "print(\"\\n ========================================================\")\n",
    "print(f'val_acc: {val_acc/len(best_models): .5f}')"
   ],
   "metadata": {
    "collapsed": false
   }
  },
  {
   "cell_type": "code",
   "execution_count": 19,
   "outputs": [
    {
     "data": {
      "text/plain": "array([[2.8083611e-03, 3.4647098e-01, 6.5072066e-01],\n       [2.5451034e-03, 5.9818465e-01, 3.9927024e-01],\n       [1.0440555e-02, 2.5882798e-01, 7.3073149e-01],\n       ...,\n       [5.4383470e-04, 5.1469464e-02, 9.4798666e-01],\n       [2.9753974e-01, 6.9838798e-01, 4.0722722e-03],\n       [1.0168686e-03, 3.6412862e-01, 6.3485450e-01]], dtype=float32)"
     },
     "execution_count": 19,
     "metadata": {},
     "output_type": "execute_result"
    }
   ],
   "source": [
    "val_probs = []\n",
    "for i, (train_index, val_index) in enumerate(kf.split(X)):\n",
    "    X_val = X.iloc[val_index, :]\n",
    "    val_probs.append(best_models[i].predict_proba(X_val))\n",
    "\n",
    "val_probs = np.concatenate(val_probs, axis=0)\n",
    "val_probs"
   ],
   "metadata": {
    "collapsed": false
   }
  },
  {
   "cell_type": "code",
   "execution_count": 20,
   "outputs": [
    {
     "data": {
      "text/plain": "array([[7.5468223e-04, 2.2502311e-01, 7.7422220e-01],\n       [1.6795030e-03, 8.3807909e-01, 1.6024137e-01],\n       [7.4247234e-03, 8.0637091e-01, 1.8620428e-01],\n       ...,\n       [5.0396997e-02, 6.8840945e-01, 2.6119357e-01],\n       [3.4430132e-03, 8.0507171e-01, 1.9148526e-01],\n       [5.1186615e-01, 4.7126403e-01, 1.6869843e-02]], dtype=float32)"
     },
     "execution_count": 20,
     "metadata": {},
     "output_type": "execute_result"
    }
   ],
   "source": [
    "X_test = pd.read_csv(DATA_DIR + '/test_values.csv', index_col='building_id')\n",
    "\n",
    "test_probs = None\n",
    "for best_model in best_models:\n",
    "    if test_probs is None:\n",
    "        test_probs = best_model.predict_proba(X_test)\n",
    "    else:\n",
    "        test_probs += best_model.predict_proba(X_test)\n",
    "\n",
    "test_probs /= len(best_models)\n",
    "test_probs"
   ],
   "metadata": {
    "collapsed": false
   }
  },
  {
   "cell_type": "code",
   "execution_count": 21,
   "outputs": [],
   "source": [
    "version = 1"
   ],
   "metadata": {
    "collapsed": false
   }
  },
  {
   "cell_type": "code",
   "execution_count": 22,
   "outputs": [],
   "source": [
    "np.save(DATA_DIR + '/intermediate/xgboost_{}fold_v{}_train.npy'.format(kf.n_splits, version), val_probs)\n",
    "np.save(DATA_DIR + '/intermediate/xgboost_{}fold_v{}_test.npy'.format(kf.n_splits, version), test_probs)"
   ],
   "metadata": {
    "collapsed": false
   }
  },
  {
   "cell_type": "code",
   "execution_count": 32,
   "outputs": [],
   "source": [
    "test_preds = np.argmax(test_probs, axis=1) + 1\n",
    "\n",
    "submission_format = pd.read_csv(DATA_DIR + '/submission_format.csv', index_col='building_id')\n",
    "my_submission = pd.DataFrame(data=test_preds,\n",
    "                             columns=submission_format.columns,\n",
    "                             index=submission_format.index)\n",
    "my_submission['damage_grade'] = my_submission['damage_grade'].astype(int)\n",
    "my_submission.to_csv(DATA_DIR + '/submission/lightgbm_{}fold_v{}.csv'.format(kf.n_splits, version))"
   ],
   "metadata": {
    "collapsed": false
   }
  }
 ],
 "metadata": {
  "kernelspec": {
   "display_name": "Python 3",
   "language": "python",
   "name": "python3"
  },
  "language_info": {
   "codemirror_mode": {
    "name": "ipython",
    "version": 2
   },
   "file_extension": ".py",
   "mimetype": "text/x-python",
   "name": "python",
   "nbconvert_exporter": "python",
   "pygments_lexer": "ipython2",
   "version": "2.7.6"
  }
 },
 "nbformat": 4,
 "nbformat_minor": 0
}
