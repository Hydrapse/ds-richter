{
 "cells": [
  {
   "cell_type": "code",
   "execution_count": 107,
   "outputs": [],
   "source": [
    "import os\n",
    "import numpy as np\n",
    "import optuna\n",
    "import pandas as pd\n",
    "import seaborn as sns\n",
    "from functools import partial\n",
    "from sklearn.metrics import mean_squared_error, f1_score"
   ],
   "metadata": {
    "collapsed": false
   }
  },
  {
   "cell_type": "code",
   "execution_count": 110,
   "outputs": [],
   "source": [
    "DATA_DIR = \"/home/gangda/workspace/ds-richter/data\"\n",
    "\n",
    "catboost_version = 2\n",
    "lightgbm_version = 1\n",
    "num_fold = 4\n",
    "\n",
    "y = pd.read_csv(DATA_DIR + '/train_labels.csv', index_col='building_id')\n",
    "y_catboost = np.load(DATA_DIR + '/intermediate/catboost_{}fold_v{}_train.npy'.format(num_fold, catboost_version))\n",
    "y_lightgbm = np.load(DATA_DIR + '/intermediate/lightgbm_{}fold_v{}_train.npy'.format(num_fold, lightgbm_version))\n",
    "\n",
    "y_catboost_test = np.load(DATA_DIR + '/intermediate/catboost_{}fold_v{}_test.npy'.format(num_fold, catboost_version))\n",
    "y_lightgbm_test = np.load(DATA_DIR + '/intermediate/lightgbm_{}fold_v{}_test.npy'.format(num_fold, lightgbm_version))"
   ],
   "metadata": {
    "collapsed": false
   }
  },
  {
   "cell_type": "code",
   "execution_count": 209,
   "outputs": [],
   "source": [
    "DATA_DIR = \"/home/gangda/workspace/ds-richter/data\"\n",
    "\n",
    "\n",
    "y_catboost_1 = np.load(DATA_DIR + '/intermediate/catboost_{}fold_v{}_train.npy'.format(3, 1))\n",
    "y_catboost_2 = np.load(DATA_DIR + '/intermediate/catboost_{}fold_v{}_train.npy'.format(4, 2))\n",
    "y_catboost_3 = np.load(DATA_DIR + '/intermediate/catboost_{}fold_v{}_train.npy'.format(5, 1))\n",
    "y_catboost_3_2 = np.load(DATA_DIR + '/intermediate/catboost_{}fold_v{}_train.npy'.format(5, 2))\n",
    "y_lightgbm_1 = np.load(DATA_DIR + '/intermediate/lightgbm_{}fold_v{}_train.npy'.format(3, 1))\n",
    "y_lightgbm_2 = np.load(DATA_DIR + '/intermediate/lightgbm_{}fold_v{}_train.npy'.format(4, 1))\n",
    "y_lightgbm_3 = np.load(DATA_DIR + '/intermediate/lightgbm_{}fold_v{}_train.npy'.format(5, 1))\n",
    "\n",
    "y_catboost_1_test = np.load(DATA_DIR + '/intermediate/catboost_{}fold_v{}_test.npy'.format(3, 1))\n",
    "y_catboost_2_test = np.load(DATA_DIR + '/intermediate/catboost_{}fold_v{}_test.npy'.format(4, 2))\n",
    "y_catboost_3_test = np.load(DATA_DIR + '/intermediate/catboost_{}fold_v{}_test.npy'.format(5, 1))\n",
    "y_catboost_3_2_test = np.load(DATA_DIR + '/intermediate/catboost_{}fold_v{}_test.npy'.format(5, 2))\n",
    "y_lightgbm_1_test = np.load(DATA_DIR + '/intermediate/lightgbm_{}fold_v{}_test.npy'.format(3, 1))\n",
    "y_lightgbm_2_test = np.load(DATA_DIR + '/intermediate/lightgbm_{}fold_v{}_test.npy'.format(4, 1))\n",
    "y_lightgbm_3_test = np.load(DATA_DIR + '/intermediate/lightgbm_{}fold_v{}_test.npy'.format(5, 1))"
   ],
   "metadata": {
    "collapsed": false
   }
  },
  {
   "cell_type": "code",
   "execution_count": 213,
   "outputs": [
    {
     "data": {
      "text/plain": "0.7538344058541602"
     },
     "execution_count": 213,
     "metadata": {},
     "output_type": "execute_result"
    }
   ],
   "source": [
    "y_prob = np.stack([y_catboost_1, y_catboost_2, y_catboost_3, y_catboost_3_2, y_lightgbm_1, y_lightgbm_2, y_lightgbm_3])\n",
    "\n",
    "y_prob = np.log1p(y_prob)\n",
    "y_prob = np.sum(y_prob, axis=0)\n",
    "y_pred = y_prob.argmax(axis=1) + 1\n",
    "f1_score(y, y_pred, average='micro')"
   ],
   "metadata": {
    "collapsed": false
   }
  },
  {
   "cell_type": "code",
   "execution_count": 129,
   "outputs": [],
   "source": [
    "# sns.distplot(y_pred)"
   ],
   "metadata": {
    "collapsed": false
   }
  },
  {
   "cell_type": "code",
   "execution_count": 50,
   "outputs": [
    {
     "name": "stdout",
     "output_type": "stream",
     "text": [
      "[[ 14106  10658    360]\n",
      " [  5581 125772  16906]\n",
      " [   601  30064  56553]]\n"
     ]
    }
   ],
   "source": [
    "from sklearn.metrics import classification_report, confusion_matrix\n",
    "\n",
    "# mixure\n",
    "# print(classification_report(y, y_pred))\n",
    "print(confusion_matrix(y, y_pred))"
   ],
   "metadata": {
    "collapsed": false
   }
  },
  {
   "cell_type": "code",
   "execution_count": 144,
   "outputs": [
    {
     "name": "stdout",
     "output_type": "stream",
     "text": [
      "[[ 13758  11036    330]\n",
      " [  5393 126094  16772]\n",
      " [   564  30526  56128]]\n"
     ]
    }
   ],
   "source": [
    "# catboost\n",
    "# print(classification_report(y, y_pred))\n",
    "print(confusion_matrix(y, y_pred))"
   ],
   "metadata": {
    "collapsed": false
   }
  },
  {
   "cell_type": "code",
   "execution_count": 147,
   "outputs": [
    {
     "name": "stdout",
     "output_type": "stream",
     "text": [
      "[[ 14299  10351    474]\n",
      " [  6075 124571  17613]\n",
      " [   680  29535  57003]]\n"
     ]
    }
   ],
   "source": [
    "# lightgbm\n",
    "# print(classification_report(y, y_pred))\n",
    "print(confusion_matrix(y, y_pred))"
   ],
   "metadata": {
    "collapsed": false
   }
  },
  {
   "cell_type": "code",
   "execution_count": 180,
   "metadata": {
    "collapsed": true
   },
   "outputs": [],
   "source": [
    "class GeneralizedMeanBlender:\n",
    "    \"\"\"Combines multiple predictions using generalized mean\"\"\"\n",
    "    def __init__(self, p_range=(-2,2)):\n",
    "        \"\"\"\"\"\"\n",
    "        self.p_range = p_range\n",
    "        self.p = None\n",
    "        self.weights = None\n",
    "\n",
    "    def _objective(self, trial, X, y):\n",
    "\n",
    "        # create hyperparameters\n",
    "        p = trial.suggest_float(f\"p\", *self.p_range)\n",
    "        weights = [\n",
    "            trial.suggest_float(f\"w{i}\", 0, 1)\n",
    "            for i in range(X.shape[0] * 1)\n",
    "        ]\n",
    "        weights = np.reshape(weights, (X.shape[0], 1, 1))\n",
    "\n",
    "        # blend predictions\n",
    "        if p <= 0:\n",
    "            blend_preds = np.log1p(X) * weights\n",
    "        else:\n",
    "            blend_preds = X**p * weights\n",
    "        blend_preds = np.sum(blend_preds, axis=0)\n",
    "\n",
    "        y_pred = blend_preds.argmax(axis=1) + 1\n",
    "        return f1_score(y, y_pred, average='micro')\n",
    "\n",
    "    def fit(self, X, y, n_trials=10):\n",
    "        # optimize objective\n",
    "        obj = partial(self._objective, X=X, y=y)\n",
    "        study = optuna.create_study(direction=\"maximize\")\n",
    "        study.optimize(obj, n_trials=n_trials)\n",
    "        # extract best weights\n",
    "        if self.p is None:\n",
    "            self.p = [v for k,v in study.best_params.items() if \"p\" in k][0]\n",
    "        self.weights = np.array([v for k,v in study.best_params.items() if \"w\" in k])\n",
    "        self.weights /= self.weights.sum()\n",
    "\n",
    "        self.study = study\n",
    "\n",
    "    def transform(self, X):\n",
    "        assert self.weights is not None and self.p is not None, \\\n",
    "            \"Must call fit method before transform\"\n",
    "        weights = np.reshape(self.weights, (X.shape[0], 1, 1))\n",
    "        if self.p <= 0:\n",
    "            prob = np.log1p(X) * weights\n",
    "        else:\n",
    "            prob = X**self.p * weights\n",
    "        prob = np.sum(prob, axis=0)\n",
    "        return prob.argmax(axis=1) + 1\n",
    "\n",
    "    def fit_transform(self, X, y, **kwargs):\n",
    "        self.fit(X, y, **kwargs)\n",
    "        return self.transform(X)"
   ]
  },
  {
   "cell_type": "code",
   "execution_count": 221,
   "outputs": [
    {
     "name": "stderr",
     "output_type": "stream",
     "text": [
      "\u001B[32m[I 2023-04-10 17:25:35,952]\u001B[0m A new study created in memory with name: no-name-61f2a448-6b7b-4447-acc1-2c7a82cc39a8\u001B[0m\n",
      "\u001B[32m[I 2023-04-10 17:25:36,017]\u001B[0m Trial 0 finished with value: 0.7539610362201219 and parameters: {'p': -0.5123213726409293, 'w0': 0.3477186962622182, 'w1': 0.23212173462841657}. Best is trial 0 with value: 0.7539610362201219.\u001B[0m\n",
      "\u001B[32m[I 2023-04-10 17:25:36,091]\u001B[0m Trial 1 finished with value: 0.7535197485811643 and parameters: {'p': 0.0909662881356832, 'w0': 0.691525067151418, 'w1': 0.2408327154112031}. Best is trial 0 with value: 0.7539610362201219.\u001B[0m\n",
      "\u001B[32m[I 2023-04-10 17:25:36,156]\u001B[0m Trial 2 finished with value: 0.7519809977705381 and parameters: {'p': -1.2171645372943467, 'w0': 0.024841296088730647, 'w1': 0.6608443678878638}. Best is trial 0 with value: 0.7539610362201219.\u001B[0m\n",
      "\u001B[32m[I 2023-04-10 17:25:36,220]\u001B[0m Trial 3 finished with value: 0.7538727786923304 and parameters: {'p': -1.6928273258348407, 'w0': 0.9800233009985341, 'w1': 0.45780154100259995}. Best is trial 0 with value: 0.7539610362201219.\u001B[0m\n",
      "\u001B[32m[I 2023-04-10 17:25:36,292]\u001B[0m Trial 4 finished with value: 0.753972548071573 and parameters: {'p': 1.594572628638995, 'w0': 0.4956927732300278, 'w1': 0.5767147096258408}. Best is trial 4 with value: 0.753972548071573.\u001B[0m\n",
      "\u001B[32m[I 2023-04-10 17:25:36,357]\u001B[0m Trial 5 finished with value: 0.7541720868300583 and parameters: {'p': -0.7942575244665364, 'w0': 0.5122678230040084, 'w1': 0.4247550344989489}. Best is trial 5 with value: 0.7541720868300583.\u001B[0m\n",
      "\u001B[32m[I 2023-04-10 17:25:36,430]\u001B[0m Trial 6 finished with value: 0.75397638535539 and parameters: {'p': 0.20098391159663587, 'w0': 0.7429241347684873, 'w1': 0.47895772285846605}. Best is trial 5 with value: 0.7541720868300583.\u001B[0m\n",
      "\u001B[32m[I 2023-04-10 17:25:36,494]\u001B[0m Trial 7 finished with value: 0.753945687084854 and parameters: {'p': -0.06996284761305649, 'w0': 0.7950916076141469, 'w1': 0.913216854226823}. Best is trial 5 with value: 0.7541720868300583.\u001B[0m\n",
      "\u001B[32m[I 2023-04-10 17:25:36,566]\u001B[0m Trial 8 finished with value: 0.7532856742683259 and parameters: {'p': 0.7315569573536669, 'w0': 0.18262314759523546, 'w1': 0.6420536012596307}. Best is trial 5 with value: 0.7541720868300583.\u001B[0m\n",
      "\u001B[32m[I 2023-04-10 17:25:36,639]\u001B[0m Trial 9 finished with value: 0.7529902034144151 and parameters: {'p': 0.8527610293854906, 'w0': 0.7203874612182313, 'w1': 0.14851370727346414}. Best is trial 5 with value: 0.7541720868300583.\u001B[0m\n",
      "\u001B[32m[I 2023-04-10 17:25:36,717]\u001B[0m Trial 10 finished with value: 0.7524299599771298 and parameters: {'p': -1.0256081324401307, 'w0': 0.4423418913611732, 'w1': 0.0008379913315624821}. Best is trial 5 with value: 0.7541720868300583.\u001B[0m\n",
      "\u001B[32m[I 2023-04-10 17:25:36,789]\u001B[0m Trial 11 finished with value: 0.7539687107877561 and parameters: {'p': -1.9419028950378738, 'w0': 0.6085774539935102, 'w1': 0.40740913164973813}. Best is trial 5 with value: 0.7541720868300583.\u001B[0m\n",
      "\u001B[32m[I 2023-04-10 17:25:36,860]\u001B[0m Trial 12 finished with value: 0.7540646428831815 and parameters: {'p': -0.8555155512570545, 'w0': 0.5718672568873222, 'w1': 0.4022970292784859}. Best is trial 5 with value: 0.7541720868300583.\u001B[0m\n",
      "\u001B[32m[I 2023-04-10 17:25:36,930]\u001B[0m Trial 13 finished with value: 0.7539303379495857 and parameters: {'p': -0.7240312697575326, 'w0': 0.3484229813794073, 'w1': 0.388075031918914}. Best is trial 5 with value: 0.7541720868300583.\u001B[0m\n",
      "\u001B[32m[I 2023-04-10 17:25:37,000]\u001B[0m Trial 14 finished with value: 0.7538113821512581 and parameters: {'p': -1.40015887905168, 'w0': 0.5894774844789503, 'w1': 0.31032410385343684}. Best is trial 5 with value: 0.7541720868300583.\u001B[0m\n",
      "\u001B[32m[I 2023-04-10 17:25:37,071]\u001B[0m Trial 15 finished with value: 0.7540224327611942 and parameters: {'p': -0.8020462514926409, 'w0': 0.4122270593819036, 'w1': 0.5820147128115631}. Best is trial 5 with value: 0.7541720868300583.\u001B[0m\n",
      "\u001B[32m[I 2023-04-10 17:25:37,141]\u001B[0m Trial 16 finished with value: 0.7539878972068411 and parameters: {'p': -1.5044462261530616, 'w0': 0.5489921123285365, 'w1': 0.7545148536352135}. Best is trial 5 with value: 0.7541720868300583.\u001B[0m\n",
      "\u001B[32m[I 2023-04-10 17:25:37,211]\u001B[0m Trial 17 finished with value: 0.7539840599230241 and parameters: {'p': -0.43635442831302806, 'w0': 0.281971140861143, 'w1': 0.35427414181555994}. Best is trial 5 with value: 0.7541720868300583.\u001B[0m\n",
      "\u001B[32m[I 2023-04-10 17:25:37,284]\u001B[0m Trial 18 finished with value: 0.7538305685703431 and parameters: {'p': -1.1115502457735422, 'w0': 0.5246154874491258, 'w1': 0.526181585641186}. Best is trial 5 with value: 0.7541720868300583.\u001B[0m\n",
      "\u001B[32m[I 2023-04-10 17:25:37,354]\u001B[0m Trial 19 finished with value: 0.7540876665860837 and parameters: {'p': -1.8422715534671035, 'w0': 0.6320153846720029, 'w1': 0.4734341244016903}. Best is trial 5 with value: 0.7541720868300583.\u001B[0m\n",
      "\u001B[32m[I 2023-04-10 17:25:37,424]\u001B[0m Trial 20 finished with value: 0.7541413885595221 and parameters: {'p': -1.600398537590896, 'w0': 0.903243443459424, 'w1': 0.7555821079901229}. Best is trial 5 with value: 0.7541720868300583.\u001B[0m\n",
      "\u001B[32m[I 2023-04-10 17:25:37,496]\u001B[0m Trial 21 finished with value: 0.7541797613976923 and parameters: {'p': -1.992228440541922, 'w0': 0.9102333526526067, 'w1': 0.7486686958269781}. Best is trial 21 with value: 0.7541797613976923.\u001B[0m\n",
      "\u001B[32m[I 2023-04-10 17:25:37,567]\u001B[0m Trial 22 finished with value: 0.7540761547346326 and parameters: {'p': -1.637997922415643, 'w0': 0.8767366908591049, 'w1': 0.7897651583937064}. Best is trial 21 with value: 0.7541797613976923.\u001B[0m\n",
      "\u001B[32m[I 2023-04-10 17:25:37,638]\u001B[0m Trial 23 finished with value: 0.753803707583624 and parameters: {'p': -1.9433664799006631, 'w0': 0.9768282468689672, 'w1': 0.9858288711776177}. Best is trial 21 with value: 0.7541797613976923.\u001B[0m\n",
      "\u001B[32m[I 2023-04-10 17:25:37,709]\u001B[0m Trial 24 finished with value: 0.7539878972068411 and parameters: {'p': -1.3520849400456663, 'w0': 0.8376577657239263, 'w1': 0.7787767993349296}. Best is trial 21 with value: 0.7541797613976923.\u001B[0m\n",
      "\u001B[32m[I 2023-04-10 17:25:37,780]\u001B[0m Trial 25 finished with value: 0.7541567376947901 and parameters: {'p': -1.6341567235051773, 'w0': 0.9022465605401259, 'w1': 0.6979894240770999}. Best is trial 21 with value: 0.7541797613976923.\u001B[0m\n",
      "\u001B[32m[I 2023-04-10 17:25:37,851]\u001B[0m Trial 26 finished with value: 0.7541030157213517 and parameters: {'p': -1.983882432979299, 'w0': 0.7925315675372906, 'w1': 0.6778475983241985}. Best is trial 21 with value: 0.7541797613976923.\u001B[0m\n",
      "\u001B[32m[I 2023-04-10 17:25:37,922]\u001B[0m Trial 27 finished with value: 0.753957198936305 and parameters: {'p': -1.2508319810465034, 'w0': 0.9141545815500773, 'w1': 0.5850613082242033}. Best is trial 21 with value: 0.7541797613976923.\u001B[0m\n",
      "\u001B[32m[I 2023-04-10 17:25:37,994]\u001B[0m Trial 28 finished with value: 0.7539878972068411 and parameters: {'p': -1.4933046642027157, 'w0': 0.6553229646812608, 'w1': 0.8544849166674038}. Best is trial 21 with value: 0.7541797613976923.\u001B[0m\n",
      "\u001B[32m[I 2023-04-10 17:25:38,065]\u001B[0m Trial 29 finished with value: 0.7539955717744752 and parameters: {'p': -0.9894250749359734, 'w0': 0.769711159562029, 'w1': 0.729556690504923}. Best is trial 21 with value: 0.7541797613976923.\u001B[0m\n",
      "\u001B[32m[I 2023-04-10 17:25:38,136]\u001B[0m Trial 30 finished with value: 0.7539610362201219 and parameters: {'p': -1.6919634252807163, 'w0': 0.6956351616428267, 'w1': 0.8571371410659361}. Best is trial 21 with value: 0.7541797613976923.\u001B[0m\n",
      "\u001B[32m[I 2023-04-10 17:25:38,207]\u001B[0m Trial 31 finished with value: 0.7541413885595221 and parameters: {'p': -1.5452169994258351, 'w0': 0.9023445872750943, 'w1': 0.6918475106442403}. Best is trial 21 with value: 0.7541797613976923.\u001B[0m\n",
      "\u001B[32m[I 2023-04-10 17:25:38,278]\u001B[0m Trial 32 finished with value: 0.7541068530051688 and parameters: {'p': -1.3064942392199699, 'w0': 0.8384982459885393, 'w1': 0.7261329947409549}. Best is trial 21 with value: 0.7541797613976923.\u001B[0m\n",
      "\u001B[32m[I 2023-04-10 17:25:38,350]\u001B[0m Trial 33 finished with value: 0.7539917344906581 and parameters: {'p': -1.7644205021480333, 'w0': 0.9397904373597251, 'w1': 0.6261589946780384}. Best is trial 21 with value: 0.7541797613976923.\u001B[0m\n",
      "\u001B[32m[I 2023-04-10 17:25:38,421]\u001B[0m Trial 34 finished with value: 0.7538228940027091 and parameters: {'p': -1.1786655364883192, 'w0': 0.9988437623877061, 'w1': 0.5407452270641337}. Best is trial 21 with value: 0.7541797613976923.\u001B[0m\n",
      "\u001B[32m[I 2023-04-10 17:25:38,493]\u001B[0m Trial 35 finished with value: 0.7540838293022667 and parameters: {'p': -1.6765168502308285, 'w0': 0.8606354501148129, 'w1': 0.6309926385561896}. Best is trial 21 with value: 0.7541797613976923.\u001B[0m\n",
      "\u001B[32m[I 2023-04-10 17:25:38,564]\u001B[0m Trial 36 finished with value: 0.7541567376947901 and parameters: {'p': -1.4339746126285409, 'w0': 0.960117355221486, 'w1': 0.8100100018500405}. Best is trial 21 with value: 0.7541797613976923.\u001B[0m\n",
      "\u001B[32m[I 2023-04-10 17:25:38,635]\u001B[0m Trial 37 finished with value: 0.7541068530051688 and parameters: {'p': -1.9827238265777087, 'w0': 0.9559551374950859, 'w1': 0.8207628786827005}. Best is trial 21 with value: 0.7541797613976923.\u001B[0m\n",
      "\u001B[32m[I 2023-04-10 17:25:38,707]\u001B[0m Trial 38 finished with value: 0.7541183648566199 and parameters: {'p': -1.356561883483741, 'w0': 0.815137972740239, 'w1': 0.694539426003069}. Best is trial 21 with value: 0.7541797613976923.\u001B[0m\n",
      "\u001B[32m[I 2023-04-10 17:25:38,779]\u001B[0m Trial 39 finished with value: 0.7539610362201219 and parameters: {'p': -0.5323635247484437, 'w0': 0.7504377801278269, 'w1': 0.9087673730172939}. Best is trial 21 with value: 0.7541797613976923.\u001B[0m\n",
      "\u001B[32m[I 2023-04-10 17:25:38,850]\u001B[0m Trial 40 finished with value: 0.7539418498010367 and parameters: {'p': -1.1286234360430127, 'w0': 0.6770360185316125, 'w1': 0.817141224059748}. Best is trial 21 with value: 0.7541797613976923.\u001B[0m\n",
      "\u001B[32m[I 2023-04-10 17:25:38,922]\u001B[0m Trial 41 finished with value: 0.7541682495462412 and parameters: {'p': -1.7344134629967933, 'w0': 0.9171443713316118, 'w1': 0.7513845466379783}. Best is trial 21 with value: 0.7541797613976923.\u001B[0m\n",
      "\u001B[32m[I 2023-04-10 17:25:38,994]\u001B[0m Trial 42 finished with value: 0.7541605749786071 and parameters: {'p': -1.784533585880438, 'w0': 0.9377502661562397, 'w1': 0.7234166219477576}. Best is trial 21 with value: 0.7541797613976923.\u001B[0m\n",
      "\u001B[32m[I 2023-04-10 17:25:39,065]\u001B[0m Trial 43 finished with value: 0.7541759241138751 and parameters: {'p': -1.7630385354746534, 'w0': 0.8685180415393764, 'w1': 0.708753179153084}. Best is trial 21 with value: 0.7541797613976923.\u001B[0m\n",
      "\u001B[32m[I 2023-04-10 17:25:39,138]\u001B[0m Trial 44 finished with value: 0.7540991784375348 and parameters: {'p': -1.809303072625557, 'w0': 0.8089869159154969, 'w1': 0.6316574249333562}. Best is trial 21 with value: 0.7541797613976923.\u001B[0m\n",
      "\u001B[32m[I 2023-04-10 17:25:39,209]\u001B[0m Trial 45 finished with value: 0.7539994090582923 and parameters: {'p': -1.7766880567916263, 'w0': 0.7411105656854371, 'w1': 0.5032993253140551}. Best is trial 21 with value: 0.7541797613976923.\u001B[0m\n",
      "\u001B[32m[I 2023-04-10 17:25:39,281]\u001B[0m Trial 46 finished with value: 0.7540799920184497 and parameters: {'p': -1.9014249281739124, 'w0': 0.9970966810664089, 'w1': 0.725363749942406}. Best is trial 21 with value: 0.7541797613976923.\u001B[0m\n",
      "\u001B[32m[I 2023-04-10 17:25:39,352]\u001B[0m Trial 47 finished with value: 0.7540032463421092 and parameters: {'p': -0.9703196300849926, 'w0': 0.8646553819930594, 'w1': 0.589657603520973}. Best is trial 21 with value: 0.7541797613976923.\u001B[0m\n",
      "\u001B[32m[I 2023-04-10 17:25:39,422]\u001B[0m Trial 48 finished with value: 0.7539380125172198 and parameters: {'p': -1.5027171471264438, 'w0': 0.9228373704525389, 'w1': 0.5388034289613102}. Best is trial 21 with value: 0.7541797613976923.\u001B[0m\n",
      "\u001B[32m[I 2023-04-10 17:25:39,493]\u001B[0m Trial 49 finished with value: 0.7538535922732454 and parameters: {'p': -1.9902811609221076, 'w0': 0.7793315563190288, 'w1': 0.42631324063836656}. Best is trial 21 with value: 0.7541797613976923.\u001B[0m\n",
      "\u001B[32m[I 2023-04-10 17:25:39,565]\u001B[0m Trial 50 finished with value: 0.7540953411537178 and parameters: {'p': -1.2211933021047607, 'w0': 0.6952151354550349, 'w1': 0.6237953699359509}. Best is trial 21 with value: 0.7541797613976923.\u001B[0m\n",
      "\u001B[32m[I 2023-04-10 17:25:39,637]\u001B[0m Trial 51 finished with value: 0.7540723174508156 and parameters: {'p': -1.5072552684043719, 'w0': 0.9390395587308942, 'w1': 0.6692909688589045}. Best is trial 21 with value: 0.7541797613976923.\u001B[0m\n",
      "\u001B[32m[I 2023-04-10 17:25:39,709]\u001B[0m Trial 52 finished with value: 0.7541452258433391 and parameters: {'p': -1.7158642392637624, 'w0': 0.8750538649445846, 'w1': 0.6936065378293731}. Best is trial 21 with value: 0.7541797613976923.\u001B[0m\n",
      "\u001B[32m[I 2023-04-10 17:25:39,779]\u001B[0m Trial 53 finished with value: 0.7541490631271562 and parameters: {'p': -1.7947603771589782, 'w0': 0.9010530080992454, 'w1': 0.7280950698136543}. Best is trial 21 with value: 0.7541797613976923.\u001B[0m\n",
      "\u001B[32m[I 2023-04-10 17:25:39,851]\u001B[0m Trial 54 finished with value: 0.7539878972068411 and parameters: {'p': -1.6210228881021893, 'w0': 0.8241589467010746, 'w1': 0.7666032320033176}. Best is trial 21 with value: 0.7541797613976923.\u001B[0m\n",
      "\u001B[32m[I 2023-04-10 17:25:39,923]\u001B[0m Trial 55 finished with value: 0.7540684801669986 and parameters: {'p': -1.8323129221525456, 'w0': 0.9313185416251735, 'w1': 0.6638820022358045}. Best is trial 21 with value: 0.7541797613976923.\u001B[0m\n",
      "\u001B[32m[I 2023-04-10 17:25:39,995]\u001B[0m Trial 56 finished with value: 0.7538344058541602 and parameters: {'p': -1.4191702947625382, 'w0': 0.9649165777551247, 'w1': 0.4652269573222224}. Best is trial 21 with value: 0.7541797613976923.\u001B[0m\n",
      "\u001B[32m[I 2023-04-10 17:25:40,067]\u001B[0m Trial 57 finished with value: 0.753803707583624 and parameters: {'p': -1.612633609494904, 'w0': 0.7276394285277017, 'w1': 0.7649947968842643}. Best is trial 21 with value: 0.7541797613976923.\u001B[0m\n",
      "\u001B[32m[I 2023-04-10 17:25:40,139]\u001B[0m Trial 58 finished with value: 0.7539955717744752 and parameters: {'p': -1.2224013051484084, 'w0': 0.8526587391134404, 'w1': 0.5658696016264018}. Best is trial 21 with value: 0.7541797613976923.\u001B[0m\n",
      "\u001B[32m[I 2023-04-10 17:25:40,211]\u001B[0m Trial 59 finished with value: 0.7539533616524879 and parameters: {'p': -1.8560980902172095, 'w0': 0.4821152170778833, 'w1': 0.6020275504268496}. Best is trial 21 with value: 0.7541797613976923.\u001B[0m\n",
      "\u001B[32m[I 2023-04-10 17:25:40,283]\u001B[0m Trial 60 finished with value: 0.7541682495462412 and parameters: {'p': -1.34820239380939, 'w0': 0.7871699989127339, 'w1': 0.6523974035585837}. Best is trial 21 with value: 0.7541797613976923.\u001B[0m\n",
      "\u001B[32m[I 2023-04-10 17:25:40,355]\u001B[0m Trial 61 finished with value: 0.7540953411537178 and parameters: {'p': -1.7014566655954755, 'w0': 0.8849409935466593, 'w1': 0.6577829780610019}. Best is trial 21 with value: 0.7541797613976923.\u001B[0m\n",
      "\u001B[32m[I 2023-04-10 17:25:40,427]\u001B[0m Trial 62 finished with value: 0.754126039424254 and parameters: {'p': -1.3817939847318383, 'w0': 0.8107982172596081, 'w1': 0.7240024610043186}. Best is trial 21 with value: 0.7541797613976923.\u001B[0m\n",
      "\u001B[32m[I 2023-04-10 17:25:40,499]\u001B[0m Trial 63 finished with value: 0.7541030157213517 and parameters: {'p': -1.5643546304548832, 'w0': 0.9012364139708062, 'w1': 0.7874232722081029}. Best is trial 21 with value: 0.7541797613976923.\u001B[0m\n",
      "\u001B[32m[I 2023-04-10 17:25:40,571]\u001B[0m Trial 64 finished with value: 0.7541452258433391 and parameters: {'p': -1.8804267133933734, 'w0': 0.7806865994919787, 'w1': 0.6512454713167584}. Best is trial 21 with value: 0.7541797613976923.\u001B[0m\n",
      "\u001B[32m[I 2023-04-10 17:25:40,643]\u001B[0m Trial 65 finished with value: 0.7541682495462412 and parameters: {'p': -1.0633469281538335, 'w0': 0.8501030442929202, 'w1': 0.6885312209125966}. Best is trial 21 with value: 0.7541797613976923.\u001B[0m\n",
      "\u001B[32m[I 2023-04-10 17:25:40,714]\u001B[0m Trial 66 finished with value: 0.7541106902889858 and parameters: {'p': -1.0592612876944931, 'w0': 0.8432889449266081, 'w1': 0.7383828786260425}. Best is trial 21 with value: 0.7541797613976923.\u001B[0m\n",
      "\u001B[32m[I 2023-04-10 17:25:40,785]\u001B[0m Trial 67 finished with value: 0.7541106902889858 and parameters: {'p': -0.9221613092074472, 'w0': 0.9583231039579183, 'w1': 0.7044836920362417}. Best is trial 21 with value: 0.7541797613976923.\u001B[0m\n",
      "\u001B[32m[I 2023-04-10 17:25:40,857]\u001B[0m Trial 68 finished with value: 0.753945687084854 and parameters: {'p': -1.323263647425866, 'w0': 0.5832597727208473, 'w1': 0.6731967856229292}. Best is trial 21 with value: 0.7541797613976923.\u001B[0m\n",
      "\u001B[32m[I 2023-04-10 17:25:40,930]\u001B[0m Trial 69 finished with value: 0.7539495243686709 and parameters: {'p': -0.7849209880359098, 'w0': 0.6279145515421052, 'w1': 0.768043522674087}. Best is trial 21 with value: 0.7541797613976923.\u001B[0m\n",
      "\u001B[32m[I 2023-04-10 17:25:41,001]\u001B[0m Trial 70 finished with value: 0.7540723174508156 and parameters: {'p': -1.0766399081474103, 'w0': 0.8698286280132511, 'w1': 0.6078996041607961}. Best is trial 21 with value: 0.7541797613976923.\u001B[0m\n",
      "\u001B[32m[I 2023-04-10 17:25:41,073]\u001B[0m Trial 71 finished with value: 0.7541605749786071 and parameters: {'p': -1.610658233335524, 'w0': 0.9112229935147622, 'w1': 0.7012447708019275}. Best is trial 21 with value: 0.7541797613976923.\u001B[0m\n",
      "\u001B[32m[I 2023-04-10 17:25:41,144]\u001B[0m Trial 72 finished with value: 0.7540608055993645 and parameters: {'p': -1.4784146343133837, 'w0': 0.8307623502306505, 'w1': 0.7492994845639109}. Best is trial 21 with value: 0.7541797613976923.\u001B[0m\n",
      "\u001B[32m[I 2023-04-10 17:25:41,216]\u001B[0m Trial 73 finished with value: 0.7540684801669986 and parameters: {'p': -1.9962744134035637, 'w0': 0.9166046330714578, 'w1': 0.65268393335293}. Best is trial 21 with value: 0.7541797613976923.\u001B[0m\n",
      "\u001B[32m[I 2023-04-10 17:25:41,288]\u001B[0m Trial 74 finished with value: 0.7541490631271562 and parameters: {'p': -1.6729216435252243, 'w0': 0.9785522269606245, 'w1': 0.7907072733707377}. Best is trial 21 with value: 0.7541797613976923.\u001B[0m\n",
      "\u001B[32m[I 2023-04-10 17:25:41,359]\u001B[0m Trial 75 finished with value: 0.7540876665860837 and parameters: {'p': -1.2747137297999387, 'w0': 0.941265641665219, 'w1': 0.7056111743810496}. Best is trial 21 with value: 0.7541797613976923.\u001B[0m\n",
      "\u001B[32m[I 2023-04-10 17:25:41,431]\u001B[0m Trial 76 finished with value: 0.7539878972068411 and parameters: {'p': -1.567126727906697, 'w0': 0.8832900688172843, 'w1': 0.8364988770728862}. Best is trial 21 with value: 0.7541797613976923.\u001B[0m\n",
      "\u001B[32m[I 2023-04-10 17:25:41,503]\u001B[0m Trial 77 finished with value: 0.7539955717744752 and parameters: {'p': -1.7601173327998283, 'w0': 0.8013552035820758, 'w1': 0.7550035200923477}. Best is trial 21 with value: 0.7541797613976923.\u001B[0m\n",
      "\u001B[32m[I 2023-04-10 17:25:41,576]\u001B[0m Trial 78 finished with value: 0.7541145275728027 and parameters: {'p': -1.1635373919959238, 'w0': 0.7703206665889489, 'w1': 0.5668553304085636}. Best is trial 21 with value: 0.7541797613976923.\u001B[0m\n",
      "\u001B[32m[I 2023-04-10 17:25:41,648]\u001B[0m Trial 79 finished with value: 0.7541413885595221 and parameters: {'p': -1.4377265907227712, 'w0': 0.8543350352995068, 'w1': 0.6816872844799848}. Best is trial 21 with value: 0.7541797613976923.\u001B[0m\n",
      "\u001B[32m[I 2023-04-10 17:25:41,721]\u001B[0m Trial 80 finished with value: 0.7541030157213517 and parameters: {'p': -1.8903650650201314, 'w0': 0.923864411420557, 'w1': 0.7910590828616085}. Best is trial 21 with value: 0.7541797613976923.\u001B[0m\n",
      "\u001B[32m[I 2023-04-10 17:25:41,792]\u001B[0m Trial 81 finished with value: 0.7541452258433391 and parameters: {'p': -1.61896325657345, 'w0': 0.8885507504357156, 'w1': 0.7045911745518316}. Best is trial 21 with value: 0.7541797613976923.\u001B[0m\n",
      "\u001B[32m[I 2023-04-10 17:25:41,865]\u001B[0m Trial 82 finished with value: 0.753945687084854 and parameters: {'p': -1.7357007192657932, 'w0': 0.9900298896544854, 'w1': 0.6435980558634607}. Best is trial 21 with value: 0.7541797613976923.\u001B[0m\n",
      "\u001B[32m[I 2023-04-10 17:25:41,938]\u001B[0m Trial 83 finished with value: 0.7541413885595221 and parameters: {'p': -1.331346667976525, 'w0': 0.9079159364515759, 'w1': 0.7193003642647856}. Best is trial 21 with value: 0.7541797613976923.\u001B[0m\n",
      "\u001B[32m[I 2023-04-10 17:25:42,010]\u001B[0m Trial 84 finished with value: 0.754126039424254 and parameters: {'p': -1.877717225089721, 'w0': 0.9508076955658229, 'w1': 0.7409148845052574}. Best is trial 21 with value: 0.7541797613976923.\u001B[0m\n",
      "\u001B[32m[I 2023-04-10 17:25:42,083]\u001B[0m Trial 85 finished with value: 0.7541682495462412 and parameters: {'p': -1.5467397633963254, 'w0': 0.8343304857722432, 'w1': 0.67809572015737}. Best is trial 21 with value: 0.7541797613976923.\u001B[0m\n",
      "\u001B[32m[I 2023-04-10 17:25:42,155]\u001B[0m Trial 86 finished with value: 0.7540569683155475 and parameters: {'p': -1.5303014117471627, 'w0': 0.7518493045832824, 'w1': 0.6779353222052994}. Best is trial 21 with value: 0.7541797613976923.\u001B[0m\n",
      "\u001B[32m[I 2023-04-10 17:25:42,227]\u001B[0m Trial 87 finished with value: 0.7540761547346326 and parameters: {'p': -1.4273617748431204, 'w0': 0.8429519436778252, 'w1': 0.6279396039849284}. Best is trial 21 with value: 0.7541797613976923.\u001B[0m\n",
      "\u001B[32m[I 2023-04-10 17:25:42,299]\u001B[0m Trial 88 finished with value: 0.7540301073288284 and parameters: {'p': -1.2593637448286654, 'w0': 0.8222183313050394, 'w1': 0.7515902279220487}. Best is trial 21 with value: 0.7541797613976923.\u001B[0m\n",
      "\u001B[32m[I 2023-04-10 17:25:42,372]\u001B[0m Trial 89 finished with value: 0.7540876665860837 and parameters: {'p': -1.7824182949192549, 'w0': 0.7922742046196922, 'w1': 0.7118845846790417}. Best is trial 21 with value: 0.7541797613976923.\u001B[0m\n",
      "\u001B[32m[I 2023-04-10 17:25:42,444]\u001B[0m Trial 90 finished with value: 0.7540569683155475 and parameters: {'p': -1.6507776633571363, 'w0': 0.8669197390288146, 'w1': 0.6107453022445738}. Best is trial 21 with value: 0.7541797613976923.\u001B[0m\n",
      "\u001B[32m[I 2023-04-10 17:25:42,516]\u001B[0m Trial 91 finished with value: 0.7541145275728027 and parameters: {'p': -1.9248859920455978, 'w0': 0.9292421268786154, 'w1': 0.7045762448056224}. Best is trial 21 with value: 0.7541797613976923.\u001B[0m\n",
      "\u001B[32m[I 2023-04-10 17:25:42,589]\u001B[0m Trial 92 finished with value: 0.7541183648566199 and parameters: {'p': -1.7071085275511169, 'w0': 0.8923756670186129, 'w1': 0.678034101673369}. Best is trial 21 with value: 0.7541797613976923.\u001B[0m\n",
      "\u001B[32m[I 2023-04-10 17:25:42,661]\u001B[0m Trial 93 finished with value: 0.7541605749786071 and parameters: {'p': -1.5474836007723833, 'w0': 0.9753826084151698, 'w1': 0.8071860085901215}. Best is trial 21 with value: 0.7541797613976923.\u001B[0m\n",
      "\u001B[32m[I 2023-04-10 17:25:42,733]\u001B[0m Trial 94 finished with value: 0.754126039424254 and parameters: {'p': -1.5097469299308943, 'w0': 0.9714189162204929, 'w1': 0.8140025789866844}. Best is trial 21 with value: 0.7541797613976923.\u001B[0m\n",
      "\u001B[32m[I 2023-04-10 17:25:42,805]\u001B[0m Trial 95 finished with value: 0.7541452258433391 and parameters: {'p': -1.121711767788624, 'w0': 0.9967090795430262, 'w1': 0.7749822775065976}. Best is trial 21 with value: 0.7541797613976923.\u001B[0m\n",
      "\u001B[32m[I 2023-04-10 17:25:42,877]\u001B[0m Trial 96 finished with value: 0.7541106902889858 and parameters: {'p': -1.8021659756172141, 'w0': 0.9412484831355932, 'w1': 0.7379692904609645}. Best is trial 21 with value: 0.7541797613976923.\u001B[0m\n",
      "\u001B[32m[I 2023-04-10 17:25:42,950]\u001B[0m Trial 97 finished with value: 0.7540032463421092 and parameters: {'p': -1.345817295459469, 'w0': 0.9691023121466477, 'w1': 0.6439210848656959}. Best is trial 21 with value: 0.7541797613976923.\u001B[0m\n",
      "\u001B[32m[I 2023-04-10 17:25:43,023]\u001B[0m Trial 98 finished with value: 0.75397638535539 and parameters: {'p': -1.5972075489834343, 'w0': 0.9155276682626258, 'w1': 0.8584989801590468}. Best is trial 21 with value: 0.7541797613976923.\u001B[0m\n",
      "\u001B[32m[I 2023-04-10 17:25:43,099]\u001B[0m Trial 99 finished with value: 0.7539955717744752 and parameters: {'p': -1.487810076216772, 'w0': 0.8471521929601683, 'w1': 0.7984671315002252}. Best is trial 21 with value: 0.7541797613976923.\u001B[0m\n",
      "\u001B[32m[I 2023-04-10 17:25:43,170]\u001B[0m Trial 100 finished with value: 0.7541068530051688 and parameters: {'p': -1.1761744451060479, 'w0': 0.8696976267933824, 'w1': 0.7604320180415933}. Best is trial 21 with value: 0.7541797613976923.\u001B[0m\n",
      "\u001B[32m[I 2023-04-10 17:25:43,242]\u001B[0m Trial 101 finished with value: 0.7541068530051688 and parameters: {'p': -1.6707336329703502, 'w0': 0.8913702992387827, 'w1': 0.6956941298033096}. Best is trial 21 with value: 0.7541797613976923.\u001B[0m\n",
      "\u001B[32m[I 2023-04-10 17:25:43,315]\u001B[0m Trial 102 finished with value: 0.7541605749786071 and parameters: {'p': -1.8484960965136403, 'w0': 0.9474580110129168, 'w1': 0.7255960021491087}. Best is trial 21 with value: 0.7541797613976923.\u001B[0m\n",
      "\u001B[32m[I 2023-04-10 17:25:43,388]\u001B[0m Trial 103 finished with value: 0.7541183648566199 and parameters: {'p': -1.8825882163294911, 'w0': 0.9603461176934356, 'w1': 0.7297299262511017}. Best is trial 21 with value: 0.7541797613976923.\u001B[0m\n",
      "\u001B[32m[I 2023-04-10 17:25:43,461]\u001B[0m Trial 104 finished with value: 0.7540339446126453 and parameters: {'p': -1.9462349668166388, 'w0': 0.9218845532365627, 'w1': 0.6615608045364071}. Best is trial 21 with value: 0.7541797613976923.\u001B[0m\n",
      "\u001B[32m[I 2023-04-10 17:25:43,534]\u001B[0m Trial 105 finished with value: 0.7539878972068411 and parameters: {'p': -1.8124243631671086, 'w0': 0.8286918981943292, 'w1': 0.78066637270614}. Best is trial 21 with value: 0.7541797613976923.\u001B[0m\n",
      "\u001B[32m[I 2023-04-10 17:25:43,606]\u001B[0m Trial 106 finished with value: 0.7540531310317306 and parameters: {'p': -1.9993364057647742, 'w0': 0.9514222200613889, 'w1': 0.6904465561256903}. Best is trial 21 with value: 0.7541797613976923.\u001B[0m\n",
      "\u001B[32m[I 2023-04-10 17:25:43,679]\u001B[0m Trial 107 finished with value: 0.7541682495462412 and parameters: {'p': -1.5748625176007407, 'w0': 0.898644263976974, 'w1': 0.740727615586112}. Best is trial 21 with value: 0.7541797613976923.\u001B[0m\n",
      "\u001B[32m[I 2023-04-10 17:25:43,751]\u001B[0m Trial 108 finished with value: 0.7541030157213517 and parameters: {'p': -1.2620125560925848, 'w0': 0.8593018650004892, 'w1': 0.7424646578769684}. Best is trial 21 with value: 0.7541797613976923.\u001B[0m\n",
      "\u001B[32m[I 2023-04-10 17:25:43,822]\u001B[0m Trial 109 finished with value: 0.754129876708071 and parameters: {'p': -1.413031653241707, 'w0': 0.9038254763527985, 'w1': 0.7675406517603868}. Best is trial 21 with value: 0.7541797613976923.\u001B[0m\n",
      "\u001B[32m[I 2023-04-10 17:25:43,895]\u001B[0m Trial 110 finished with value: 0.7541682495462412 and parameters: {'p': -1.5940591682754714, 'w0': 0.8085532448884035, 'w1': 0.6702072423974249}. Best is trial 21 with value: 0.7541797613976923.\u001B[0m\n",
      "\u001B[32m[I 2023-04-10 17:25:43,968]\u001B[0m Trial 111 finished with value: 0.7541605749786071 and parameters: {'p': -1.546540379243456, 'w0': 0.8077433086883826, 'w1': 0.6687002406775343}. Best is trial 21 with value: 0.7541797613976923.\u001B[0m\n",
      "\u001B[32m[I 2023-04-10 17:25:44,040]\u001B[0m Trial 112 finished with value: 0.7541106902889858 and parameters: {'p': -1.7258921356263754, 'w0': 0.8768137818864415, 'w1': 0.6874276146533183}. Best is trial 21 with value: 0.7541797613976923.\u001B[0m\n",
      "\u001B[32m[I 2023-04-10 17:25:44,112]\u001B[0m Trial 113 finished with value: 0.753799870299807 and parameters: {'p': -1.627608069542639, 'w0': 0.7135101451960113, 'w1': 0.7202801353124642}. Best is trial 21 with value: 0.7541797613976923.\u001B[0m\n",
      "\u001B[32m[I 2023-04-10 17:25:44,184]\u001B[0m Trial 114 finished with value: 0.754133713991888 and parameters: {'p': -1.5755461719484476, 'w0': 0.7906373150569341, 'w1': 0.6319319544403063}. Best is trial 21 with value: 0.7541797613976923.\u001B[0m\n",
      "\u001B[32m[I 2023-04-10 17:25:44,257]\u001B[0m Trial 115 finished with value: 0.7539610362201219 and parameters: {'p': -1.3933727170526378, 'w0': 0.8333999016086606, 'w1': 0.8047928134026282}. Best is trial 21 with value: 0.7541797613976923.\u001B[0m\n",
      "\u001B[32m[I 2023-04-10 17:25:44,330]\u001B[0m Trial 116 finished with value: 0.7539840599230241 and parameters: {'p': -1.461760742039265, 'w0': 0.9754406032137458, 'w1': 0.655825490394161}. Best is trial 21 with value: 0.7541797613976923.\u001B[0m\n",
      "\u001B[32m[I 2023-04-10 17:25:44,403]\u001B[0m Trial 117 finished with value: 0.75397638535539 and parameters: {'p': -1.030707162232258, 'w0': 0.7551431763916162, 'w1': 0.7073227424047502}. Best is trial 21 with value: 0.7541797613976923.\u001B[0m\n",
      "\u001B[32m[I 2023-04-10 17:25:44,476]\u001B[0m Trial 118 finished with value: 0.7540262700450113 and parameters: {'p': -1.7481057257015813, 'w0': 0.8156332514948278, 'w1': 0.7490802144411434}. Best is trial 21 with value: 0.7541797613976923.\u001B[0m\n",
      "\u001B[32m[I 2023-04-10 17:25:44,548]\u001B[0m Trial 119 finished with value: 0.7539648735039389 and parameters: {'p': -1.3469659332008879, 'w0': 0.9255845515657253, 'w1': 0.586176897732662}. Best is trial 21 with value: 0.7541797613976923.\u001B[0m\n",
      "\u001B[32m[I 2023-04-10 17:25:44,620]\u001B[0m Trial 120 finished with value: 0.7538881278275985 and parameters: {'p': -1.645314926623385, 'w0': 0.8521520106128125, 'w1': 0.8354748013226334}. Best is trial 21 with value: 0.7541797613976923.\u001B[0m\n",
      "\u001B[32m[I 2023-04-10 17:25:44,692]\u001B[0m Trial 121 finished with value: 0.754129876708071 and parameters: {'p': -1.8482714057867895, 'w0': 0.9442545848509059, 'w1': 0.7197099719513079}. Best is trial 21 with value: 0.7541797613976923.\u001B[0m\n",
      "\u001B[32m[I 2023-04-10 17:25:44,765]\u001B[0m Trial 122 finished with value: 0.7541030157213517 and parameters: {'p': -1.7613473426102715, 'w0': 0.8895516496085074, 'w1': 0.7757326542818616}. Best is trial 21 with value: 0.7541797613976923.\u001B[0m\n",
      "\u001B[32m[I 2023-04-10 17:25:44,837]\u001B[0m Trial 123 finished with value: 0.7541490631271562 and parameters: {'p': -1.5441682133864145, 'w0': 0.9076738893493529, 'w1': 0.7316388437311454}. Best is trial 21 with value: 0.7541797613976923.\u001B[0m\n",
      "\u001B[32m[I 2023-04-10 17:25:44,910]\u001B[0m Trial 124 finished with value: 0.7541567376947901 and parameters: {'p': -1.930217583399244, 'w0': 0.8760628690442074, 'w1': 0.6791589964222674}. Best is trial 21 with value: 0.7541797613976923.\u001B[0m\n",
      "\u001B[32m[I 2023-04-10 17:25:44,982]\u001B[0m Trial 125 finished with value: 0.7540377818964624 and parameters: {'p': -1.697573689854238, 'w0': 0.9818589611545098, 'w1': 0.7078900665791658}. Best is trial 21 with value: 0.7541797613976923.\u001B[0m\n",
      "\u001B[32m[I 2023-04-10 17:25:45,054]\u001B[0m Trial 126 finished with value: 0.7538228940027091 and parameters: {'p': -1.852303765053582, 'w0': 0.935015638826488, 'w1': 0.4466006562228718}. Best is trial 21 with value: 0.7541797613976923.\u001B[0m\n",
      "\u001B[32m[I 2023-04-10 17:25:45,126]\u001B[0m Trial 127 finished with value: 0.7539073142466837 and parameters: {'p': -0.9363028111531726, 'w0': 0.7724104752819183, 'w1': 0.7528841954001817}. Best is trial 21 with value: 0.7541797613976923.\u001B[0m\n",
      "\u001B[32m[I 2023-04-10 17:25:45,200]\u001B[0m Trial 128 finished with value: 0.7538344058541602 and parameters: {'p': -1.4829374748104274, 'w0': 0.6097214630987942, 'w1': 0.6206901471559908}. Best is trial 21 with value: 0.7541797613976923.\u001B[0m\n",
      "\u001B[32m[I 2023-04-10 17:25:45,272]\u001B[0m Trial 129 finished with value: 0.7540531310317306 and parameters: {'p': -1.801005912834406, 'w0': 0.9082280622601403, 'w1': 0.6509841837731942}. Best is trial 21 with value: 0.7541797613976923.\u001B[0m\n",
      "\u001B[32m[I 2023-04-10 17:25:45,344]\u001B[0m Trial 130 finished with value: 0.7539495243686709 and parameters: {'p': -1.5895055154358229, 'w0': 0.6622896268483538, 'w1': 0.7924435312060224}. Best is trial 21 with value: 0.7541797613976923.\u001B[0m\n",
      "\u001B[32m[I 2023-04-10 17:25:45,417]\u001B[0m Trial 131 finished with value: 0.7541682495462412 and parameters: {'p': -1.6918612657917693, 'w0': 0.8258633999755773, 'w1': 0.6697297284680411}. Best is trial 21 with value: 0.7541797613976923.\u001B[0m\n",
      "\u001B[32m[I 2023-04-10 17:25:45,490]\u001B[0m Trial 132 finished with value: 0.7541490631271562 and parameters: {'p': -1.6868954860469016, 'w0': 0.8565914128616398, 'w1': 0.6901292045173377}. Best is trial 21 with value: 0.7541797613976923.\u001B[0m\n",
      "\u001B[32m[I 2023-04-10 17:25:45,563]\u001B[0m Trial 133 finished with value: 0.7541413885595221 and parameters: {'p': -1.9199488176086668, 'w0': 0.8337884207168826, 'w1': 0.6652090058687927}. Best is trial 21 with value: 0.7541797613976923.\u001B[0m\n",
      "\u001B[32m[I 2023-04-10 17:25:45,637]\u001B[0m Trial 134 finished with value: 0.754126039424254 and parameters: {'p': -1.3021819088544975, 'w0': 0.8144474809021198, 'w1': 0.7232617678405002}. Best is trial 21 with value: 0.7541797613976923.\u001B[0m\n",
      "\u001B[32m[I 2023-04-10 17:25:45,709]\u001B[0m Trial 135 finished with value: 0.7541567376947901 and parameters: {'p': -1.4159248797201238, 'w0': 0.7943618223706784, 'w1': 0.6377974227997647}. Best is trial 21 with value: 0.7541797613976923.\u001B[0m\n",
      "\u001B[32m[I 2023-04-10 17:25:45,782]\u001B[0m Trial 136 finished with value: 0.7538267312865261 and parameters: {'p': -1.6119701078285875, 'w0': 0.5554117188616028, 'w1': 0.6009747046031266}. Best is trial 21 with value: 0.7541797613976923.\u001B[0m\n",
      "\u001B[32m[I 2023-04-10 17:25:45,855]\u001B[0m Trial 137 finished with value: 0.7541644122624241 and parameters: {'p': -1.7564830374760938, 'w0': 0.8780457079189706, 'w1': 0.741244500920033}. Best is trial 21 with value: 0.7541797613976923.\u001B[0m\n",
      "\u001B[32m[I 2023-04-10 17:25:45,928]\u001B[0m Trial 138 finished with value: 0.7541145275728027 and parameters: {'p': -1.5243851416359184, 'w0': 0.8768761591116394, 'w1': 0.7618496072788178}. Best is trial 21 with value: 0.7541797613976923.\u001B[0m\n",
      "\u001B[32m[I 2023-04-10 17:25:46,000]\u001B[0m Trial 139 finished with value: 0.7538075448674411 and parameters: {'p': -0.6636337999889635, 'w0': 0.845925013223583, 'w1': 0.3859689462098897}. Best is trial 21 with value: 0.7541797613976923.\u001B[0m\n",
      "\u001B[32m[I 2023-04-10 17:25:46,073]\u001B[0m Trial 140 finished with value: 0.7538267312865261 and parameters: {'p': -1.7175984620084124, 'w0': 0.8905526833536335, 'w1': 0.48470354512489533}. Best is trial 21 with value: 0.7541797613976923.\u001B[0m\n",
      "\u001B[32m[I 2023-04-10 17:25:46,147]\u001B[0m Trial 141 finished with value: 0.7541644122624241 and parameters: {'p': -1.8098417840053056, 'w0': 0.9521898683144819, 'w1': 0.7341505364569344}. Best is trial 21 with value: 0.7541797613976923.\u001B[0m\n",
      "\u001B[32m[I 2023-04-10 17:25:46,220]\u001B[0m Trial 142 finished with value: 0.7541644122624241 and parameters: {'p': -1.7996915132733091, 'w0': 0.9210553691671263, 'w1': 0.7042391422307335}. Best is trial 21 with value: 0.7541797613976923.\u001B[0m\n",
      "\u001B[32m[I 2023-04-10 17:25:46,292]\u001B[0m Trial 143 finished with value: 0.7541183648566199 and parameters: {'p': -1.7909126860386282, 'w0': 0.920919716927087, 'w1': 0.6946241405717599}. Best is trial 21 with value: 0.7541797613976923.\u001B[0m\n",
      "\u001B[32m[I 2023-04-10 17:25:46,366]\u001B[0m Trial 144 finished with value: 0.7541145275728027 and parameters: {'p': -1.9401304268509798, 'w0': 0.8604905105315694, 'w1': 0.7376580693221366}. Best is trial 21 with value: 0.7541797613976923.\u001B[0m\n",
      "\u001B[32m[I 2023-04-10 17:25:46,439]\u001B[0m Trial 145 finished with value: 0.7540723174508156 and parameters: {'p': -1.6729101767327417, 'w0': 0.9048201785883843, 'w1': 0.6742440543057288}. Best is trial 21 with value: 0.7541797613976923.\u001B[0m\n",
      "\u001B[32m[I 2023-04-10 17:25:46,512]\u001B[0m Trial 146 finished with value: 0.7540109209097432 and parameters: {'p': -1.771324710323863, 'w0': 0.5116784320590745, 'w1': 0.7103379262308116}. Best is trial 21 with value: 0.7541797613976923.\u001B[0m\n",
      "\u001B[32m[I 2023-04-10 17:25:46,585]\u001B[0m Trial 147 finished with value: 0.7541682495462412 and parameters: {'p': -1.8548868258294477, 'w0': 0.8326763777706174, 'w1': 0.6883638564062651}. Best is trial 21 with value: 0.7541797613976923.\u001B[0m\n",
      "\u001B[32m[I 2023-04-10 17:25:46,658]\u001B[0m Trial 148 finished with value: 0.7540799920184497 and parameters: {'p': -1.87575271161553, 'w0': 0.8236879402617552, 'w1': 0.7410110879861787}. Best is trial 21 with value: 0.7541797613976923.\u001B[0m\n",
      "\u001B[32m[I 2023-04-10 17:25:46,732]\u001B[0m Trial 149 finished with value: 0.7541567376947901 and parameters: {'p': -1.824621593341051, 'w0': 0.768451826690901, 'w1': 0.648401261337667}. Best is trial 21 with value: 0.7541797613976923.\u001B[0m\n",
      "\u001B[32m[I 2023-04-10 17:25:46,806]\u001B[0m Trial 150 finished with value: 0.7540032463421092 and parameters: {'p': -1.9957097728084696, 'w0': 0.7417870585586007, 'w1': 0.6886351812885045}. Best is trial 21 with value: 0.7541797613976923.\u001B[0m\n",
      "\u001B[32m[I 2023-04-10 17:25:46,879]\u001B[0m Trial 151 finished with value: 0.754152900410973 and parameters: {'p': -1.7302660838269373, 'w0': 0.8744215153470328, 'w1': 0.7055392095802174}. Best is trial 21 with value: 0.7541797613976923.\u001B[0m\n",
      "\u001B[32m[I 2023-04-10 17:25:46,953]\u001B[0m Trial 152 finished with value: 0.7541605749786071 and parameters: {'p': -1.6310065987234819, 'w0': 0.7930234410842788, 'w1': 0.6692406305127241}. Best is trial 21 with value: 0.7541797613976923.\u001B[0m\n",
      "\u001B[32m[I 2023-04-10 17:25:47,025]\u001B[0m Trial 153 finished with value: 0.7540301073288284 and parameters: {'p': -1.6690549596415403, 'w0': 0.8429735010000925, 'w1': 0.7729204928887493}. Best is trial 21 with value: 0.7541797613976923.\u001B[0m\n",
      "\u001B[32m[I 2023-04-10 17:25:47,099]\u001B[0m Trial 154 finished with value: 0.7538612668408794 and parameters: {'p': -1.91267923231172, 'w0': 0.4121438568200017, 'w1': 0.7118672461158693}. Best is trial 21 with value: 0.7541797613976923.\u001B[0m\n",
      "\u001B[32m[I 2023-04-10 17:25:47,172]\u001B[0m Trial 155 finished with value: 0.7541413885595221 and parameters: {'p': -1.759583629409917, 'w0': 0.9240855179493698, 'w1': 0.7403617669084651}. Best is trial 21 with value: 0.7541797613976923.\u001B[0m\n",
      "\u001B[32m[I 2023-04-10 17:25:47,245]\u001B[0m Trial 156 finished with value: 0.7540684801669986 and parameters: {'p': -0.15512511137580343, 'w0': 0.8884873812059016, 'w1': 0.6243488044051336}. Best is trial 21 with value: 0.7541797613976923.\u001B[0m\n",
      "\u001B[32m[I 2023-04-10 17:25:47,318]\u001B[0m Trial 157 finished with value: 0.753980222639207 and parameters: {'p': -1.5828405116477893, 'w0': 0.8098063358015801, 'w1': 0.7562179989163096}. Best is trial 21 with value: 0.7541797613976923.\u001B[0m\n",
      "\u001B[32m[I 2023-04-10 17:25:47,392]\u001B[0m Trial 158 finished with value: 0.7540454564640966 and parameters: {'p': -1.1592203836781856, 'w0': 0.9426424587889201, 'w1': 0.6827081712236958}. Best is trial 21 with value: 0.7541797613976923.\u001B[0m\n",
      "\u001B[32m[I 2023-04-10 17:25:47,465]\u001B[0m Trial 159 finished with value: 0.753819056718892 and parameters: {'p': -1.4688486917248624, 'w0': 0.7142070003708278, 'w1': 0.7242308074212707}. Best is trial 21 with value: 0.7541797613976923.\u001B[0m\n",
      "\u001B[32m[I 2023-04-10 17:25:47,539]\u001B[0m Trial 160 finished with value: 0.7541106902889858 and parameters: {'p': -1.8925858088384233, 'w0': 0.8681196317934122, 'w1': 0.6589953023490053}. Best is trial 21 with value: 0.7541797613976923.\u001B[0m\n",
      "\u001B[32m[I 2023-04-10 17:25:47,612]\u001B[0m Trial 161 finished with value: 0.7541413885595221 and parameters: {'p': -1.5427228693114143, 'w0': 0.9627349583821224, 'w1': 0.8052896920127435}. Best is trial 21 with value: 0.7541797613976923.\u001B[0m\n",
      "\u001B[32m[I 2023-04-10 17:25:47,685]\u001B[0m Trial 162 finished with value: 0.7541222021404369 and parameters: {'p': -1.6399659863702658, 'w0': 0.9864971156135708, 'w1': 0.7766309481774218}. Best is trial 21 with value: 0.7541797613976923.\u001B[0m\n",
      "\u001B[32m[I 2023-04-10 17:25:47,758]\u001B[0m Trial 163 finished with value: 0.754152900410973 and parameters: {'p': -1.834556934517156, 'w0': 0.9042972739272892, 'w1': 0.6947602254314592}. Best is trial 21 with value: 0.7541797613976923.\u001B[0m\n",
      "\u001B[32m[I 2023-04-10 17:25:47,832]\u001B[0m Trial 164 finished with value: 0.7538344058541602 and parameters: {'p': -1.3923080106983634, 'w0': 0.9590940748854395, 'w1': 0.5174395502056711}. Best is trial 21 with value: 0.7541797613976923.\u001B[0m\n",
      "\u001B[32m[I 2023-04-10 17:25:47,904]\u001B[0m Trial 165 finished with value: 0.7541759241138751 and parameters: {'p': -1.7246441046995327, 'w0': 0.922639273778612, 'w1': 0.7539147634211794}. Best is trial 21 with value: 0.7541797613976923.\u001B[0m\n",
      "\u001B[32m[I 2023-04-10 17:25:47,978]\u001B[0m Trial 166 finished with value: 0.754126039424254 and parameters: {'p': -1.7341359965036982, 'w0': 0.9296936664985147, 'w1': 0.7390821046853184}. Best is trial 21 with value: 0.7541797613976923.\u001B[0m\n",
      "\u001B[32m[I 2023-04-10 17:25:48,051]\u001B[0m Trial 167 finished with value: 0.7541030157213517 and parameters: {'p': -1.81225131139415, 'w0': 0.8309200413833686, 'w1': 0.7190027120453248}. Best is trial 21 with value: 0.7541797613976923.\u001B[0m\n",
      "\u001B[32m[I 2023-04-10 17:25:48,124]\u001B[0m Trial 168 finished with value: 0.7541644122624241 and parameters: {'p': -1.7008452452985872, 'w0': 0.891526367801805, 'w1': 0.7517052175117273}. Best is trial 21 with value: 0.7541797613976923.\u001B[0m\n",
      "\u001B[32m[I 2023-04-10 17:25:48,197]\u001B[0m Trial 169 finished with value: 0.7541068530051688 and parameters: {'p': -1.0724969709815726, 'w0': 0.8569841397156849, 'w1': 0.7563546917456908}. Best is trial 21 with value: 0.7541797613976923.\u001B[0m\n",
      "\u001B[32m[I 2023-04-10 17:25:48,270]\u001B[0m Trial 170 finished with value: 0.7541068530051688 and parameters: {'p': -1.9741002931128637, 'w0': 0.8873083815283608, 'w1': 0.7836344288560413}. Best is trial 21 with value: 0.7541797613976923.\u001B[0m\n",
      "\u001B[32m[I 2023-04-10 17:25:48,344]\u001B[0m Trial 171 finished with value: 0.7541567376947901 and parameters: {'p': -1.7071597242181322, 'w0': 0.9113351182769633, 'w1': 0.7062676878729638}. Best is trial 21 with value: 0.7541797613976923.\u001B[0m\n",
      "\u001B[32m[I 2023-04-10 17:25:48,418]\u001B[0m Trial 172 finished with value: 0.7541106902889858 and parameters: {'p': -1.5771228047448662, 'w0': 0.89997642029623, 'w1': 0.6824729959821357}. Best is trial 21 with value: 0.7541797613976923.\u001B[0m\n",
      "\u001B[32m[I 2023-04-10 17:25:48,492]\u001B[0m Trial 173 finished with value: 0.7537653347454538 and parameters: {'p': -1.7893621341686798, 'w0': 0.6863117520328925, 'w1': 0.7344808860972866}. Best is trial 21 with value: 0.7541797613976923.\u001B[0m\n",
      "\u001B[32m[I 2023-04-10 17:25:48,565]\u001B[0m Trial 174 finished with value: 0.7541413885595221 and parameters: {'p': -1.6540133098274197, 'w0': 0.9419582532659849, 'w1': 0.7538772759152818}. Best is trial 21 with value: 0.7541797613976923.\u001B[0m\n",
      "\u001B[32m[I 2023-04-10 17:25:48,638]\u001B[0m Trial 175 finished with value: 0.7540991784375348 and parameters: {'p': -1.2464793169565807, 'w0': 0.8745809454607871, 'w1': 0.6422618732119849}. Best is trial 21 with value: 0.7541797613976923.\u001B[0m\n",
      "\u001B[32m[I 2023-04-10 17:25:48,712]\u001B[0m Trial 176 finished with value: 0.754129876708071 and parameters: {'p': -0.8164403396582924, 'w0': 0.8411119441004983, 'w1': 0.7132484261731225}. Best is trial 21 with value: 0.7541797613976923.\u001B[0m\n",
      "\u001B[32m[I 2023-04-10 17:25:48,785]\u001B[0m Trial 177 finished with value: 0.7540377818964624 and parameters: {'p': -1.4694251053480216, 'w0': 0.9200238791376046, 'w1': 0.665490245447055}. Best is trial 21 with value: 0.7541797613976923.\u001B[0m\n",
      "\u001B[32m[I 2023-04-10 17:25:48,859]\u001B[0m Trial 178 finished with value: 0.754152900410973 and parameters: {'p': -1.8837684145100968, 'w0': 0.8587456636362873, 'w1': 0.6943005400302877}. Best is trial 21 with value: 0.7541797613976923.\u001B[0m\n",
      "\u001B[32m[I 2023-04-10 17:25:48,932]\u001B[0m Trial 179 finished with value: 0.7541145275728027 and parameters: {'p': -1.7331076976252904, 'w0': 0.8198337817730079, 'w1': 0.7294725414011589}. Best is trial 21 with value: 0.7541797613976923.\u001B[0m\n",
      "\u001B[32m[I 2023-04-10 17:25:49,006]\u001B[0m Trial 180 finished with value: 0.7539111515305007 and parameters: {'p': -0.9402195759936436, 'w0': 0.7833340746505101, 'w1': 0.7640141052746163}. Best is trial 21 with value: 0.7541797613976923.\u001B[0m\n",
      "\u001B[32m[I 2023-04-10 17:25:49,080]\u001B[0m Trial 181 finished with value: 0.754129876708071 and parameters: {'p': -1.558943721813532, 'w0': 0.9729022515442307, 'w1': 0.8147951227650048}. Best is trial 21 with value: 0.7541797613976923.\u001B[0m\n",
      "\u001B[32m[I 2023-04-10 17:25:49,153]\u001B[0m Trial 182 finished with value: 0.754129876708071 and parameters: {'p': -1.634545954259195, 'w0': 0.9380555010980265, 'w1': 0.7869023010439379}. Best is trial 21 with value: 0.7541797613976923.\u001B[0m\n",
      "\u001B[32m[I 2023-04-10 17:25:49,227]\u001B[0m Trial 183 finished with value: 0.753945687084854 and parameters: {'p': -1.5342783524992383, 'w0': 0.6439889728767039, 'w1': 0.7437905504312092}. Best is trial 21 with value: 0.7541797613976923.\u001B[0m\n",
      "\u001B[32m[I 2023-04-10 17:25:49,301]\u001B[0m Trial 184 finished with value: 0.7541720868300583 and parameters: {'p': -1.8285049368619204, 'w0': 0.9979553709729568, 'w1': 0.8239020636432671}. Best is trial 21 with value: 0.7541797613976923.\u001B[0m\n",
      "\u001B[32m[I 2023-04-10 17:25:49,375]\u001B[0m Trial 185 finished with value: 0.7541068530051688 and parameters: {'p': -1.8595632526774837, 'w0': 0.9977190365008065, 'w1': 0.8930581325288682}. Best is trial 21 with value: 0.7541797613976923.\u001B[0m\n",
      "\u001B[32m[I 2023-04-10 17:25:49,450]\u001B[0m Trial 186 finished with value: 0.754137551275705 and parameters: {'p': -1.7947712909498563, 'w0': 0.8932553790562332, 'w1': 0.6812166494964154}. Best is trial 21 with value: 0.7541797613976923.\u001B[0m\n",
      "\u001B[32m[I 2023-04-10 17:25:49,524]\u001B[0m Trial 187 finished with value: 0.7539610362201219 and parameters: {'p': -1.999679311674082, 'w0': 0.5768317648536546, 'w1': 0.7174509010219966}. Best is trial 21 with value: 0.7541797613976923.\u001B[0m\n",
      "\u001B[32m[I 2023-04-10 17:25:49,596]\u001B[0m Trial 188 finished with value: 0.753466026607726 and parameters: {'p': -1.7102724761487003, 'w0': 0.2943608820543495, 'w1': 0.8339457211398658}. Best is trial 21 with value: 0.7541797613976923.\u001B[0m\n",
      "\u001B[32m[I 2023-04-10 17:25:49,670]\u001B[0m Trial 189 finished with value: 0.7541490631271562 and parameters: {'p': -1.9257506364532175, 'w0': 0.9235842622734665, 'w1': 0.7756507546730717}. Best is trial 21 with value: 0.7541797613976923.\u001B[0m\n",
      "\u001B[32m[I 2023-04-10 17:25:49,743]\u001B[0m Trial 190 finished with value: 0.7540761547346326 and parameters: {'p': -1.8275763458848033, 'w0': 0.9483867622973359, 'w1': 0.7004729167910527}. Best is trial 21 with value: 0.7541797613976923.\u001B[0m\n",
      "\u001B[32m[I 2023-04-10 17:25:49,818]\u001B[0m Trial 191 finished with value: 0.754129876708071 and parameters: {'p': -1.6882968876901832, 'w0': 0.9622204568287684, 'w1': 0.8158131375840778}. Best is trial 21 with value: 0.7541797613976923.\u001B[0m\n",
      "\u001B[32m[I 2023-04-10 17:25:49,892]\u001B[0m Trial 192 finished with value: 0.7541145275728027 and parameters: {'p': -1.6053467243477217, 'w0': 0.9753841443917739, 'w1': 0.8484855890058716}. Best is trial 21 with value: 0.7541797613976923.\u001B[0m\n",
      "\u001B[32m[I 2023-04-10 17:25:49,966]\u001B[0m Trial 193 finished with value: 0.7540684801669986 and parameters: {'p': -1.4590351262057282, 'w0': 0.8797718986450466, 'w1': 0.79815587656167}. Best is trial 21 with value: 0.7541797613976923.\u001B[0m\n",
      "\u001B[32m[I 2023-04-10 17:25:50,040]\u001B[0m Trial 194 finished with value: 0.7541452258433391 and parameters: {'p': -1.7642175155689959, 'w0': 0.9921595895053421, 'w1': 0.7574199688231138}. Best is trial 21 with value: 0.7541797613976923.\u001B[0m\n",
      "\u001B[32m[I 2023-04-10 17:25:50,114]\u001B[0m Trial 195 finished with value: 0.7540991784375348 and parameters: {'p': -1.3344643388242912, 'w0': 0.9091390198846704, 'w1': 0.792967029702158}. Best is trial 21 with value: 0.7541797613976923.\u001B[0m\n",
      "\u001B[32m[I 2023-04-10 17:25:50,188]\u001B[0m Trial 196 finished with value: 0.7541452258433391 and parameters: {'p': -0.6918671489979096, 'w0': 0.9525758523337152, 'w1': 0.7307403777685788}. Best is trial 21 with value: 0.7541797613976923.\u001B[0m\n",
      "\u001B[32m[I 2023-04-10 17:25:50,262]\u001B[0m Trial 197 finished with value: 0.753792195732173 and parameters: {'p': -1.5034484241727786, 'w0': 0.6143181823049123, 'w1': 0.6595676257587139}. Best is trial 21 with value: 0.7541797613976923.\u001B[0m\n",
      "\u001B[32m[I 2023-04-10 17:25:50,336]\u001B[0m Trial 198 finished with value: 0.7538305685703431 and parameters: {'p': -1.6632725239611705, 'w0': 0.5954301941898984, 'w1': 0.3359181414837346}. Best is trial 21 with value: 0.7541797613976923.\u001B[0m\n",
      "\u001B[32m[I 2023-04-10 17:25:50,410]\u001B[0m Trial 199 finished with value: 0.7541183648566199 and parameters: {'p': -1.5948483079465616, 'w0': 0.8063230187125906, 'w1': 0.6126897309948259}. Best is trial 21 with value: 0.7541797613976923.\u001B[0m\n",
      "\u001B[32m[I 2023-04-10 17:25:50,484]\u001B[0m Trial 200 finished with value: 0.7539955717744752 and parameters: {'p': -1.8488463575830476, 'w0': 0.8419799642030324, 'w1': 0.5736125824160079}. Best is trial 21 with value: 0.7541797613976923.\u001B[0m\n",
      "\u001B[32m[I 2023-04-10 17:25:50,558]\u001B[0m Trial 201 finished with value: 0.754129876708071 and parameters: {'p': -1.7843573208811994, 'w0': 0.9388114565628616, 'w1': 0.7156396410723433}. Best is trial 21 with value: 0.7541797613976923.\u001B[0m\n",
      "\u001B[32m[I 2023-04-10 17:25:50,632]\u001B[0m Trial 202 finished with value: 0.7538497549894284 and parameters: {'p': -1.9095675765578066, 'w0': 0.9725613295415318, 'w1': 0.43631811669850384}. Best is trial 21 with value: 0.7541797613976923.\u001B[0m\n",
      "\u001B[32m[I 2023-04-10 17:25:50,705]\u001B[0m Trial 203 finished with value: 0.7539840599230241 and parameters: {'p': -1.727893872301744, 'w0': 0.5529768316459974, 'w1': 0.7281061036896216}. Best is trial 21 with value: 0.7541797613976923.\u001B[0m\n",
      "\u001B[32m[I 2023-04-10 17:25:50,779]\u001B[0m Trial 204 finished with value: 0.754126039424254 and parameters: {'p': -0.9026762129991865, 'w0': 0.4913662588375149, 'w1': 0.4177107322199178}. Best is trial 21 with value: 0.7541797613976923.\u001B[0m\n",
      "\u001B[32m[I 2023-04-10 17:25:50,852]\u001B[0m Trial 205 finished with value: 0.754129876708071 and parameters: {'p': -1.032657646376525, 'w0': 0.8953395133598753, 'w1': 0.7511703592930459}. Best is trial 21 with value: 0.7541797613976923.\u001B[0m\n",
      "\u001B[32m[I 2023-04-10 17:25:50,926]\u001B[0m Trial 206 finished with value: 0.7540991784375348 and parameters: {'p': -1.8484216124045159, 'w0': 0.9248212754952132, 'w1': 0.6942747638141732}. Best is trial 21 with value: 0.7541797613976923.\u001B[0m\n",
      "\u001B[32m[I 2023-04-10 17:25:51,002]\u001B[0m Trial 207 finished with value: 0.7540454564640966 and parameters: {'p': -1.6832273832162898, 'w0': 0.9516221750917604, 'w1': 0.6815003905776785}. Best is trial 21 with value: 0.7541797613976923.\u001B[0m\n",
      "\u001B[32m[I 2023-04-10 17:25:51,076]\u001B[0m Trial 208 finished with value: 0.7541183648566199 and parameters: {'p': -1.4030495155557876, 'w0': 0.8591850901552169, 'w1': 0.7669634420298883}. Best is trial 21 with value: 0.7541797613976923.\u001B[0m\n",
      "\u001B[32m[I 2023-04-10 17:25:51,150]\u001B[0m Trial 209 finished with value: 0.753819056718892 and parameters: {'p': -1.9201215717217637, 'w0': 0.9072998615732328, 'w1': 0.47469159801086813}. Best is trial 21 with value: 0.7541797613976923.\u001B[0m\n",
      "\u001B[32m[I 2023-04-10 17:25:51,223]\u001B[0m Trial 210 finished with value: 0.7538382431379772 and parameters: {'p': -0.38871183840152446, 'w0': 0.6555083511895236, 'w1': 0.7097491001277387}. Best is trial 21 with value: 0.7541797613976923.\u001B[0m\n",
      "\u001B[32m[I 2023-04-10 17:25:51,298]\u001B[0m Trial 211 finished with value: 0.7541452258433391 and parameters: {'p': -1.5303792407219654, 'w0': 0.7978524478467933, 'w1': 0.6665544855542068}. Best is trial 21 with value: 0.7541797613976923.\u001B[0m\n",
      "\u001B[32m[I 2023-04-10 17:25:51,372]\u001B[0m Trial 212 finished with value: 0.7540109209097432 and parameters: {'p': -1.587699290515553, 'w0': 0.8024795072756714, 'w1': 0.7391577200537326}. Best is trial 21 with value: 0.7541797613976923.\u001B[0m\n",
      "\u001B[32m[I 2023-04-10 17:25:51,447]\u001B[0m Trial 213 finished with value: 0.7539878972068411 and parameters: {'p': -1.7870393358027388, 'w0': 0.47197876414242207, 'w1': 0.6520347491398389}. Best is trial 21 with value: 0.7541797613976923.\u001B[0m\n",
      "\u001B[32m[I 2023-04-10 17:25:51,529]\u001B[0m Trial 214 finished with value: 0.7541720868300583 and parameters: {'p': 0.5596434397730898, 'w0': 0.8319963002780193, 'w1': 0.67660757266503}. Best is trial 21 with value: 0.7541797613976923.\u001B[0m\n",
      "\u001B[32m[I 2023-04-10 17:25:51,604]\u001B[0m Trial 215 finished with value: 0.7541490631271562 and parameters: {'p': -1.196918283009596, 'w0': 0.8364436912256875, 'w1': 0.6969427418520152}. Best is trial 21 with value: 0.7541797613976923.\u001B[0m\n",
      "\u001B[32m[I 2023-04-10 17:25:51,687]\u001B[0m Trial 216 finished with value: 0.753980222639207 and parameters: {'p': 0.2883874159891545, 'w0': 0.5286528467395339, 'w1': 0.4949994025162992}. Best is trial 21 with value: 0.7541797613976923.\u001B[0m\n",
      "\u001B[32m[I 2023-04-10 17:25:51,770]\u001B[0m Trial 217 finished with value: 0.7538497549894284 and parameters: {'p': 1.193938529849392, 'w0': 0.870319052681915, 'w1': 0.46121874145265945}. Best is trial 21 with value: 0.7541797613976923.\u001B[0m\n",
      "\u001B[32m[I 2023-04-10 17:25:51,853]\u001B[0m Trial 218 finished with value: 0.7539840599230241 and parameters: {'p': 0.36675116532454943, 'w0': 0.8225920148698632, 'w1': 0.5337662267842183}. Best is trial 21 with value: 0.7541797613976923.\u001B[0m\n",
      "\u001B[32m[I 2023-04-10 17:25:51,927]\u001B[0m Trial 219 finished with value: 0.7540838293022667 and parameters: {'p': -1.1229643397657902, 'w0': 0.9986184477303592, 'w1': 0.7270858985854306}. Best is trial 21 with value: 0.7541797613976923.\u001B[0m\n",
      "\u001B[32m[I 2023-04-10 17:25:52,002]\u001B[0m Trial 220 finished with value: 0.7540761547346326 and parameters: {'p': -1.7477400439779176, 'w0': 0.8870841380012425, 'w1': 0.6301380103253132}. Best is trial 21 with value: 0.7541797613976923.\u001B[0m\n",
      "\u001B[32m[I 2023-04-10 17:25:52,076]\u001B[0m Trial 221 finished with value: 0.7541106902889858 and parameters: {'p': -1.6039143212425397, 'w0': 0.7590615396950524, 'w1': 0.674481963778964}. Best is trial 21 with value: 0.7541797613976923.\u001B[0m\n",
      "\u001B[32m[I 2023-04-10 17:25:52,150]\u001B[0m Trial 222 finished with value: 0.7541106902889858 and parameters: {'p': -1.6549973651908056, 'w0': 0.7850502630548087, 'w1': 0.677665469255996}. Best is trial 21 with value: 0.7541797613976923.\u001B[0m\n",
      "\u001B[32m[I 2023-04-10 17:25:52,224]\u001B[0m Trial 223 finished with value: 0.7541222021404369 and parameters: {'p': -1.5263326498578889, 'w0': 0.8175780729036826, 'w1': 0.6453406026163274}. Best is trial 21 with value: 0.7541797613976923.\u001B[0m\n",
      "\u001B[32m[I 2023-04-10 17:25:52,299]\u001B[0m Trial 224 finished with value: 0.7538228940027091 and parameters: {'p': -1.2890916553877443, 'w0': 0.7716244115488244, 'w1': 0.39413491476426743}. Best is trial 21 with value: 0.7541797613976923.\u001B[0m\n",
      "\u001B[32m[I 2023-04-10 17:25:52,374]\u001B[0m Trial 225 finished with value: 0.7529172950218916 and parameters: {'p': -1.844310030434352, 'w0': 0.11392903229117401, 'w1': 0.5552060110222834}. Best is trial 21 with value: 0.7541797613976923.\u001B[0m\n",
      "\u001B[32m[I 2023-04-10 17:25:52,449]\u001B[0m Trial 226 finished with value: 0.7539840599230241 and parameters: {'p': -1.42726406445677, 'w0': 0.7425443495501916, 'w1': 0.7045774776003297}. Best is trial 21 with value: 0.7541797613976923.\u001B[0m\n",
      "\u001B[32m[I 2023-04-10 17:25:52,523]\u001B[0m Trial 227 finished with value: 0.7540416191802795 and parameters: {'p': -1.7106711715796243, 'w0': 0.846891214702475, 'w1': 0.7737164460523289}. Best is trial 21 with value: 0.7541797613976923.\u001B[0m\n",
      "\u001B[32m[I 2023-04-10 17:25:52,598]\u001B[0m Trial 228 finished with value: 0.7541682495462412 and parameters: {'p': -1.75760328876961, 'w0': 0.915059210312035, 'w1': 0.7488858015500683}. Best is trial 21 with value: 0.7541797613976923.\u001B[0m\n",
      "\u001B[32m[I 2023-04-10 17:25:52,681]\u001B[0m Trial 229 finished with value: 0.7541605749786071 and parameters: {'p': 0.4934615164626572, 'w0': 0.9206466989920519, 'w1': 0.7426863452267849}. Best is trial 21 with value: 0.7541797613976923.\u001B[0m\n",
      "\u001B[32m[I 2023-04-10 17:25:52,756]\u001B[0m Trial 230 finished with value: 0.7540953411537178 and parameters: {'p': -1.7763559517838556, 'w0': 0.9363488417839696, 'w1': 0.824756135398077}. Best is trial 21 with value: 0.7541797613976923.\u001B[0m\n",
      "\u001B[32m[I 2023-04-10 17:25:52,831]\u001B[0m Trial 231 finished with value: 0.7540799920184497 and parameters: {'p': -1.6484960728551457, 'w0': 0.9579423595397829, 'w1': 0.7147693561607094}. Best is trial 21 with value: 0.7541797613976923.\u001B[0m\n",
      "\u001B[32m[I 2023-04-10 17:25:52,913]\u001B[0m Trial 232 finished with value: 0.7539034769628666 and parameters: {'p': 0.08698306112153886, 'w0': 0.681135119741705, 'w1': 0.7523934764062828}. Best is trial 21 with value: 0.7541797613976923.\u001B[0m\n",
      "\u001B[32m[I 2023-04-10 17:25:52,988]\u001B[0m Trial 233 finished with value: 0.7541720868300583 and parameters: {'p': -1.853259464551468, 'w0': 0.866403269866281, 'w1': 0.6699132558208098}. Best is trial 21 with value: 0.7541797613976923.\u001B[0m\n",
      "\u001B[32m[I 2023-04-10 17:25:53,063]\u001B[0m Trial 234 finished with value: 0.7541145275728027 and parameters: {'p': -1.9980478557549015, 'w0': 0.8774444840940684, 'w1': 0.6903549046157607}. Best is trial 21 with value: 0.7541797613976923.\u001B[0m\n",
      "\u001B[32m[I 2023-04-10 17:25:53,138]\u001B[0m Trial 235 finished with value: 0.7533547453770323 and parameters: {'p': -1.8668201523716532, 'w0': 0.9027857614926023, 'w1': 0.27309388782043387}. Best is trial 21 with value: 0.7541797613976923.\u001B[0m\n",
      "\u001B[32m[I 2023-04-10 17:25:53,213]\u001B[0m Trial 236 finished with value: 0.7541605749786071 and parameters: {'p': -1.9073285283380643, 'w0': 0.8630110650877556, 'w1': 0.7259008213728179}. Best is trial 21 with value: 0.7541797613976923.\u001B[0m\n",
      "\u001B[32m[I 2023-04-10 17:25:53,288]\u001B[0m Trial 237 finished with value: 0.7538612668408794 and parameters: {'p': -1.8182471509201044, 'w0': 0.7192181812711065, 'w1': 0.7898357992789913}. Best is trial 21 with value: 0.7541797613976923.\u001B[0m\n",
      "\u001B[32m[I 2023-04-10 17:25:53,363]\u001B[0m Trial 238 finished with value: 0.75397638535539 and parameters: {'p': -0.8503292863601873, 'w0': 0.9242263445650971, 'w1': 0.8694885458472046}. Best is trial 21 with value: 0.7541797613976923.\u001B[0m\n",
      "\u001B[32m[I 2023-04-10 17:25:53,438]\u001B[0m Trial 239 finished with value: 0.7541068530051688 and parameters: {'p': -1.7277951014527237, 'w0': 0.8903425929716801, 'w1': 0.7592027101574762}. Best is trial 21 with value: 0.7541797613976923.\u001B[0m\n",
      "\u001B[32m[I 2023-04-10 17:25:53,513]\u001B[0m Trial 240 finished with value: 0.7538535922732454 and parameters: {'p': -1.808413483195761, 'w0': 0.42370940892634984, 'w1': 0.7012731053672994}. Best is trial 21 with value: 0.7541797613976923.\u001B[0m\n",
      "\u001B[32m[I 2023-04-10 17:25:53,587]\u001B[0m Trial 241 finished with value: 0.7541490631271562 and parameters: {'p': -0.7746947509749017, 'w0': 0.8252502284414461, 'w1': 0.6655666993369936}. Best is trial 21 with value: 0.7541797613976923.\u001B[0m\n",
      "\u001B[32m[I 2023-04-10 17:25:53,663]\u001B[0m Trial 242 finished with value: 0.754126039424254 and parameters: {'p': -1.6690703322859382, 'w0': 0.8451179258948689, 'w1': 0.6716890208527123}. Best is trial 21 with value: 0.7541797613976923.\u001B[0m\n",
      "\u001B[32m[I 2023-04-10 17:25:53,737]\u001B[0m Trial 243 finished with value: 0.7541567376947901 and parameters: {'p': -1.5569483739779806, 'w0': 0.8049119477662928, 'w1': 0.6471864623982598}. Best is trial 21 with value: 0.7541797613976923.\u001B[0m\n",
      "\u001B[32m[I 2023-04-10 17:25:53,813]\u001B[0m Trial 244 finished with value: 0.753799870299807 and parameters: {'p': -1.758689329980999, 'w0': 0.3621678131171918, 'w1': 0.7185182299430258}. Best is trial 21 with value: 0.7541797613976923.\u001B[0m\n",
      "\u001B[32m[I 2023-04-10 17:25:53,896]\u001B[0m Trial 245 finished with value: 0.7540492937479135 and parameters: {'p': 0.7282240852612293, 'w0': 0.9729136367389376, 'w1': 0.686736560413102}. Best is trial 21 with value: 0.7541797613976923.\u001B[0m\n",
      "\u001B[32m[I 2023-04-10 17:25:53,971]\u001B[0m Trial 246 finished with value: 0.7541030157213517 and parameters: {'p': -0.9880003750273347, 'w0': 0.8536159961579417, 'w1': 0.7376886008199955}. Best is trial 21 with value: 0.7541797613976923.\u001B[0m\n",
      "\u001B[32m[I 2023-04-10 17:25:54,046]\u001B[0m Trial 247 finished with value: 0.7540876665860837 and parameters: {'p': -1.92268534781214, 'w0': 0.9360610479388494, 'w1': 0.6654639302214274}. Best is trial 21 with value: 0.7541797613976923.\u001B[0m\n",
      "\u001B[32m[I 2023-04-10 17:25:54,121]\u001B[0m Trial 248 finished with value: 0.7538574295570624 and parameters: {'p': -0.6059891903971579, 'w0': 0.9089803571822924, 'w1': 0.9964657255824553}. Best is trial 21 with value: 0.7541797613976923.\u001B[0m\n",
      "\u001B[32m[I 2023-04-10 17:25:54,196]\u001B[0m Trial 249 finished with value: 0.7539955717744752 and parameters: {'p': -1.6202439856357242, 'w0': 0.8752322492339762, 'w1': 0.8118158289408007}. Best is trial 21 with value: 0.7541797613976923.\u001B[0m\n",
      "\u001B[32m[I 2023-04-10 17:25:54,272]\u001B[0m Trial 250 finished with value: 0.7539265006657686 and parameters: {'p': -0.2099565069720324, 'w0': 0.8361523014936335, 'w1': 0.9416925032582083}. Best is trial 21 with value: 0.7541797613976923.\u001B[0m\n",
      "\u001B[32m[I 2023-04-10 17:25:54,347]\u001B[0m Trial 251 finished with value: 0.7540953411537178 and parameters: {'p': -1.49822624636785, 'w0': 0.9596716940644964, 'w1': 0.7071737195720837}. Best is trial 21 with value: 0.7541797613976923.\u001B[0m\n",
      "\u001B[32m[I 2023-04-10 17:25:54,422]\u001B[0m Trial 252 finished with value: 0.7540723174508156 and parameters: {'p': -1.706794188372212, 'w0': 0.9007263916574766, 'w1': 0.6293032728422305}. Best is trial 21 with value: 0.7541797613976923.\u001B[0m\n",
      "\u001B[32m[I 2023-04-10 17:25:54,498]\u001B[0m Trial 253 finished with value: 0.7540684801669986 and parameters: {'p': -1.8546209606024349, 'w0': 0.8157477333734418, 'w1': 0.594932603610494}. Best is trial 21 with value: 0.7541797613976923.\u001B[0m\n",
      "\u001B[32m[I 2023-04-10 17:25:54,573]\u001B[0m Trial 254 finished with value: 0.7541605749786071 and parameters: {'p': -0.49135005813547217, 'w0': 0.935899102344538, 'w1': 0.7745993032341977}. Best is trial 21 with value: 0.7541797613976923.\u001B[0m\n",
      "\u001B[32m[I 2023-04-10 17:25:54,649]\u001B[0m Trial 255 finished with value: 0.7541068530051688 and parameters: {'p': -1.3706691225294425, 'w0': 0.8656083403757431, 'w1': 0.7381116612448998}. Best is trial 21 with value: 0.7541797613976923.\u001B[0m\n",
      "\u001B[32m[I 2023-04-10 17:25:54,723]\u001B[0m Trial 256 finished with value: 0.7541106902889858 and parameters: {'p': -1.7532762753127098, 'w0': 0.7890777653151564, 'w1': 0.6909657210680883}. Best is trial 21 with value: 0.7541797613976923.\u001B[0m\n",
      "\u001B[32m[I 2023-04-10 17:25:54,798]\u001B[0m Trial 257 finished with value: 0.7541720868300583 and parameters: {'p': -1.5858706937476477, 'w0': 0.8880549488482053, 'w1': 0.7207824910967681}. Best is trial 21 with value: 0.7541797613976923.\u001B[0m\n",
      "\u001B[32m[I 2023-04-10 17:25:54,873]\u001B[0m Trial 258 finished with value: 0.7539111515305007 and parameters: {'p': -1.616254400602548, 'w0': 0.8902543983522114, 'w1': 0.5132374607830894}. Best is trial 21 with value: 0.7541797613976923.\u001B[0m\n",
      "\u001B[32m[I 2023-04-10 17:25:54,948]\u001B[0m Trial 259 finished with value: 0.7541106902889858 and parameters: {'p': -1.935874980620456, 'w0': 0.9175977649335414, 'w1': 0.7205256280342391}. Best is trial 21 with value: 0.7541797613976923.\u001B[0m\n",
      "\u001B[32m[I 2023-04-10 17:25:55,023]\u001B[0m Trial 260 finished with value: 0.7539648735039389 and parameters: {'p': -1.227994064470824, 'w0': 0.5259615816910362, 'w1': 0.7581244862523961}. Best is trial 21 with value: 0.7541797613976923.\u001B[0m\n",
      "\u001B[32m[I 2023-04-10 17:25:55,099]\u001B[0m Trial 261 finished with value: 0.754137551275705 and parameters: {'p': -1.8330948188282377, 'w0': 0.9786443256374416, 'w1': 0.7446680163521886}. Best is trial 21 with value: 0.7541797613976923.\u001B[0m\n",
      "\u001B[32m[I 2023-04-10 17:25:55,174]\u001B[0m Trial 262 finished with value: 0.7539687107877561 and parameters: {'p': -1.6944718951134596, 'w0': 0.6444769694932185, 'w1': 0.7973847733114395}. Best is trial 21 with value: 0.7541797613976923.\u001B[0m\n",
      "\u001B[32m[I 2023-04-10 17:25:55,250]\u001B[0m Trial 263 finished with value: 0.7541644122624241 and parameters: {'p': -1.4636595480237942, 'w0': 0.46127229242491496, 'w1': 0.38060073874665956}. Best is trial 21 with value: 0.7541797613976923.\u001B[0m\n",
      "\u001B[32m[I 2023-04-10 17:25:55,324]\u001B[0m Trial 264 finished with value: 0.7541720868300583 and parameters: {'p': -1.0893316539755593, 'w0': 0.4761371198049095, 'w1': 0.38924386700740593}. Best is trial 21 with value: 0.7541797613976923.\u001B[0m\n",
      "\u001B[32m[I 2023-04-10 17:25:55,399]\u001B[0m Trial 265 finished with value: 0.7541413885595221 and parameters: {'p': -0.7420662805755807, 'w0': 0.4605558956308776, 'w1': 0.3649249770078755}. Best is trial 21 with value: 0.7541797613976923.\u001B[0m\n",
      "\u001B[32m[I 2023-04-10 17:25:55,474]\u001B[0m Trial 266 finished with value: 0.7541030157213517 and parameters: {'p': -1.1499727500541101, 'w0': 0.4598678521508593, 'w1': 0.3978679154895191}. Best is trial 21 with value: 0.7541797613976923.\u001B[0m\n",
      "\u001B[32m[I 2023-04-10 17:25:55,549]\u001B[0m Trial 267 finished with value: 0.754129876708071 and parameters: {'p': -1.0792712244821505, 'w0': 0.4936316686559531, 'w1': 0.384708471987432}. Best is trial 21 with value: 0.7541797613976923.\u001B[0m\n",
      "\u001B[32m[I 2023-04-10 17:25:55,625]\u001B[0m Trial 268 finished with value: 0.7540723174508156 and parameters: {'p': -1.2691789656837837, 'w0': 0.44957131560523295, 'w1': 0.33495833931485197}. Best is trial 21 with value: 0.7541797613976923.\u001B[0m\n",
      "\u001B[32m[I 2023-04-10 17:25:55,700]\u001B[0m Trial 269 finished with value: 0.754152900410973 and parameters: {'p': -1.4607897603127744, 'w0': 0.49717248822919197, 'w1': 0.40199870030985135}. Best is trial 21 with value: 0.7541797613976923.\u001B[0m\n",
      "\u001B[32m[I 2023-04-10 17:25:55,775]\u001B[0m Trial 270 finished with value: 0.753957198936305 and parameters: {'p': -0.8670287484590111, 'w0': 0.563699634363592, 'w1': 0.3620351342681386}. Best is trial 21 with value: 0.7541797613976923.\u001B[0m\n",
      "\u001B[32m[I 2023-04-10 17:25:55,850]\u001B[0m Trial 271 finished with value: 0.7541720868300583 and parameters: {'p': -1.3382305921328899, 'w0': 0.5190683030124157, 'w1': 0.42734004004715564}. Best is trial 21 with value: 0.7541797613976923.\u001B[0m\n",
      "\u001B[32m[I 2023-04-10 17:25:55,926]\u001B[0m Trial 272 finished with value: 0.7539994090582923 and parameters: {'p': -0.9367612235391672, 'w0': 0.48397804084690493, 'w1': 0.4490159436624239}. Best is trial 21 with value: 0.7541797613976923.\u001B[0m\n",
      "\u001B[32m[I 2023-04-10 17:25:56,001]\u001B[0m Trial 273 finished with value: 0.7541720868300583 and parameters: {'p': -1.3362296123274726, 'w0': 0.5034807337494369, 'w1': 0.4110671919197176}. Best is trial 21 with value: 0.7541797613976923.\u001B[0m\n",
      "\u001B[32m[I 2023-04-10 17:25:56,076]\u001B[0m Trial 274 finished with value: 0.754129876708071 and parameters: {'p': -1.3787906688509781, 'w0': 0.5196110912111981, 'w1': 0.4355346802664389}. Best is trial 21 with value: 0.7541797613976923.\u001B[0m\n",
      "\u001B[32m[I 2023-04-10 17:25:56,151]\u001B[0m Trial 275 finished with value: 0.7539380125172198 and parameters: {'p': -1.356420003186431, 'w0': 0.4389116009986605, 'w1': 0.4269959361073313}. Best is trial 21 with value: 0.7541797613976923.\u001B[0m\n",
      "\u001B[32m[I 2023-04-10 17:25:56,226]\u001B[0m Trial 276 finished with value: 0.7539265006657686 and parameters: {'p': -1.2871600767933045, 'w0': 0.6645403232933615, 'w1': 0.41211527226946976}. Best is trial 21 with value: 0.7541797613976923.\u001B[0m\n",
      "\u001B[32m[I 2023-04-10 17:25:56,302]\u001B[0m Trial 277 finished with value: 0.7541068530051688 and parameters: {'p': -1.1527944382469415, 'w0': 0.5369858151299418, 'w1': 0.4583951812405915}. Best is trial 21 with value: 0.7541797613976923.\u001B[0m\n",
      "\u001B[32m[I 2023-04-10 17:25:56,377]\u001B[0m Trial 278 finished with value: 0.7540684801669986 and parameters: {'p': -1.318839164414165, 'w0': 0.4710899997812272, 'w1': 0.42518759414466895}. Best is trial 21 with value: 0.7541797613976923.\u001B[0m\n",
      "\u001B[32m[I 2023-04-10 17:25:56,452]\u001B[0m Trial 279 finished with value: 0.7541682495462412 and parameters: {'p': -0.9863831636463309, 'w0': 0.5114155884620656, 'w1': 0.4212437081341827}. Best is trial 21 with value: 0.7541797613976923.\u001B[0m\n",
      "\u001B[32m[I 2023-04-10 17:25:56,528]\u001B[0m Trial 280 finished with value: 0.754137551275705 and parameters: {'p': -1.2116252097355706, 'w0': 0.5184902528665499, 'w1': 0.4103740326293606}. Best is trial 21 with value: 0.7541797613976923.\u001B[0m\n",
      "\u001B[32m[I 2023-04-10 17:25:56,604]\u001B[0m Trial 281 finished with value: 0.753980222639207 and parameters: {'p': -0.9734106389494984, 'w0': 0.49908382115427785, 'w1': 0.4716369889243069}. Best is trial 21 with value: 0.7541797613976923.\u001B[0m\n",
      "\u001B[32m[I 2023-04-10 17:25:56,687]\u001B[0m Trial 282 finished with value: 0.754152900410973 and parameters: {'p': 0.877821460910873, 'w0': 0.5500603738378438, 'w1': 0.4440270969289536}. Best is trial 21 with value: 0.7541797613976923.\u001B[0m\n",
      "\u001B[32m[I 2023-04-10 17:25:56,762]\u001B[0m Trial 283 finished with value: 0.7541567376947901 and parameters: {'p': -0.9649686908060411, 'w0': 0.5432451083787605, 'w1': 0.41726379905524663}. Best is trial 21 with value: 0.7541797613976923.\u001B[0m\n",
      "\u001B[32m[I 2023-04-10 17:25:56,838]\u001B[0m Trial 284 finished with value: 0.7523570515846063 and parameters: {'p': -1.1106411540171155, 'w0': 0.8571162368163956, 'w1': 0.012500707422064772}. Best is trial 21 with value: 0.7541797613976923.\u001B[0m\n",
      "\u001B[32m[I 2023-04-10 17:25:56,913]\u001B[0m Trial 285 finished with value: 0.7541106902889858 and parameters: {'p': -1.1061729860697487, 'w0': 0.5089478633275434, 'w1': 0.37477741692519057}. Best is trial 21 with value: 0.7541797613976923.\u001B[0m\n",
      "\u001B[32m[I 2023-04-10 17:25:56,996]\u001B[0m Trial 286 finished with value: 0.7541797613976923 and parameters: {'p': 0.03846061994464631, 'w0': 0.5361091126218627, 'w1': 0.4373764279826385}. Best is trial 21 with value: 0.7541797613976923.\u001B[0m\n",
      "\u001B[32m[I 2023-04-10 17:25:57,072]\u001B[0m Trial 287 finished with value: 0.7540531310317306 and parameters: {'p': -0.044354143514825486, 'w0': 0.579740916401964, 'w1': 0.40234098458015793}. Best is trial 21 with value: 0.7541797613976923.\u001B[0m\n",
      "\u001B[32m[I 2023-04-10 17:25:57,147]\u001B[0m Trial 288 finished with value: 0.7541106902889858 and parameters: {'p': -1.0085550950564794, 'w0': 0.5075423096331974, 'w1': 0.44572823242144927}. Best is trial 21 with value: 0.7541797613976923.\u001B[0m\n",
      "\u001B[32m[I 2023-04-10 17:25:57,231]\u001B[0m Trial 289 finished with value: 0.7541682495462412 and parameters: {'p': 0.14095946701224243, 'w0': 0.5348725645449115, 'w1': 0.433131352169012}. Best is trial 21 with value: 0.7541797613976923.\u001B[0m\n",
      "\u001B[32m[I 2023-04-10 17:25:57,307]\u001B[0m Trial 290 finished with value: 0.754133713991888 and parameters: {'p': -1.0401646340021884, 'w0': 0.539319998300051, 'w1': 0.4310870172742138}. Best is trial 21 with value: 0.7541797613976923.\u001B[0m\n",
      "\u001B[32m[I 2023-04-10 17:25:57,394]\u001B[0m Trial 291 finished with value: 0.7539917344906581 and parameters: {'p': 0.15831693752922, 'w0': 0.5178418780806672, 'w1': 0.4799652567093473}. Best is trial 21 with value: 0.7541797613976923.\u001B[0m\n",
      "\u001B[32m[I 2023-04-10 17:25:57,480]\u001B[0m Trial 292 finished with value: 0.7540915038699008 and parameters: {'p': 0.08431673181615079, 'w0': 0.565172199853736, 'w1': 0.4202248129934403}. Best is trial 21 with value: 0.7541797613976923.\u001B[0m\n",
      "\u001B[32m[I 2023-04-10 17:25:57,556]\u001B[0m Trial 293 finished with value: 0.7541567376947901 and parameters: {'p': -0.7826133549130766, 'w0': 0.48229306545445233, 'w1': 0.40681878909339525}. Best is trial 21 with value: 0.7541797613976923.\u001B[0m\n",
      "\u001B[32m[I 2023-04-10 17:25:57,631]\u001B[0m Trial 294 finished with value: 0.7540915038699008 and parameters: {'p': -0.8426129326368219, 'w0': 0.532141645723935, 'w1': 0.46773323096761993}. Best is trial 21 with value: 0.7541797613976923.\u001B[0m\n",
      "\u001B[32m[I 2023-04-10 17:25:57,707]\u001B[0m Trial 295 finished with value: 0.7539341752334027 and parameters: {'p': -0.010741904706246024, 'w0': 0.5059422393287324, 'w1': 0.4925114031690484}. Best is trial 21 with value: 0.7541797613976923.\u001B[0m\n",
      "\u001B[32m[I 2023-04-10 17:25:57,783]\u001B[0m Trial 296 finished with value: 0.7541222021404369 and parameters: {'p': -0.1875305471602141, 'w0': 0.5921485244796729, 'w1': 0.44867732821378387}. Best is trial 21 with value: 0.7541797613976923.\u001B[0m\n",
      "\u001B[32m[I 2023-04-10 17:25:57,859]\u001B[0m Trial 297 finished with value: 0.7541413885595221 and parameters: {'p': -0.1503107045446873, 'w0': 0.4816387942200213, 'w1': 0.3863853343625792}. Best is trial 21 with value: 0.7541797613976923.\u001B[0m\n",
      "\u001B[32m[I 2023-04-10 17:25:57,943]\u001B[0m Trial 298 finished with value: 0.7538651041246965 and parameters: {'p': 0.2109096938682251, 'w0': 0.7375820890369489, 'w1': 0.4384763520919633}. Best is trial 21 with value: 0.7541797613976923.\u001B[0m\n",
      "\u001B[32m[I 2023-04-10 17:25:58,019]\u001B[0m Trial 299 finished with value: 0.7540569683155475 and parameters: {'p': -1.2182001950788466, 'w0': 0.8351271078258993, 'w1': 0.6095957771204503}. Best is trial 21 with value: 0.7541797613976923.\u001B[0m\n",
      "\u001B[32m[I 2023-04-10 17:25:58,104]\u001B[0m Trial 300 finished with value: 0.7538152194350751 and parameters: {'p': 0.45346849776049286, 'w0': 0.49478752886554445, 'w1': 0.5017191432309136}. Best is trial 21 with value: 0.7541797613976923.\u001B[0m\n",
      "\u001B[32m[I 2023-04-10 17:25:58,188]\u001B[0m Trial 301 finished with value: 0.7539840599230241 and parameters: {'p': 0.023013791651937572, 'w0': 0.6057767133985554, 'w1': 0.39475729075342203}. Best is trial 21 with value: 0.7541797613976923.\u001B[0m\n",
      "\u001B[32m[I 2023-04-10 17:25:58,264]\u001B[0m Trial 302 finished with value: 0.754126039424254 and parameters: {'p': -1.0408691402534018, 'w0': 0.5630678652238278, 'w1': 0.4256352403365377}. Best is trial 21 with value: 0.7541797613976923.\u001B[0m\n",
      "\u001B[32m[I 2023-04-10 17:25:58,340]\u001B[0m Trial 303 finished with value: 0.7541567376947901 and parameters: {'p': -0.380022901920416, 'w0': 0.7682081399865881, 'w1': 0.6492777232356788}. Best is trial 21 with value: 0.7541797613976923.\u001B[0m\n",
      "\u001B[32m[I 2023-04-10 17:25:58,416]\u001B[0m Trial 304 finished with value: 0.7539994090582923 and parameters: {'p': -0.5937510109581274, 'w0': 0.6243452743488604, 'w1': 0.831444209793738}. Best is trial 21 with value: 0.7541797613976923.\u001B[0m\n",
      "\u001B[32m[I 2023-04-10 17:25:58,500]\u001B[0m Trial 305 finished with value: 0.7539149888143176 and parameters: {'p': 0.21446490264060036, 'w0': 0.5332034928166145, 'w1': 0.8788030966216384}. Best is trial 21 with value: 0.7541797613976923.\u001B[0m\n",
      "\u001B[32m[I 2023-04-10 17:25:58,585]\u001B[0m Trial 306 finished with value: 0.7541874359653263 and parameters: {'p': 1.9006709774195878, 'w0': 0.875637731557467, 'w1': 0.6775701119037867}. Best is trial 306 with value: 0.7541874359653263.\u001B[0m\n",
      "\u001B[32m[I 2023-04-10 17:25:58,670]\u001B[0m Trial 307 finished with value: 0.7538881278275985 and parameters: {'p': 1.2333953186002664, 'w0': 0.8661927236383495, 'w1': 0.8475156609724904}. Best is trial 306 with value: 0.7541874359653263.\u001B[0m\n",
      "\u001B[32m[I 2023-04-10 17:25:58,754]\u001B[0m Trial 308 finished with value: 0.7540991784375348 and parameters: {'p': 0.07860936616831257, 'w0': 0.8395051113974279, 'w1': 0.6323796241203545}. Best is trial 306 with value: 0.7541874359653263.\u001B[0m\n",
      "\u001B[32m[I 2023-04-10 17:25:58,840]\u001B[0m Trial 309 finished with value: 0.7538881278275985 and parameters: {'p': 1.554102375517001, 'w0': 0.6900625338662596, 'w1': 0.6766112205076228}. Best is trial 306 with value: 0.7541874359653263.\u001B[0m\n",
      "\u001B[32m[I 2023-04-10 17:25:58,916]\u001B[0m Trial 310 finished with value: 0.7540915038699008 and parameters: {'p': -0.07007276441142024, 'w0': 0.882299788499323, 'w1': 0.655781722559311}. Best is trial 306 with value: 0.7541874359653263.\u001B[0m\n",
      "\u001B[32m[I 2023-04-10 17:25:59,000]\u001B[0m Trial 311 finished with value: 0.7536118433927729 and parameters: {'p': 1.9379619389317218, 'w0': 0.8631392921222347, 'w1': 0.3474951871587435}. Best is trial 306 with value: 0.7541874359653263.\u001B[0m\n",
      "\u001B[32m[I 2023-04-10 17:25:59,075]\u001B[0m Trial 312 finished with value: 0.7538228940027091 and parameters: {'p': -0.2616737090966246, 'w0': 0.8232917271074485, 'w1': 0.3716298691338414}. Best is trial 306 with value: 0.7541874359653263.\u001B[0m\n",
      "\u001B[32m[I 2023-04-10 17:25:59,160]\u001B[0m Trial 313 finished with value: 0.754133713991888 and parameters: {'p': 0.5889898891553864, 'w0': 0.8490027062282556, 'w1': 0.6772691497051003}. Best is trial 306 with value: 0.7541874359653263.\u001B[0m\n",
      "\u001B[32m[I 2023-04-10 17:25:59,245]\u001B[0m Trial 314 finished with value: 0.7538382431379772 and parameters: {'p': 0.13647737264236104, 'w0': 0.8816843452659966, 'w1': 0.40350544226910334}. Best is trial 306 with value: 0.7541874359653263.\u001B[0m\n",
      "\u001B[32m[I 2023-04-10 17:25:59,321]\u001B[0m Trial 315 finished with value: 0.7541030157213517 and parameters: {'p': -0.06404102577788846, 'w0': 0.6339739694751035, 'w1': 0.5427881827752343}. Best is trial 306 with value: 0.7541874359653263.\u001B[0m\n",
      "\u001B[32m[I 2023-04-10 17:25:59,397]\u001B[0m Trial 316 finished with value: 0.7541030157213517 and parameters: {'p': -0.8779624664005228, 'w0': 0.8019956103062923, 'w1': 0.6864896481934515}. Best is trial 306 with value: 0.7541874359653263.\u001B[0m\n",
      "\u001B[32m[I 2023-04-10 17:25:59,482]\u001B[0m Trial 317 finished with value: 0.7541413885595221 and parameters: {'p': 0.4270807749963008, 'w0': 0.8291134722680503, 'w1': 0.6457643689215444}. Best is trial 306 with value: 0.7541874359653263.\u001B[0m\n",
      "\u001B[32m[I 2023-04-10 17:25:59,568]\u001B[0m Trial 318 finished with value: 0.7539418498010367 and parameters: {'p': 0.3151942178489892, 'w0': 0.5512611945489393, 'w1': 0.5241925465436914}. Best is trial 306 with value: 0.7541874359653263.\u001B[0m\n",
      "\u001B[32m[I 2023-04-10 17:25:59,652]\u001B[0m Trial 319 finished with value: 0.753819056718892 and parameters: {'p': 0.05227370923055219, 'w0': 0.8554616200788184, 'w1': 0.4624002970132062}. Best is trial 306 with value: 0.7541874359653263.\u001B[0m\n",
      "\u001B[32m[I 2023-04-10 17:25:59,729]\u001B[0m Trial 320 finished with value: 0.7539648735039389 and parameters: {'p': -0.26489237007978905, 'w0': 0.5070862983962611, 'w1': 0.6133060856747163}. Best is trial 306 with value: 0.7541874359653263.\u001B[0m\n",
      "\u001B[32m[I 2023-04-10 17:25:59,805]\u001B[0m Trial 321 finished with value: 0.7538420804217942 and parameters: {'p': -0.09439528369789066, 'w0': 0.8778993761261603, 'w1': 0.4213650850258649}. Best is trial 306 with value: 0.7541874359653263.\u001B[0m\n",
      "\u001B[32m[I 2023-04-10 17:25:59,882]\u001B[0m Trial 322 finished with value: 0.7538344058541602 and parameters: {'p': -0.6749049795040161, 'w0': 0.4058505707114849, 'w1': 0.6946337680166125}. Best is trial 306 with value: 0.7541874359653263.\u001B[0m\n",
      "\u001B[32m[I 2023-04-10 17:25:59,967]\u001B[0m Trial 323 finished with value: 0.7536809145014792 and parameters: {'p': 0.1395472919772217, 'w0': 0.2921307872365704, 'w1': 0.6641805310036788}. Best is trial 306 with value: 0.7541874359653263.\u001B[0m\n",
      "\u001B[32m[I 2023-04-10 17:26:00,052]\u001B[0m Trial 324 finished with value: 0.7538842905437815 and parameters: {'p': 0.23710506194966802, 'w0': 0.7122015955555646, 'w1': 0.7764448930013812}. Best is trial 306 with value: 0.7541874359653263.\u001B[0m\n",
      "\u001B[32m[I 2023-04-10 17:26:00,136]\u001B[0m Trial 325 finished with value: 0.7531705557538153 and parameters: {'p': 0.2834144628369406, 'w0': 0.23022019551536543, 'w1': 0.9041199286987529}. Best is trial 306 with value: 0.7541874359653263.\u001B[0m\n",
      "\u001B[32m[I 2023-04-10 17:26:00,212]\u001B[0m Trial 326 finished with value: 0.7541106902889858 and parameters: {'p': -0.547074028214542, 'w0': 0.8974563680215266, 'w1': 0.7037210250716806}. Best is trial 306 with value: 0.7541874359653263.\u001B[0m\n",
      "\u001B[32m[I 2023-04-10 17:26:00,297]\u001B[0m Trial 327 finished with value: 0.754133713991888 and parameters: {'p': 0.5679753070690079, 'w0': 0.5811037054518514, 'w1': 0.4453815033274814}. Best is trial 306 with value: 0.7541874359653263.\u001B[0m\n",
      "\u001B[32m[I 2023-04-10 17:26:00,382]\u001B[0m Trial 328 finished with value: 0.7540109209097432 and parameters: {'p': 0.947511215066398, 'w0': 0.7817738192489465, 'w1': 0.719169611504177}. Best is trial 306 with value: 0.7541874359653263.\u001B[0m\n",
      "\u001B[32m[I 2023-04-10 17:26:00,467]\u001B[0m Trial 329 finished with value: 0.7538958023952326 and parameters: {'p': 0.37425308630741566, 'w0': 0.522711507066399, 'w1': 0.5785630400317159}. Best is trial 306 with value: 0.7541874359653263.\u001B[0m\n",
      "\u001B[32m[I 2023-04-10 17:26:00,551]\u001B[0m Trial 330 finished with value: 0.7538689414085133 and parameters: {'p': 1.9453825453027398, 'w0': 0.4804414124618259, 'w1': 0.6402117742449381}. Best is trial 306 with value: 0.7541874359653263.\u001B[0m\n",
      "\u001B[32m[I 2023-04-10 17:26:00,636]\u001B[0m Trial 331 finished with value: 0.7539111515305007 and parameters: {'p': 0.012540443177137761, 'w0': 0.4391060782059929, 'w1': 0.48489925246506205}. Best is trial 306 with value: 0.7541874359653263.\u001B[0m\n",
      "\u001B[32m[I 2023-04-10 17:26:00,712]\u001B[0m Trial 332 finished with value: 0.7538075448674411 and parameters: {'p': -0.4221708452936906, 'w0': 0.81611463055521, 'w1': 0.3880280745009756}. Best is trial 306 with value: 0.7541874359653263.\u001B[0m\n",
      "\u001B[32m[I 2023-04-10 17:26:00,788]\u001B[0m Trial 333 finished with value: 0.754129876708071 and parameters: {'p': -1.2204093216249348, 'w0': 0.8451779398191429, 'w1': 0.6754425066084955}. Best is trial 306 with value: 0.7541874359653263.\u001B[0m\n",
      "\u001B[32m[I 2023-04-10 17:26:00,864]\u001B[0m Trial 334 finished with value: 0.7538113821512581 and parameters: {'p': -0.778491460470796, 'w0': 0.7535564824613291, 'w1': 0.7601101564081548}. Best is trial 306 with value: 0.7541874359653263.\u001B[0m\n",
      "\u001B[32m[I 2023-04-10 17:26:00,940]\u001B[0m Trial 335 finished with value: 0.7539533616524879 and parameters: {'p': -0.4895956542775761, 'w0': 0.9016884430795418, 'w1': 0.8660259646724162}. Best is trial 306 with value: 0.7541874359653263.\u001B[0m\n",
      "\u001B[32m[I 2023-04-10 17:26:01,025]\u001B[0m Trial 336 finished with value: 0.7538459177056113 and parameters: {'p': 0.5943924613383329, 'w0': 0.8690355340479732, 'w1': 0.41511919998340946}. Best is trial 306 with value: 0.7541874359653263.\u001B[0m\n",
      "\u001B[32m[I 2023-04-10 17:26:01,109]\u001B[0m Trial 337 finished with value: 0.754126039424254 and parameters: {'p': 1.8085760748434518, 'w0': 0.8065209313462286, 'w1': 0.7152922729081908}. Best is trial 306 with value: 0.7541874359653263.\u001B[0m\n",
      "\u001B[32m[I 2023-04-10 17:26:01,194]\u001B[0m Trial 338 finished with value: 0.7539840599230241 and parameters: {'p': 1.3290966889533466, 'w0': 0.545202187154371, 'w1': 0.3571302704769137}. Best is trial 306 with value: 0.7541874359653263.\u001B[0m\n",
      "\u001B[32m[I 2023-04-10 17:26:01,279]\u001B[0m Trial 339 finished with value: 0.7537883584483559 and parameters: {'p': 1.583426448029982, 'w0': 0.9983868697275646, 'w1': 0.4559306224227304}. Best is trial 306 with value: 0.7541874359653263.\u001B[0m\n",
      "\u001B[32m[I 2023-04-10 17:26:01,355]\u001B[0m Trial 340 finished with value: 0.7539878972068411 and parameters: {'p': -1.287870834398315, 'w0': 0.60219324261871, 'w1': 0.7903468478337756}. Best is trial 306 with value: 0.7541874359653263.\u001B[0m\n",
      "\u001B[32m[I 2023-04-10 17:26:01,440]\u001B[0m Trial 341 finished with value: 0.7538075448674411 and parameters: {'p': 0.6897548535019937, 'w0': 0.9130732193169235, 'w1': 0.9686729048821876}. Best is trial 306 with value: 0.7541874359653263.\u001B[0m\n",
      "\u001B[32m[I 2023-04-10 17:26:01,517]\u001B[0m Trial 342 finished with value: 0.7541222021404369 and parameters: {'p': -0.3539881198114492, 'w0': 0.6734839999070154, 'w1': 0.5974412487666474}. Best is trial 306 with value: 0.7541874359653263.\u001B[0m\n",
      "\u001B[32m[I 2023-04-10 17:26:01,593]\u001B[0m Trial 343 finished with value: 0.754137551275705 and parameters: {'p': -1.38875079873531, 'w0': 0.8775777190205553, 'w1': 0.734348799242333}. Best is trial 306 with value: 0.7541874359653263.\u001B[0m\n",
      "\u001B[32m[I 2023-04-10 17:26:01,670]\u001B[0m Trial 344 finished with value: 0.7538267312865261 and parameters: {'p': -0.11091479524319192, 'w0': 0.838196273834588, 'w1': 0.8397147986950401}. Best is trial 306 with value: 0.7541874359653263.\u001B[0m\n",
      "\u001B[32m[I 2023-04-10 17:26:01,746]\u001B[0m Trial 345 finished with value: 0.753980222639207 and parameters: {'p': -0.3145316585264969, 'w0': 0.6985358973128106, 'w1': 0.6600548565436117}. Best is trial 306 with value: 0.7541874359653263.\u001B[0m\n",
      "\u001B[32m[I 2023-04-10 17:26:01,832]\u001B[0m Trial 346 finished with value: 0.7538152194350751 and parameters: {'p': 1.718410849780192, 'w0': 0.4730585360041703, 'w1': 0.8111067599371953}. Best is trial 306 with value: 0.7541874359653263.\u001B[0m\n",
      "\u001B[32m[I 2023-04-10 17:26:01,917]\u001B[0m Trial 347 finished with value: 0.75397638535539 and parameters: {'p': 0.7522174947618543, 'w0': 0.5186866768463119, 'w1': 0.6889519144313118}. Best is trial 306 with value: 0.7541874359653263.\u001B[0m\n",
      "\u001B[32m[I 2023-04-10 17:26:02,002]\u001B[0m Trial 348 finished with value: 0.7538420804217942 and parameters: {'p': 0.9371561918581814, 'w0': 0.8571988153264397, 'w1': 0.43129208305925143}. Best is trial 306 with value: 0.7541874359653263.\u001B[0m\n",
      "\u001B[32m[I 2023-04-10 17:26:02,088]\u001B[0m Trial 349 finished with value: 0.7541183648566199 and parameters: {'p': 0.3878591761395267, 'w0': 0.782375378811989, 'w1': 0.6263885272186647}. Best is trial 306 with value: 0.7541874359653263.\u001B[0m\n",
      "\u001B[32m[I 2023-04-10 17:26:02,165]\u001B[0m Trial 350 finished with value: 0.7539878972068411 and parameters: {'p': -0.9268925124452225, 'w0': 0.8267700801373471, 'w1': 0.7663661885554667}. Best is trial 306 with value: 0.7541874359653263.\u001B[0m\n",
      "\u001B[32m[I 2023-04-10 17:26:02,250]\u001B[0m Trial 351 finished with value: 0.7519886723381721 and parameters: {'p': 1.0733792494328713, 'w0': 0.026809571478561778, 'w1': 0.7023871517375324}. Best is trial 306 with value: 0.7541874359653263.\u001B[0m\n",
      "\u001B[32m[I 2023-04-10 17:26:02,327]\u001B[0m Trial 352 finished with value: 0.7540224327611942 and parameters: {'p': -1.1412919187324138, 'w0': 0.49685453874809143, 'w1': 0.7392337068344195}. Best is trial 306 with value: 0.7541874359653263.\u001B[0m\n",
      "\u001B[32m[I 2023-04-10 17:26:02,404]\u001B[0m Trial 353 finished with value: 0.7538152194350751 and parameters: {'p': -0.6932356295458746, 'w0': 0.9014870842253471, 'w1': 0.39841437463550505}. Best is trial 306 with value: 0.7541874359653263.\u001B[0m\n",
      "\u001B[32m[I 2023-04-10 17:26:02,481]\u001B[0m Trial 354 finished with value: 0.7539226633819518 and parameters: {'p': -0.28335932442556755, 'w0': 0.5797677364864159, 'w1': 0.9214776024486899}. Best is trial 306 with value: 0.7541874359653263.\u001B[0m\n",
      "\u001B[32m[I 2023-04-10 17:26:02,558]\u001B[0m Trial 355 finished with value: 0.7539265006657686 and parameters: {'p': -0.1961931466903416, 'w0': 0.887983269045761, 'w1': 0.5138515936509558}. Best is trial 306 with value: 0.7541874359653263.\u001B[0m\n",
      "\u001B[32m[I 2023-04-10 17:26:02,644]\u001B[0m Trial 356 finished with value: 0.7540723174508156 and parameters: {'p': 0.13827719402953936, 'w0': 0.9268062106703299, 'w1': 0.6612852684237793}. Best is trial 306 with value: 0.7541874359653263.\u001B[0m\n",
      "\u001B[32m[I 2023-04-10 17:26:02,720]\u001B[0m Trial 357 finished with value: 0.7541605749786071 and parameters: {'p': -1.0624254612233683, 'w0': 0.852319941753384, 'w1': 0.7174465648860453}. Best is trial 306 with value: 0.7541874359653263.\u001B[0m\n",
      "\u001B[32m[I 2023-04-10 17:26:02,806]\u001B[0m Trial 358 finished with value: 0.7538382431379772 and parameters: {'p': 1.016627621137893, 'w0': 0.7970440122421959, 'w1': 0.37552661420689076}. Best is trial 306 with value: 0.7541874359653263.\u001B[0m\n",
      "\u001B[32m[I 2023-04-10 17:26:02,891]\u001B[0m Trial 359 finished with value: 0.7538612668408794 and parameters: {'p': 1.3577105475754894, 'w0': 0.3384001614979634, 'w1': 0.46368914827787083}. Best is trial 306 with value: 0.7541874359653263.\u001B[0m\n",
      "\u001B[32m[I 2023-04-10 17:26:02,977]\u001B[0m Trial 360 finished with value: 0.7538152194350751 and parameters: {'p': 1.4823399455604311, 'w0': 0.5374503323869484, 'w1': 0.8788081150831033}. Best is trial 306 with value: 0.7541874359653263.\u001B[0m\n",
      "\u001B[32m[I 2023-04-10 17:26:03,054]\u001B[0m Trial 361 finished with value: 0.7537691720292709 and parameters: {'p': -0.4905214361523562, 'w0': 0.6399985622308277, 'w1': 0.683772453841371}. Best is trial 306 with value: 0.7541874359653263.\u001B[0m\n",
      "\u001B[32m[I 2023-04-10 17:26:03,131]\u001B[0m Trial 362 finished with value: 0.7539533616524879 and parameters: {'p': -1.481673839189559, 'w0': 0.8710026372312717, 'w1': 0.5568747118269951}. Best is trial 306 with value: 0.7541874359653263.\u001B[0m\n",
      "\u001B[32m[I 2023-04-10 17:26:03,217]\u001B[0m Trial 363 finished with value: 0.7540262700450113 and parameters: {'p': 0.01642855832066946, 'w0': 0.5629298096252886, 'w1': 0.7871624384024251}. Best is trial 306 with value: 0.7541874359653263.\u001B[0m\n",
      "\u001B[32m[I 2023-04-10 17:26:03,303]\u001B[0m Trial 364 finished with value: 0.7540531310317306 and parameters: {'p': 1.9885677759632907, 'w0': 0.8209450871353303, 'w1': 0.7517316477790829}. Best is trial 306 with value: 0.7541874359653263.\u001B[0m\n",
      "\u001B[32m[I 2023-04-10 17:26:03,387]\u001B[0m Trial 365 finished with value: 0.7539265006657686 and parameters: {'p': 1.4231986917550117, 'w0': 0.5082540638895122, 'w1': 0.6370485484362683}. Best is trial 306 with value: 0.7541874359653263.\u001B[0m\n",
      "\u001B[32m[I 2023-04-10 17:26:03,472]\u001B[0m Trial 366 finished with value: 0.7539955717744752 and parameters: {'p': 1.1591844076285511, 'w0': 0.46146587819311036, 'w1': 0.4409440961463342}. Best is trial 306 with value: 0.7541874359653263.\u001B[0m\n",
      "\u001B[32m[I 2023-04-10 17:26:03,558]\u001B[0m Trial 367 finished with value: 0.7533739317961176 and parameters: {'p': 1.6248298807282158, 'w0': 0.9219545086573551, 'w1': 0.3061618493512079}. Best is trial 306 with value: 0.7541874359653263.\u001B[0m\n",
      "\u001B[32m[I 2023-04-10 17:26:03,634]\u001B[0m Trial 368 finished with value: 0.7539955717744752 and parameters: {'p': -1.5911272708346669, 'w0': 0.7507336896555907, 'w1': 0.6953391371999519}. Best is trial 306 with value: 0.7541874359653263.\u001B[0m\n",
      "\u001B[32m[I 2023-04-10 17:26:03,719]\u001B[0m Trial 369 finished with value: 0.7540032463421092 and parameters: {'p': 0.8351250018001402, 'w0': 0.8871549916087288, 'w1': 0.824161123156446}. Best is trial 306 with value: 0.7541874359653263.\u001B[0m\n",
      "\u001B[32m[I 2023-04-10 17:26:03,805]\u001B[0m Trial 370 finished with value: 0.7538881278275985 and parameters: {'p': 1.095157686230991, 'w0': 0.6121207301452412, 'w1': 0.6710122487694411}. Best is trial 306 with value: 0.7541874359653263.\u001B[0m\n",
      "\u001B[32m[I 2023-04-10 17:26:03,890]\u001B[0m Trial 371 finished with value: 0.7538420804217942 and parameters: {'p': 0.20748268617159327, 'w0': 0.8438338517257044, 'w1': 0.4080768705786173}. Best is trial 306 with value: 0.7541874359653263.\u001B[0m\n",
      "\u001B[32m[I 2023-04-10 17:26:03,975]\u001B[0m Trial 372 finished with value: 0.7531782303214494 and parameters: {'p': 1.2407769730962268, 'w0': 0.9514905678652774, 'w1': 0.23430853989709}. Best is trial 306 with value: 0.7541874359653263.\u001B[0m\n",
      "\u001B[32m[I 2023-04-10 17:26:04,051]\u001B[0m Trial 373 finished with value: 0.7538267312865261 and parameters: {'p': -1.3374262699478179, 'w0': 0.7330470796021259, 'w1': 0.7243642951170461}. Best is trial 306 with value: 0.7541874359653263.\u001B[0m\n",
      "\u001B[32m[I 2023-04-10 17:26:04,129]\u001B[0m Trial 374 finished with value: 0.7539149888143176 and parameters: {'p': -1.5385111738291157, 'w0': 0.48712278696876216, 'w1': 0.77031226252398}. Best is trial 306 with value: 0.7541874359653263.\u001B[0m\n",
      "\u001B[32m[I 2023-04-10 17:26:04,206]\u001B[0m Trial 375 finished with value: 0.7539840599230241 and parameters: {'p': -1.176719060846517, 'w0': 0.9050027727631665, 'w1': 0.8586507726726508}. Best is trial 306 with value: 0.7541874359653263.\u001B[0m\n",
      "\u001B[32m[I 2023-04-10 17:26:04,292]\u001B[0m Trial 376 finished with value: 0.7539533616524879 and parameters: {'p': 1.8102972206716497, 'w0': 0.43022228482779007, 'w1': 0.4861264727757764}. Best is trial 306 with value: 0.7541874359653263.\u001B[0m\n",
      "\u001B[32m[I 2023-04-10 17:26:04,378]\u001B[0m Trial 377 finished with value: 0.753792195732173 and parameters: {'p': 0.5313150187347373, 'w0': 0.861207114431252, 'w1': 0.42629197998820506}. Best is trial 306 with value: 0.7541874359653263.\u001B[0m\n",
      "\u001B[32m[I 2023-04-10 17:26:04,454]\u001B[0m Trial 378 finished with value: 0.7538958023952326 and parameters: {'p': -1.9942250477569488, 'w0': 0.4536028887553455, 'w1': 0.7328394397938354}. Best is trial 306 with value: 0.7541874359653263.\u001B[0m\n",
      "\u001B[32m[I 2023-04-10 17:26:04,531]\u001B[0m Trial 379 finished with value: 0.75379603301599 and parameters: {'p': -0.5845536303727497, 'w0': 0.6662141523686982, 'w1': 0.7037406484117046}. Best is trial 306 with value: 0.7541874359653263.\u001B[0m\n",
      "\u001B[32m[I 2023-04-10 17:26:04,609]\u001B[0m Trial 380 finished with value: 0.7539533616524879 and parameters: {'p': -1.4097985179508563, 'w0': 0.527719806882899, 'w1': 0.6597056703272678}. Best is trial 306 with value: 0.7541874359653263.\u001B[0m\n",
      "\u001B[32m[I 2023-04-10 17:26:04,694]\u001B[0m Trial 381 finished with value: 0.7541106902889858 and parameters: {'p': 0.3245609326298079, 'w0': 0.7658499313709219, 'w1': 0.6083028096553601}. Best is trial 306 with value: 0.7541874359653263.\u001B[0m\n",
      "\u001B[32m[I 2023-04-10 17:26:04,772]\u001B[0m Trial 382 finished with value: 0.7538497549894284 and parameters: {'p': -0.09287813245041754, 'w0': 0.8096165625750888, 'w1': 0.8060243081744689}. Best is trial 306 with value: 0.7541874359653263.\u001B[0m\n",
      "\u001B[32m[I 2023-04-10 17:26:04,858]\u001B[0m Trial 383 finished with value: 0.7538842905437815 and parameters: {'p': 0.5371873115699464, 'w0': 0.9385434394279648, 'w1': 0.5781169101350155}. Best is trial 306 with value: 0.7541874359653263.\u001B[0m\n",
      "\u001B[32m[I 2023-04-10 17:26:04,935]\u001B[0m Trial 384 finished with value: 0.7538535922732454 and parameters: {'p': -0.9839910129215228, 'w0': 0.7025361116755006, 'w1': 0.38576269353060927}. Best is trial 306 with value: 0.7541874359653263.\u001B[0m\n",
      "\u001B[32m[I 2023-04-10 17:26:05,021]\u001B[0m Trial 385 finished with value: 0.753799870299807 and parameters: {'p': 0.6765362843075227, 'w0': 0.3919047856898423, 'w1': 0.7498076384305338}. Best is trial 306 with value: 0.7541874359653263.\u001B[0m\n",
      "\u001B[32m[I 2023-04-10 17:26:05,107]\u001B[0m Trial 386 finished with value: 0.7541720868300583 and parameters: {'p': 0.6597824292557075, 'w0': 0.8294894511653176, 'w1': 0.6829386167007393}. Best is trial 306 with value: 0.7541874359653263.\u001B[0m\n",
      "\u001B[32m[I 2023-04-10 17:26:05,184]\u001B[0m Trial 387 finished with value: 0.7541682495462412 and parameters: {'p': -1.2435652610514396, 'w0': 0.8277223710272051, 'w1': 0.6774165452709595}. Best is trial 306 with value: 0.7541874359653263.\u001B[0m\n",
      "\u001B[32m[I 2023-04-10 17:26:05,270]\u001B[0m Trial 388 finished with value: 0.75397638535539 and parameters: {'p': 0.012628887157816765, 'w0': 0.9803447961097174, 'w1': 0.6370922833610039}. Best is trial 306 with value: 0.7541874359653263.\u001B[0m\n",
      "\u001B[32m[I 2023-04-10 17:26:05,357]\u001B[0m Trial 389 finished with value: 0.7539648735039389 and parameters: {'p': 0.38911353835105755, 'w0': 0.7273504947720513, 'w1': 0.6890551807764149}. Best is trial 306 with value: 0.7541874359653263.\u001B[0m\n",
      "\u001B[32m[I 2023-04-10 17:26:05,442]\u001B[0m Trial 390 finished with value: 0.7541644122624241 and parameters: {'p': 0.4647253578304166, 'w0': 0.7972625619862121, 'w1': 0.664296129884661}. Best is trial 306 with value: 0.7541874359653263.\u001B[0m\n",
      "\u001B[32m[I 2023-04-10 17:26:05,529]\u001B[0m Trial 391 finished with value: 0.7540991784375348 and parameters: {'p': 0.6281606165919436, 'w0': 0.8346895640733705, 'w1': 0.7098843510617372}. Best is trial 306 with value: 0.7541874359653263.\u001B[0m\n",
      "\u001B[32m[I 2023-04-10 17:26:05,615]\u001B[0m Trial 392 finished with value: 0.7539188260981347 and parameters: {'p': 1.3654417051557477, 'w0': 0.5526905496513711, 'w1': 0.6508546311107035}. Best is trial 306 with value: 0.7541874359653263.\u001B[0m\n",
      "\u001B[32m[I 2023-04-10 17:26:05,692]\u001B[0m Trial 393 finished with value: 0.753980222639207 and parameters: {'p': -0.8753112704853135, 'w0': 0.5005166986078393, 'w1': 0.4677889265297711}. Best is trial 306 with value: 0.7541874359653263.\u001B[0m\n",
      "\u001B[32m[I 2023-04-10 17:26:05,779]\u001B[0m Trial 394 finished with value: 0.7539955717744752 and parameters: {'p': 0.7720969095387729, 'w0': 0.4464669583271105, 'w1': 0.621696219766551}. Best is trial 306 with value: 0.7541874359653263.\u001B[0m\n",
      "\u001B[32m[I 2023-04-10 17:26:05,864]\u001B[0m Trial 395 finished with value: 0.7540492937479135 and parameters: {'p': 0.49147561715346755, 'w0': 0.6214402433587043, 'w1': 0.4396483436700683}. Best is trial 306 with value: 0.7541874359653263.\u001B[0m\n",
      "\u001B[32m[I 2023-04-10 17:26:05,950]\u001B[0m Trial 396 finished with value: 0.7538152194350751 and parameters: {'p': 0.7224283457087128, 'w0': 0.7851642457682357, 'w1': 0.41621998093319784}. Best is trial 306 with value: 0.7541874359653263.\u001B[0m\n",
      "\u001B[32m[I 2023-04-10 17:26:06,036]\u001B[0m Trial 397 finished with value: 0.7539188260981347 and parameters: {'p': 1.5089650962865466, 'w0': 0.4789365621769316, 'w1': 0.6845005868493452}. Best is trial 306 with value: 0.7541874359653263.\u001B[0m\n",
      "\u001B[32m[I 2023-04-10 17:26:06,122]\u001B[0m Trial 398 finished with value: 0.7536617280823942 and parameters: {'p': 0.9919392516334506, 'w0': 0.8586347646014604, 'w1': 0.35303736202656244}. Best is trial 306 with value: 0.7541874359653263.\u001B[0m\n",
      "\u001B[32m[I 2023-04-10 17:26:06,209]\u001B[0m Trial 399 finished with value: 0.7540876665860837 and parameters: {'p': 0.655780498720309, 'w0': 0.8174080400152117, 'w1': 0.7033099578419268}. Best is trial 306 with value: 0.7541874359653263.\u001B[0m\n",
      "\u001B[32m[I 2023-04-10 17:26:06,295]\u001B[0m Trial 400 finished with value: 0.7539687107877561 and parameters: {'p': 0.8410443331513191, 'w0': 0.6487576425833625, 'w1': 0.845986522102642}. Best is trial 306 with value: 0.7541874359653263.\u001B[0m\n",
      "\u001B[32m[I 2023-04-10 17:26:06,381]\u001B[0m Trial 401 finished with value: 0.7529441560086109 and parameters: {'p': 1.126932961662958, 'w0': 0.9136834638848456, 'w1': 0.16185688001470966}. Best is trial 306 with value: 0.7541874359653263.\u001B[0m\n",
      "\u001B[32m[I 2023-04-10 17:26:06,467]\u001B[0m Trial 402 finished with value: 0.754152900410973 and parameters: {'p': 0.8852248422541114, 'w0': 0.8819197492865585, 'w1': 0.7211215719660162}. Best is trial 306 with value: 0.7541874359653263.\u001B[0m\n",
      "\u001B[32m[I 2023-04-10 17:26:06,553]\u001B[0m Trial 403 finished with value: 0.7537806838807218 and parameters: {'p': 0.41703767953635557, 'w0': 0.8405818248761904, 'w1': 0.8878491685485164}. Best is trial 306 with value: 0.7541874359653263.\u001B[0m\n",
      "\u001B[32m[I 2023-04-10 17:26:06,638]\u001B[0m Trial 404 finished with value: 0.7539380125172198 and parameters: {'p': 0.7779831447036101, 'w0': 0.5195604688881946, 'w1': 0.49710413503297574}. Best is trial 306 with value: 0.7541874359653263.\u001B[0m\n",
      "\u001B[32m[I 2023-04-10 17:26:06,724]\u001B[0m Trial 405 finished with value: 0.7539917344906581 and parameters: {'p': 0.9372439070107104, 'w0': 0.5933692883338687, 'w1': 0.40301507087605054}. Best is trial 306 with value: 0.7541874359653263.\u001B[0m\n",
      "\u001B[32m[I 2023-04-10 17:26:06,809]\u001B[0m Trial 406 finished with value: 0.7538881278275985 and parameters: {'p': 0.2711371905858505, 'w0': 0.9562169732893573, 'w1': 0.5511633071469829}. Best is trial 306 with value: 0.7541874359653263.\u001B[0m\n",
      "\u001B[32m[I 2023-04-10 17:26:06,887]\u001B[0m Trial 407 finished with value: 0.753972548071573 and parameters: {'p': -1.4770599330060725, 'w0': 0.998701034810894, 'w1': 0.6689606902262624}. Best is trial 306 with value: 0.7541874359653263.\u001B[0m\n",
      "\u001B[32m[I 2023-04-10 17:26:06,973]\u001B[0m Trial 408 finished with value: 0.7537499856101857 and parameters: {'p': 0.08995807455692051, 'w0': 0.8956837025890428, 'w1': 0.3707817236614353}. Best is trial 306 with value: 0.7541874359653263.\u001B[0m\n",
      "\u001B[32m[I 2023-04-10 17:26:07,059]\u001B[0m Trial 409 finished with value: 0.7537538228940027 and parameters: {'p': 1.0153540352515147, 'w0': 0.8694057202835169, 'w1': 0.9165260514152873}. Best is trial 306 with value: 0.7541874359653263.\u001B[0m\n",
      "\u001B[32m[I 2023-04-10 17:26:07,145]\u001B[0m Trial 410 finished with value: 0.753945687084854 and parameters: {'p': 0.5671333697624434, 'w0': 0.5685212784084647, 'w1': 0.646561439179896}. Best is trial 306 with value: 0.7541874359653263.\u001B[0m\n",
      "\u001B[32m[I 2023-04-10 17:26:07,232]\u001B[0m Trial 411 finished with value: 0.7539380125172198 and parameters: {'p': 0.20165115294916053, 'w0': 0.8110215429845896, 'w1': 0.77398819314503}. Best is trial 306 with value: 0.7541874359653263.\u001B[0m\n",
      "\u001B[32m[I 2023-04-10 17:26:07,318]\u001B[0m Trial 412 finished with value: 0.7538305685703431 and parameters: {'p': 0.2743157063587057, 'w0': 0.9304544708416396, 'w1': 0.4532624646596303}. Best is trial 306 with value: 0.7541874359653263.\u001B[0m\n",
      "\u001B[32m[I 2023-04-10 17:26:07,404]\u001B[0m Trial 413 finished with value: 0.7540185954773773 and parameters: {'p': 1.2702127316496041, 'w0': 0.7671377143794177, 'w1': 0.7024390935742137}. Best is trial 306 with value: 0.7541874359653263.\u001B[0m\n",
      "\u001B[32m[I 2023-04-10 17:26:07,490]\u001B[0m Trial 414 finished with value: 0.7538651041246965 and parameters: {'p': 1.6597706747629921, 'w0': 0.5375735728577363, 'w1': 0.7294477580025428}. Best is trial 306 with value: 0.7541874359653263.\u001B[0m\n",
      "\u001B[32m[I 2023-04-10 17:26:07,568]\u001B[0m Trial 415 finished with value: 0.7538420804217942 and parameters: {'p': -1.0627038102042299, 'w0': 0.27445400539532244, 'w1': 0.516156461580122}. Best is trial 306 with value: 0.7541874359653263.\u001B[0m\n",
      "\u001B[32m[I 2023-04-10 17:26:07,645]\u001B[0m Trial 416 finished with value: 0.7540109209097432 and parameters: {'p': -0.03216294851318613, 'w0': 0.397838287186017, 'w1': 0.5933258117164382}. Best is trial 306 with value: 0.7541874359653263.\u001B[0m\n",
      "\u001B[32m[I 2023-04-10 17:26:07,732]\u001B[0m Trial 417 finished with value: 0.7541644122624241 and parameters: {'p': 1.3035071922713437, 'w0': 0.8368339873149575, 'w1': 0.6870353596380117}. Best is trial 306 with value: 0.7541874359653263.\u001B[0m\n",
      "\u001B[32m[I 2023-04-10 17:26:07,819]\u001B[0m Trial 418 finished with value: 0.7538996396790496 and parameters: {'p': 0.6492426073102242, 'w0': 0.42964310806522626, 'w1': 0.7913315543205564}. Best is trial 306 with value: 0.7541874359653263.\u001B[0m\n",
      "\u001B[32m[I 2023-04-10 17:26:07,905]\u001B[0m Trial 419 finished with value: 0.7535773078384198 and parameters: {'p': 1.4868222142074543, 'w0': 0.8523664687161603, 'w1': 0.32602693894939416}. Best is trial 306 with value: 0.7541874359653263.\u001B[0m\n",
      "\u001B[32m[I 2023-04-10 17:26:07,982]\u001B[0m Trial 420 finished with value: 0.7541030157213517 and parameters: {'p': -1.647015799771665, 'w0': 0.4948537083309502, 'w1': 0.4317957905936785}. Best is trial 306 with value: 0.7541874359653263.\u001B[0m\n",
      "\u001B[32m[I 2023-04-10 17:26:08,060]\u001B[0m Trial 421 finished with value: 0.7541644122624241 and parameters: {'p': -0.4390804875824159, 'w0': 0.9705581196374148, 'w1': 0.7499731900385839}. Best is trial 306 with value: 0.7541874359653263.\u001B[0m\n",
      "\u001B[32m[I 2023-04-10 17:26:08,138]\u001B[0m Trial 422 finished with value: 0.7540032463421092 and parameters: {'p': -0.2305406519164505, 'w0': 0.463580569548619, 'w1': 0.6570431512111663}. Best is trial 306 with value: 0.7541874359653263.\u001B[0m\n",
      "\u001B[32m[I 2023-04-10 17:26:08,216]\u001B[0m Trial 423 finished with value: 0.7536924263529304 and parameters: {'p': -1.3183440064450267, 'w0': 0.9122694748057856, 'w1': 0.3822156452009446}. Best is trial 306 with value: 0.7541874359653263.\u001B[0m\n",
      "\u001B[32m[I 2023-04-10 17:26:08,294]\u001B[0m Trial 424 finished with value: 0.7541030157213517 and parameters: {'p': -0.7036791591986353, 'w0': 0.794743494074183, 'w1': 0.6888508232259167}. Best is trial 306 with value: 0.7541874359653263.\u001B[0m\n",
      "\u001B[32m[I 2023-04-10 17:26:08,381]\u001B[0m Trial 425 finished with value: 0.7540684801669986 and parameters: {'p': 1.1772589129436393, 'w0': 0.8862097347371687, 'w1': 0.6186352232768111}. Best is trial 306 with value: 0.7541874359653263.\u001B[0m\n",
      "\u001B[32m[I 2023-04-10 17:26:08,459]\u001B[0m Trial 426 finished with value: 0.753980222639207 and parameters: {'p': -0.6212898621453659, 'w0': 0.8676552065994495, 'w1': 0.8237676551551277}. Best is trial 306 with value: 0.7541874359653263.\u001B[0m\n",
      "\u001B[32m[I 2023-04-10 17:26:08,546]\u001B[0m Trial 427 finished with value: 0.7539073142466837 and parameters: {'p': 1.4164275784772071, 'w0': 0.7257792133806592, 'w1': 0.7108470583981628}. Best is trial 306 with value: 0.7541874359653263.\u001B[0m\n",
      "\u001B[32m[I 2023-04-10 17:26:08,631]\u001B[0m Trial 428 finished with value: 0.7538497549894284 and parameters: {'p': 0.3343542722226447, 'w0': 0.9413701846902135, 'w1': 0.40821145544067655}. Best is trial 306 with value: 0.7541874359653263.\u001B[0m\n",
      "\u001B[32m[I 2023-04-10 17:26:08,716]\u001B[0m Trial 429 finished with value: 0.7540109209097432 and parameters: {'p': 0.1600000852645312, 'w0': 0.5106856575578327, 'w1': 0.6687958421950093}. Best is trial 306 with value: 0.7541874359653263.\u001B[0m\n",
      "\u001B[32m[I 2023-04-10 17:26:08,794]\u001B[0m Trial 430 finished with value: 0.7541145275728027 and parameters: {'p': -1.9108803225220532, 'w0': 0.5482498924763445, 'w1': 0.4703985401014864}. Best is trial 306 with value: 0.7541874359653263.\u001B[0m\n",
      "\u001B[32m[I 2023-04-10 17:26:08,873]\u001B[0m Trial 431 finished with value: 0.7540224327611942 and parameters: {'p': -0.33196462957220285, 'w0': 0.8249063682347689, 'w1': 0.5678678898969733}. Best is trial 306 with value: 0.7541874359653263.\u001B[0m\n",
      "\u001B[32m[I 2023-04-10 17:26:08,960]\u001B[0m Trial 432 finished with value: 0.7540915038699008 and parameters: {'p': 0.4861649878246286, 'w0': 0.8516201253383847, 'w1': 0.7307323175184605}. Best is trial 306 with value: 0.7541874359653263.\u001B[0m\n",
      "\u001B[32m[I 2023-04-10 17:26:09,037]\u001B[0m Trial 433 finished with value: 0.7538766159761474 and parameters: {'p': -1.5574289894894395, 'w0': 0.6921394801043699, 'w1': 0.7557378343216633}. Best is trial 306 with value: 0.7541874359653263.\u001B[0m\n",
      "\u001B[32m[I 2023-04-10 17:26:09,123]\u001B[0m Trial 434 finished with value: 0.7540953411537178 and parameters: {'p': 1.0993055474416251, 'w0': 0.8978098974978674, 'w1': 0.6391706296805301}. Best is trial 306 with value: 0.7541874359653263.\u001B[0m\n",
      "\u001B[32m[I 2023-04-10 17:26:09,210]\u001B[0m Trial 435 finished with value: 0.7538689414085133 and parameters: {'p': 1.7646334660923237, 'w0': 0.47530717209879636, 'w1': 0.8588762860420559}. Best is trial 306 with value: 0.7541874359653263.\u001B[0m\n",
      "\u001B[32m[I 2023-04-10 17:26:09,288]\u001B[0m Trial 436 finished with value: 0.7538267312865261 and parameters: {'p': -1.1156746960301394, 'w0': 0.784042304652846, 'w1': 0.4223137925332773}. Best is trial 306 with value: 0.7541874359653263.\u001B[0m\n",
      "\u001B[32m[I 2023-04-10 17:26:09,366]\u001B[0m Trial 437 finished with value: 0.7541490631271562 and parameters: {'p': -1.4354871475110802, 'w0': 0.9223440266373155, 'w1': 0.7801515236677906}. Best is trial 306 with value: 0.7541874359653263.\u001B[0m\n",
      "\u001B[32m[I 2023-04-10 17:26:09,453]\u001B[0m Trial 438 finished with value: 0.7539303379495857 and parameters: {'p': 1.7045031824684451, 'w0': 0.5252163233573504, 'w1': 0.6833859711690095}. Best is trial 306 with value: 0.7541874359653263.\u001B[0m\n",
      "\u001B[32m[I 2023-04-10 17:26:09,540]\u001B[0m Trial 439 finished with value: 0.7539994090582923 and parameters: {'p': 1.850613376580526, 'w0': 0.8052896628109902, 'w1': 0.5275588423794654}. Best is trial 306 with value: 0.7541874359653263.\u001B[0m\n",
      "\u001B[32m[I 2023-04-10 17:26:09,618]\u001B[0m Trial 440 finished with value: 0.7538075448674411 and parameters: {'p': -0.13205302756847903, 'w0': 0.8715530548612711, 'w1': 0.9419658371567254}. Best is trial 306 with value: 0.7541874359653263.\u001B[0m\n",
      "\u001B[32m[I 2023-04-10 17:26:09,696]\u001B[0m Trial 441 finished with value: 0.7538881278275985 and parameters: {'p': -1.7093394255304295, 'w0': 0.7453381993768285, 'w1': 0.44580193403148743}. Best is trial 306 with value: 0.7541874359653263.\u001B[0m\n",
      "\u001B[32m[I 2023-04-10 17:26:09,782]\u001B[0m Trial 442 finished with value: 0.7537883584483559 and parameters: {'p': 0.7989556740800818, 'w0': 0.37826506916613784, 'w1': 0.7168845593604888}. Best is trial 306 with value: 0.7541874359653263.\u001B[0m\n",
      "\u001B[32m[I 2023-04-10 17:26:09,869]\u001B[0m Trial 443 finished with value: 0.7538497549894284 and parameters: {'p': 1.0413510398073313, 'w0': 0.4122507199909555, 'w1': 0.8017868763545432}. Best is trial 306 with value: 0.7541874359653263.\u001B[0m\n",
      "\u001B[32m[I 2023-04-10 17:26:09,947]\u001B[0m Trial 444 finished with value: 0.7536809145014792 and parameters: {'p': -0.8171398911366575, 'w0': 0.16452265177423542, 'w1': 0.3610718038981521}. Best is trial 306 with value: 0.7541874359653263.\u001B[0m\n",
      "\u001B[32m[I 2023-04-10 17:26:10,024]\u001B[0m Trial 445 finished with value: 0.7541068530051688 and parameters: {'p': -1.843226369838832, 'w0': 0.8344003147417443, 'w1': 0.6540586437522243}. Best is trial 306 with value: 0.7541874359653263.\u001B[0m\n",
      "\u001B[32m[I 2023-04-10 17:26:10,103]\u001B[0m Trial 446 finished with value: 0.7540109209097432 and parameters: {'p': -1.0013782820853243, 'w0': 0.5818597134869548, 'w1': 0.39568723873459444}. Best is trial 306 with value: 0.7541874359653263.\u001B[0m\n",
      "\u001B[32m[I 2023-04-10 17:26:10,190]\u001B[0m Trial 447 finished with value: 0.7540723174508156 and parameters: {'p': 1.9093617223424566, 'w0': 0.9567649818894008, 'w1': 0.6942762506130571}. Best is trial 306 with value: 0.7541874359653263.\u001B[0m\n",
      "\u001B[32m[I 2023-04-10 17:26:10,277]\u001B[0m Trial 448 finished with value: 0.7538152194350751 and parameters: {'p': 0.8409746428163603, 'w0': 0.44948806135544783, 'w1': 0.7479692982301591}. Best is trial 306 with value: 0.7541874359653263.\u001B[0m\n",
      "\u001B[32m[I 2023-04-10 17:26:10,355]\u001B[0m Trial 449 finished with value: 0.7538344058541602 and parameters: {'p': -1.6401450105124797, 'w0': 0.6779919017438156, 'w1': 0.669423665604219}. Best is trial 306 with value: 0.7541874359653263.\u001B[0m\n",
      "\u001B[32m[I 2023-04-10 17:26:10,442]\u001B[0m Trial 450 finished with value: 0.7533278843903132 and parameters: {'p': 1.7450880839237184, 'w0': 0.9027012460089548, 'w1': 0.2962058692682116}. Best is trial 306 with value: 0.7541874359653263.\u001B[0m\n",
      "\u001B[32m[I 2023-04-10 17:26:10,520]\u001B[0m Trial 451 finished with value: 0.7540032463421092 and parameters: {'p': -1.21053498160726, 'w0': 0.3590744439408238, 'w1': 0.5381933614674237}. Best is trial 306 with value: 0.7541874359653263.\u001B[0m\n",
      "\u001B[32m[I 2023-04-10 17:26:10,606]\u001B[0m Trial 452 finished with value: 0.7539034769628666 and parameters: {'p': 1.5649693751341807, 'w0': 0.4977830305088273, 'w1': 0.7249591400644064}. Best is trial 306 with value: 0.7541874359653263.\u001B[0m\n",
      "\u001B[32m[I 2023-04-10 17:26:10,685]\u001B[0m Trial 453 finished with value: 0.7538228940027091 and parameters: {'p': -1.773292649606859, 'w0': 0.3188060599601389, 'w1': 0.627877799040673}. Best is trial 306 with value: 0.7541874359653263.\u001B[0m\n",
      "\u001B[32m[I 2023-04-10 17:26:10,764]\u001B[0m Trial 454 finished with value: 0.753646378947126 and parameters: {'p': -1.5209048127741351, 'w0': 0.8161484072878881, 'w1': 0.3392455443330551}. Best is trial 306 with value: 0.7541874359653263.\u001B[0m\n",
      "\u001B[32m[I 2023-04-10 17:26:10,850]\u001B[0m Trial 455 finished with value: 0.7539418498010367 and parameters: {'p': 1.2614078117389185, 'w0': 0.6549683079900358, 'w1': 0.7672373166836004}. Best is trial 306 with value: 0.7541874359653263.\u001B[0m\n",
      "\u001B[32m[I 2023-04-10 17:26:10,937]\u001B[0m Trial 456 finished with value: 0.7540915038699008 and parameters: {'p': 0.10008589108674969, 'w0': 0.8843570661494533, 'w1': 0.705453853855947}. Best is trial 306 with value: 0.7541874359653263.\u001B[0m\n",
      "\u001B[32m[I 2023-04-10 17:26:11,015]\u001B[0m Trial 457 finished with value: 0.7533662572284833 and parameters: {'p': -0.20282302706598265, 'w0': 0.8519081937425118, 'w1': 0.26556850145355754}. Best is trial 306 with value: 0.7541874359653263.\u001B[0m\n",
      "\u001B[32m[I 2023-04-10 17:26:11,103]\u001B[0m Trial 458 finished with value: 0.7537845211645389 and parameters: {'p': 0.9198616213210262, 'w0': 0.9748280475696893, 'w1': 0.4222542236787318}. Best is trial 306 with value: 0.7541874359653263.\u001B[0m\n",
      "\u001B[32m[I 2023-04-10 17:26:11,189]\u001B[0m Trial 459 finished with value: 0.7540915038699008 and parameters: {'p': 0.6952430248292987, 'w0': 0.9425806350569292, 'w1': 0.8288883422488608}. Best is trial 306 with value: 0.7541874359653263.\u001B[0m\n",
      "\u001B[32m[I 2023-04-10 17:26:11,267]\u001B[0m Trial 460 finished with value: 0.7538267312865261 and parameters: {'p': -0.9101983839805434, 'w0': 0.9165626550166427, 'w1': 0.4607057329265179}. Best is trial 306 with value: 0.7541874359653263.\u001B[0m\n",
      "\u001B[32m[I 2023-04-10 17:26:11,345]\u001B[0m Trial 461 finished with value: 0.7539994090582923 and parameters: {'p': -1.3554216097062068, 'w0': 0.5657643706776159, 'w1': 0.7367600884507913}. Best is trial 306 with value: 0.7541874359653263.\u001B[0m\n",
      "\u001B[32m[I 2023-04-10 17:26:11,424]\u001B[0m Trial 462 finished with value: 0.7539380125172198 and parameters: {'p': -1.935606684114418, 'w0': 0.4295316942031263, 'w1': 0.48660218446178}. Best is trial 306 with value: 0.7541874359653263.\u001B[0m\n",
      "\u001B[32m[I 2023-04-10 17:26:11,503]\u001B[0m Trial 463 finished with value: 0.753980222639207 and parameters: {'p': -1.5854082126996745, 'w0': 0.47706467722282636, 'w1': 0.6782407902527585}. Best is trial 306 with value: 0.7541874359653263.\u001B[0m\n",
      "\u001B[32m[I 2023-04-10 17:26:11,581]\u001B[0m Trial 464 finished with value: 0.7540224327611942 and parameters: {'p': -1.7170850352265155, 'w0': 0.5365683647308978, 'w1': 0.3695095124425012}. Best is trial 306 with value: 0.7541874359653263.\u001B[0m\n",
      "\u001B[32m[I 2023-04-10 17:26:11,660]\u001B[0m Trial 465 finished with value: 0.753957198936305 and parameters: {'p': -0.7663189014829516, 'w0': 0.7649262577055083, 'w1': 0.887330144020231}. Best is trial 306 with value: 0.7541874359653263.\u001B[0m\n",
      "\u001B[32m[I 2023-04-10 17:26:11,739]\u001B[0m Trial 466 finished with value: 0.7539034769628666 and parameters: {'p': -1.415047915571715, 'w0': 0.3336335307263209, 'w1': 0.39171426832228823}. Best is trial 306 with value: 0.7541874359653263.\u001B[0m\n",
      "\u001B[32m[I 2023-04-10 17:26:11,826]\u001B[0m Trial 467 finished with value: 0.7537845211645389 and parameters: {'p': 1.165311881899349, 'w0': 0.6224617224723216, 'w1': 0.644938333796643}. Best is trial 306 with value: 0.7541874359653263.\u001B[0m\n",
      "\u001B[32m[I 2023-04-10 17:26:11,914]\u001B[0m Trial 468 finished with value: 0.7541605749786071 and parameters: {'p': 0.38428785344041616, 'w0': 0.8621643166944332, 'w1': 0.6971419232448015}. Best is trial 306 with value: 0.7541874359653263.\u001B[0m\n",
      "\u001B[32m[I 2023-04-10 17:26:11,992]\u001B[0m Trial 469 finished with value: 0.7541490631271562 and parameters: {'p': -1.2701215232812666, 'w0': 0.7021511790638004, 'w1': 0.5861247995919596}. Best is trial 306 with value: 0.7541874359653263.\u001B[0m\n",
      "\u001B[32m[I 2023-04-10 17:26:12,080]\u001B[0m Trial 470 finished with value: 0.753972548071573 and parameters: {'p': 1.4120641293370153, 'w0': 0.8354596743773295, 'w1': 0.975786590460102}. Best is trial 306 with value: 0.7541874359653263.\u001B[0m\n",
      "\u001B[32m[I 2023-04-10 17:26:12,158]\u001B[0m Trial 471 finished with value: 0.7541068530051688 and parameters: {'p': -1.8372818575627843, 'w0': 0.8827952317908706, 'w1': 0.7753652294026734}. Best is trial 306 with value: 0.7541874359653263.\u001B[0m\n",
      "\u001B[32m[I 2023-04-10 17:26:12,245]\u001B[0m Trial 472 finished with value: 0.7541452258433391 and parameters: {'p': 1.6858441909684367, 'w0': 0.5146276710075558, 'w1': 0.43278458159283906}. Best is trial 306 with value: 0.7541874359653263.\u001B[0m\n",
      "\u001B[32m[I 2023-04-10 17:26:12,331]\u001B[0m Trial 473 finished with value: 0.7538152194350751 and parameters: {'p': 1.904405747216392, 'w0': 0.3710980015379773, 'w1': 0.5007243711273704}. Best is trial 306 with value: 0.7541874359653263.\u001B[0m\n",
      "\u001B[32m[I 2023-04-10 17:26:12,418]\u001B[0m Trial 474 finished with value: 0.7541030157213517 and parameters: {'p': 0.04171592747235406, 'w0': 0.8015546574886082, 'w1': 0.6051300412158358}. Best is trial 306 with value: 0.7541874359653263.\u001B[0m\n",
      "\u001B[32m[I 2023-04-10 17:26:12,497]\u001B[0m Trial 475 finished with value: 0.754126039424254 and parameters: {'p': -1.9981836023343562, 'w0': 0.905928765842604, 'w1': 0.8077859289847809}. Best is trial 306 with value: 0.7541874359653263.\u001B[0m\n",
      "\u001B[32m[I 2023-04-10 17:26:12,576]\u001B[0m Trial 476 finished with value: 0.754152900410973 and parameters: {'p': -1.1708188760785085, 'w0': 0.9307634774954539, 'w1': 0.7150389273966615}. Best is trial 306 with value: 0.7541874359653263.\u001B[0m\n",
      "\u001B[32m[I 2023-04-10 17:26:12,655]\u001B[0m Trial 477 finished with value: 0.7541759241138751 and parameters: {'p': -0.47948261602242986, 'w0': 0.8246949294998844, 'w1': 0.6728428958254241}. Best is trial 306 with value: 0.7541874359653263.\u001B[0m\n",
      "\u001B[32m[I 2023-04-10 17:26:12,734]\u001B[0m Trial 478 finished with value: 0.754152900410973 and parameters: {'p': -0.3599454646233118, 'w0': 0.8285824848246846, 'w1': 0.6666572384945714}. Best is trial 306 with value: 0.7541874359653263.\u001B[0m\n",
      "\u001B[32m[I 2023-04-10 17:26:12,812]\u001B[0m Trial 479 finished with value: 0.7541452258433391 and parameters: {'p': -0.8176296350326063, 'w0': 0.8496853953421083, 'w1': 0.6485208589868651}. Best is trial 306 with value: 0.7541874359653263.\u001B[0m\n",
      "\u001B[32m[I 2023-04-10 17:26:12,891]\u001B[0m Trial 480 finished with value: 0.7540953411537178 and parameters: {'p': -0.9424663035725919, 'w0': 0.7787787132576651, 'w1': 0.6783172910363805}. Best is trial 306 with value: 0.7541874359653263.\u001B[0m\n",
      "\u001B[32m[I 2023-04-10 17:26:12,978]\u001B[0m Trial 481 finished with value: 0.7541145275728027 and parameters: {'p': -0.6901452837211215, 'w0': 0.8143941927265455, 'w1': 0.6989389067651639}. Best is trial 306 with value: 0.7541874359653263.\u001B[0m\n",
      "\u001B[32m[I 2023-04-10 17:26:13,056]\u001B[0m Trial 482 finished with value: 0.754126039424254 and parameters: {'p': -0.48557384907676937, 'w0': 0.8691129664782441, 'w1': 0.7387251914396307}. Best is trial 306 with value: 0.7541874359653263.\u001B[0m\n",
      "\u001B[32m[I 2023-04-10 17:26:13,135]\u001B[0m Trial 483 finished with value: 0.753972548071573 and parameters: {'p': -1.082974292099443, 'w0': 0.9810028861262984, 'w1': 0.6583366422516649}. Best is trial 306 with value: 0.7541874359653263.\u001B[0m\n",
      "\u001B[32m[I 2023-04-10 17:26:13,222]\u001B[0m Trial 484 finished with value: 0.7541452258433391 and parameters: {'p': 1.6495292783775324, 'w0': 0.7893696567712685, 'w1': 0.6321460086813322}. Best is trial 306 with value: 0.7541874359653263.\u001B[0m\n",
      "\u001B[32m[I 2023-04-10 17:26:13,301]\u001B[0m Trial 485 finished with value: 0.7541567376947901 and parameters: {'p': -0.5099909313964244, 'w0': 0.8393854335774686, 'w1': 0.6830911097156057}. Best is trial 306 with value: 0.7541874359653263.\u001B[0m\n",
      "\u001B[32m[I 2023-04-10 17:26:13,389]\u001B[0m Trial 486 finished with value: 0.7540492937479135 and parameters: {'p': 1.6041281536393375, 'w0': 0.8234746757966908, 'w1': 0.7578946355984135}. Best is trial 306 with value: 0.7541874359653263.\u001B[0m\n",
      "\u001B[32m[I 2023-04-10 17:26:13,468]\u001B[0m Trial 487 finished with value: 0.7541490631271562 and parameters: {'p': -0.538929907357869, 'w0': 0.8961362124025573, 'w1': 0.7199818900926578}. Best is trial 306 with value: 0.7541874359653263.\u001B[0m\n",
      "\u001B[32m[I 2023-04-10 17:26:13,548]\u001B[0m Trial 488 finished with value: 0.7539073142466837 and parameters: {'p': -0.6177093770417292, 'w0': 0.872593209077065, 'w1': 0.8511705492118041}. Best is trial 306 with value: 0.7541874359653263.\u001B[0m\n",
      "\u001B[32m[I 2023-04-10 17:26:13,635]\u001B[0m Trial 489 finished with value: 0.7528981086028067 and parameters: {'p': 0.5202715387253373, 'w0': 0.4139914424450103, 'w1': 0.07655487410315764}. Best is trial 306 with value: 0.7541874359653263.\u001B[0m\n",
      "\u001B[32m[I 2023-04-10 17:26:13,713]\u001B[0m Trial 490 finished with value: 0.7540492937479135 and parameters: {'p': -0.2564161641991441, 'w0': 0.9565207746805925, 'w1': 0.6926455043667831}. Best is trial 306 with value: 0.7541874359653263.\u001B[0m\n",
      "\u001B[32m[I 2023-04-10 17:26:13,800]\u001B[0m Trial 491 finished with value: 0.7530669490907556 and parameters: {'p': 1.5070861300727287, 'w0': 0.8466465443481399, 'w1': 0.20206907191641632}. Best is trial 306 with value: 0.7541874359653263.\u001B[0m\n",
      "\u001B[32m[I 2023-04-10 17:26:13,879]\u001B[0m Trial 492 finished with value: 0.7541682495462412 and parameters: {'p': -0.37640806331587284, 'w0': 0.8061011775375047, 'w1': 0.6211902812705856}. Best is trial 306 with value: 0.7541874359653263.\u001B[0m\n",
      "\u001B[32m[I 2023-04-10 17:26:13,967]\u001B[0m Trial 493 finished with value: 0.7538228940027091 and parameters: {'p': 0.9476525217391829, 'w0': 0.6783051845318973, 'w1': 0.31942925136380385}. Best is trial 306 with value: 0.7541874359653263.\u001B[0m\n",
      "\u001B[32m[I 2023-04-10 17:26:14,054]\u001B[0m Trial 494 finished with value: 0.7537806838807218 and parameters: {'p': 1.08008544737433, 'w0': 0.6428091754988563, 'w1': 0.6702657201844406}. Best is trial 306 with value: 0.7541874359653263.\u001B[0m\n",
      "\u001B[32m[I 2023-04-10 17:26:14,143]\u001B[0m Trial 495 finished with value: 0.754137551275705 and parameters: {'p': 0.6332592999138891, 'w0': 0.9279097543074042, 'w1': 0.7857451417512478}. Best is trial 306 with value: 0.7541874359653263.\u001B[0m\n",
      "\u001B[32m[I 2023-04-10 17:26:14,231]\u001B[0m Trial 496 finished with value: 0.7539034769628666 and parameters: {'p': 1.8625009592907218, 'w0': 0.3867988124959158, 'w1': 0.7099673828024333}. Best is trial 306 with value: 0.7541874359653263.\u001B[0m\n",
      "\u001B[32m[I 2023-04-10 17:26:14,310]\u001B[0m Trial 497 finished with value: 0.7539265006657686 and parameters: {'p': -1.6609171911244736, 'w0': 0.4662278980432616, 'w1': 0.7407446142719275}. Best is trial 306 with value: 0.7541874359653263.\u001B[0m\n",
      "\u001B[32m[I 2023-04-10 17:26:14,398]\u001B[0m Trial 498 finished with value: 0.753957198936305 and parameters: {'p': 1.1882443302245735, 'w0': 0.7583076097222406, 'w1': 0.9039620244073793}. Best is trial 306 with value: 0.7541874359653263.\u001B[0m\n",
      "\u001B[32m[I 2023-04-10 17:26:14,477]\u001B[0m Trial 499 finished with value: 0.7539418498010367 and parameters: {'p': -0.73734922614757, 'w0': 0.8855572042202612, 'w1': 0.5503951640202285}. Best is trial 306 with value: 0.7541874359653263.\u001B[0m\n"
     ]
    }
   ],
   "source": [
    "# X_prob = np.stack([y_catboost, y_lightgbm])\n",
    "X_prob = np.stack([\n",
    "    y_catboost_1, y_catboost_2, y_catboost_3, y_catboost_3_2,\n",
    "    y_lightgbm_1, y_lightgbm_2, y_lightgbm_3\n",
    "])\n",
    "y_prob_test = np.stack([\n",
    "    y_catboost_1_test, y_catboost_2_test, y_catboost_3_test, y_catboost_3_2_test,\n",
    "    y_lightgbm_1_test, y_lightgbm_2_test, y_lightgbm_3_test\n",
    "])\n",
    "\n",
    "gmb = GeneralizedMeanBlender()\n",
    "gmb.fit(X_prob, y, n_trials=10000)"
   ],
   "metadata": {
    "collapsed": false
   }
  },
  {
   "cell_type": "code",
   "execution_count": 226,
   "outputs": [
    {
     "data": {
      "text/plain": "0.7541567376947901"
     },
     "execution_count": 226,
     "metadata": {},
     "output_type": "execute_result"
    }
   ],
   "source": [
    "f1_score(y, gmb.transform(X_prob), average='micro')"
   ],
   "metadata": {
    "collapsed": false
   }
  },
  {
   "cell_type": "code",
   "execution_count": 225,
   "outputs": [
    {
     "name": "stdout",
     "output_type": "stream",
     "text": [
      "[0.56376082 0.43623918] 1.9006709774195878\n"
     ]
    }
   ],
   "source": [
    "print(gmb.weights, gmb.p)"
   ],
   "metadata": {
    "collapsed": false
   }
  },
  {
   "cell_type": "code",
   "execution_count": 194,
   "outputs": [
    {
     "data": {
      "application/vnd.plotly.v1+json": {
       "data": [
        {
         "cliponaxis": false,
         "hovertemplate": [
          "p (FloatDistribution): 0.015331534802664816<extra></extra>",
          "w2 (FloatDistribution): 0.018210835964189785<extra></extra>",
          "w5 (FloatDistribution): 0.032129282835693884<extra></extra>",
          "w1 (FloatDistribution): 0.043368508268540495<extra></extra>",
          "w4 (FloatDistribution): 0.0760781289009331<extra></extra>",
          "w0 (FloatDistribution): 0.15058439121534703<extra></extra>",
          "w3 (FloatDistribution): 0.20553097210186239<extra></extra>",
          "w6 (FloatDistribution): 0.45876634591076854<extra></extra>"
         ],
         "marker": {
          "color": "rgb(66,146,198)"
         },
         "orientation": "h",
         "text": [
          "0.02",
          "0.02",
          "0.03",
          "0.04",
          "0.08",
          "0.15",
          "0.21",
          "0.46"
         ],
         "textposition": "outside",
         "x": [
          0.015331534802664816,
          0.018210835964189785,
          0.032129282835693884,
          0.043368508268540495,
          0.0760781289009331,
          0.15058439121534703,
          0.20553097210186239,
          0.45876634591076854
         ],
         "y": [
          "p",
          "w2",
          "w5",
          "w1",
          "w4",
          "w0",
          "w3",
          "w6"
         ],
         "type": "bar"
        }
       ],
       "layout": {
        "showlegend": false,
        "title": {
         "text": "Hyperparameter Importances"
        },
        "xaxis": {
         "title": {
          "text": "Importance for Objective Value"
         }
        },
        "yaxis": {
         "title": {
          "text": "Hyperparameter"
         }
        },
        "template": {
         "data": {
          "histogram2dcontour": [
           {
            "type": "histogram2dcontour",
            "colorbar": {
             "outlinewidth": 0,
             "ticks": ""
            },
            "colorscale": [
             [
              0.0,
              "#0d0887"
             ],
             [
              0.1111111111111111,
              "#46039f"
             ],
             [
              0.2222222222222222,
              "#7201a8"
             ],
             [
              0.3333333333333333,
              "#9c179e"
             ],
             [
              0.4444444444444444,
              "#bd3786"
             ],
             [
              0.5555555555555556,
              "#d8576b"
             ],
             [
              0.6666666666666666,
              "#ed7953"
             ],
             [
              0.7777777777777778,
              "#fb9f3a"
             ],
             [
              0.8888888888888888,
              "#fdca26"
             ],
             [
              1.0,
              "#f0f921"
             ]
            ]
           }
          ],
          "choropleth": [
           {
            "type": "choropleth",
            "colorbar": {
             "outlinewidth": 0,
             "ticks": ""
            }
           }
          ],
          "histogram2d": [
           {
            "type": "histogram2d",
            "colorbar": {
             "outlinewidth": 0,
             "ticks": ""
            },
            "colorscale": [
             [
              0.0,
              "#0d0887"
             ],
             [
              0.1111111111111111,
              "#46039f"
             ],
             [
              0.2222222222222222,
              "#7201a8"
             ],
             [
              0.3333333333333333,
              "#9c179e"
             ],
             [
              0.4444444444444444,
              "#bd3786"
             ],
             [
              0.5555555555555556,
              "#d8576b"
             ],
             [
              0.6666666666666666,
              "#ed7953"
             ],
             [
              0.7777777777777778,
              "#fb9f3a"
             ],
             [
              0.8888888888888888,
              "#fdca26"
             ],
             [
              1.0,
              "#f0f921"
             ]
            ]
           }
          ],
          "heatmap": [
           {
            "type": "heatmap",
            "colorbar": {
             "outlinewidth": 0,
             "ticks": ""
            },
            "colorscale": [
             [
              0.0,
              "#0d0887"
             ],
             [
              0.1111111111111111,
              "#46039f"
             ],
             [
              0.2222222222222222,
              "#7201a8"
             ],
             [
              0.3333333333333333,
              "#9c179e"
             ],
             [
              0.4444444444444444,
              "#bd3786"
             ],
             [
              0.5555555555555556,
              "#d8576b"
             ],
             [
              0.6666666666666666,
              "#ed7953"
             ],
             [
              0.7777777777777778,
              "#fb9f3a"
             ],
             [
              0.8888888888888888,
              "#fdca26"
             ],
             [
              1.0,
              "#f0f921"
             ]
            ]
           }
          ],
          "heatmapgl": [
           {
            "type": "heatmapgl",
            "colorbar": {
             "outlinewidth": 0,
             "ticks": ""
            },
            "colorscale": [
             [
              0.0,
              "#0d0887"
             ],
             [
              0.1111111111111111,
              "#46039f"
             ],
             [
              0.2222222222222222,
              "#7201a8"
             ],
             [
              0.3333333333333333,
              "#9c179e"
             ],
             [
              0.4444444444444444,
              "#bd3786"
             ],
             [
              0.5555555555555556,
              "#d8576b"
             ],
             [
              0.6666666666666666,
              "#ed7953"
             ],
             [
              0.7777777777777778,
              "#fb9f3a"
             ],
             [
              0.8888888888888888,
              "#fdca26"
             ],
             [
              1.0,
              "#f0f921"
             ]
            ]
           }
          ],
          "contourcarpet": [
           {
            "type": "contourcarpet",
            "colorbar": {
             "outlinewidth": 0,
             "ticks": ""
            }
           }
          ],
          "contour": [
           {
            "type": "contour",
            "colorbar": {
             "outlinewidth": 0,
             "ticks": ""
            },
            "colorscale": [
             [
              0.0,
              "#0d0887"
             ],
             [
              0.1111111111111111,
              "#46039f"
             ],
             [
              0.2222222222222222,
              "#7201a8"
             ],
             [
              0.3333333333333333,
              "#9c179e"
             ],
             [
              0.4444444444444444,
              "#bd3786"
             ],
             [
              0.5555555555555556,
              "#d8576b"
             ],
             [
              0.6666666666666666,
              "#ed7953"
             ],
             [
              0.7777777777777778,
              "#fb9f3a"
             ],
             [
              0.8888888888888888,
              "#fdca26"
             ],
             [
              1.0,
              "#f0f921"
             ]
            ]
           }
          ],
          "surface": [
           {
            "type": "surface",
            "colorbar": {
             "outlinewidth": 0,
             "ticks": ""
            },
            "colorscale": [
             [
              0.0,
              "#0d0887"
             ],
             [
              0.1111111111111111,
              "#46039f"
             ],
             [
              0.2222222222222222,
              "#7201a8"
             ],
             [
              0.3333333333333333,
              "#9c179e"
             ],
             [
              0.4444444444444444,
              "#bd3786"
             ],
             [
              0.5555555555555556,
              "#d8576b"
             ],
             [
              0.6666666666666666,
              "#ed7953"
             ],
             [
              0.7777777777777778,
              "#fb9f3a"
             ],
             [
              0.8888888888888888,
              "#fdca26"
             ],
             [
              1.0,
              "#f0f921"
             ]
            ]
           }
          ],
          "mesh3d": [
           {
            "type": "mesh3d",
            "colorbar": {
             "outlinewidth": 0,
             "ticks": ""
            }
           }
          ],
          "scatter": [
           {
            "marker": {
             "line": {
              "color": "#283442"
             }
            },
            "type": "scatter"
           }
          ],
          "parcoords": [
           {
            "type": "parcoords",
            "line": {
             "colorbar": {
              "outlinewidth": 0,
              "ticks": ""
             }
            }
           }
          ],
          "scatterpolargl": [
           {
            "type": "scatterpolargl",
            "marker": {
             "colorbar": {
              "outlinewidth": 0,
              "ticks": ""
             }
            }
           }
          ],
          "bar": [
           {
            "error_x": {
             "color": "#f2f5fa"
            },
            "error_y": {
             "color": "#f2f5fa"
            },
            "marker": {
             "line": {
              "color": "rgb(17,17,17)",
              "width": 0.5
             },
             "pattern": {
              "fillmode": "overlay",
              "size": 10,
              "solidity": 0.2
             }
            },
            "type": "bar"
           }
          ],
          "scattergeo": [
           {
            "type": "scattergeo",
            "marker": {
             "colorbar": {
              "outlinewidth": 0,
              "ticks": ""
             }
            }
           }
          ],
          "scatterpolar": [
           {
            "type": "scatterpolar",
            "marker": {
             "colorbar": {
              "outlinewidth": 0,
              "ticks": ""
             }
            }
           }
          ],
          "histogram": [
           {
            "marker": {
             "pattern": {
              "fillmode": "overlay",
              "size": 10,
              "solidity": 0.2
             }
            },
            "type": "histogram"
           }
          ],
          "scattergl": [
           {
            "marker": {
             "line": {
              "color": "#283442"
             }
            },
            "type": "scattergl"
           }
          ],
          "scatter3d": [
           {
            "type": "scatter3d",
            "line": {
             "colorbar": {
              "outlinewidth": 0,
              "ticks": ""
             }
            },
            "marker": {
             "colorbar": {
              "outlinewidth": 0,
              "ticks": ""
             }
            }
           }
          ],
          "scattermapbox": [
           {
            "type": "scattermapbox",
            "marker": {
             "colorbar": {
              "outlinewidth": 0,
              "ticks": ""
             }
            }
           }
          ],
          "scatterternary": [
           {
            "type": "scatterternary",
            "marker": {
             "colorbar": {
              "outlinewidth": 0,
              "ticks": ""
             }
            }
           }
          ],
          "scattercarpet": [
           {
            "type": "scattercarpet",
            "marker": {
             "colorbar": {
              "outlinewidth": 0,
              "ticks": ""
             }
            }
           }
          ],
          "carpet": [
           {
            "aaxis": {
             "endlinecolor": "#A2B1C6",
             "gridcolor": "#506784",
             "linecolor": "#506784",
             "minorgridcolor": "#506784",
             "startlinecolor": "#A2B1C6"
            },
            "baxis": {
             "endlinecolor": "#A2B1C6",
             "gridcolor": "#506784",
             "linecolor": "#506784",
             "minorgridcolor": "#506784",
             "startlinecolor": "#A2B1C6"
            },
            "type": "carpet"
           }
          ],
          "table": [
           {
            "cells": {
             "fill": {
              "color": "#506784"
             },
             "line": {
              "color": "rgb(17,17,17)"
             }
            },
            "header": {
             "fill": {
              "color": "#2a3f5f"
             },
             "line": {
              "color": "rgb(17,17,17)"
             }
            },
            "type": "table"
           }
          ],
          "barpolar": [
           {
            "marker": {
             "line": {
              "color": "rgb(17,17,17)",
              "width": 0.5
             },
             "pattern": {
              "fillmode": "overlay",
              "size": 10,
              "solidity": 0.2
             }
            },
            "type": "barpolar"
           }
          ],
          "pie": [
           {
            "automargin": true,
            "type": "pie"
           }
          ]
         },
         "layout": {
          "autotypenumbers": "strict",
          "colorway": [
           "#636efa",
           "#EF553B",
           "#00cc96",
           "#ab63fa",
           "#FFA15A",
           "#19d3f3",
           "#FF6692",
           "#B6E880",
           "#FF97FF",
           "#FECB52"
          ],
          "font": {
           "color": "#f2f5fa"
          },
          "hovermode": "closest",
          "hoverlabel": {
           "align": "left"
          },
          "paper_bgcolor": "rgb(17,17,17)",
          "plot_bgcolor": "rgb(17,17,17)",
          "polar": {
           "bgcolor": "rgb(17,17,17)",
           "angularaxis": {
            "gridcolor": "#506784",
            "linecolor": "#506784",
            "ticks": ""
           },
           "radialaxis": {
            "gridcolor": "#506784",
            "linecolor": "#506784",
            "ticks": ""
           }
          },
          "ternary": {
           "bgcolor": "rgb(17,17,17)",
           "aaxis": {
            "gridcolor": "#506784",
            "linecolor": "#506784",
            "ticks": ""
           },
           "baxis": {
            "gridcolor": "#506784",
            "linecolor": "#506784",
            "ticks": ""
           },
           "caxis": {
            "gridcolor": "#506784",
            "linecolor": "#506784",
            "ticks": ""
           }
          },
          "coloraxis": {
           "colorbar": {
            "outlinewidth": 0,
            "ticks": ""
           }
          },
          "colorscale": {
           "sequential": [
            [
             0.0,
             "#0d0887"
            ],
            [
             0.1111111111111111,
             "#46039f"
            ],
            [
             0.2222222222222222,
             "#7201a8"
            ],
            [
             0.3333333333333333,
             "#9c179e"
            ],
            [
             0.4444444444444444,
             "#bd3786"
            ],
            [
             0.5555555555555556,
             "#d8576b"
            ],
            [
             0.6666666666666666,
             "#ed7953"
            ],
            [
             0.7777777777777778,
             "#fb9f3a"
            ],
            [
             0.8888888888888888,
             "#fdca26"
            ],
            [
             1.0,
             "#f0f921"
            ]
           ],
           "sequentialminus": [
            [
             0.0,
             "#0d0887"
            ],
            [
             0.1111111111111111,
             "#46039f"
            ],
            [
             0.2222222222222222,
             "#7201a8"
            ],
            [
             0.3333333333333333,
             "#9c179e"
            ],
            [
             0.4444444444444444,
             "#bd3786"
            ],
            [
             0.5555555555555556,
             "#d8576b"
            ],
            [
             0.6666666666666666,
             "#ed7953"
            ],
            [
             0.7777777777777778,
             "#fb9f3a"
            ],
            [
             0.8888888888888888,
             "#fdca26"
            ],
            [
             1.0,
             "#f0f921"
            ]
           ],
           "diverging": [
            [
             0,
             "#8e0152"
            ],
            [
             0.1,
             "#c51b7d"
            ],
            [
             0.2,
             "#de77ae"
            ],
            [
             0.3,
             "#f1b6da"
            ],
            [
             0.4,
             "#fde0ef"
            ],
            [
             0.5,
             "#f7f7f7"
            ],
            [
             0.6,
             "#e6f5d0"
            ],
            [
             0.7,
             "#b8e186"
            ],
            [
             0.8,
             "#7fbc41"
            ],
            [
             0.9,
             "#4d9221"
            ],
            [
             1,
             "#276419"
            ]
           ]
          },
          "xaxis": {
           "gridcolor": "#283442",
           "linecolor": "#506784",
           "ticks": "",
           "title": {
            "standoff": 15
           },
           "zerolinecolor": "#283442",
           "automargin": true,
           "zerolinewidth": 2
          },
          "yaxis": {
           "gridcolor": "#283442",
           "linecolor": "#506784",
           "ticks": "",
           "title": {
            "standoff": 15
           },
           "zerolinecolor": "#283442",
           "automargin": true,
           "zerolinewidth": 2
          },
          "scene": {
           "xaxis": {
            "backgroundcolor": "rgb(17,17,17)",
            "gridcolor": "#506784",
            "linecolor": "#506784",
            "showbackground": true,
            "ticks": "",
            "zerolinecolor": "#C8D4E3",
            "gridwidth": 2
           },
           "yaxis": {
            "backgroundcolor": "rgb(17,17,17)",
            "gridcolor": "#506784",
            "linecolor": "#506784",
            "showbackground": true,
            "ticks": "",
            "zerolinecolor": "#C8D4E3",
            "gridwidth": 2
           },
           "zaxis": {
            "backgroundcolor": "rgb(17,17,17)",
            "gridcolor": "#506784",
            "linecolor": "#506784",
            "showbackground": true,
            "ticks": "",
            "zerolinecolor": "#C8D4E3",
            "gridwidth": 2
           }
          },
          "shapedefaults": {
           "line": {
            "color": "#f2f5fa"
           }
          },
          "annotationdefaults": {
           "arrowcolor": "#f2f5fa",
           "arrowhead": 0,
           "arrowwidth": 1
          },
          "geo": {
           "bgcolor": "rgb(17,17,17)",
           "landcolor": "rgb(17,17,17)",
           "subunitcolor": "#506784",
           "showland": true,
           "showlakes": true,
           "lakecolor": "rgb(17,17,17)"
          },
          "title": {
           "x": 0.05
          },
          "updatemenudefaults": {
           "bgcolor": "#506784",
           "borderwidth": 0
          },
          "sliderdefaults": {
           "bgcolor": "#C8D4E3",
           "borderwidth": 1,
           "bordercolor": "rgb(17,17,17)",
           "tickwidth": 0
          },
          "mapbox": {
           "style": "dark"
          }
         }
        }
       },
       "config": {
        "plotlyServerURL": "https://plot.ly"
       }
      },
      "text/html": "<div>                            <div id=\"5699a7d3-5631-45c9-abd1-a1aacbe897e8\" class=\"plotly-graph-div\" style=\"height:525px; width:100%;\"></div>            <script type=\"text/javascript\">                require([\"plotly\"], function(Plotly) {                    window.PLOTLYENV=window.PLOTLYENV || {};                                    if (document.getElementById(\"5699a7d3-5631-45c9-abd1-a1aacbe897e8\")) {                    Plotly.newPlot(                        \"5699a7d3-5631-45c9-abd1-a1aacbe897e8\",                        [{\"cliponaxis\":false,\"hovertemplate\":[\"p (FloatDistribution): 0.015331534802664816<extra></extra>\",\"w2 (FloatDistribution): 0.018210835964189785<extra></extra>\",\"w5 (FloatDistribution): 0.032129282835693884<extra></extra>\",\"w1 (FloatDistribution): 0.043368508268540495<extra></extra>\",\"w4 (FloatDistribution): 0.0760781289009331<extra></extra>\",\"w0 (FloatDistribution): 0.15058439121534703<extra></extra>\",\"w3 (FloatDistribution): 0.20553097210186239<extra></extra>\",\"w6 (FloatDistribution): 0.45876634591076854<extra></extra>\"],\"marker\":{\"color\":\"rgb(66,146,198)\"},\"orientation\":\"h\",\"text\":[\"0.02\",\"0.02\",\"0.03\",\"0.04\",\"0.08\",\"0.15\",\"0.21\",\"0.46\"],\"textposition\":\"outside\",\"x\":[0.015331534802664816,0.018210835964189785,0.032129282835693884,0.043368508268540495,0.0760781289009331,0.15058439121534703,0.20553097210186239,0.45876634591076854],\"y\":[\"p\",\"w2\",\"w5\",\"w1\",\"w4\",\"w0\",\"w3\",\"w6\"],\"type\":\"bar\"}],                        {\"showlegend\":false,\"title\":{\"text\":\"Hyperparameter Importances\"},\"xaxis\":{\"title\":{\"text\":\"Importance for Objective Value\"}},\"yaxis\":{\"title\":{\"text\":\"Hyperparameter\"}},\"template\":{\"data\":{\"histogram2dcontour\":[{\"type\":\"histogram2dcontour\",\"colorbar\":{\"outlinewidth\":0,\"ticks\":\"\"},\"colorscale\":[[0.0,\"#0d0887\"],[0.1111111111111111,\"#46039f\"],[0.2222222222222222,\"#7201a8\"],[0.3333333333333333,\"#9c179e\"],[0.4444444444444444,\"#bd3786\"],[0.5555555555555556,\"#d8576b\"],[0.6666666666666666,\"#ed7953\"],[0.7777777777777778,\"#fb9f3a\"],[0.8888888888888888,\"#fdca26\"],[1.0,\"#f0f921\"]]}],\"choropleth\":[{\"type\":\"choropleth\",\"colorbar\":{\"outlinewidth\":0,\"ticks\":\"\"}}],\"histogram2d\":[{\"type\":\"histogram2d\",\"colorbar\":{\"outlinewidth\":0,\"ticks\":\"\"},\"colorscale\":[[0.0,\"#0d0887\"],[0.1111111111111111,\"#46039f\"],[0.2222222222222222,\"#7201a8\"],[0.3333333333333333,\"#9c179e\"],[0.4444444444444444,\"#bd3786\"],[0.5555555555555556,\"#d8576b\"],[0.6666666666666666,\"#ed7953\"],[0.7777777777777778,\"#fb9f3a\"],[0.8888888888888888,\"#fdca26\"],[1.0,\"#f0f921\"]]}],\"heatmap\":[{\"type\":\"heatmap\",\"colorbar\":{\"outlinewidth\":0,\"ticks\":\"\"},\"colorscale\":[[0.0,\"#0d0887\"],[0.1111111111111111,\"#46039f\"],[0.2222222222222222,\"#7201a8\"],[0.3333333333333333,\"#9c179e\"],[0.4444444444444444,\"#bd3786\"],[0.5555555555555556,\"#d8576b\"],[0.6666666666666666,\"#ed7953\"],[0.7777777777777778,\"#fb9f3a\"],[0.8888888888888888,\"#fdca26\"],[1.0,\"#f0f921\"]]}],\"heatmapgl\":[{\"type\":\"heatmapgl\",\"colorbar\":{\"outlinewidth\":0,\"ticks\":\"\"},\"colorscale\":[[0.0,\"#0d0887\"],[0.1111111111111111,\"#46039f\"],[0.2222222222222222,\"#7201a8\"],[0.3333333333333333,\"#9c179e\"],[0.4444444444444444,\"#bd3786\"],[0.5555555555555556,\"#d8576b\"],[0.6666666666666666,\"#ed7953\"],[0.7777777777777778,\"#fb9f3a\"],[0.8888888888888888,\"#fdca26\"],[1.0,\"#f0f921\"]]}],\"contourcarpet\":[{\"type\":\"contourcarpet\",\"colorbar\":{\"outlinewidth\":0,\"ticks\":\"\"}}],\"contour\":[{\"type\":\"contour\",\"colorbar\":{\"outlinewidth\":0,\"ticks\":\"\"},\"colorscale\":[[0.0,\"#0d0887\"],[0.1111111111111111,\"#46039f\"],[0.2222222222222222,\"#7201a8\"],[0.3333333333333333,\"#9c179e\"],[0.4444444444444444,\"#bd3786\"],[0.5555555555555556,\"#d8576b\"],[0.6666666666666666,\"#ed7953\"],[0.7777777777777778,\"#fb9f3a\"],[0.8888888888888888,\"#fdca26\"],[1.0,\"#f0f921\"]]}],\"surface\":[{\"type\":\"surface\",\"colorbar\":{\"outlinewidth\":0,\"ticks\":\"\"},\"colorscale\":[[0.0,\"#0d0887\"],[0.1111111111111111,\"#46039f\"],[0.2222222222222222,\"#7201a8\"],[0.3333333333333333,\"#9c179e\"],[0.4444444444444444,\"#bd3786\"],[0.5555555555555556,\"#d8576b\"],[0.6666666666666666,\"#ed7953\"],[0.7777777777777778,\"#fb9f3a\"],[0.8888888888888888,\"#fdca26\"],[1.0,\"#f0f921\"]]}],\"mesh3d\":[{\"type\":\"mesh3d\",\"colorbar\":{\"outlinewidth\":0,\"ticks\":\"\"}}],\"scatter\":[{\"marker\":{\"line\":{\"color\":\"#283442\"}},\"type\":\"scatter\"}],\"parcoords\":[{\"type\":\"parcoords\",\"line\":{\"colorbar\":{\"outlinewidth\":0,\"ticks\":\"\"}}}],\"scatterpolargl\":[{\"type\":\"scatterpolargl\",\"marker\":{\"colorbar\":{\"outlinewidth\":0,\"ticks\":\"\"}}}],\"bar\":[{\"error_x\":{\"color\":\"#f2f5fa\"},\"error_y\":{\"color\":\"#f2f5fa\"},\"marker\":{\"line\":{\"color\":\"rgb(17,17,17)\",\"width\":0.5},\"pattern\":{\"fillmode\":\"overlay\",\"size\":10,\"solidity\":0.2}},\"type\":\"bar\"}],\"scattergeo\":[{\"type\":\"scattergeo\",\"marker\":{\"colorbar\":{\"outlinewidth\":0,\"ticks\":\"\"}}}],\"scatterpolar\":[{\"type\":\"scatterpolar\",\"marker\":{\"colorbar\":{\"outlinewidth\":0,\"ticks\":\"\"}}}],\"histogram\":[{\"marker\":{\"pattern\":{\"fillmode\":\"overlay\",\"size\":10,\"solidity\":0.2}},\"type\":\"histogram\"}],\"scattergl\":[{\"marker\":{\"line\":{\"color\":\"#283442\"}},\"type\":\"scattergl\"}],\"scatter3d\":[{\"type\":\"scatter3d\",\"line\":{\"colorbar\":{\"outlinewidth\":0,\"ticks\":\"\"}},\"marker\":{\"colorbar\":{\"outlinewidth\":0,\"ticks\":\"\"}}}],\"scattermapbox\":[{\"type\":\"scattermapbox\",\"marker\":{\"colorbar\":{\"outlinewidth\":0,\"ticks\":\"\"}}}],\"scatterternary\":[{\"type\":\"scatterternary\",\"marker\":{\"colorbar\":{\"outlinewidth\":0,\"ticks\":\"\"}}}],\"scattercarpet\":[{\"type\":\"scattercarpet\",\"marker\":{\"colorbar\":{\"outlinewidth\":0,\"ticks\":\"\"}}}],\"carpet\":[{\"aaxis\":{\"endlinecolor\":\"#A2B1C6\",\"gridcolor\":\"#506784\",\"linecolor\":\"#506784\",\"minorgridcolor\":\"#506784\",\"startlinecolor\":\"#A2B1C6\"},\"baxis\":{\"endlinecolor\":\"#A2B1C6\",\"gridcolor\":\"#506784\",\"linecolor\":\"#506784\",\"minorgridcolor\":\"#506784\",\"startlinecolor\":\"#A2B1C6\"},\"type\":\"carpet\"}],\"table\":[{\"cells\":{\"fill\":{\"color\":\"#506784\"},\"line\":{\"color\":\"rgb(17,17,17)\"}},\"header\":{\"fill\":{\"color\":\"#2a3f5f\"},\"line\":{\"color\":\"rgb(17,17,17)\"}},\"type\":\"table\"}],\"barpolar\":[{\"marker\":{\"line\":{\"color\":\"rgb(17,17,17)\",\"width\":0.5},\"pattern\":{\"fillmode\":\"overlay\",\"size\":10,\"solidity\":0.2}},\"type\":\"barpolar\"}],\"pie\":[{\"automargin\":true,\"type\":\"pie\"}]},\"layout\":{\"autotypenumbers\":\"strict\",\"colorway\":[\"#636efa\",\"#EF553B\",\"#00cc96\",\"#ab63fa\",\"#FFA15A\",\"#19d3f3\",\"#FF6692\",\"#B6E880\",\"#FF97FF\",\"#FECB52\"],\"font\":{\"color\":\"#f2f5fa\"},\"hovermode\":\"closest\",\"hoverlabel\":{\"align\":\"left\"},\"paper_bgcolor\":\"rgb(17,17,17)\",\"plot_bgcolor\":\"rgb(17,17,17)\",\"polar\":{\"bgcolor\":\"rgb(17,17,17)\",\"angularaxis\":{\"gridcolor\":\"#506784\",\"linecolor\":\"#506784\",\"ticks\":\"\"},\"radialaxis\":{\"gridcolor\":\"#506784\",\"linecolor\":\"#506784\",\"ticks\":\"\"}},\"ternary\":{\"bgcolor\":\"rgb(17,17,17)\",\"aaxis\":{\"gridcolor\":\"#506784\",\"linecolor\":\"#506784\",\"ticks\":\"\"},\"baxis\":{\"gridcolor\":\"#506784\",\"linecolor\":\"#506784\",\"ticks\":\"\"},\"caxis\":{\"gridcolor\":\"#506784\",\"linecolor\":\"#506784\",\"ticks\":\"\"}},\"coloraxis\":{\"colorbar\":{\"outlinewidth\":0,\"ticks\":\"\"}},\"colorscale\":{\"sequential\":[[0.0,\"#0d0887\"],[0.1111111111111111,\"#46039f\"],[0.2222222222222222,\"#7201a8\"],[0.3333333333333333,\"#9c179e\"],[0.4444444444444444,\"#bd3786\"],[0.5555555555555556,\"#d8576b\"],[0.6666666666666666,\"#ed7953\"],[0.7777777777777778,\"#fb9f3a\"],[0.8888888888888888,\"#fdca26\"],[1.0,\"#f0f921\"]],\"sequentialminus\":[[0.0,\"#0d0887\"],[0.1111111111111111,\"#46039f\"],[0.2222222222222222,\"#7201a8\"],[0.3333333333333333,\"#9c179e\"],[0.4444444444444444,\"#bd3786\"],[0.5555555555555556,\"#d8576b\"],[0.6666666666666666,\"#ed7953\"],[0.7777777777777778,\"#fb9f3a\"],[0.8888888888888888,\"#fdca26\"],[1.0,\"#f0f921\"]],\"diverging\":[[0,\"#8e0152\"],[0.1,\"#c51b7d\"],[0.2,\"#de77ae\"],[0.3,\"#f1b6da\"],[0.4,\"#fde0ef\"],[0.5,\"#f7f7f7\"],[0.6,\"#e6f5d0\"],[0.7,\"#b8e186\"],[0.8,\"#7fbc41\"],[0.9,\"#4d9221\"],[1,\"#276419\"]]},\"xaxis\":{\"gridcolor\":\"#283442\",\"linecolor\":\"#506784\",\"ticks\":\"\",\"title\":{\"standoff\":15},\"zerolinecolor\":\"#283442\",\"automargin\":true,\"zerolinewidth\":2},\"yaxis\":{\"gridcolor\":\"#283442\",\"linecolor\":\"#506784\",\"ticks\":\"\",\"title\":{\"standoff\":15},\"zerolinecolor\":\"#283442\",\"automargin\":true,\"zerolinewidth\":2},\"scene\":{\"xaxis\":{\"backgroundcolor\":\"rgb(17,17,17)\",\"gridcolor\":\"#506784\",\"linecolor\":\"#506784\",\"showbackground\":true,\"ticks\":\"\",\"zerolinecolor\":\"#C8D4E3\",\"gridwidth\":2},\"yaxis\":{\"backgroundcolor\":\"rgb(17,17,17)\",\"gridcolor\":\"#506784\",\"linecolor\":\"#506784\",\"showbackground\":true,\"ticks\":\"\",\"zerolinecolor\":\"#C8D4E3\",\"gridwidth\":2},\"zaxis\":{\"backgroundcolor\":\"rgb(17,17,17)\",\"gridcolor\":\"#506784\",\"linecolor\":\"#506784\",\"showbackground\":true,\"ticks\":\"\",\"zerolinecolor\":\"#C8D4E3\",\"gridwidth\":2}},\"shapedefaults\":{\"line\":{\"color\":\"#f2f5fa\"}},\"annotationdefaults\":{\"arrowcolor\":\"#f2f5fa\",\"arrowhead\":0,\"arrowwidth\":1},\"geo\":{\"bgcolor\":\"rgb(17,17,17)\",\"landcolor\":\"rgb(17,17,17)\",\"subunitcolor\":\"#506784\",\"showland\":true,\"showlakes\":true,\"lakecolor\":\"rgb(17,17,17)\"},\"title\":{\"x\":0.05},\"updatemenudefaults\":{\"bgcolor\":\"#506784\",\"borderwidth\":0},\"sliderdefaults\":{\"bgcolor\":\"#C8D4E3\",\"borderwidth\":1,\"bordercolor\":\"rgb(17,17,17)\",\"tickwidth\":0},\"mapbox\":{\"style\":\"dark\"}}}},                        {\"responsive\": true}                    ).then(function(){\n                            \nvar gd = document.getElementById('5699a7d3-5631-45c9-abd1-a1aacbe897e8');\nvar x = new MutationObserver(function (mutations, observer) {{\n        var display = window.getComputedStyle(gd).display;\n        if (!display || display === 'none') {{\n            console.log([gd, 'removed!']);\n            Plotly.purge(gd);\n            observer.disconnect();\n        }}\n}});\n\n// Listen for the removal of the full notebook cells\nvar notebookContainer = gd.closest('#notebook-container');\nif (notebookContainer) {{\n    x.observe(notebookContainer, {childList: true});\n}}\n\n// Listen for the clearing of the current output cell\nvar outputEl = gd.closest('.output');\nif (outputEl) {{\n    x.observe(outputEl, {childList: true});\n}}\n\n                        })                };                });            </script>        </div>"
     },
     "metadata": {},
     "output_type": "display_data"
    }
   ],
   "source": [
    "fig = optuna.visualization.plot_param_importances(gmb.study)\n",
    "fig.show()"
   ],
   "metadata": {
    "collapsed": false
   }
  },
  {
   "cell_type": "markdown",
   "source": [
    "## Submit"
   ],
   "metadata": {
    "collapsed": false
   }
  },
  {
   "cell_type": "code",
   "execution_count": 220,
   "outputs": [],
   "source": [
    "test_preds = gmb.transform(y_prob_test)\n",
    "\n",
    "submission_format = pd.read_csv(DATA_DIR + '/submission_format.csv', index_col='building_id')\n",
    "my_submission = pd.DataFrame(data=test_preds,\n",
    "                             columns=submission_format.columns,\n",
    "                             index=submission_format.index)\n",
    "my_submission['damage_grade'] = my_submission['damage_grade'].astype(int)\n",
    "my_submission.to_csv(DATA_DIR + '/submission/mixture_{}.csv'.format(7550))"
   ],
   "metadata": {
    "collapsed": false
   }
  }
 ],
 "metadata": {
  "kernelspec": {
   "display_name": "Python 3",
   "language": "python",
   "name": "python3"
  },
  "language_info": {
   "codemirror_mode": {
    "name": "ipython",
    "version": 2
   },
   "file_extension": ".py",
   "mimetype": "text/x-python",
   "name": "python",
   "nbconvert_exporter": "python",
   "pygments_lexer": "ipython2",
   "version": "2.7.6"
  }
 },
 "nbformat": 4,
 "nbformat_minor": 0
}
