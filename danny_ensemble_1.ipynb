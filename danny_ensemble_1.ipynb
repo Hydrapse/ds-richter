{
 "cells": [
  {
   "cell_type": "code",
   "execution_count": 302,
   "outputs": [],
   "source": [
    "import os\n",
    "\n",
    "import numpy\n",
    "import numpy as np\n",
    "import optuna\n",
    "import pandas as pd\n",
    "import seaborn as sns\n",
    "from functools import partial\n",
    "from sklearn.metrics import mean_squared_error, f1_score"
   ],
   "metadata": {
    "collapsed": false
   }
  },
  {
   "cell_type": "code",
   "execution_count": 301,
   "outputs": [],
   "source": [
    "DATA_DIR = \"/home/gangda/workspace/ds-richter/data\"\n",
    "\n",
    "X = pd.read_csv(DATA_DIR + '/train_values.csv', index_col='building_id')\n",
    "X_test = pd.read_csv(DATA_DIR + '/test_values.csv', index_col='building_id')\n",
    "y = pd.read_csv(DATA_DIR + '/train_labels.csv', index_col='building_id')\n",
    "\n",
    "def mean_prob(prob):\n",
    "    df = pd.DataFrame()\n",
    "    df_prob = pd.DataFrame(prob)\n",
    "    if prob.shape[0] == X.shape[0] :\n",
    "        df_prob = df_prob.join(X['geo_level_3_id'].reset_index(drop=True))\n",
    "    elif prob.shape[0] == X_test.shape[0]:\n",
    "        df_prob = df_prob.join(X_test['geo_level_3_id'].reset_index(drop=True))\n",
    "    else:\n",
    "        assert False, 'prob.shape[0] should be align with X or X_test'\n",
    "    df[0] = df_prob.groupby('geo_level_3_id')[0].transform('mean')\n",
    "    df[1] = df_prob.groupby('geo_level_3_id')[1].transform('mean')\n",
    "    df[2] = df_prob.groupby('geo_level_3_id')[2].transform('mean')\n",
    "    return df.to_numpy()"
   ],
   "metadata": {
    "collapsed": false
   }
  },
  {
   "cell_type": "code",
   "execution_count": 285,
   "outputs": [],
   "source": [
    "DATA_DIR = \"/home/gangda/workspace/ds-richter/data\"\n",
    "\n",
    "y_catboost_1 = np.load(DATA_DIR + '/intermediate/catboost_{}fold_v{}_train.npy'.format(3, 1))\n",
    "y_catboost_2 = np.load(DATA_DIR + '/intermediate/catboost_{}fold_v{}_train.npy'.format(4, 2))\n",
    "y_catboost_3 = np.load(DATA_DIR + '/intermediate/catboost_{}fold_v{}_train.npy'.format(5, 1))\n",
    "y_catboost_3_2 = np.load(DATA_DIR + '/intermediate/catboost_{}fold_v{}_train.npy'.format(5, 2))\n",
    "y_lightgbm_1 = np.load(DATA_DIR + '/intermediate/lightgbm_{}fold_v{}_train.npy'.format(3, 1))\n",
    "y_lightgbm_2 = np.load(DATA_DIR + '/intermediate/lightgbm_{}fold_v{}_train.npy'.format(4, 1))\n",
    "y_lightgbm_3 = np.load(DATA_DIR + '/intermediate/lightgbm_{}fold_v{}_train.npy'.format(5, 1))\n",
    "y_xgboost_3 = np.load(DATA_DIR + '/intermediate/xgboost_{}fold_v{}_train.npy'.format(5, 1))\n",
    "\n",
    "\n",
    "y_catboost_1_test = np.load(DATA_DIR + '/intermediate/catboost_{}fold_v{}_test.npy'.format(3, 1))\n",
    "y_catboost_2_test = np.load(DATA_DIR + '/intermediate/catboost_{}fold_v{}_test.npy'.format(4, 2))\n",
    "y_catboost_3_test = np.load(DATA_DIR + '/intermediate/catboost_{}fold_v{}_test.npy'.format(5, 1))\n",
    "y_catboost_3_2_test = np.load(DATA_DIR + '/intermediate/catboost_{}fold_v{}_test.npy'.format(5, 2))\n",
    "y_lightgbm_1_test = np.load(DATA_DIR + '/intermediate/lightgbm_{}fold_v{}_test.npy'.format(3, 1))\n",
    "y_lightgbm_2_test = np.load(DATA_DIR + '/intermediate/lightgbm_{}fold_v{}_test.npy'.format(4, 1))\n",
    "y_lightgbm_3_test = np.load(DATA_DIR + '/intermediate/lightgbm_{}fold_v{}_test.npy'.format(5, 1))\n",
    "y_xgboost_3_test = np.load(DATA_DIR + '/intermediate/xgboost_{}fold_v{}_test.npy'.format(5, 1))"
   ],
   "metadata": {
    "collapsed": false
   }
  },
  {
   "cell_type": "markdown",
   "source": [
    "---"
   ],
   "metadata": {
    "collapsed": false
   }
  },
  {
   "cell_type": "code",
   "execution_count": 303,
   "outputs": [
    {
     "data": {
      "text/plain": "                       0         1         2\ngeo_level_3_id                              \n12198           0.000000  0.162162  0.837838\n2812            0.062500  0.812500  0.125000\n8973            0.029412  0.360294  0.610294\n10694           0.032258  0.838710  0.129032\n1488            0.008197  0.614754  0.377049\n...                  ...       ...       ...\n1621            0.000000  0.928571  0.071429\n2060            0.000000  0.020408  0.979592\n8163            0.045455  0.090909  0.863636\n1851            0.220339  0.766949  0.012712\n9101            0.000000  0.097561  0.902439\n\n[260601 rows x 3 columns]",
      "text/html": "<div>\n<style scoped>\n    .dataframe tbody tr th:only-of-type {\n        vertical-align: middle;\n    }\n\n    .dataframe tbody tr th {\n        vertical-align: top;\n    }\n\n    .dataframe thead th {\n        text-align: right;\n    }\n</style>\n<table border=\"1\" class=\"dataframe\">\n  <thead>\n    <tr style=\"text-align: right;\">\n      <th></th>\n      <th>0</th>\n      <th>1</th>\n      <th>2</th>\n    </tr>\n    <tr>\n      <th>geo_level_3_id</th>\n      <th></th>\n      <th></th>\n      <th></th>\n    </tr>\n  </thead>\n  <tbody>\n    <tr>\n      <th>12198</th>\n      <td>0.000000</td>\n      <td>0.162162</td>\n      <td>0.837838</td>\n    </tr>\n    <tr>\n      <th>2812</th>\n      <td>0.062500</td>\n      <td>0.812500</td>\n      <td>0.125000</td>\n    </tr>\n    <tr>\n      <th>8973</th>\n      <td>0.029412</td>\n      <td>0.360294</td>\n      <td>0.610294</td>\n    </tr>\n    <tr>\n      <th>10694</th>\n      <td>0.032258</td>\n      <td>0.838710</td>\n      <td>0.129032</td>\n    </tr>\n    <tr>\n      <th>1488</th>\n      <td>0.008197</td>\n      <td>0.614754</td>\n      <td>0.377049</td>\n    </tr>\n    <tr>\n      <th>...</th>\n      <td>...</td>\n      <td>...</td>\n      <td>...</td>\n    </tr>\n    <tr>\n      <th>1621</th>\n      <td>0.000000</td>\n      <td>0.928571</td>\n      <td>0.071429</td>\n    </tr>\n    <tr>\n      <th>2060</th>\n      <td>0.000000</td>\n      <td>0.020408</td>\n      <td>0.979592</td>\n    </tr>\n    <tr>\n      <th>8163</th>\n      <td>0.045455</td>\n      <td>0.090909</td>\n      <td>0.863636</td>\n    </tr>\n    <tr>\n      <th>1851</th>\n      <td>0.220339</td>\n      <td>0.766949</td>\n      <td>0.012712</td>\n    </tr>\n    <tr>\n      <th>9101</th>\n      <td>0.000000</td>\n      <td>0.097561</td>\n      <td>0.902439</td>\n    </tr>\n  </tbody>\n</table>\n<p>260601 rows × 3 columns</p>\n</div>"
     },
     "execution_count": 303,
     "metadata": {},
     "output_type": "execute_result"
    }
   ],
   "source": [
    "label = y.to_numpy().reshape(-1) - 1\n",
    "y_onehot = np.eye(3)[label]\n",
    "\n",
    "df = pd.DataFrame()\n",
    "df_prob = pd.DataFrame(y_onehot)\n",
    "df_prob = df_prob.join(X['geo_level_3_id'].reset_index(drop=True))\n",
    "df[0] = df_prob.groupby('geo_level_3_id')[0].mean()\n",
    "df[1] = df_prob.groupby('geo_level_3_id')[1].mean()\n",
    "df[2] = df_prob.groupby('geo_level_3_id')[2].mean()\n",
    "\n",
    "df.loc[df.sample(500).index, :] = 0\n",
    "df = df.loc[X['geo_level_3_id'].to_numpy(), :]\n",
    "# df.loc[df.sample(1000).index, :] = 0\n",
    "gt_train = df.to_numpy()\n",
    "\n",
    "df"
   ],
   "metadata": {
    "collapsed": false
   }
  },
  {
   "cell_type": "code",
   "execution_count": 304,
   "outputs": [
    {
     "data": {
      "text/plain": "              0         1         2\n11307  0.052632  0.263158  0.684211\n11987  0.000000  1.000000  0.000000\n10044  0.000000  0.000000  1.000000\n633    0.571429  0.419355  0.009217\n7970   0.000000  0.176471  0.823529\n...         ...       ...       ...\n3623   0.194444  0.750000  0.055556\n11907  0.000000  0.277778  0.722222\n7712   0.090909  0.909091  0.000000\n912    0.090909  0.681818  0.227273\n6436   0.609524  0.266667  0.123810\n\n[86868 rows x 3 columns]",
      "text/html": "<div>\n<style scoped>\n    .dataframe tbody tr th:only-of-type {\n        vertical-align: middle;\n    }\n\n    .dataframe tbody tr th {\n        vertical-align: top;\n    }\n\n    .dataframe thead th {\n        text-align: right;\n    }\n</style>\n<table border=\"1\" class=\"dataframe\">\n  <thead>\n    <tr style=\"text-align: right;\">\n      <th></th>\n      <th>0</th>\n      <th>1</th>\n      <th>2</th>\n    </tr>\n  </thead>\n  <tbody>\n    <tr>\n      <th>11307</th>\n      <td>0.052632</td>\n      <td>0.263158</td>\n      <td>0.684211</td>\n    </tr>\n    <tr>\n      <th>11987</th>\n      <td>0.000000</td>\n      <td>1.000000</td>\n      <td>0.000000</td>\n    </tr>\n    <tr>\n      <th>10044</th>\n      <td>0.000000</td>\n      <td>0.000000</td>\n      <td>1.000000</td>\n    </tr>\n    <tr>\n      <th>633</th>\n      <td>0.571429</td>\n      <td>0.419355</td>\n      <td>0.009217</td>\n    </tr>\n    <tr>\n      <th>7970</th>\n      <td>0.000000</td>\n      <td>0.176471</td>\n      <td>0.823529</td>\n    </tr>\n    <tr>\n      <th>...</th>\n      <td>...</td>\n      <td>...</td>\n      <td>...</td>\n    </tr>\n    <tr>\n      <th>3623</th>\n      <td>0.194444</td>\n      <td>0.750000</td>\n      <td>0.055556</td>\n    </tr>\n    <tr>\n      <th>11907</th>\n      <td>0.000000</td>\n      <td>0.277778</td>\n      <td>0.722222</td>\n    </tr>\n    <tr>\n      <th>7712</th>\n      <td>0.090909</td>\n      <td>0.909091</td>\n      <td>0.000000</td>\n    </tr>\n    <tr>\n      <th>912</th>\n      <td>0.090909</td>\n      <td>0.681818</td>\n      <td>0.227273</td>\n    </tr>\n    <tr>\n      <th>6436</th>\n      <td>0.609524</td>\n      <td>0.266667</td>\n      <td>0.123810</td>\n    </tr>\n  </tbody>\n</table>\n<p>86868 rows × 3 columns</p>\n</div>"
     },
     "execution_count": 304,
     "metadata": {},
     "output_type": "execute_result"
    }
   ],
   "source": [
    "df = pd.DataFrame(y_onehot)\n",
    "df = df.join(X['geo_level_3_id'].reset_index(drop=True))\n",
    "mean_val = pd.DataFrame()\n",
    "mean_val[0] = df.groupby('geo_level_3_id')[0].mean()\n",
    "mean_val[1] = df.groupby('geo_level_3_id')[1].mean()\n",
    "mean_val[2] = df.groupby('geo_level_3_id')[2].mean()\n",
    "\n",
    "geo_id_train = X['geo_level_3_id'].unique()\n",
    "geo_id_test = X_test['geo_level_3_id'].unique()\n",
    "geo_id_diff = np.setdiff1d(geo_id_test, geo_id_train, assume_unique=True)\n",
    "df_geo_diff = pd.DataFrame(index=geo_id_diff, data=np.zeros((geo_id_diff.shape[0], 3)))\n",
    "\n",
    "df = pd.concat([mean_val, df_geo_diff])\n",
    "df = df.loc[X_test['geo_level_3_id'].to_numpy(), :]\n",
    "gt_test = df.to_numpy()\n",
    "\n",
    "df"
   ],
   "metadata": {
    "collapsed": false
   }
  },
  {
   "cell_type": "code",
   "execution_count": 305,
   "outputs": [
    {
     "name": "stdout",
     "output_type": "stream",
     "text": [
      "Number of all-zero rows: 327\n"
     ]
    }
   ],
   "source": [
    "# Count the number of all-zero rows\n",
    "num_zero_rows = np.sum(np.all(gt_test == 0, axis=1))\n",
    "\n",
    "# Print the result\n",
    "print(\"Number of all-zero rows:\", num_zero_rows)"
   ],
   "metadata": {
    "collapsed": false
   }
  },
  {
   "cell_type": "markdown",
   "source": [
    "---"
   ],
   "metadata": {
    "collapsed": false
   }
  },
  {
   "cell_type": "code",
   "execution_count": 306,
   "outputs": [
    {
     "data": {
      "text/plain": "0.7537269619072835"
     },
     "execution_count": 306,
     "metadata": {},
     "output_type": "execute_result"
    }
   ],
   "source": [
    "y_prob = np.stack([y_catboost_3, y_lightgbm_3])\n",
    "\n",
    "y_prob = np.log1p(y_prob)\n",
    "y_prob = np.sum(y_prob, axis=0)\n",
    "y_pred = y_prob.argmax(axis=1) + 1\n",
    "f1_score(y, y_pred, average='micro')"
   ],
   "metadata": {
    "collapsed": false
   }
  },
  {
   "cell_type": "code",
   "execution_count": 290,
   "outputs": [
    {
     "data": {
      "text/plain": "array([3, 2, 2, ..., 2, 2, 1])"
     },
     "execution_count": 290,
     "metadata": {},
     "output_type": "execute_result"
    }
   ],
   "source": [
    "y_prob = np.stack([y_catboost_3_test, y_lightgbm_3_test, y_xgboost_3_test])\n",
    "\n",
    "y_prob = np.log1p(y_prob)\n",
    "y_prob = np.sum(y_prob, axis=0)\n",
    "y_pred = y_prob.argmax(axis=1) + 1\n",
    "y_pred"
   ],
   "metadata": {
    "collapsed": false
   }
  },
  {
   "cell_type": "code",
   "execution_count": 309,
   "outputs": [
    {
     "name": "stdout",
     "output_type": "stream",
     "text": [
      "[[ 13758  11036    330]\n",
      " [  5393 126094  16772]\n",
      " [   564  30526  56128]]\n",
      "              precision    recall  f1-score   support\n",
      "\n",
      "           1       0.70      0.55      0.61     25124\n",
      "           2       0.75      0.85      0.80    148259\n",
      "           3       0.77      0.64      0.70     87218\n",
      "\n",
      "    accuracy                           0.75    260601\n",
      "   macro avg       0.74      0.68      0.70    260601\n",
      "weighted avg       0.75      0.75      0.75    260601\n",
      "\n",
      "[[ 14299  10351    474]\n",
      " [  6075 124571  17613]\n",
      " [   680  29535  57003]]\n",
      "              precision    recall  f1-score   support\n",
      "\n",
      "           1       0.68      0.57      0.62     25124\n",
      "           2       0.76      0.84      0.80    148259\n",
      "           3       0.76      0.65      0.70     87218\n",
      "\n",
      "    accuracy                           0.75    260601\n",
      "   macro avg       0.73      0.69      0.71    260601\n",
      "weighted avg       0.75      0.75      0.75    260601\n",
      "\n",
      "[[ 14110  10651    363]\n",
      " [  5589 125756  16914]\n",
      " [   602  30060  56556]]\n",
      "              precision    recall  f1-score   support\n",
      "\n",
      "           1       0.70      0.56      0.62     25124\n",
      "           2       0.76      0.85      0.80    148259\n",
      "           3       0.77      0.65      0.70     87218\n",
      "\n",
      "    accuracy                           0.75    260601\n",
      "   macro avg       0.74      0.69      0.71    260601\n",
      "weighted avg       0.75      0.75      0.75    260601\n",
      "\n"
     ]
    }
   ],
   "source": [
    "from sklearn.metrics import classification_report, confusion_matrix\n",
    "\n",
    "# mixure\n",
    "# print(classification_report(y, y_pred))\n",
    "print(confusion_matrix(y, y_catboost_3.argmax(axis=1) + 1))\n",
    "print(classification_report(y, y_catboost_3.argmax(axis=1) + 1))\n",
    "\n",
    "print(confusion_matrix(y, y_lightgbm_3.argmax(axis=1) + 1))\n",
    "print(classification_report(y, y_lightgbm_3.argmax(axis=1) + 1))\n",
    "\n",
    "print(confusion_matrix(y, y_pred))\n",
    "print(classification_report(y, y_pred))\n",
    "# sns.distplot(y_pred)"
   ],
   "metadata": {
    "collapsed": false
   }
  },
  {
   "cell_type": "code",
   "execution_count": 300,
   "outputs": [
    {
     "name": "stdout",
     "output_type": "stream",
     "text": [
      "[[ 13660  11137    327]\n",
      " [  5095 126738  16426]\n",
      " [   502  30562  56154]]\n"
     ]
    }
   ],
   "source": [
    "from sklearn.metrics import classification_report, confusion_matrix\n",
    "\n",
    "# mixure\n",
    "# print(classification_report(y, y_pred))\n",
    "print(confusion_matrix(y, y_pred))\n",
    "# sns.distplot(y_pred)"
   ],
   "metadata": {
    "collapsed": false
   }
  },
  {
   "cell_type": "code",
   "execution_count": 259,
   "metadata": {
    "collapsed": true
   },
   "outputs": [],
   "source": [
    "class GeneralizedMeanBlender:\n",
    "    \"\"\"Combines multiple predictions using generalized mean\"\"\"\n",
    "    def __init__(self, p_range=(-2,2)):\n",
    "        \"\"\"\"\"\"\n",
    "        self.p_range = p_range\n",
    "        self.p = None\n",
    "        self.weights = None\n",
    "\n",
    "    def _objective(self, trial, X, y):\n",
    "\n",
    "        # create hyperparameters\n",
    "        p = trial.suggest_float(f\"p\", *self.p_range)\n",
    "        weights = [\n",
    "            trial.suggest_float(f\"w{i}\", 0, 1)\n",
    "            for i in range(X.shape[0] * 1)\n",
    "        ]\n",
    "        weights = np.reshape(weights, (X.shape[0], 1, 1))\n",
    "\n",
    "        # blend predictions\n",
    "        if p <= 0:\n",
    "            blend_preds = np.log1p(X) * weights\n",
    "        else:\n",
    "            blend_preds = X**p * weights\n",
    "        blend_preds = np.sum(blend_preds, axis=0)\n",
    "\n",
    "        y_pred = blend_preds.argmax(axis=1) + 1\n",
    "        return f1_score(y, y_pred, average='micro')\n",
    "\n",
    "    def fit(self, X, y, n_trials=10):\n",
    "        # optimize objective\n",
    "        obj = partial(self._objective, X=X, y=y)\n",
    "        study = optuna.create_study(direction=\"maximize\")\n",
    "        study.optimize(obj, n_trials=n_trials)\n",
    "        # extract best weights\n",
    "        if self.p is None:\n",
    "            self.p = [v for k,v in study.best_params.items() if \"p\" in k][0]\n",
    "        self.weights = np.array([v for k,v in study.best_params.items() if \"w\" in k])\n",
    "        self.weights /= self.weights.sum()\n",
    "\n",
    "        self.study = study\n",
    "\n",
    "    def transform(self, X, return_prob=False):\n",
    "        assert self.weights is not None and self.p is not None, \\\n",
    "            \"Must call fit method before transform\"\n",
    "        weights = np.reshape(self.weights, (X.shape[0], 1, 1))\n",
    "        if self.p <= 0:\n",
    "            prob = np.log1p(X) * weights\n",
    "        else:\n",
    "            prob = X**self.p * weights\n",
    "        prob = np.sum(prob, axis=0)\n",
    "\n",
    "        if return_prob:\n",
    "            return prob\n",
    "        else:\n",
    "            return prob.argmax(axis=1) + 1\n",
    "\n",
    "    def fit_transform(self, X, y, **kwargs):\n",
    "        self.fit(X, y, **kwargs)\n",
    "        return self.transform(X)"
   ]
  },
  {
   "cell_type": "code",
   "execution_count": 292,
   "outputs": [
    {
     "name": "stderr",
     "output_type": "stream",
     "text": [
      "\u001B[32m[I 2023-04-21 19:17:18,113]\u001B[0m A new study created in memory with name: no-name-879e478f-37de-403e-980b-14f43e8ae5ac\u001B[0m\n",
      "\u001B[32m[I 2023-04-21 19:17:18,193]\u001B[0m Trial 0 finished with value: 0.751627967659372 and parameters: {'p': -0.11467048551611914, 'w0': 0.8436779393519296, 'w1': 0.008422344985566266, 'w2': 0.856650329997316}. Best is trial 0 with value: 0.751627967659372.\u001B[0m\n",
      "\u001B[32m[I 2023-04-21 19:17:18,263]\u001B[0m Trial 1 finished with value: 0.7532511387139728 and parameters: {'p': -0.38724737490505223, 'w0': 0.15431049803686536, 'w1': 0.6878692314505306, 'w2': 0.7879581487956597}. Best is trial 1 with value: 0.7532511387139728.\u001B[0m\n",
      "\u001B[32m[I 2023-04-21 19:17:18,346]\u001B[0m Trial 2 finished with value: 0.7521882110966572 and parameters: {'p': 0.44274873212808474, 'w0': 0.6813897538311129, 'w1': 0.09790481934021822, 'w2': 0.7275130718431635}. Best is trial 1 with value: 0.7532511387139728.\u001B[0m\n",
      "\u001B[32m[I 2023-04-21 19:17:18,429]\u001B[0m Trial 3 finished with value: 0.7540684801669986 and parameters: {'p': 0.16869630659929458, 'w0': 0.4512235073676276, 'w1': 0.268824279840993, 'w2': 0.07834960781584521}. Best is trial 3 with value: 0.7540684801669986.\u001B[0m\n",
      "\u001B[32m[I 2023-04-21 19:17:18,512]\u001B[0m Trial 4 finished with value: 0.7540147581935602 and parameters: {'p': 1.5320263126743554, 'w0': 0.2959611427884735, 'w1': 0.9276594361137587, 'w2': 0.7125744578662301}. Best is trial 3 with value: 0.7540684801669986.\u001B[0m\n",
      "\u001B[32m[I 2023-04-21 19:17:18,594]\u001B[0m Trial 5 finished with value: 0.7538919651114155 and parameters: {'p': 1.3120731920386541, 'w0': 0.295209897573236, 'w1': 0.7215577626164285, 'w2': 0.7963757473691189}. Best is trial 3 with value: 0.7540684801669986.\u001B[0m\n",
      "\u001B[32m[I 2023-04-21 19:17:18,677]\u001B[0m Trial 6 finished with value: 0.7525412412078235 and parameters: {'p': 1.9502122283493142, 'w0': 0.9544508316003323, 'w1': 0.046832877430449615, 'w2': 0.6753502015831592}. Best is trial 3 with value: 0.7540684801669986.\u001B[0m\n",
      "\u001B[32m[I 2023-04-21 19:17:18,747]\u001B[0m Trial 7 finished with value: 0.7496172309392519 and parameters: {'p': -0.20467253346247682, 'w0': 0.11698360783500938, 'w1': 0.015128108137253293, 'w2': 0.289658992698971}. Best is trial 3 with value: 0.7540684801669986.\u001B[0m\n",
      "\u001B[32m[I 2023-04-21 19:17:18,818]\u001B[0m Trial 8 finished with value: 0.7538727786923304 and parameters: {'p': -0.5972901637735695, 'w0': 0.6684120995132801, 'w1': 0.6014332239398947, 'w2': 0.7998164323748461}. Best is trial 3 with value: 0.7540684801669986.\u001B[0m\n",
      "\u001B[32m[I 2023-04-21 19:17:18,889]\u001B[0m Trial 9 finished with value: 0.7543869747238114 and parameters: {'p': -1.4792756385775316, 'w0': 0.6883381334342977, 'w1': 0.943894359553435, 'w2': 0.7774924691891656}. Best is trial 9 with value: 0.7543869747238114.\u001B[0m\n",
      "\u001B[32m[I 2023-04-21 19:17:18,969]\u001B[0m Trial 10 finished with value: 0.7540492937479135 and parameters: {'p': -1.9573495002198933, 'w0': 0.6308671413952656, 'w1': 0.9933999181804832, 'w2': 0.9787112168013825}. Best is trial 9 with value: 0.7543869747238114.\u001B[0m\n",
      "\u001B[32m[I 2023-04-21 19:17:19,049]\u001B[0m Trial 11 finished with value: 0.7540799920184497 and parameters: {'p': -1.5652549322457814, 'w0': 0.4844555209584379, 'w1': 0.42072970318174896, 'w2': 0.06531663235773491}. Best is trial 9 with value: 0.7543869747238114.\u001B[0m\n",
      "\u001B[32m[I 2023-04-21 19:17:19,127]\u001B[0m Trial 12 finished with value: 0.7541682495462412 and parameters: {'p': -1.7716203303260913, 'w0': 0.46716829443938324, 'w1': 0.4227822217892717, 'w2': 0.46996572230807565}. Best is trial 9 with value: 0.7543869747238114.\u001B[0m\n",
      "\u001B[32m[I 2023-04-21 19:17:19,206]\u001B[0m Trial 13 finished with value: 0.7540454564640966 and parameters: {'p': -1.274756941254482, 'w0': 0.7956320068180659, 'w1': 0.44365225183165424, 'w2': 0.5235233966051065}. Best is trial 9 with value: 0.7543869747238114.\u001B[0m\n",
      "\u001B[32m[I 2023-04-21 19:17:19,286]\u001B[0m Trial 14 finished with value: 0.7544099984267136 and parameters: {'p': -1.1288449062972246, 'w0': 0.5128064378986532, 'w1': 0.8264830345067155, 'w2': 0.5572287342287041}. Best is trial 14 with value: 0.7544099984267136.\u001B[0m\n",
      "\u001B[32m[I 2023-04-21 19:17:19,366]\u001B[0m Trial 15 finished with value: 0.7544483712648838 and parameters: {'p': -1.133367076571354, 'w0': 0.5745962753090463, 'w1': 0.8153603261427411, 'w2': 0.5804766047647235}. Best is trial 15 with value: 0.7544483712648838.\u001B[0m\n",
      "\u001B[32m[I 2023-04-21 19:17:19,445]\u001B[0m Trial 16 finished with value: 0.7544982559545053 and parameters: {'p': -1.0520398438712038, 'w0': 0.5793137566610929, 'w1': 0.8210511774304649, 'w2': 0.5564789413892045}. Best is trial 16 with value: 0.7544982559545053.\u001B[0m\n",
      "\u001B[32m[I 2023-04-21 19:17:19,525]\u001B[0m Trial 17 finished with value: 0.7545327915088583 and parameters: {'p': -0.833464936606662, 'w0': 0.5835685375276449, 'w1': 0.7935108547678825, 'w2': 0.4671364980090682}. Best is trial 17 with value: 0.7545327915088583.\u001B[0m\n",
      "\u001B[32m[I 2023-04-21 19:17:19,604]\u001B[0m Trial 18 finished with value: 0.7533662572284833 and parameters: {'p': -0.7761990975725204, 'w0': 0.008721262758505932, 'w1': 0.6210869655206999, 'w2': 0.3760204565708188}. Best is trial 17 with value: 0.7545327915088583.\u001B[0m\n",
      "\u001B[32m[I 2023-04-21 19:17:19,684]\u001B[0m Trial 19 finished with value: 0.7546363981719181 and parameters: {'p': -0.8152793457891551, 'w0': 0.7923371773804624, 'w1': 0.8100472124504364, 'w2': 0.41065166908331474}. Best is trial 19 with value: 0.7546363981719181.\u001B[0m\n",
      "\u001B[32m[I 2023-04-21 19:17:19,763]\u001B[0m Trial 20 finished with value: 0.7541912732491435 and parameters: {'p': -0.7324012634785182, 'w0': 0.9658781217974134, 'w1': 0.5697558221718395, 'w2': 0.2862093159817927}. Best is trial 19 with value: 0.7546363981719181.\u001B[0m\n",
      "\u001B[32m[I 2023-04-21 19:17:19,842]\u001B[0m Trial 21 finished with value: 0.7546479100233691 and parameters: {'p': -0.9203864141774964, 'w0': 0.7629721310280082, 'w1': 0.8254816120253872, 'w2': 0.4279106978607262}. Best is trial 21 with value: 0.7546479100233691.\u001B[0m\n",
      "\u001B[32m[I 2023-04-21 19:17:19,921]\u001B[0m Trial 22 finished with value: 0.7545558152117605 and parameters: {'p': -0.8372063601370916, 'w0': 0.7939461553102088, 'w1': 0.7342078426737698, 'w2': 0.42323216606036684}. Best is trial 21 with value: 0.7546479100233691.\u001B[0m\n",
      "\u001B[32m[I 2023-04-21 19:17:20,001]\u001B[0m Trial 23 finished with value: 0.7545903507661137 and parameters: {'p': -0.5020137176071393, 'w0': 0.7838979345630015, 'w1': 0.7259125912322834, 'w2': 0.37419012897671644}. Best is trial 21 with value: 0.7546479100233691.\u001B[0m\n",
      "\u001B[32m[I 2023-04-21 19:17:20,093]\u001B[0m Trial 24 finished with value: 0.7544176729943477 and parameters: {'p': 0.1776945180498981, 'w0': 0.9007685853842339, 'w1': 0.8882278604086667, 'w2': 0.34766391808224134}. Best is trial 21 with value: 0.7546479100233691.\u001B[0m\n",
      "\u001B[32m[I 2023-04-21 19:17:20,172]\u001B[0m Trial 25 finished with value: 0.7540838293022667 and parameters: {'p': -0.48444449655865673, 'w0': 0.7834571180650187, 'w1': 0.8801742634971177, 'w2': 0.18573996443879298}. Best is trial 21 with value: 0.7546479100233691.\u001B[0m\n",
      "\u001B[32m[I 2023-04-21 19:17:20,253]\u001B[0m Trial 26 finished with value: 0.7543140663312881 and parameters: {'p': -0.3699760744240086, 'w0': 0.7420611425008234, 'w1': 0.997435932789012, 'w2': 0.381556971949589}. Best is trial 21 with value: 0.7546479100233691.\u001B[0m\n",
      "\u001B[32m[I 2023-04-21 19:17:20,332]\u001B[0m Trial 27 finished with value: 0.7542104596682285 and parameters: {'p': -1.298189908037441, 'w0': 0.8599826929017562, 'w1': 0.6780970389326036, 'w2': 0.24405949042718011}. Best is trial 21 with value: 0.7546479100233691.\u001B[0m\n",
      "\u001B[32m[I 2023-04-21 19:17:20,411]\u001B[0m Trial 28 finished with value: 0.7545443033603093 and parameters: {'p': -1.651130105126335, 'w0': 0.9035432426262141, 'w1': 0.7593182969736626, 'w2': 0.4468666536110265}. Best is trial 21 with value: 0.7546479100233691.\u001B[0m\n",
      "\u001B[32m[I 2023-04-21 19:17:20,491]\u001B[0m Trial 29 finished with value: 0.7544522085487008 and parameters: {'p': -0.16837859906925784, 'w0': 0.8600095939376922, 'w1': 0.752959839573194, 'w2': 0.34746388425822206}. Best is trial 21 with value: 0.7546479100233691.\u001B[0m\n",
      "\u001B[32m[I 2023-04-21 19:17:20,571]\u001B[0m Trial 30 finished with value: 0.7545634897793945 and parameters: {'p': -0.9889602341116098, 'w0': 0.74162212172015, 'w1': 0.8844663858199991, 'w2': 0.636431621032858}. Best is trial 21 with value: 0.7546479100233691.\u001B[0m\n",
      "\u001B[32m[I 2023-04-21 19:17:20,650]\u001B[0m Trial 31 finished with value: 0.754486744103054 and parameters: {'p': -0.9493942034491062, 'w0': 0.754240935751346, 'w1': 0.8634712014565389, 'w2': 0.6317214359470605}. Best is trial 21 with value: 0.7546479100233691.\u001B[0m\n",
      "\u001B[32m[I 2023-04-21 19:17:20,729]\u001B[0m Trial 32 finished with value: 0.7543716255885435 and parameters: {'p': -0.5646893877396635, 'w0': 0.9951024907623276, 'w1': 0.684164567632553, 'w2': 0.5037692758959703}. Best is trial 21 with value: 0.7546479100233691.\u001B[0m\n",
      "\u001B[32m[I 2023-04-21 19:17:20,809]\u001B[0m Trial 33 finished with value: 0.7545903507661137 and parameters: {'p': -1.32801663443313, 'w0': 0.7282594874345544, 'w1': 0.8787357835217526, 'w2': 0.6174026829895005}. Best is trial 21 with value: 0.7546479100233691.\u001B[0m\n",
      "\u001B[32m[I 2023-04-21 19:17:20,889]\u001B[0m Trial 34 finished with value: 0.7546287236042839 and parameters: {'p': -1.3381243908798361, 'w0': 0.8248776358566402, 'w1': 0.7893286233788307, 'w2': 0.41879004617893273}. Best is trial 21 with value: 0.7546479100233691.\u001B[0m\n",
      "\u001B[32m[I 2023-04-21 19:17:20,969]\u001B[0m Trial 35 finished with value: 0.7545750016308457 and parameters: {'p': -0.32163938320486674, 'w0': 0.8339671383553318, 'w1': 0.7820545865688021, 'w2': 0.40434626387385714}. Best is trial 21 with value: 0.7546479100233691.\u001B[0m\n",
      "\u001B[32m[I 2023-04-21 19:17:21,049]\u001B[0m Trial 36 finished with value: 0.754486744103054 and parameters: {'p': -0.02506367821024902, 'w0': 0.8187811129736051, 'w1': 0.6720644236920079, 'w2': 0.5066202640578609}. Best is trial 21 with value: 0.7546479100233691.\u001B[0m\n",
      "\u001B[32m[I 2023-04-21 19:17:21,129]\u001B[0m Trial 37 finished with value: 0.7544215102781647 and parameters: {'p': -0.6481960094314598, 'w0': 0.9177245122366353, 'w1': 0.7141577603533404, 'w2': 0.43461893427970427}. Best is trial 21 with value: 0.7546479100233691.\u001B[0m\n",
      "\u001B[32m[I 2023-04-21 19:17:21,209]\u001B[0m Trial 38 finished with value: 0.7543524391694583 and parameters: {'p': -0.4197842943147134, 'w0': 0.8658477393932054, 'w1': 0.7643629652630325, 'w2': 0.3217444313366424}. Best is trial 21 with value: 0.7546479100233691.\u001B[0m\n",
      "\u001B[32m[I 2023-04-21 19:17:21,289]\u001B[0m Trial 39 finished with value: 0.7541644122624241 and parameters: {'p': -1.4281658378334796, 'w0': 0.7042465800397423, 'w1': 0.9335131409972932, 'w2': 0.21323604711361874}. Best is trial 21 with value: 0.7546479100233691.\u001B[0m\n",
      "\u001B[32m[I 2023-04-21 19:17:21,369]\u001B[0m Trial 40 finished with value: 0.7545673270632115 and parameters: {'p': -1.1872713074520584, 'w0': 0.6511451324764658, 'w1': 0.6355093452164589, 'w2': 0.39942241499116976}. Best is trial 21 with value: 0.7546479100233691.\u001B[0m\n",
      "\u001B[32m[I 2023-04-21 19:17:21,449]\u001B[0m Trial 41 finished with value: 0.7546133744690159 and parameters: {'p': -0.8960702114558616, 'w0': 0.7471125980355897, 'w1': 0.8367769248707988, 'w2': 0.4587525395343571}. Best is trial 21 with value: 0.7546479100233691.\u001B[0m\n",
      "\u001B[32m[I 2023-04-21 19:17:21,530]\u001B[0m Trial 42 finished with value: 0.7546479100233691 and parameters: {'p': -0.9425324916884656, 'w0': 0.7734888264721839, 'w1': 0.8288281773669299, 'w2': 0.4530644418917858}. Best is trial 21 with value: 0.7546479100233691.\u001B[0m\n",
      "\u001B[32m[I 2023-04-21 19:17:21,610]\u001B[0m Trial 43 finished with value: 0.7546056999013817 and parameters: {'p': -0.9536481805416547, 'w0': 0.6993322117334515, 'w1': 0.8431576816520342, 'w2': 0.47015767668591274}. Best is trial 21 with value: 0.7546479100233691.\u001B[0m\n",
      "\u001B[32m[I 2023-04-21 19:17:21,692]\u001B[0m Trial 44 finished with value: 0.7545788389146626 and parameters: {'p': -1.4427193767542654, 'w0': 0.8165775901035476, 'w1': 0.9256438970993875, 'w2': 0.5177492123432427}. Best is trial 21 with value: 0.7546479100233691.\u001B[0m\n",
      "\u001B[32m[I 2023-04-21 19:17:21,772]\u001B[0m Trial 45 finished with value: 0.7545596524955775 and parameters: {'p': -1.1891378999402464, 'w0': 0.6665593840866133, 'w1': 0.8000051826151499, 'w2': 0.44247999904843266}. Best is trial 21 with value: 0.7546479100233691.\u001B[0m\n",
      "\u001B[32m[I 2023-04-21 19:17:21,852]\u001B[0m Trial 46 finished with value: 0.7543370900341902 and parameters: {'p': -1.6485541793856187, 'w0': 0.7703747545006757, 'w1': 0.8410965916099983, 'w2': 0.30602105676549773}. Best is trial 21 with value: 0.7546479100233691.\u001B[0m\n",
      "\u001B[32m[I 2023-04-21 19:17:21,932]\u001B[0m Trial 47 finished with value: 0.7543831374399946 and parameters: {'p': -0.6999611467139433, 'w0': 0.7151029628993731, 'w1': 0.9525776061362732, 'w2': 0.47866410826802736}. Best is trial 21 with value: 0.7546479100233691.\u001B[0m\n",
      "\u001B[32m[I 2023-04-21 19:17:22,013]\u001B[0m Trial 48 finished with value: 0.7545136050897733 and parameters: {'p': -1.8941833304176316, 'w0': 0.9423958908025184, 'w1': 0.7878251141381265, 'w2': 0.5453355524850146}. Best is trial 21 with value: 0.7546479100233691.\u001B[0m\n",
      "\u001B[32m[I 2023-04-21 19:17:22,093]\u001B[0m Trial 49 finished with value: 0.7545711643470286 and parameters: {'p': -0.975223262661791, 'w0': 0.847330269772277, 'w1': 0.830755109050287, 'w2': 0.5874763323757888}. Best is trial 21 with value: 0.7546479100233691.\u001B[0m\n",
      "\u001B[32m[I 2023-04-21 19:17:22,174]\u001B[0m Trial 50 finished with value: 0.7543332527503731 and parameters: {'p': -1.3572217435396248, 'w0': 0.6323689010678691, 'w1': 0.9109603823983026, 'w2': 0.41448699475034245}. Best is trial 21 with value: 0.7546479100233691.\u001B[0m\n",
      "\u001B[32m[I 2023-04-21 19:17:22,254]\u001B[0m Trial 51 finished with value: 0.7545903507661137 and parameters: {'p': -0.8714822264643558, 'w0': 0.6938126119764264, 'w1': 0.8345834215433222, 'w2': 0.49316105188074705}. Best is trial 21 with value: 0.7546479100233691.\u001B[0m\n",
      "\u001B[32m[I 2023-04-21 19:17:22,335]\u001B[0m Trial 52 finished with value: 0.7545673270632115 and parameters: {'p': -1.086151491252084, 'w0': 0.7321930009468302, 'w1': 0.8475326913932841, 'w2': 0.4650520281845016}. Best is trial 21 with value: 0.7546479100233691.\u001B[0m\n",
      "\u001B[32m[I 2023-04-21 19:17:22,416]\u001B[0m Trial 53 finished with value: 0.7545980253337479 and parameters: {'p': -0.6444035171441768, 'w0': 0.7927378115822413, 'w1': 0.963461756056609, 'w2': 0.5286061857897317}. Best is trial 21 with value: 0.7546479100233691.\u001B[0m\n",
      "\u001B[32m[I 2023-04-21 19:17:22,497]\u001B[0m Trial 54 finished with value: 0.7545481406441265 and parameters: {'p': -0.9201606061178603, 'w0': 0.8867432222024687, 'w1': 0.9143451082153511, 'w2': 0.433856307749231}. Best is trial 21 with value: 0.7546479100233691.\u001B[0m\n",
      "\u001B[32m[I 2023-04-21 19:17:22,579]\u001B[0m Trial 55 finished with value: 0.7545059305221391 and parameters: {'p': -1.540981195191843, 'w0': 0.8152451977471193, 'w1': 0.8033783667958188, 'w2': 0.3754766581469194}. Best is trial 21 with value: 0.7546479100233691.\u001B[0m\n",
      "\u001B[32m[I 2023-04-21 19:17:22,659]\u001B[0m Trial 56 finished with value: 0.7546172117528329 and parameters: {'p': -1.2039103103025681, 'w0': 0.6801884345272871, 'w1': 0.7257083539104949, 'w2': 0.4785859016530243}. Best is trial 21 with value: 0.7546479100233691.\u001B[0m\n",
      "\u001B[32m[I 2023-04-21 19:17:22,739]\u001B[0m Trial 57 finished with value: 0.754482906819237 and parameters: {'p': -1.0901516902007709, 'w0': 0.7584826124642586, 'w1': 0.7583605780338324, 'w2': 0.5686592071364301}. Best is trial 21 with value: 0.7546479100233691.\u001B[0m\n",
      "\u001B[32m[I 2023-04-21 19:17:22,820]\u001B[0m Trial 58 finished with value: 0.7544406966972498 and parameters: {'p': -1.2521901368572455, 'w0': 0.6226473190222296, 'w1': 0.717840190556659, 'w2': 0.33586049398063167}. Best is trial 21 with value: 0.7546479100233691.\u001B[0m\n",
      "\u001B[32m[I 2023-04-21 19:17:22,901]\u001B[0m Trial 59 finished with value: 0.7543179036151051 and parameters: {'p': -0.7503418914659281, 'w0': 0.6747366709330471, 'w1': 0.5592039833316437, 'w2': 0.4936491600190692}. Best is trial 21 with value: 0.7546479100233691.\u001B[0m\n",
      "\u001B[32m[I 2023-04-21 19:17:22,981]\u001B[0m Trial 60 finished with value: 0.7546901201453563 and parameters: {'p': -1.4388164969582244, 'w0': 0.7626917129228142, 'w1': 0.7953832081488051, 'w2': 0.4098843309564127}. Best is trial 60 with value: 0.7546901201453563.\u001B[0m\n",
      "\u001B[32m[I 2023-04-21 19:17:23,062]\u001B[0m Trial 61 finished with value: 0.7546939574291733 and parameters: {'p': -1.4882252999895473, 'w0': 0.7715739852611053, 'w1': 0.7958307530394784, 'w2': 0.4085404293739165}. Best is trial 61 with value: 0.7546939574291733.\u001B[0m\n",
      "\u001B[32m[I 2023-04-21 19:17:23,143]\u001B[0m Trial 62 finished with value: 0.7545327915088583 and parameters: {'p': -1.7477419761683852, 'w0': 0.8283812866918042, 'w1': 0.7882149088197872, 'w2': 0.39497453274484073}. Best is trial 61 with value: 0.7546939574291733.\u001B[0m\n",
      "\u001B[32m[I 2023-04-21 19:17:23,225]\u001B[0m Trial 63 finished with value: 0.7545634897793945 and parameters: {'p': -1.4496543107712756, 'w0': 0.7672500328073165, 'w1': 0.7321901623769339, 'w2': 0.36579410372984206}. Best is trial 61 with value: 0.7546939574291733.\u001B[0m\n",
      "\u001B[32m[I 2023-04-21 19:17:23,305]\u001B[0m Trial 64 finished with value: 0.7545136050897733 and parameters: {'p': -1.5319820138955311, 'w0': 0.7974311918987397, 'w1': 0.8706145136863822, 'w2': 0.41600071125917915}. Best is trial 61 with value: 0.7546939574291733.\u001B[0m\n",
      "\u001B[32m[I 2023-04-21 19:17:23,386]\u001B[0m Trial 65 finished with value: 0.754471394967786 and parameters: {'p': -1.2624122620534683, 'w0': 0.8739978894754808, 'w1': 0.7587080367889619, 'w2': 0.3590753189575159}. Best is trial 61 with value: 0.7546939574291733.\u001B[0m\n",
      "\u001B[32m[I 2023-04-21 19:17:23,468]\u001B[0m Trial 66 finished with value: 0.7543524391694583 and parameters: {'p': -1.1214577337074811, 'w0': 0.7143536586153232, 'w1': 0.7976640277787478, 'w2': 0.28795871045607624}. Best is trial 61 with value: 0.7546939574291733.\u001B[0m\n",
      "\u001B[32m[I 2023-04-21 19:17:23,549]\u001B[0m Trial 67 finished with value: 0.7545174423735903 and parameters: {'p': -1.3602981554616205, 'w0': 0.8399855832400059, 'w1': 0.9008815330495425, 'w2': 0.4343981305186183}. Best is trial 61 with value: 0.7546939574291733.\u001B[0m\n",
      "\u001B[32m[I 2023-04-21 19:17:23,630]\u001B[0m Trial 68 finished with value: 0.7545903507661137 and parameters: {'p': -1.6294292701453583, 'w0': 0.7705331280947108, 'w1': 0.7021088284725077, 'w2': 0.3884997466920869}. Best is trial 61 with value: 0.7546939574291733.\u001B[0m\n",
      "\u001B[32m[I 2023-04-21 19:17:23,711]\u001B[0m Trial 69 finished with value: 0.7543524391694583 and parameters: {'p': -1.8080134358162794, 'w0': 0.9193325256595243, 'w1': 0.8152635597188306, 'w2': 0.3332159717529375}. Best is trial 61 with value: 0.7546939574291733.\u001B[0m\n",
      "\u001B[32m[I 2023-04-21 19:17:23,792]\u001B[0m Trial 70 finished with value: 0.7543831374399946 and parameters: {'p': -1.0358944020408072, 'w0': 0.8048247386441556, 'w1': 0.657672718120272, 'w2': 0.5239445340563136}. Best is trial 61 with value: 0.7546939574291733.\u001B[0m\n",
      "\u001B[32m[I 2023-04-21 19:17:23,874]\u001B[0m Trial 71 finished with value: 0.7545136050897733 and parameters: {'p': -0.8347768504763744, 'w0': 0.7387103235712937, 'w1': 0.859002776681116, 'w2': 0.4577431670005129}. Best is trial 61 with value: 0.7546939574291733.\u001B[0m\n",
      "\u001B[32m[I 2023-04-21 19:17:23,954]\u001B[0m Trial 72 finished with value: 0.7545404660764924 and parameters: {'p': -1.196834592256397, 'w0': 0.7446849555271189, 'w1': 0.7392589410461156, 'w2': 0.48065370426405923}. Best is trial 61 with value: 0.7546939574291733.\u001B[0m\n",
      "\u001B[32m[I 2023-04-21 19:17:24,035]\u001B[0m Trial 73 finished with value: 0.7546095371851987 and parameters: {'p': -1.3583661849926623, 'w0': 0.7767403937978209, 'w1': 0.7692503807402405, 'w2': 0.4177026296081281}. Best is trial 61 with value: 0.7546939574291733.\u001B[0m\n",
      "\u001B[32m[I 2023-04-21 19:17:24,115]\u001B[0m Trial 74 finished with value: 0.7543946492914455 and parameters: {'p': -0.8088993619004261, 'w0': 0.6856140747113162, 'w1': 0.8198447289527133, 'w2': 0.388080056226131}. Best is trial 61 with value: 0.7546939574291733.\u001B[0m\n",
      "\u001B[32m[I 2023-04-21 19:17:24,196]\u001B[0m Trial 75 finished with value: 0.7546287236042839 and parameters: {'p': -1.0413198119379217, 'w0': 0.8406609893546279, 'w1': 0.8827696256344838, 'w2': 0.43765302852589566}. Best is trial 61 with value: 0.7546939574291733.\u001B[0m\n",
      "\u001B[32m[I 2023-04-21 19:17:24,277]\u001B[0m Trial 76 finished with value: 0.7544176729943477 and parameters: {'p': -1.5133918788413285, 'w0': 0.8466560534998808, 'w1': 0.8941589149707068, 'w2': 0.36151493123347056}. Best is trial 61 with value: 0.7546939574291733.\u001B[0m\n",
      "\u001B[32m[I 2023-04-21 19:17:24,359]\u001B[0m Trial 77 finished with value: 0.7545020932383222 and parameters: {'p': -1.0422823977196518, 'w0': 0.8676320870799441, 'w1': 0.7012551690807062, 'w2': 0.43173284965220815}. Best is trial 61 with value: 0.7546939574291733.\u001B[0m\n",
      "\u001B[32m[I 2023-04-21 19:17:24,440]\u001B[0m Trial 78 finished with value: 0.7546210490366501 and parameters: {'p': -1.1961115338822148, 'w0': 0.8904639782750169, 'w1': 0.8728378548460828, 'w2': 0.4943187730335489}. Best is trial 61 with value: 0.7546939574291733.\u001B[0m\n",
      "\u001B[32m[I 2023-04-21 19:17:24,522]\u001B[0m Trial 79 finished with value: 0.7546133744690159 and parameters: {'p': -0.5579942291037934, 'w0': 0.8884694672635597, 'w1': 0.9709363382909751, 'w2': 0.5056910982668039}. Best is trial 61 with value: 0.7546939574291733.\u001B[0m\n",
      "\u001B[32m[I 2023-04-21 19:17:24,604]\u001B[0m Trial 80 finished with value: 0.7544253475619818 and parameters: {'p': -1.3967006353888003, 'w0': 0.9484567970243866, 'w1': 0.8911965874456886, 'w2': 0.40194066378668997}. Best is trial 61 with value: 0.7546939574291733.\u001B[0m\n",
      "\u001B[32m[I 2023-04-21 19:17:24,685]\u001B[0m Trial 81 finished with value: 0.7546786082939052 and parameters: {'p': -1.2482472415110974, 'w0': 0.8224852608522034, 'w1': 0.861880785926181, 'w2': 0.4572844559105115}. Best is trial 61 with value: 0.7546939574291733.\u001B[0m\n",
      "\u001B[32m[I 2023-04-21 19:17:24,766]\u001B[0m Trial 82 finished with value: 0.7547131438482584 and parameters: {'p': -1.311315760467604, 'w0': 0.8363879352378021, 'w1': 0.8625331645971366, 'w2': 0.44924673182999464}. Best is trial 82 with value: 0.7547131438482584.\u001B[0m\n",
      "\u001B[32m[I 2023-04-21 19:17:24,848]\u001B[0m Trial 83 finished with value: 0.7544944186706881 and parameters: {'p': -1.2974333411285603, 'w0': 0.8231592478094351, 'w1': 0.9263094323332376, 'w2': 0.450840994191477}. Best is trial 82 with value: 0.7547131438482584.\u001B[0m\n",
      "\u001B[32m[I 2023-04-21 19:17:24,929]\u001B[0m Trial 84 finished with value: 0.7545097678059561 and parameters: {'p': -1.597206082027955, 'w0': 0.8088187464569705, 'w1': 0.8656292471010527, 'w2': 0.4156951674900067}. Best is trial 82 with value: 0.7547131438482584.\u001B[0m\n",
      "\u001B[32m[I 2023-04-21 19:17:25,011]\u001B[0m Trial 85 finished with value: 0.7543370900341902 and parameters: {'p': -0.9813487627752243, 'w0': 0.8461066099557184, 'w1': 0.8176008682215985, 'w2': 0.3142600048777666}. Best is trial 82 with value: 0.7547131438482584.\u001B[0m\n",
      "\u001B[32m[I 2023-04-21 19:17:25,091]\u001B[0m Trial 86 finished with value: 0.7545980253337479 and parameters: {'p': -1.4561410490356717, 'w0': 0.7799254780336444, 'w1': 0.8556569130653927, 'w2': 0.44940880262540933}. Best is trial 82 with value: 0.7547131438482584.\u001B[0m\n",
      "\u001B[32m[I 2023-04-21 19:17:25,173]\u001B[0m Trial 87 finished with value: 0.7543793001561775 and parameters: {'p': -0.739660175025848, 'w0': 0.90939906581812, 'w1': 0.942114953727053, 'w2': 0.3467964964505039}. Best is trial 82 with value: 0.7547131438482584.\u001B[0m\n",
      "\u001B[32m[I 2023-04-21 19:17:25,254]\u001B[0m Trial 88 finished with value: 0.7545980253337479 and parameters: {'p': -1.7114989717938636, 'w0': 0.7959742692812103, 'w1': 0.776591741830732, 'w2': 0.5418646307175361}. Best is trial 82 with value: 0.7547131438482584.\u001B[0m\n",
      "\u001B[32m[I 2023-04-21 19:17:25,335]\u001B[0m Trial 89 finished with value: 0.754482906819237 and parameters: {'p': -1.0591901315424228, 'w0': 0.8314456952492693, 'w1': 0.8442921299470524, 'w2': 0.37869201534784225}. Best is trial 82 with value: 0.7547131438482584.\u001B[0m\n",
      "\u001B[32m[I 2023-04-21 19:17:25,417]\u001B[0m Trial 90 finished with value: 0.7544675576839691 and parameters: {'p': -1.2945187955373951, 'w0': 0.7195053498897115, 'w1': 0.9113799191984886, 'w2': 0.4656643000758556}. Best is trial 82 with value: 0.7547131438482584.\u001B[0m\n",
      "\u001B[32m[I 2023-04-21 19:17:25,499]\u001B[0m Trial 91 finished with value: 0.7545750016308457 and parameters: {'p': -1.141025524448577, 'w0': 0.8732868319077637, 'w1': 0.8758301789359888, 'w2': 0.4995673879004803}. Best is trial 82 with value: 0.7547131438482584.\u001B[0m\n",
      "\u001B[32m[I 2023-04-21 19:17:25,586]\u001B[0m Trial 92 finished with value: 0.7545481406441265 and parameters: {'p': -1.1634471189243056, 'w0': 0.902202333441915, 'w1': 0.8191486733444748, 'w2': 0.43031298770956616}. Best is trial 82 with value: 0.7547131438482584.\u001B[0m\n",
      "\u001B[32m[I 2023-04-21 19:17:25,668]\u001B[0m Trial 93 finished with value: 0.7545558152117605 and parameters: {'p': -1.4878184554209906, 'w0': 0.8546683844006391, 'w1': 0.7894191684920572, 'w2': 0.3946443926156663}. Best is trial 82 with value: 0.7547131438482584.\u001B[0m\n",
      "\u001B[32m[I 2023-04-21 19:17:25,750]\u001B[0m Trial 94 finished with value: 0.7545865134822967 and parameters: {'p': -0.9284765984772514, 'w0': 0.7572576694492822, 'w1': 0.8824592018841007, 'w2': 0.48581984018763885}. Best is trial 82 with value: 0.7547131438482584.\u001B[0m\n",
      "\u001B[32m[I 2023-04-21 19:17:25,830]\u001B[0m Trial 95 finished with value: 0.7545980253337479 and parameters: {'p': -1.2759152732030514, 'w0': 0.8139743169212289, 'w1': 0.9827001243635368, 'w2': 0.5257266888053419}. Best is trial 82 with value: 0.7547131438482584.\u001B[0m\n",
      "\u001B[32m[I 2023-04-21 19:17:25,910]\u001B[0m Trial 96 finished with value: 0.7545251169412244 and parameters: {'p': -1.4012773837749777, 'w0': 0.8857593004817603, 'w1': 0.9531645747647618, 'w2': 0.4478351095890576}. Best is trial 82 with value: 0.7547131438482584.\u001B[0m\n",
      "\u001B[32m[I 2023-04-21 19:17:25,991]\u001B[0m Trial 97 finished with value: 0.7545711643470286 and parameters: {'p': -1.2238397203202351, 'w0': 0.9327022177561625, 'w1': 0.8507239256755236, 'w2': 0.4680374793780904}. Best is trial 82 with value: 0.7547131438482584.\u001B[0m\n",
      "\u001B[32m[I 2023-04-21 19:17:26,073]\u001B[0m Trial 98 finished with value: 0.7545788389146626 and parameters: {'p': -1.5673190177975438, 'w0': 0.7878303830982749, 'w1': 0.7437146290001221, 'w2': 0.40799672478161353}. Best is trial 82 with value: 0.7547131438482584.\u001B[0m\n",
      "\u001B[32m[I 2023-04-21 19:17:26,154]\u001B[0m Trial 99 finished with value: 0.7546172117528329 and parameters: {'p': -1.1202243683670998, 'w0': 0.8306338850233629, 'w1': 0.9219095548079506, 'w2': 0.5089097174041016}. Best is trial 82 with value: 0.7547131438482584.\u001B[0m\n",
      "\u001B[32m[I 2023-04-21 19:17:26,235]\u001B[0m Trial 100 finished with value: 0.7544483712648838 and parameters: {'p': -1.0100014392789733, 'w0': 0.9656690263078227, 'w1': 0.8042609136733428, 'w2': 0.35323284563478796}. Best is trial 82 with value: 0.7547131438482584.\u001B[0m\n",
      "\u001B[32m[I 2023-04-21 19:17:26,316]\u001B[0m Trial 101 finished with value: 0.7545788389146626 and parameters: {'p': -1.2112055772992885, 'w0': 0.7703497056246362, 'w1': 0.7759330514062366, 'w2': 0.4789380876758887}. Best is trial 82 with value: 0.7547131438482584.\u001B[0m\n",
      "\u001B[32m[I 2023-04-21 19:17:26,397]\u001B[0m Trial 102 finished with value: 0.7544905813868711 and parameters: {'p': -0.8747563116843797, 'w0': 0.7088248404313165, 'w1': 0.842277832686063, 'w2': 0.43902417261990595}. Best is trial 82 with value: 0.7547131438482584.\u001B[0m\n",
      "\u001B[32m[I 2023-04-21 19:17:26,478]\u001B[0m Trial 103 finished with value: 0.7545826761984797 and parameters: {'p': -1.3374434142685285, 'w0': 0.7380846592919406, 'w1': 0.9010227351238894, 'w2': 0.48752185331340403}. Best is trial 82 with value: 0.7547131438482584.\u001B[0m\n",
      "\u001B[32m[I 2023-04-21 19:17:26,559]\u001B[0m Trial 104 finished with value: 0.7546824455777222 and parameters: {'p': -1.19154573966074, 'w0': 0.8035937250153274, 'w1': 0.8314415841541931, 'w2': 0.42700213483536986}. Best is trial 82 with value: 0.7547131438482584.\u001B[0m\n",
      "\u001B[32m[I 2023-04-21 19:17:26,640]\u001B[0m Trial 105 finished with value: 0.754482906819237 and parameters: {'p': -1.085060408124244, 'w0': 0.8031444137514586, 'w1': 0.8639624494164481, 'w2': 0.37586322401370703}. Best is trial 82 with value: 0.7547131438482584.\u001B[0m\n",
      "\u001B[32m[I 2023-04-21 19:17:26,721]\u001B[0m Trial 106 finished with value: 0.7546056999013817 and parameters: {'p': -1.4166572057751552, 'w0': 0.8474015039726404, 'w1': 0.8291956922842924, 'w2': 0.4292678965567854}. Best is trial 82 with value: 0.7547131438482584.\u001B[0m\n",
      "\u001B[32m[I 2023-04-21 19:17:26,803]\u001B[0m Trial 107 finished with value: 0.7545404660764924 and parameters: {'p': -0.9516380913094166, 'w0': 0.8643663679527764, 'w1': 0.8012561862231586, 'w2': 0.4059726975320803}. Best is trial 82 with value: 0.7547131438482584.\u001B[0m\n",
      "\u001B[32m[I 2023-04-21 19:17:26,884]\u001B[0m Trial 108 finished with value: 0.7546172117528329 and parameters: {'p': -0.7808890360038002, 'w0': 0.7573950402749239, 'w1': 0.7681101190468719, 'w2': 0.4558218478826323}. Best is trial 82 with value: 0.7547131438482584.\u001B[0m\n",
      "\u001B[32m[I 2023-04-21 19:17:26,965]\u001B[0m Trial 109 finished with value: 0.754471394967786 and parameters: {'p': -0.6560256118047951, 'w0': 0.7829812432943026, 'w1': 0.886345301343656, 'w2': 0.419350883160066}. Best is trial 82 with value: 0.7547131438482584.\u001B[0m\n",
      "\u001B[32m[I 2023-04-21 19:17:27,047]\u001B[0m Trial 110 finished with value: 0.7545020932383222 and parameters: {'p': -1.5180678464892132, 'w0': 0.8239273983747024, 'w1': 0.8281402289178335, 'w2': 0.38692117906962253}. Best is trial 82 with value: 0.7547131438482584.\u001B[0m\n",
      "\u001B[32m[I 2023-04-21 19:17:27,129]\u001B[0m Trial 111 finished with value: 0.7545865134822967 and parameters: {'p': -1.2079874654187073, 'w0': 0.803375384413998, 'w1': 0.8080847021366223, 'w2': 0.47896367116412364}. Best is trial 82 with value: 0.7547131438482584.\u001B[0m\n",
      "\u001B[32m[I 2023-04-21 19:17:27,210]\u001B[0m Trial 112 finished with value: 0.7546056999013817 and parameters: {'p': -1.141237495452288, 'w0': 0.7153562518399776, 'w1': 0.7463012645534443, 'w2': 0.4515870993583446}. Best is trial 82 with value: 0.7547131438482584.\u001B[0m\n",
      "\u001B[32m[I 2023-04-21 19:17:27,291]\u001B[0m Trial 113 finished with value: 0.7546248863204669 and parameters: {'p': -1.2801805179611878, 'w0': 0.7325310746994466, 'w1': 0.8715293579024946, 'w2': 0.5015904235503676}. Best is trial 82 with value: 0.7547131438482584.\u001B[0m\n",
      "\u001B[32m[I 2023-04-21 19:17:27,372]\u001B[0m Trial 114 finished with value: 0.7545941880499307 and parameters: {'p': -1.30724129694713, 'w0': 0.7532425942094056, 'w1': 0.8578373326686192, 'w2': 0.5095531203523312}. Best is trial 82 with value: 0.7547131438482584.\u001B[0m\n",
      "\u001B[32m[I 2023-04-21 19:17:27,453]\u001B[0m Trial 115 finished with value: 0.754640235455735 and parameters: {'p': -1.654801257898186, 'w0': 0.889240778555639, 'w1': 0.9324687969499785, 'w2': 0.5431082205769857}. Best is trial 82 with value: 0.7547131438482584.\u001B[0m\n",
      "\u001B[32m[I 2023-04-21 19:17:27,535]\u001B[0m Trial 116 finished with value: 0.7545980253337479 and parameters: {'p': -1.6667200401271804, 'w0': 0.7850894097197847, 'w1': 0.9375069072745791, 'w2': 0.5454246714906253}. Best is trial 82 with value: 0.7547131438482584.\u001B[0m\n",
      "\u001B[32m[I 2023-04-21 19:17:27,617]\u001B[0m Trial 117 finished with value: 0.7545519779279435 and parameters: {'p': -1.8003320434839645, 'w0': 0.7274762809877273, 'w1': 0.9038932154773556, 'w2': 0.5673294756036958}. Best is trial 82 with value: 0.7547131438482584.\u001B[0m\n",
      "\u001B[32m[I 2023-04-21 19:17:27,699]\u001B[0m Trial 118 finished with value: 0.7545903507661137 and parameters: {'p': -1.5848658281824362, 'w0': 0.838583584748951, 'w1': 0.7855298830813279, 'w2': 0.4218859055125706}. Best is trial 82 with value: 0.7547131438482584.\u001B[0m\n",
      "\u001B[32m[I 2023-04-21 19:17:27,780]\u001B[0m Trial 119 finished with value: 0.7546095371851987 and parameters: {'p': -1.4440620495971996, 'w0': 0.86821511255624, 'w1': 0.9728059748161055, 'w2': 0.526849608351438}. Best is trial 82 with value: 0.7547131438482584.\u001B[0m\n",
      "\u001B[32m[I 2023-04-21 19:17:27,862]\u001B[0m Trial 120 finished with value: 0.7545059305221391 and parameters: {'p': -1.8883983106083428, 'w0': 0.7673712719520517, 'w1': 0.8323759821209662, 'w2': 0.36794315055346527}. Best is trial 82 with value: 0.7547131438482584.\u001B[0m\n",
      "\u001B[32m[I 2023-04-21 19:17:27,944]\u001B[0m Trial 121 finished with value: 0.7545903507661137 and parameters: {'p': -1.0235797428273614, 'w0': 0.8824786298421213, 'w1': 0.8643345080350772, 'w2': 0.4964645392901498}. Best is trial 82 with value: 0.7547131438482584.\u001B[0m\n",
      "\u001B[32m[I 2023-04-21 19:17:28,026]\u001B[0m Trial 122 finished with value: 0.7546248863204669 and parameters: {'p': -1.3426543567780056, 'w0': 0.9146065533231462, 'w1': 0.9202404019498848, 'w2': 0.46273236708998483}. Best is trial 82 with value: 0.7547131438482584.\u001B[0m\n",
      "\u001B[32m[I 2023-04-21 19:17:28,108]\u001B[0m Trial 123 finished with value: 0.7546133744690159 and parameters: {'p': -1.3545025186629842, 'w0': 0.9270731661688275, 'w1': 0.9505711520794246, 'w2': 0.46603476880466493}. Best is trial 82 with value: 0.7547131438482584.\u001B[0m\n",
      "\u001B[32m[I 2023-04-21 19:17:28,190]\u001B[0m Trial 124 finished with value: 0.7545404660764924 and parameters: {'p': -1.4923761096527337, 'w0': 0.9047867170056043, 'w1': 0.904076072170444, 'w2': 0.4423009869270021}. Best is trial 82 with value: 0.7547131438482584.\u001B[0m\n",
      "\u001B[32m[I 2023-04-21 19:17:28,272]\u001B[0m Trial 125 finished with value: 0.7543332527503731 and parameters: {'p': -1.6807384845573137, 'w0': 0.8226010806929136, 'w1': 0.9943059439426403, 'w2': 0.41162447567692967}. Best is trial 82 with value: 0.7547131438482584.\u001B[0m\n",
      "\u001B[32m[I 2023-04-21 19:17:28,354]\u001B[0m Trial 126 finished with value: 0.7544215102781647 and parameters: {'p': -1.370440447668639, 'w0': 0.8554903544858392, 'w1': 0.9219649548841187, 'w2': 0.3961201462249316}. Best is trial 82 with value: 0.7547131438482584.\u001B[0m\n",
      "\u001B[32m[I 2023-04-21 19:17:28,436]\u001B[0m Trial 127 finished with value: 0.7545212796574072 and parameters: {'p': -1.58983503323819, 'w0': 0.8093639353304494, 'w1': 0.8789065177687164, 'w2': 0.43977890682272286}. Best is trial 82 with value: 0.7547131438482584.\u001B[0m\n",
      "\u001B[32m[I 2023-04-21 19:17:28,518]\u001B[0m Trial 128 finished with value: 0.754486744103054 and parameters: {'p': -1.295430256436644, 'w0': 0.7910190087597077, 'w1': 0.8439379873188768, 'w2': 0.5928788177233272}. Best is trial 82 with value: 0.7547131438482584.\u001B[0m\n",
      "\u001B[32m[I 2023-04-21 19:17:28,600]\u001B[0m Trial 129 finished with value: 0.7543869747238114 and parameters: {'p': -0.8513946276131952, 'w0': 0.9228472236741798, 'w1': 0.9378972768000892, 'w2': 0.3370837713121666}. Best is trial 82 with value: 0.7547131438482584.\u001B[0m\n",
      "\u001B[32m[I 2023-04-21 19:17:28,682]\u001B[0m Trial 130 finished with value: 0.7546172117528329 and parameters: {'p': -1.4862954028450508, 'w0': 0.7344371014815627, 'w1': 0.814083217269111, 'w2': 0.4635185015796282}. Best is trial 82 with value: 0.7547131438482584.\u001B[0m\n",
      "\u001B[32m[I 2023-04-21 19:17:28,764]\u001B[0m Trial 131 finished with value: 0.7545941880499307 and parameters: {'p': -1.2234826618335894, 'w0': 0.8943678902471841, 'w1': 0.8801870081403633, 'w2': 0.4870605668482722}. Best is trial 82 with value: 0.7547131438482584.\u001B[0m\n",
      "\u001B[32m[I 2023-04-21 19:17:28,846]\u001B[0m Trial 132 finished with value: 0.7545481406441265 and parameters: {'p': -1.1124202653092516, 'w0': 0.9555083239686754, 'w1': 0.8581136214340221, 'w2': 0.533289484447619}. Best is trial 82 with value: 0.7547131438482584.\u001B[0m\n",
      "\u001B[32m[I 2023-04-21 19:17:28,929]\u001B[0m Trial 133 finished with value: 0.7545596524955775 and parameters: {'p': -1.2306487106181208, 'w0': 0.989720720761901, 'w1': 0.8932979325499671, 'w2': 0.5038019551525619}. Best is trial 82 with value: 0.7547131438482584.\u001B[0m\n",
      "\u001B[32m[I 2023-04-21 19:17:29,010]\u001B[0m Trial 134 finished with value: 0.7545020932383222 and parameters: {'p': -1.026095409912731, 'w0': 0.8415790853060963, 'w1': 0.9238357242830643, 'w2': 0.4251872944230379}. Best is trial 82 with value: 0.7547131438482584.\u001B[0m\n",
      "\u001B[32m[I 2023-04-21 19:17:29,093]\u001B[0m Trial 135 finished with value: 0.7545174423735903 and parameters: {'p': -0.9232609935545293, 'w0': 0.8827190462520307, 'w1': 0.7869902469515333, 'w2': 0.548406158080537}. Best is trial 82 with value: 0.7547131438482584.\u001B[0m\n",
      "\u001B[32m[I 2023-04-21 19:17:29,175]\u001B[0m Trial 136 finished with value: 0.7545980253337479 and parameters: {'p': -1.3945494027455345, 'w0': 0.8177689100589638, 'w1': 0.8247897821201119, 'w2': 0.4565596510734541}. Best is trial 82 with value: 0.7547131438482584.\u001B[0m\n",
      "\u001B[32m[I 2023-04-21 19:17:29,257]\u001B[0m Trial 137 finished with value: 0.7544215102781647 and parameters: {'p': -1.1854367908513919, 'w0': 0.8624413155291362, 'w1': 0.9582083807268718, 'w2': 0.40384544671321676}. Best is trial 82 with value: 0.7547131438482584.\u001B[0m\n",
      "\u001B[32m[I 2023-04-21 19:17:29,339]\u001B[0m Trial 138 finished with value: 0.7545673270632115 and parameters: {'p': -1.3014726554989926, 'w0': 0.7641633276782425, 'w1': 0.8492453690082905, 'w2': 0.5159290865281063}. Best is trial 82 with value: 0.7547131438482584.\u001B[0m\n",
      "\u001B[32m[I 2023-04-21 19:17:29,421]\u001B[0m Trial 139 finished with value: 0.7544675576839691 and parameters: {'p': -1.0822160949535888, 'w0': 0.907631304429749, 'w1': 0.8773246950924325, 'w2': 0.38613418197843685}. Best is trial 82 with value: 0.7547131438482584.\u001B[0m\n",
      "\u001B[32m[I 2023-04-21 19:17:29,503]\u001B[0m Trial 140 finished with value: 0.7544560458325179 and parameters: {'p': -1.7266078301138796, 'w0': 0.9408345777969591, 'w1': 0.7621825258106887, 'w2': 0.4738459339791708}. Best is trial 82 with value: 0.7547131438482584.\u001B[0m\n",
      "\u001B[32m[I 2023-04-21 19:17:29,586]\u001B[0m Trial 141 finished with value: 0.7545558152117605 and parameters: {'p': -1.1646671920471416, 'w0': 0.69234634392579, 'w1': 0.8029839821132908, 'w2': 0.43658664138188874}. Best is trial 82 with value: 0.7547131438482584.\u001B[0m\n",
      "\u001B[32m[I 2023-04-21 19:17:29,669]\u001B[0m Trial 142 finished with value: 0.7545634897793945 and parameters: {'p': -1.2533677431472288, 'w0': 0.7457317207588346, 'w1': 0.7294514568127991, 'w2': 0.47832838806977046}. Best is trial 82 with value: 0.7547131438482584.\u001B[0m\n",
      "\u001B[32m[I 2023-04-21 19:17:29,751]\u001B[0m Trial 143 finished with value: 0.7546287236042839 and parameters: {'p': -0.9951501308513571, 'w0': 0.7928090018555618, 'w1': 0.8370550353941909, 'w2': 0.49243297518415896}. Best is trial 82 with value: 0.7547131438482584.\u001B[0m\n",
      "\u001B[32m[I 2023-04-21 19:17:29,832]\u001B[0m Trial 144 finished with value: 0.7546095371851987 and parameters: {'p': -0.8923709385865938, 'w0': 0.8035471821257404, 'w1': 0.8391843647804722, 'w2': 0.4936564044601691}. Best is trial 82 with value: 0.7547131438482584.\u001B[0m\n",
      "\u001B[32m[I 2023-04-21 19:17:29,914]\u001B[0m Trial 145 finished with value: 0.7544905813868711 and parameters: {'p': -0.7760739443147183, 'w0': 0.7784919427597319, 'w1': 0.9088898806362189, 'w2': 0.45782707418817187}. Best is trial 82 with value: 0.7547131438482584.\u001B[0m\n",
      "\u001B[32m[I 2023-04-21 19:17:29,996]\u001B[0m Trial 146 finished with value: 0.7545788389146626 and parameters: {'p': -0.9879671445452997, 'w0': 0.8357144010253098, 'w1': 0.870332794049792, 'w2': 0.42082427424392793}. Best is trial 82 with value: 0.7547131438482584.\u001B[0m\n",
      "\u001B[32m[I 2023-04-21 19:17:30,079]\u001B[0m Trial 147 finished with value: 0.7545941880499307 and parameters: {'p': -1.437101970028756, 'w0': 0.7948093458972767, 'w1': 0.8315579744312788, 'w2': 0.5180436148320137}. Best is trial 82 with value: 0.7547131438482584.\u001B[0m\n",
      "\u001B[32m[I 2023-04-21 19:17:30,160]\u001B[0m Trial 148 finished with value: 0.7545711643470286 and parameters: {'p': -1.079446000218881, 'w0': 0.8268135782507158, 'w1': 0.8101237210848007, 'w2': 0.554389718889044}. Best is trial 82 with value: 0.7547131438482584.\u001B[0m\n",
      "\u001B[32m[I 2023-04-21 19:17:30,242]\u001B[0m Trial 149 finished with value: 0.7545174423735903 and parameters: {'p': -1.5319321240750379, 'w0': 0.8530472939881101, 'w1': 0.7780010239384569, 'w2': 0.368881866876487}. Best is trial 82 with value: 0.7547131438482584.\u001B[0m\n",
      "\u001B[32m[I 2023-04-21 19:17:30,325]\u001B[0m Trial 150 finished with value: 0.7546133744690159 and parameters: {'p': -1.3607868741193672, 'w0': 0.8784308475206001, 'w1': 0.889043033803615, 'w2': 0.4458927188245817}. Best is trial 82 with value: 0.7547131438482584.\u001B[0m\n",
      "\u001B[32m[I 2023-04-21 19:17:30,407]\u001B[0m Trial 151 finished with value: 0.7546133744690159 and parameters: {'p': -1.2066399331940865, 'w0': 0.7538815485367755, 'w1': 0.7933633386325002, 'w2': 0.4780103559401733}. Best is trial 82 with value: 0.7547131438482584.\u001B[0m\n",
      "\u001B[32m[I 2023-04-21 19:17:30,489]\u001B[0m Trial 152 finished with value: 0.7544253475619818 and parameters: {'p': -1.1494228009303267, 'w0': 0.7276550139634319, 'w1': 0.8558179961123764, 'w2': 0.40944254368148436}. Best is trial 82 with value: 0.7547131438482584.\u001B[0m\n",
      "\u001B[32m[I 2023-04-21 19:17:30,572]\u001B[0m Trial 153 finished with value: 0.7546939574291733 and parameters: {'p': -1.2902678815796902, 'w0': 0.7818841647316751, 'w1': 0.8220130339506522, 'w2': 0.43655721977366774}. Best is trial 82 with value: 0.7547131438482584.\u001B[0m\n",
      "\u001B[32m[I 2023-04-21 19:17:30,654]\u001B[0m Trial 154 finished with value: 0.7547131438482584 and parameters: {'p': -0.9728439174580307, 'w0': 0.7934755845175712, 'w1': 0.8242554469597135, 'w2': 0.43037550136137853}. Best is trial 82 with value: 0.7547131438482584.\u001B[0m\n",
      "\u001B[32m[I 2023-04-21 19:17:30,737]\u001B[0m Trial 155 finished with value: 0.7545174423735903 and parameters: {'p': -0.965264023826768, 'w0': 0.7731402064190698, 'w1': 0.8222870160575587, 'w2': 0.3939793042448594}. Best is trial 82 with value: 0.7547131438482584.\u001B[0m\n",
      "\u001B[32m[I 2023-04-21 19:17:30,818]\u001B[0m Trial 156 finished with value: 0.7546325608881009 and parameters: {'p': -1.022514907409478, 'w0': 0.7938123936733096, 'w1': 0.7604044360075544, 'w2': 0.4316507421839254}. Best is trial 82 with value: 0.7547131438482584.\u001B[0m\n",
      "\u001B[32m[I 2023-04-21 19:17:30,901]\u001B[0m Trial 157 finished with value: 0.7546440727395521 and parameters: {'p': -0.8501270552947635, 'w0': 0.7914949466561182, 'w1': 0.8040343894970389, 'w2': 0.43586598125072623}. Best is trial 82 with value: 0.7547131438482584.\u001B[0m\n",
      "\u001B[32m[I 2023-04-21 19:17:30,983]\u001B[0m Trial 158 finished with value: 0.7545481406441265 and parameters: {'p': -0.7086888665233809, 'w0': 0.8009195210008484, 'w1': 0.7576012585034556, 'w2': 0.42611914072311025}. Best is trial 82 with value: 0.7547131438482584.\u001B[0m\n",
      "\u001B[32m[I 2023-04-21 19:17:31,066]\u001B[0m Trial 159 finished with value: 0.754482906819237 and parameters: {'p': -0.8475434610872818, 'w0': 0.7811889805932876, 'w1': 0.7750615320866681, 'w2': 0.36189161375498774}. Best is trial 82 with value: 0.7547131438482584.\u001B[0m\n",
      "\u001B[32m[I 2023-04-21 19:17:31,148]\u001B[0m Trial 160 finished with value: 0.7545174423735903 and parameters: {'p': -0.8928440731426962, 'w0': 0.817328926407811, 'w1': 0.8008441019433484, 'w2': 0.3853337295945815}. Best is trial 82 with value: 0.7547131438482584.\u001B[0m\n",
      "\u001B[32m[I 2023-04-21 19:17:31,231]\u001B[0m Trial 161 finished with value: 0.7546248863204669 and parameters: {'p': -1.0100738022353148, 'w0': 0.7496718887333026, 'w1': 0.8197597861713938, 'w2': 0.4467703782200371}. Best is trial 82 with value: 0.7547131438482584.\u001B[0m\n",
      "\u001B[32m[I 2023-04-21 19:17:31,313]\u001B[0m Trial 162 finished with value: 0.7546056999013817 and parameters: {'p': -0.8106469166908863, 'w0': 0.7890888095343812, 'w1': 0.8412525947411544, 'w2': 0.4288841831246625}. Best is trial 82 with value: 0.7547131438482584.\u001B[0m\n",
      "\u001B[32m[I 2023-04-21 19:17:31,396]\u001B[0m Trial 163 finished with value: 0.7546939574291733 and parameters: {'p': -0.624517505560434, 'w0': 0.7677728711408282, 'w1': 0.7921741113948845, 'w2': 0.4066626638943275}. Best is trial 82 with value: 0.7547131438482584.\u001B[0m\n",
      "\u001B[32m[I 2023-04-21 19:17:31,478]\u001B[0m Trial 164 finished with value: 0.7546440727395521 and parameters: {'p': -0.6128728471851497, 'w0': 0.7693738993696086, 'w1': 0.7552366730694988, 'w2': 0.4053655685218226}. Best is trial 82 with value: 0.7547131438482584.\u001B[0m\n",
      "\u001B[32m[I 2023-04-21 19:17:31,561]\u001B[0m Trial 165 finished with value: 0.7546133744690159 and parameters: {'p': -0.5982157944783987, 'w0': 0.7643665109401898, 'w1': 0.745936777421899, 'w2': 0.3965239482970781}. Best is trial 82 with value: 0.7547131438482584.\u001B[0m\n",
      "\u001B[32m[I 2023-04-21 19:17:31,644]\u001B[0m Trial 166 finished with value: 0.7545481406441265 and parameters: {'p': -0.43642548135864057, 'w0': 0.8168766350502905, 'w1': 0.7913016846358064, 'w2': 0.40399660873171084}. Best is trial 82 with value: 0.7547131438482584.\u001B[0m\n",
      "\u001B[32m[I 2023-04-21 19:17:31,727]\u001B[0m Trial 167 finished with value: 0.7545443033603093 and parameters: {'p': -0.7619884662581228, 'w0': 0.8432607062110371, 'w1': 0.7056204511938223, 'w2': 0.35285629171073263}. Best is trial 82 with value: 0.7547131438482584.\u001B[0m\n",
      "\u001B[32m[I 2023-04-21 19:17:31,809]\u001B[0m Trial 168 finished with value: 0.754640235455735 and parameters: {'p': -0.7063421350652854, 'w0': 0.7017588409838758, 'w1': 0.7639616229794741, 'w2': 0.4174592349875618}. Best is trial 82 with value: 0.7547131438482584.\u001B[0m\n",
      "\u001B[32m[I 2023-04-21 19:17:31,892]\u001B[0m Trial 169 finished with value: 0.7546210490366501 and parameters: {'p': -0.5473765390139854, 'w0': 0.7078446521248696, 'w1': 0.7612311901327834, 'w2': 0.4184020273361542}. Best is trial 82 with value: 0.7547131438482584.\u001B[0m\n",
      "\u001B[32m[I 2023-04-21 19:17:31,978]\u001B[0m Trial 170 finished with value: 0.7545366287926752 and parameters: {'p': -0.6263279142104412, 'w0': 0.7612631699697913, 'w1': 0.7364249562102332, 'w2': 0.3675030943540675}. Best is trial 82 with value: 0.7547131438482584.\u001B[0m\n",
      "\u001B[32m[I 2023-04-21 19:17:32,061]\u001B[0m Trial 171 finished with value: 0.7545980253337479 and parameters: {'p': -0.7125970233219932, 'w0': 0.8088790416133037, 'w1': 0.7841181469172429, 'w2': 0.43630549695942095}. Best is trial 82 with value: 0.7547131438482584.\u001B[0m\n",
      "\u001B[32m[I 2023-04-21 19:17:32,144]\u001B[0m Trial 172 finished with value: 0.7546939574291733 and parameters: {'p': -0.7162621110454568, 'w0': 0.782579283922117, 'w1': 0.8076267927118497, 'w2': 0.4101984059614758}. Best is trial 82 with value: 0.7547131438482584.\u001B[0m\n",
      "\u001B[32m[I 2023-04-21 19:17:32,227]\u001B[0m Trial 173 finished with value: 0.7545443033603093 and parameters: {'p': -0.5334189137960126, 'w0': 0.7644890274212388, 'w1': 0.807867809310623, 'w2': 0.381433109867297}. Best is trial 82 with value: 0.7547131438482584.\u001B[0m\n",
      "\u001B[32m[I 2023-04-21 19:17:32,310]\u001B[0m Trial 174 finished with value: 0.754651747307186 and parameters: {'p': -0.6310675590824638, 'w0': 0.7410535263335175, 'w1': 0.7667394066628584, 'w2': 0.40842872380800027}. Best is trial 82 with value: 0.7547131438482584.\u001B[0m\n",
      "\u001B[32m[I 2023-04-21 19:17:32,392]\u001B[0m Trial 175 finished with value: 0.7546172117528329 and parameters: {'p': -0.6600178724713265, 'w0': 0.744210384578716, 'w1': 0.7246480576566516, 'w2': 0.41140495401744925}. Best is trial 82 with value: 0.7547131438482584.\u001B[0m\n",
      "\u001B[32m[I 2023-04-21 19:17:32,475]\u001B[0m Trial 176 finished with value: 0.7546133744690159 and parameters: {'p': -0.4622562241605497, 'w0': 0.7780833167325701, 'w1': 0.7598143516152808, 'w2': 0.39478733029994345}. Best is trial 82 with value: 0.7547131438482584.\u001B[0m\n",
      "\u001B[32m[I 2023-04-21 19:17:32,559]\u001B[0m Trial 177 finished with value: 0.7546325608881009 and parameters: {'p': -0.28975533431826483, 'w0': 0.7195021274290682, 'w1': 0.7780622753604527, 'w2': 0.41919553122423764}. Best is trial 82 with value: 0.7547131438482584.\u001B[0m\n",
      "\u001B[32m[I 2023-04-21 19:17:32,642]\u001B[0m Trial 178 finished with value: 0.7546479100233691 and parameters: {'p': -0.805320017772608, 'w0': 0.7399960074561399, 'w1': 0.8079392719819679, 'w2': 0.4473260382816018}. Best is trial 82 with value: 0.7547131438482584.\u001B[0m\n",
      "\u001B[32m[I 2023-04-21 19:17:32,724]\u001B[0m Trial 179 finished with value: 0.7544368594134329 and parameters: {'p': -0.701573163674224, 'w0': 0.6952000115252313, 'w1': 0.8072311038642617, 'w2': 0.3772698971207847}. Best is trial 82 with value: 0.7547131438482584.\u001B[0m\n",
      "\u001B[32m[I 2023-04-21 19:17:32,807]\u001B[0m Trial 180 finished with value: 0.7546287236042839 and parameters: {'p': -0.6046235036771727, 'w0': 0.7361272313874857, 'w1': 0.8188653057589006, 'w2': 0.45332793335864946}. Best is trial 82 with value: 0.7547131438482584.\u001B[0m\n",
      "\u001B[32m[I 2023-04-21 19:17:32,890]\u001B[0m Trial 181 finished with value: 0.7546095371851987 and parameters: {'p': -0.8188883558197876, 'w0': 0.7844758739935871, 'w1': 0.7938900268689554, 'w2': 0.4354709408629061}. Best is trial 82 with value: 0.7547131438482584.\u001B[0m\n",
      "\u001B[32m[I 2023-04-21 19:17:32,973]\u001B[0m Trial 182 finished with value: 0.7546248863204669 and parameters: {'p': -0.7674671569586693, 'w0': 0.7540627748624994, 'w1': 0.769358848460534, 'w2': 0.4109261579270293}. Best is trial 82 with value: 0.7547131438482584.\u001B[0m\n",
      "\u001B[32m[I 2023-04-21 19:17:33,057]\u001B[0m Trial 183 finished with value: 0.7545750016308457 and parameters: {'p': -0.9026523483473661, 'w0': 0.6616220663555685, 'w1': 0.7448917467493928, 'w2': 0.45067217468231685}. Best is trial 82 with value: 0.7547131438482584.\u001B[0m\n",
      "\u001B[32m[I 2023-04-21 19:17:33,140]\u001B[0m Trial 184 finished with value: 0.7545634897793945 and parameters: {'p': -0.7379689023475622, 'w0': 0.7234941795148606, 'w1': 0.6851294174726565, 'w2': 0.3999525901084361}. Best is trial 82 with value: 0.7547131438482584.\u001B[0m\n",
      "\u001B[32m[I 2023-04-21 19:17:33,222]\u001B[0m Trial 185 finished with value: 0.7546939574291733 and parameters: {'p': -0.4877767809704035, 'w0': 0.7760333449343585, 'w1': 0.8274844651125882, 'w2': 0.4260323229927305}. Best is trial 82 with value: 0.7547131438482584.\u001B[0m\n",
      "\u001B[32m[I 2023-04-21 19:17:33,305]\u001B[0m Trial 186 finished with value: 0.7544253475619818 and parameters: {'p': -0.6598529127234449, 'w0': 0.7721368997774836, 'w1': 0.8269599931613593, 'w2': 0.3424566708180239}. Best is trial 82 with value: 0.7547131438482584.\u001B[0m\n",
      "\u001B[32m[I 2023-04-21 19:17:33,388]\u001B[0m Trial 187 finished with value: 0.7545826761984797 and parameters: {'p': -0.5047816665075974, 'w0': 0.7441240671679524, 'w1': 0.84405908052942, 'w2': 0.4673163346291319}. Best is trial 82 with value: 0.7547131438482584.\u001B[0m\n",
      "\u001B[32m[I 2023-04-21 19:17:33,471]\u001B[0m Trial 188 finished with value: 0.754486744103054 and parameters: {'p': -0.5677419747845118, 'w0': 0.8088983875757022, 'w1': 0.8055871829136347, 'w2': 0.3806309411346952}. Best is trial 82 with value: 0.7547131438482584.\u001B[0m\n",
      "\u001B[32m[I 2023-04-21 19:17:33,554]\u001B[0m Trial 189 finished with value: 0.7544483712648838 and parameters: {'p': -0.39524861762598146, 'w0': 0.7000299478280148, 'w1': 0.8548931387061154, 'w2': 0.41698512743147614}. Best is trial 82 with value: 0.7547131438482584.\u001B[0m\n",
      "\u001B[32m[I 2023-04-21 19:17:33,637]\u001B[0m Trial 190 finished with value: 0.7545865134822967 and parameters: {'p': -0.6563900452457896, 'w0': 0.7718936039081458, 'w1': 0.7880618775466529, 'w2': 0.44429774612694073}. Best is trial 82 with value: 0.7547131438482584.\u001B[0m\n",
      "\u001B[32m[I 2023-04-21 19:17:33,721]\u001B[0m Trial 191 finished with value: 0.7545865134822967 and parameters: {'p': -0.8383620234742287, 'w0': 0.7990059473397183, 'w1': 0.7717200816837875, 'w2': 0.4341840236499091}. Best is trial 82 with value: 0.7547131438482584.\u001B[0m\n",
      "\u001B[32m[I 2023-04-21 19:17:33,804]\u001B[0m Trial 192 finished with value: 0.7547016319968074 and parameters: {'p': -0.9188146151543066, 'w0': 0.7897297572604588, 'w1': 0.816987923759556, 'w2': 0.4272351510958259}. Best is trial 82 with value: 0.7547131438482584.\u001B[0m\n",
      "\u001B[32m[I 2023-04-21 19:17:33,887]\u001B[0m Trial 193 finished with value: 0.7545097678059561 and parameters: {'p': -0.777398391043096, 'w0': 0.7544851049060101, 'w1': 0.8234501248526696, 'w2': 0.39448520025215905}. Best is trial 82 with value: 0.7547131438482584.\u001B[0m\n",
      "\u001B[32m[I 2023-04-21 19:17:33,970]\u001B[0m Trial 194 finished with value: 0.7545941880499307 and parameters: {'p': -0.9136893279550358, 'w0': 0.7343018146990848, 'w1': 0.8068334032877659, 'w2': 0.45761675921156736}. Best is trial 82 with value: 0.7547131438482584.\u001B[0m\n",
      "\u001B[32m[I 2023-04-21 19:17:34,053]\u001B[0m Trial 195 finished with value: 0.7545289542250413 and parameters: {'p': -0.6090831032518171, 'w0': 0.7803086432814058, 'w1': 0.841002559554561, 'w2': 0.4165794763767771}. Best is trial 82 with value: 0.7547131438482584.\u001B[0m\n",
      "\u001B[32m[I 2023-04-21 19:17:34,135]\u001B[0m Trial 196 finished with value: 0.7545443033603093 and parameters: {'p': -0.49173638777934336, 'w0': 0.8206842027708076, 'w1': 0.8250714816187312, 'w2': 0.4664998036991886}. Best is trial 82 with value: 0.7547131438482584.\u001B[0m\n",
      "\u001B[32m[I 2023-04-21 19:17:34,218]\u001B[0m Trial 197 finished with value: 0.7546287236042839 and parameters: {'p': -0.8201170137536858, 'w0': 0.7922464537961482, 'w1': 0.792936532492343, 'w2': 0.40707416773086297}. Best is trial 82 with value: 0.7547131438482584.\u001B[0m\n",
      "\u001B[32m[I 2023-04-21 19:17:34,302]\u001B[0m Trial 198 finished with value: 0.7544483712648838 and parameters: {'p': -0.6885248539072089, 'w0': 0.7542041634131166, 'w1': 0.8596564626081898, 'w2': 0.43344109897162125}. Best is trial 82 with value: 0.7547131438482584.\u001B[0m\n",
      "\u001B[32m[I 2023-04-21 19:17:34,385]\u001B[0m Trial 199 finished with value: 0.7545941880499307 and parameters: {'p': -0.8993814492530966, 'w0': 0.7217464709371209, 'w1': 0.7189953085176032, 'w2': 0.36666638639063787}. Best is trial 82 with value: 0.7547131438482584.\u001B[0m\n",
      "\u001B[32m[I 2023-04-21 19:17:34,468]\u001B[0m Trial 200 finished with value: 0.7543562764532754 and parameters: {'p': -0.31380814573278976, 'w0': 0.5475055375873684, 'w1': 0.7992214170218687, 'w2': 0.3886203119939442}. Best is trial 82 with value: 0.7547131438482584.\u001B[0m\n",
      "\u001B[32m[I 2023-04-21 19:17:34,551]\u001B[0m Trial 201 finished with value: 0.7545596524955775 and parameters: {'p': -0.9588273747587287, 'w0': 0.7957538919252103, 'w1': 0.7481827470523972, 'w2': 0.4336834645315191}. Best is trial 82 with value: 0.7547131438482584.\u001B[0m\n",
      "\u001B[32m[I 2023-04-21 19:17:34,635]\u001B[0m Trial 202 finished with value: 0.7546018626175648 and parameters: {'p': -0.7417628418007788, 'w0': 0.7744685730560722, 'w1': 0.7601028332298916, 'w2': 0.4220185487012707}. Best is trial 82 with value: 0.7547131438482584.\u001B[0m\n",
      "\u001B[32m[I 2023-04-21 19:17:34,718]\u001B[0m Trial 203 finished with value: 0.7546018626175648 and parameters: {'p': -0.8739521558138705, 'w0': 0.8084742470158457, 'w1': 0.7750087055423214, 'w2': 0.44682291331543306}. Best is trial 82 with value: 0.7547131438482584.\u001B[0m\n",
      "\u001B[32m[I 2023-04-21 19:17:34,802]\u001B[0m Trial 204 finished with value: 0.7545404660764924 and parameters: {'p': -1.049925485513264, 'w0': 0.8286490501713176, 'w1': 0.81519081121872, 'w2': 0.4026917030193927}. Best is trial 82 with value: 0.7547131438482584.\u001B[0m\n",
      "\u001B[32m[I 2023-04-21 19:17:34,885]\u001B[0m Trial 205 finished with value: 0.7545980253337479 and parameters: {'p': -0.818000204549566, 'w0': 0.7671941254439393, 'w1': 0.838071746828884, 'w2': 0.47229687838923884}. Best is trial 82 with value: 0.7547131438482584.\u001B[0m\n",
      "\u001B[32m[I 2023-04-21 19:17:34,969]\u001B[0m Trial 206 finished with value: 0.7543332527503731 and parameters: {'p': -0.56125566345465, 'w0': 0.7830631071383066, 'w1': 0.4957588119833389, 'w2': 0.4384280155472103}. Best is trial 82 with value: 0.7547131438482584.\u001B[0m\n",
      "\u001B[32m[I 2023-04-21 19:17:35,052]\u001B[0m Trial 207 finished with value: 0.7543946492914455 and parameters: {'p': -0.6990508430649779, 'w0': 0.3868062946308456, 'w1': 0.6340721609505955, 'w2': 0.4240599051468339}. Best is trial 82 with value: 0.7547131438482584.\u001B[0m\n",
      "\u001B[32m[I 2023-04-21 19:17:35,148]\u001B[0m Trial 208 finished with value: 0.7545980253337479 and parameters: {'p': 0.03572421555432871, 'w0': 0.7466505568037892, 'w1': 0.813220271877284, 'w2': 0.4598743303665787}. Best is trial 82 with value: 0.7547131438482584.\u001B[0m\n",
      "\u001B[32m[I 2023-04-21 19:17:35,231]\u001B[0m Trial 209 finished with value: 0.7545865134822967 and parameters: {'p': -0.9325745641938711, 'w0': 0.7958849079233817, 'w1': 0.781351381329944, 'w2': 0.40108889200282916}. Best is trial 82 with value: 0.7547131438482584.\u001B[0m\n",
      "\u001B[32m[I 2023-04-21 19:17:35,315]\u001B[0m Trial 210 finished with value: 0.7543946492914455 and parameters: {'p': -1.1049935372196733, 'w0': 0.6823054019428467, 'w1': 0.8524567529129875, 'w2': 0.37281096219495374}. Best is trial 82 with value: 0.7547131438482584.\u001B[0m\n",
      "\u001B[32m[I 2023-04-21 19:17:35,399]\u001B[0m Trial 211 finished with value: 0.7546018626175648 and parameters: {'p': -0.34948861591707336, 'w0': 0.7164064606322902, 'w1': 0.7868171394491179, 'w2': 0.4226796883925393}. Best is trial 82 with value: 0.7547131438482584.\u001B[0m\n",
      "\u001B[32m[I 2023-04-21 19:17:35,483]\u001B[0m Trial 212 finished with value: 0.7547054692806244 and parameters: {'p': -0.5016001655141794, 'w0': 0.7279042681118741, 'w1': 0.7755978591484692, 'w2': 0.4166425561470223}. Best is trial 82 with value: 0.7547131438482584.\u001B[0m\n",
      "\u001B[32m[I 2023-04-21 19:17:35,566]\u001B[0m Trial 213 finished with value: 0.754651747307186 and parameters: {'p': -0.6459884592899618, 'w0': 0.7597580435860053, 'w1': 0.7396327143048136, 'w2': 0.4415511996196036}. Best is trial 82 with value: 0.7547131438482584.\u001B[0m\n",
      "\u001B[32m[I 2023-04-21 19:17:35,650]\u001B[0m Trial 214 finished with value: 0.7546056999013817 and parameters: {'p': -0.4724938549864541, 'w0': 0.738847478625064, 'w1': 0.827566079541429, 'w2': 0.4482102629454563}. Best is trial 82 with value: 0.7547131438482584.\u001B[0m\n",
      "\u001B[32m[I 2023-04-21 19:17:35,734]\u001B[0m Trial 215 finished with value: 0.7545750016308457 and parameters: {'p': -0.601428684632049, 'w0': 0.7607549336568351, 'w1': 0.7351049847517387, 'w2': 0.4075506818294003}. Best is trial 82 with value: 0.7547131438482584.\u001B[0m\n",
      "\u001B[32m[I 2023-04-21 19:17:35,818]\u001B[0m Trial 216 finished with value: 0.7545634897793945 and parameters: {'p': -0.7196589984048649, 'w0': 0.7677139628349061, 'w1': 0.7040844979001453, 'w2': 0.476920336367151}. Best is trial 82 with value: 0.7547131438482584.\u001B[0m\n",
      "\u001B[32m[I 2023-04-21 19:17:35,902]\u001B[0m Trial 217 finished with value: 0.7544637204001521 and parameters: {'p': -0.4108015086064016, 'w0': 0.7066379213442315, 'w1': 0.804476061973654, 'w2': 0.3852397558572462}. Best is trial 82 with value: 0.7547131438482584.\u001B[0m\n",
      "\u001B[32m[I 2023-04-21 19:17:35,986]\u001B[0m Trial 218 finished with value: 0.7545366287926752 and parameters: {'p': -0.5468813473634991, 'w0': 0.614663858299362, 'w1': 0.7942041442048394, 'w2': 0.44569501007571094}. Best is trial 82 with value: 0.7547131438482584.\u001B[0m\n",
      "\u001B[32m[I 2023-04-21 19:17:36,069]\u001B[0m Trial 219 finished with value: 0.7545903507661137 and parameters: {'p': -0.6713380173781467, 'w0': 0.7322113646044087, 'w1': 0.7519138212812349, 'w2': 0.4197889948249744}. Best is trial 82 with value: 0.7547131438482584.\u001B[0m\n",
      "\u001B[32m[I 2023-04-21 19:17:36,153]\u001B[0m Trial 220 finished with value: 0.7545865134822967 and parameters: {'p': -0.7849015743469943, 'w0': 0.8293963089338267, 'w1': 0.833668138678566, 'w2': 0.4609641454649488}. Best is trial 82 with value: 0.7547131438482584.\u001B[0m\n",
      "\u001B[32m[I 2023-04-21 19:17:36,236]\u001B[0m Trial 221 finished with value: 0.7545941880499307 and parameters: {'p': -0.8552833157281993, 'w0': 0.801115995029993, 'w1': 0.7721239223071005, 'w2': 0.4318867706865683}. Best is trial 82 with value: 0.7547131438482584.\u001B[0m\n",
      "\u001B[32m[I 2023-04-21 19:17:36,320]\u001B[0m Trial 222 finished with value: 0.7546133744690159 and parameters: {'p': -0.9704242545127159, 'w0': 0.7848340375490018, 'w1': 0.7526633398604397, 'w2': 0.40284457524936174}. Best is trial 82 with value: 0.7547131438482584.\u001B[0m\n",
      "\u001B[32m[I 2023-04-21 19:17:36,416]\u001B[0m Trial 223 finished with value: 0.7546440727395521 and parameters: {'p': 0.3750510307596389, 'w0': 0.7576019953012897, 'w1': 0.815574418878277, 'w2': 0.42857889174752606}. Best is trial 82 with value: 0.7547131438482584.\u001B[0m\n",
      "\u001B[32m[I 2023-04-21 19:17:36,500]\u001B[0m Trial 224 finished with value: 0.7545826761984797 and parameters: {'p': -0.16660518970027094, 'w0': 0.7485128294551313, 'w1': 0.813003625134304, 'w2': 0.4143996432586705}. Best is trial 82 with value: 0.7547131438482584.\u001B[0m\n",
      "\u001B[32m[I 2023-04-21 19:17:36,596]\u001B[0m Trial 225 finished with value: 0.7540991784375348 and parameters: {'p': 0.37646710081220314, 'w0': 0.7655804966706261, 'w1': 0.8422591610997678, 'w2': 0.12869908359328486}. Best is trial 82 with value: 0.7547131438482584.\u001B[0m\n",
      "\u001B[32m[I 2023-04-21 19:17:36,691]\u001B[0m Trial 226 finished with value: 0.7541068530051688 and parameters: {'p': 0.9608134507760766, 'w0': 0.7323589916315734, 'w1': 0.8572534723283808, 'w2': 0.9057694925853021}. Best is trial 82 with value: 0.7547131438482584.\u001B[0m\n",
      "\u001B[32m[I 2023-04-21 19:17:36,776]\u001B[0m Trial 227 finished with value: 0.7545750016308457 and parameters: {'p': -0.6127819433880412, 'w0': 0.7783805260529456, 'w1': 0.7918060515580201, 'w2': 0.4486116320657026}. Best is trial 82 with value: 0.7547131438482584.\u001B[0m\n",
      "\u001B[32m[I 2023-04-21 19:17:36,860]\u001B[0m Trial 228 finished with value: 0.7545788389146626 and parameters: {'p': -0.22746508159061146, 'w0': 0.7488585444948828, 'w1': 0.6540018646504198, 'w2': 0.38778457530835225}. Best is trial 82 with value: 0.7547131438482584.\u001B[0m\n",
      "\u001B[32m[I 2023-04-21 19:17:36,944]\u001B[0m Trial 229 finished with value: 0.7542833680607519 and parameters: {'p': -0.4504664056573265, 'w0': 0.8217091763373526, 'w1': 0.8203761647475756, 'w2': 0.7614611563852246}. Best is trial 82 with value: 0.7547131438482584.\u001B[0m\n",
      "\u001B[32m[I 2023-04-21 19:17:37,028]\u001B[0m Trial 230 finished with value: 0.7543486018856412 and parameters: {'p': -0.7631537585667036, 'w0': 0.672992306801526, 'w1': 0.8750981177274946, 'w2': 0.3505435368984009}. Best is trial 82 with value: 0.7547131438482584.\u001B[0m\n",
      "\u001B[32m[I 2023-04-21 19:17:37,112]\u001B[0m Trial 231 finished with value: 0.7545903507661137 and parameters: {'p': -1.618557349573328, 'w0': 0.7979987318756864, 'w1': 0.7630617132217749, 'w2': 0.4289856849451219}. Best is trial 82 with value: 0.7547131438482584.\u001B[0m\n",
      "\u001B[32m[I 2023-04-21 19:17:37,196]\u001B[0m Trial 232 finished with value: 0.7544406966972498 and parameters: {'p': -1.0277302407308304, 'w0': 0.7809007274428333, 'w1': 0.5940832603703788, 'w2': 0.4339939195606866}. Best is trial 82 with value: 0.7547131438482584.\u001B[0m\n",
      "\u001B[32m[I 2023-04-21 19:17:37,280]\u001B[0m Trial 233 finished with value: 0.7538113821512581 and parameters: {'p': -0.6609439190551293, 'w0': 0.8140409637999716, 'w1': 0.29190066235947226, 'w2': 0.4091876259928096}. Best is trial 82 with value: 0.7547131438482584.\u001B[0m\n",
      "\u001B[32m[I 2023-04-21 19:17:37,365]\u001B[0m Trial 234 finished with value: 0.7546363981719181 and parameters: {'p': -0.49082807007617657, 'w0': 0.7601345061198225, 'w1': 0.7808568979841094, 'w2': 0.4586644676423212}. Best is trial 82 with value: 0.7547131438482584.\u001B[0m\n",
      "\u001B[32m[I 2023-04-21 19:17:37,450]\u001B[0m Trial 235 finished with value: 0.754651747307186 and parameters: {'p': -0.5295969692599882, 'w0': 0.7643783829279147, 'w1': 0.7947984425967409, 'w2': 0.4731127231912773}. Best is trial 82 with value: 0.7547131438482584.\u001B[0m\n",
      "\u001B[32m[I 2023-04-21 19:17:37,534]\u001B[0m Trial 236 finished with value: 0.7545788389146626 and parameters: {'p': -0.626684228670714, 'w0': 0.7092147678956056, 'w1': 0.8085282248043619, 'w2': 0.48632349232368943}. Best is trial 82 with value: 0.7547131438482584.\u001B[0m\n",
      "\u001B[32m[I 2023-04-21 19:17:37,617]\u001B[0m Trial 237 finished with value: 0.7545788389146626 and parameters: {'p': -0.0645356343678451, 'w0': 0.7552976661608856, 'w1': 0.8302109217936047, 'w2': 0.47534603622874944}. Best is trial 82 with value: 0.7547131438482584.\u001B[0m\n",
      "\u001B[32m[I 2023-04-21 19:17:37,700]\u001B[0m Trial 238 finished with value: 0.7546095371851987 and parameters: {'p': -1.4607994359604985, 'w0': 0.7792681021186691, 'w1': 0.8012086401649863, 'w2': 0.45040015821330637}. Best is trial 82 with value: 0.7547131438482584.\u001B[0m\n",
      "\u001B[32m[I 2023-04-21 19:17:37,785]\u001B[0m Trial 239 finished with value: 0.7545596524955775 and parameters: {'p': -0.5228543092701844, 'w0': 0.7279343048144769, 'w1': 0.7776148424691428, 'w2': 0.3921644417321784}. Best is trial 82 with value: 0.7547131438482584.\u001B[0m\n",
      "\u001B[32m[I 2023-04-21 19:17:37,869]\u001B[0m Trial 240 finished with value: 0.7543639510209094 and parameters: {'p': -0.3843925233674742, 'w0': 0.8532141040738623, 'w1': 0.9900493650331821, 'w2': 0.42193380967910954}. Best is trial 82 with value: 0.7547131438482584.\u001B[0m\n",
      "\u001B[32m[I 2023-04-21 19:17:37,954]\u001B[0m Trial 241 finished with value: 0.7546325608881009 and parameters: {'p': -0.49642463150423655, 'w0': 0.7618951726349023, 'w1': 0.7900622683911585, 'w2': 0.45171153340946124}. Best is trial 82 with value: 0.7547131438482584.\u001B[0m\n",
      "\u001B[32m[I 2023-04-21 19:17:38,038]\u001B[0m Trial 242 finished with value: 0.7546018626175648 and parameters: {'p': -0.5890995965829814, 'w0': 0.7459006028416371, 'w1': 0.8194329183891071, 'w2': 0.46616706127137436}. Best is trial 82 with value: 0.7547131438482584.\u001B[0m\n",
      "\u001B[32m[I 2023-04-21 19:17:38,121]\u001B[0m Trial 243 finished with value: 0.7545788389146626 and parameters: {'p': -0.5184627286218858, 'w0': 0.7674207651222126, 'w1': 0.7769076085311728, 'w2': 0.44159239840269326}. Best is trial 82 with value: 0.7547131438482584.\u001B[0m\n",
      "\u001B[32m[I 2023-04-21 19:17:38,205]\u001B[0m Trial 244 finished with value: 0.7542411579387646 and parameters: {'p': -0.7118300291459159, 'w0': 0.8027880253147787, 'w1': 0.7352429563660597, 'w2': 0.6686480532594823}. Best is trial 82 with value: 0.7547131438482584.\u001B[0m\n",
      "\u001B[32m[I 2023-04-21 19:17:38,290]\u001B[0m Trial 245 finished with value: 0.7545558152117605 and parameters: {'p': -0.8291039651023501, 'w0': 0.7843241881442236, 'w1': 0.8430562589123177, 'w2': 0.4120649897665025}. Best is trial 82 with value: 0.7547131438482584.\u001B[0m\n",
      "\u001B[32m[I 2023-04-21 19:17:38,374]\u001B[0m Trial 246 finished with value: 0.7537384737587346 and parameters: {'p': -0.43144399999629945, 'w0': 0.7487064976571282, 'w1': 0.8091799092388648, 'w2': 0.03682903826571804}. Best is trial 82 with value: 0.7547131438482584.\u001B[0m\n",
      "\u001B[32m[I 2023-04-21 19:17:38,459]\u001B[0m Trial 247 finished with value: 0.7546248863204669 and parameters: {'p': -0.7426769671786054, 'w0': 0.7678207663135022, 'w1': 0.7903171636672514, 'w2': 0.46505882627889333}. Best is trial 82 with value: 0.7547131438482584.\u001B[0m\n",
      "\u001B[32m[I 2023-04-21 19:17:38,542]\u001B[0m Trial 248 finished with value: 0.7543831374399946 and parameters: {'p': -1.3852220749744368, 'w0': 0.7277303216399493, 'w1': 0.9697963262835613, 'w2': 0.4910611668814323}. Best is trial 82 with value: 0.7547131438482584.\u001B[0m\n",
      "\u001B[32m[I 2023-04-21 19:17:38,639]\u001B[0m Trial 249 finished with value: 0.7546056999013817 and parameters: {'p': 0.28172680668500366, 'w0': 0.8068166848727378, 'w1': 0.8644598559874944, 'w2': 0.43381057182832866}. Best is trial 82 with value: 0.7547131438482584.\u001B[0m\n",
      "\u001B[32m[I 2023-04-21 19:17:38,723]\u001B[0m Trial 250 finished with value: 0.7545826761984797 and parameters: {'p': -0.25520279883093855, 'w0': 0.7880607669808822, 'w1': 0.8300526074352412, 'w2': 0.40147140522560093}. Best is trial 82 with value: 0.7547131438482584.\u001B[0m\n",
      "\u001B[32m[I 2023-04-21 19:17:38,808]\u001B[0m Trial 251 finished with value: 0.7545980253337479 and parameters: {'p': -0.3429742547423983, 'w0': 0.831915127384227, 'w1': 0.7716588485366596, 'w2': 0.42114480693707673}. Best is trial 82 with value: 0.7547131438482584.\u001B[0m\n",
      "\u001B[32m[I 2023-04-21 19:17:38,892]\u001B[0m Trial 252 finished with value: 0.7545634897793945 and parameters: {'p': -0.57228665479452, 'w0': 0.7565492820962263, 'w1': 0.7172919748820983, 'w2': 0.45451547513385643}. Best is trial 82 with value: 0.7547131438482584.\u001B[0m\n",
      "\u001B[32m[I 2023-04-21 19:17:38,989]\u001B[0m Trial 253 finished with value: 0.7543831374399946 and parameters: {'p': 0.04115298896134681, 'w0': 0.6525918442189915, 'w1': 0.8011790097942884, 'w2': 0.3683068243855204}. Best is trial 82 with value: 0.7547131438482584.\u001B[0m\n",
      "\u001B[32m[I 2023-04-21 19:17:39,073]\u001B[0m Trial 254 finished with value: 0.7545865134822967 and parameters: {'p': -0.893453683894045, 'w0': 0.7011902769695957, 'w1': 0.8511280683765465, 'w2': 0.47667886209819893}. Best is trial 82 with value: 0.7547131438482584.\u001B[0m\n",
      "\u001B[32m[I 2023-04-21 19:17:39,157]\u001B[0m Trial 255 finished with value: 0.7544445339810669 and parameters: {'p': -0.8109188878788454, 'w0': 0.7749903371369266, 'w1': 0.8966722795236067, 'w2': 0.4417407498931678}. Best is trial 82 with value: 0.7547131438482584.\u001B[0m\n",
      "\u001B[32m[I 2023-04-21 19:17:39,242]\u001B[0m Trial 256 finished with value: 0.7544982559545053 and parameters: {'p': -0.6677988383540456, 'w0': 0.7406006013443033, 'w1': 0.8241645701910877, 'w2': 0.5884199390182498}. Best is trial 82 with value: 0.7547131438482584.\u001B[0m\n",
      "\u001B[32m[I 2023-04-21 19:17:39,328]\u001B[0m Trial 257 finished with value: 0.7536924263529304 and parameters: {'p': -1.5430649745593177, 'w0': 0.1355191866553226, 'w1': 0.7462054679440373, 'w2': 0.3873822505825279}. Best is trial 82 with value: 0.7547131438482584.\u001B[0m\n",
      "\u001B[32m[I 2023-04-21 19:17:39,424]\u001B[0m Trial 258 finished with value: 0.7545865134822967 and parameters: {'p': 0.4921814516982439, 'w0': 0.811126866105575, 'w1': 0.7835406429922547, 'w2': 0.4168329941216358}. Best is trial 82 with value: 0.7547131438482584.\u001B[0m\n",
      "\u001B[32m[I 2023-04-21 19:17:39,508]\u001B[0m Trial 259 finished with value: 0.7538535922732454 and parameters: {'p': -1.2946652688261746, 'w0': 0.21247870257080337, 'w1': 0.8089635719513858, 'w2': 0.5180052095044229}. Best is trial 82 with value: 0.7547131438482584.\u001B[0m\n",
      "\u001B[32m[I 2023-04-21 19:17:39,593]\u001B[0m Trial 260 finished with value: 0.7545673270632115 and parameters: {'p': -1.129039577131297, 'w0': 0.7172221281694656, 'w1': 0.6811656036373132, 'w2': 0.3232854541770516}. Best is trial 82 with value: 0.7547131438482584.\u001B[0m\n",
      "\u001B[32m[I 2023-04-21 19:17:39,678]\u001B[0m Trial 261 finished with value: 0.7543409273180072 and parameters: {'p': -0.507931852170886, 'w0': 0.8435461535187221, 'w1': 0.7594113910405167, 'w2': 0.27456514173869384}. Best is trial 82 with value: 0.7547131438482584.\u001B[0m\n",
      "\u001B[32m[I 2023-04-21 19:17:39,763]\u001B[0m Trial 262 finished with value: 0.7546363981719181 and parameters: {'p': -0.9243515185450643, 'w0': 0.791781840750381, 'w1': 0.8371063438606334, 'w2': 0.45909852266506923}. Best is trial 82 with value: 0.7547131438482584.\u001B[0m\n",
      "\u001B[32m[I 2023-04-21 19:17:39,848]\u001B[0m Trial 263 finished with value: 0.7544176729943477 and parameters: {'p': -1.2478404364293678, 'w0': 0.7617649865207532, 'w1': 0.9441984636164046, 'w2': 0.43039375055150025}. Best is trial 82 with value: 0.7547131438482584.\u001B[0m\n",
      "\u001B[32m[I 2023-04-21 19:17:39,931]\u001B[0m Trial 264 finished with value: 0.7545366287926752 and parameters: {'p': -0.6383911307852113, 'w0': 0.7379967368508809, 'w1': 0.7972085139804947, 'w2': 0.39615988503584026}. Best is trial 82 with value: 0.7547131438482584.\u001B[0m\n",
      "\u001B[32m[I 2023-04-21 19:17:40,015]\u001B[0m Trial 265 finished with value: 0.7542142969520454 and parameters: {'p': -0.7566258601228442, 'w0': 0.43891215393752775, 'w1': 0.8678681034034704, 'w2': 0.4844536566372135}. Best is trial 82 with value: 0.7547131438482584.\u001B[0m\n",
      "\u001B[32m[I 2023-04-21 19:17:40,100]\u001B[0m Trial 266 finished with value: 0.7545289542250413 and parameters: {'p': -1.7344424314006495, 'w0': 0.8643579945629342, 'w1': 0.8202187905646643, 'w2': 0.41074931624921}. Best is trial 82 with value: 0.7547131438482584.\u001B[0m\n",
      "\u001B[32m[I 2023-04-21 19:17:40,184]\u001B[0m Trial 267 finished with value: 0.7545750016308457 and parameters: {'p': -0.41647798382395723, 'w0': 0.8183961654119828, 'w1': 0.771788149004675, 'w2': 0.4392123383716102}. Best is trial 82 with value: 0.7547131438482584.\u001B[0m\n",
      "\u001B[32m[I 2023-04-21 19:17:40,267]\u001B[0m Trial 268 finished with value: 0.7545711643470286 and parameters: {'p': -1.40466311027396, 'w0': 0.7825355478931033, 'w1': 0.7293559864519084, 'w2': 0.5014003135439735}. Best is trial 82 with value: 0.7547131438482584.\u001B[0m\n",
      "\u001B[32m[I 2023-04-21 19:17:40,352]\u001B[0m Trial 269 finished with value: 0.754471394967786 and parameters: {'p': -0.5498416719519839, 'w0': 0.7595191773641049, 'w1': 0.8466285079975444, 'w2': 0.37689886447170484}. Best is trial 82 with value: 0.7547131438482584.\u001B[0m\n",
      "\u001B[32m[I 2023-04-21 19:17:40,436]\u001B[0m Trial 270 finished with value: 0.7546133744690159 and parameters: {'p': -0.8464499022634212, 'w0': 0.7945160848915593, 'w1': 0.7930086522200782, 'w2': 0.4610195593466891}. Best is trial 82 with value: 0.7547131438482584.\u001B[0m\n",
      "\u001B[32m[I 2023-04-21 19:17:40,522]\u001B[0m Trial 271 finished with value: 0.7532473014301557 and parameters: {'p': -0.696413740617615, 'w0': 0.030349269455927974, 'w1': 0.8902128683841133, 'w2': 0.42920633831693406}. Best is trial 82 with value: 0.7547131438482584.\u001B[0m\n",
      "\u001B[32m[I 2023-04-21 19:17:40,605]\u001B[0m Trial 272 finished with value: 0.7543946492914455 and parameters: {'p': -1.63886797072194, 'w0': 0.6156591438902974, 'w1': 0.8202865286585943, 'w2': 0.40333357180604024}. Best is trial 82 with value: 0.7547131438482584.\u001B[0m\n",
      "\u001B[32m[I 2023-04-21 19:17:40,690]\u001B[0m Trial 273 finished with value: 0.754640235455735 and parameters: {'p': -1.4835112751257449, 'w0': 0.7339338097730953, 'w1': 0.7712022626377361, 'w2': 0.4473434753893545}. Best is trial 82 with value: 0.7547131438482584.\u001B[0m\n",
      "\u001B[32m[I 2023-04-21 19:17:40,775]\u001B[0m Trial 274 finished with value: 0.7546172117528329 and parameters: {'p': -1.4505267624995921, 'w0': 0.6978667476008984, 'w1': 0.7442681276254959, 'w2': 0.42314655388164296}. Best is trial 82 with value: 0.7547131438482584.\u001B[0m\n",
      "\u001B[32m[I 2023-04-21 19:17:40,860]\u001B[0m Trial 275 finished with value: 0.7543716255885435 and parameters: {'p': -1.3379007981808848, 'w0': 0.7271659420220656, 'w1': 0.9152789790877686, 'w2': 0.3796863196410149}. Best is trial 82 with value: 0.7547131438482584.\u001B[0m\n",
      "\u001B[32m[I 2023-04-21 19:17:40,945]\u001B[0m Trial 276 finished with value: 0.7545481406441265 and parameters: {'p': -1.536015031091157, 'w0': 0.6805449027837954, 'w1': 0.75979998861382, 'w2': 0.4439289014551024}. Best is trial 82 with value: 0.7547131438482584.\u001B[0m\n",
      "\u001B[32m[I 2023-04-21 19:17:41,030]\u001B[0m Trial 277 finished with value: 0.7545366287926752 and parameters: {'p': -1.5002732601997764, 'w0': 0.8337452887471957, 'w1': 0.8373595299442986, 'w2': 0.6149231429393601}. Best is trial 82 with value: 0.7547131438482584.\u001B[0m\n",
      "\u001B[32m[I 2023-04-21 19:17:41,115]\u001B[0m Trial 278 finished with value: 0.7545404660764924 and parameters: {'p': -1.1669922915661077, 'w0': 0.7443987284702599, 'w1': 0.696070948529732, 'w2': 0.40509587946803954}. Best is trial 82 with value: 0.7547131438482584.\u001B[0m\n",
      "\u001B[32m[I 2023-04-21 19:17:41,200]\u001B[0m Trial 279 finished with value: 0.7523263533140702 and parameters: {'p': -0.9766048432091716, 'w0': 0.5713772440055848, 'w1': 0.005041101271485271, 'w2': 0.3606176447091285}. Best is trial 82 with value: 0.7547131438482584.\u001B[0m\n",
      "\u001B[32m[I 2023-04-21 19:17:41,296]\u001B[0m Trial 280 finished with value: 0.7545327915088583 and parameters: {'p': 1.700485802643053, 'w0': 0.7148958159178751, 'w1': 0.8643500147877037, 'w2': 0.47383112292946145}. Best is trial 82 with value: 0.7547131438482584.\u001B[0m\n",
      "\u001B[32m[I 2023-04-21 19:17:41,381]\u001B[0m Trial 281 finished with value: 0.754651747307186 and parameters: {'p': -1.914826225397686, 'w0': 0.8091315195549236, 'w1': 0.8062660985323823, 'w2': 0.4317224761057145}. Best is trial 82 with value: 0.7547131438482584.\u001B[0m\n",
      "\u001B[32m[I 2023-04-21 19:17:41,467]\u001B[0m Trial 282 finished with value: 0.7546018626175648 and parameters: {'p': -1.9770418161924757, 'w0': 0.814422831247277, 'w1': 0.8054471999656398, 'w2': 0.4385820737353647}. Best is trial 82 with value: 0.7547131438482584.\u001B[0m\n",
      "\u001B[32m[I 2023-04-21 19:17:41,552]\u001B[0m Trial 283 finished with value: 0.7544790695354201 and parameters: {'p': -1.411482236541117, 'w0': 0.966375482152559, 'w1': 0.7718771366365151, 'w2': 0.4219699292835979}. Best is trial 82 with value: 0.7547131438482584.\u001B[0m\n",
      "\u001B[32m[I 2023-04-21 19:17:41,637]\u001B[0m Trial 284 finished with value: 0.7545941880499307 and parameters: {'p': -1.565982148342613, 'w0': 0.7758528428803259, 'w1': 0.7971159958275007, 'w2': 0.45558619002757866}. Best is trial 82 with value: 0.7547131438482584.\u001B[0m\n",
      "\u001B[32m[I 2023-04-21 19:17:41,722]\u001B[0m Trial 285 finished with value: 0.7543869747238114 and parameters: {'p': -1.6611906081555454, 'w0': 0.8043050830270961, 'w1': 0.5854614299215837, 'w2': 0.5607691097014585}. Best is trial 82 with value: 0.7547131438482584.\u001B[0m\n",
      "\u001B[32m[I 2023-04-21 19:17:41,808]\u001B[0m Trial 286 finished with value: 0.7540147581935602 and parameters: {'p': -1.2646249941090013, 'w0': 0.8925737490836665, 'w1': 0.826218520718766, 'w2': 0.9933967025555339}. Best is trial 82 with value: 0.7547131438482584.\u001B[0m\n",
      "\u001B[32m[I 2023-04-21 19:17:41,893]\u001B[0m Trial 287 finished with value: 0.7544982559545053 and parameters: {'p': -1.7638497297101545, 'w0': 0.8493743588511549, 'w1': 0.9956536128670901, 'w2': 0.4947614366942992}. Best is trial 82 with value: 0.7547131438482584.\u001B[0m\n",
      "\u001B[32m[I 2023-04-21 19:17:41,978]\u001B[0m Trial 288 finished with value: 0.7545941880499307 and parameters: {'p': -1.816082679564698, 'w0': 0.7779670785918372, 'w1': 0.7201239611314812, 'w2': 0.39327813256630983}. Best is trial 82 with value: 0.7547131438482584.\u001B[0m\n",
      "\u001B[32m[I 2023-04-21 19:17:42,064]\u001B[0m Trial 289 finished with value: 0.754482906819237 and parameters: {'p': -1.8267787385433523, 'w0': 0.7357447564215138, 'w1': 0.8501748125942098, 'w2': 0.43510714711985415}. Best is trial 82 with value: 0.7547131438482584.\u001B[0m\n",
      "\u001B[32m[I 2023-04-21 19:17:42,149]\u001B[0m Trial 290 finished with value: 0.7543831374399946 and parameters: {'p': -1.9332908142233909, 'w0': 0.6432116500782881, 'w1': 0.8796170825815474, 'w2': 0.4167461548781139}. Best is trial 82 with value: 0.7547131438482584.\u001B[0m\n",
      "\u001B[32m[I 2023-04-21 19:17:42,233]\u001B[0m Trial 291 finished with value: 0.7545443033603093 and parameters: {'p': -1.6497526149752235, 'w0': 0.5326629424989959, 'w1': 0.6700547765351295, 'w2': 0.46943115605052055}. Best is trial 82 with value: 0.7547131438482584.\u001B[0m\n",
      "\u001B[32m[I 2023-04-21 19:17:42,318]\u001B[0m Trial 292 finished with value: 0.7545558152117605 and parameters: {'p': -1.3523742583654486, 'w0': 0.7994844979977256, 'w1': 0.6211417057340983, 'w2': 0.44814650631205993}. Best is trial 82 with value: 0.7547131438482584.\u001B[0m\n",
      "\u001B[32m[I 2023-04-21 19:17:42,404]\u001B[0m Trial 293 finished with value: 0.7545404660764924 and parameters: {'p': -1.8563496180158903, 'w0': 0.827365605967846, 'w1': 0.8145945013447292, 'w2': 0.4025453380173766}. Best is trial 82 with value: 0.7547131438482584.\u001B[0m\n",
      "\u001B[32m[I 2023-04-21 19:17:42,489]\u001B[0m Trial 294 finished with value: 0.7545443033603093 and parameters: {'p': -1.8671852644977516, 'w0': 0.7573777203609853, 'w1': 0.7852175172403105, 'w2': 0.537682527226808}. Best is trial 82 with value: 0.7547131438482584.\u001B[0m\n",
      "\u001B[32m[I 2023-04-21 19:17:42,575]\u001B[0m Trial 295 finished with value: 0.7541222021404369 and parameters: {'p': -1.7408248184107074, 'w0': 0.8666355056258717, 'w1': 0.5303177176161302, 'w2': 0.1801120085162412}. Best is trial 82 with value: 0.7547131438482584.\u001B[0m\n",
      "\u001B[32m[I 2023-04-21 19:17:42,661]\u001B[0m Trial 296 finished with value: 0.7544522085487008 and parameters: {'p': -1.967863936927102, 'w0': 0.7084106391381007, 'w1': 0.9283998930100884, 'w2': 0.4268379033112946}. Best is trial 82 with value: 0.7547131438482584.\u001B[0m\n",
      "\u001B[32m[I 2023-04-21 19:17:42,746]\u001B[0m Trial 297 finished with value: 0.7542718562093008 and parameters: {'p': -1.4833344605031562, 'w0': 0.7774869582123753, 'w1': 0.7588391640794326, 'w2': 0.7134337887984262}. Best is trial 82 with value: 0.7547131438482584.\u001B[0m\n",
      "\u001B[32m[I 2023-04-21 19:17:42,831]\u001B[0m Trial 298 finished with value: 0.7545826761984797 and parameters: {'p': -1.066854355818982, 'w0': 0.6877859291509885, 'w1': 0.8345491866126378, 'w2': 0.48329181845836966}. Best is trial 82 with value: 0.7547131438482584.\u001B[0m\n",
      "\u001B[32m[I 2023-04-21 19:17:42,916]\u001B[0m Trial 299 finished with value: 0.7545020932383222 and parameters: {'p': -1.2033008288473768, 'w0': 0.7440550420478254, 'w1': 0.8008526732330132, 'w2': 0.3825041309413857}. Best is trial 82 with value: 0.7547131438482584.\u001B[0m\n",
      "\u001B[32m[I 2023-04-21 19:17:43,002]\u001B[0m Trial 300 finished with value: 0.7543102290474709 and parameters: {'p': -0.7860396576989908, 'w0': 0.793752753372678, 'w1': 0.9629991379434397, 'w2': 0.8649782424855105}. Best is trial 82 with value: 0.7547131438482584.\u001B[0m\n",
      "\u001B[32m[I 2023-04-21 19:17:43,099]\u001B[0m Trial 301 finished with value: 0.754640235455735 and parameters: {'p': 0.5747782979664069, 'w0': 0.7251293049455607, 'w1': 0.7398513687638916, 'w2': 0.44978090297833556}. Best is trial 82 with value: 0.7547131438482584.\u001B[0m\n",
      "\u001B[32m[I 2023-04-21 19:17:43,197]\u001B[0m Trial 302 finished with value: 0.7545711643470286 and parameters: {'p': 0.08511828778680558, 'w0': 0.9320071898928779, 'w1': 0.7815517857046631, 'w2': 0.5082023909679855}. Best is trial 82 with value: 0.7547131438482584.\u001B[0m\n",
      "\u001B[32m[I 2023-04-21 19:17:43,282]\u001B[0m Trial 303 finished with value: 0.7544291848457988 and parameters: {'p': -0.10052295877057843, 'w0': 0.7648735034128423, 'w1': 0.9007521621620932, 'w2': 0.4161065643185726}. Best is trial 82 with value: 0.7547131438482584.\u001B[0m\n",
      "\u001B[32m[I 2023-04-21 19:17:43,367]\u001B[0m Trial 304 finished with value: 0.7538727786923304 and parameters: {'p': -0.21086942951719778, 'w0': 0.8142449166917662, 'w1': 0.3693528896025937, 'w2': 0.4655382325150076}. Best is trial 82 with value: 0.7547131438482584.\u001B[0m\n",
      "\u001B[32m[I 2023-04-21 19:17:43,452]\u001B[0m Trial 305 finished with value: 0.7544637204001521 and parameters: {'p': -1.287301445302666, 'w0': 0.8397673683104442, 'w1': 0.8529027328972154, 'w2': 0.3556367051143978}. Best is trial 82 with value: 0.7547131438482584.\u001B[0m\n",
      "\u001B[32m[I 2023-04-21 19:17:43,537]\u001B[0m Trial 306 finished with value: 0.7546670964424542 and parameters: {'p': -0.6020240974704401, 'w0': 0.7860099247413546, 'w1': 0.8177685877746651, 'w2': 0.43924812267920993}. Best is trial 82 with value: 0.7547131438482584.\u001B[0m\n",
      "\u001B[32m[I 2023-04-21 19:17:43,623]\u001B[0m Trial 307 finished with value: 0.7534890503106281 and parameters: {'p': -0.5985622886632566, 'w0': 0.4873751079518567, 'w1': 0.18429129539413902, 'w2': 0.4144640406568945}. Best is trial 82 with value: 0.7547131438482584.\u001B[0m\n",
      "\u001B[32m[I 2023-04-21 19:17:43,709]\u001B[0m Trial 308 finished with value: 0.7546172117528329 and parameters: {'p': -0.6706991632106919, 'w0': 0.796785240480282, 'w1': 0.8169209871354274, 'w2': 0.3959245073453084}. Best is trial 82 with value: 0.7547131438482584.\u001B[0m\n",
      "\u001B[32m[I 2023-04-21 19:17:43,794]\u001B[0m Trial 309 finished with value: 0.7546479100233691 and parameters: {'p': -0.3446611310346792, 'w0': 0.779024242761911, 'w1': 0.8392060362213847, 'w2': 0.43637051890399864}. Best is trial 82 with value: 0.7547131438482584.\u001B[0m\n",
      "\u001B[32m[I 2023-04-21 19:17:43,880]\u001B[0m Trial 310 finished with value: 0.7545596524955775 and parameters: {'p': -0.4305884870310678, 'w0': 0.7823294849943406, 'w1': 0.8580459494382263, 'w2': 0.4374054157175821}. Best is trial 82 with value: 0.7547131438482584.\u001B[0m\n",
      "\u001B[32m[I 2023-04-21 19:17:43,966]\u001B[0m Trial 311 finished with value: 0.7545865134822967 and parameters: {'p': -0.3151563280610591, 'w0': 0.8201264988685076, 'w1': 0.8302266354998289, 'w2': 0.47435475717298253}. Best is trial 82 with value: 0.7547131438482584.\u001B[0m\n",
      "\u001B[32m[I 2023-04-21 19:17:44,052]\u001B[0m Trial 312 finished with value: 0.7545903507661137 and parameters: {'p': -0.5535576282591543, 'w0': 0.9107243835730195, 'w1': 0.8381810432863621, 'w2': 0.4354933148524028}. Best is trial 82 with value: 0.7547131438482584.\u001B[0m\n",
      "\u001B[32m[I 2023-04-21 19:17:44,138]\u001B[0m Trial 313 finished with value: 0.7544330221296158 and parameters: {'p': -0.3595346355764203, 'w0': 0.8045485484790406, 'w1': 0.8722179943849623, 'w2': 0.37622486275156347}. Best is trial 82 with value: 0.7547131438482584.\u001B[0m\n",
      "\u001B[32m[I 2023-04-21 19:17:44,223]\u001B[0m Trial 314 finished with value: 0.7546172117528329 and parameters: {'p': -0.4727692974182708, 'w0': 0.7700250142703452, 'w1': 0.8115752737341072, 'w2': 0.531687034286486}. Best is trial 82 with value: 0.7547131438482584.\u001B[0m\n",
      "\u001B[32m[I 2023-04-21 19:17:44,309]\u001B[0m Trial 315 finished with value: 0.7546709337262711 and parameters: {'p': -0.6122266156190923, 'w0': 0.7920234731857827, 'w1': 0.8476727406113279, 'w2': 0.4583058867470369}. Best is trial 82 with value: 0.7547131438482584.\u001B[0m\n",
      "\u001B[32m[I 2023-04-21 19:17:44,395]\u001B[0m Trial 316 finished with value: 0.7546670964424542 and parameters: {'p': -0.6300134667134103, 'w0': 0.7946978644278586, 'w1': 0.8450638451165081, 'w2': 0.45917501428469804}. Best is trial 82 with value: 0.7547131438482584.\u001B[0m\n",
      "\u001B[32m[I 2023-04-21 19:17:44,481]\u001B[0m Trial 317 finished with value: 0.754651747307186 and parameters: {'p': -0.5964639877705387, 'w0': 0.7914522827890044, 'w1': 0.8532436679690136, 'w2': 0.4639971071115852}. Best is trial 82 with value: 0.7547131438482584.\u001B[0m\n",
      "\u001B[32m[I 2023-04-21 19:17:44,566]\u001B[0m Trial 318 finished with value: 0.7546325608881009 and parameters: {'p': -0.5767422093172287, 'w0': 0.8276755694784795, 'w1': 0.8633362969816555, 'w2': 0.4722007509909636}. Best is trial 82 with value: 0.7547131438482584.\u001B[0m\n",
      "\u001B[32m[I 2023-04-21 19:17:44,652]\u001B[0m Trial 319 finished with value: 0.7546018626175648 and parameters: {'p': -0.6264784889679593, 'w0': 0.7956528290223787, 'w1': 0.847794442119269, 'w2': 0.4847111389728423}. Best is trial 82 with value: 0.7547131438482584.\u001B[0m\n",
      "\u001B[32m[I 2023-04-21 19:17:44,737]\u001B[0m Trial 320 finished with value: 0.7546133744690159 and parameters: {'p': -0.4977310361203082, 'w0': 0.8092597101225897, 'w1': 0.8408495686079167, 'w2': 0.45974178073124544}. Best is trial 82 with value: 0.7547131438482584.\u001B[0m\n",
      "\u001B[32m[I 2023-04-21 19:17:44,822]\u001B[0m Trial 321 finished with value: 0.7545788389146626 and parameters: {'p': -0.9366070843507427, 'w0': 0.7853029013890038, 'w1': 0.8632236569094156, 'w2': 0.4942709729252394}. Best is trial 82 with value: 0.7547131438482584.\u001B[0m\n",
      "\u001B[32m[I 2023-04-21 19:17:44,908]\u001B[0m Trial 322 finished with value: 0.7547093065644415 and parameters: {'p': -0.7061398190458422, 'w0': 0.8353552896661509, 'w1': 0.8761852672838633, 'w2': 0.4526631433559231}. Best is trial 82 with value: 0.7547131438482584.\u001B[0m\n",
      "\u001B[32m[I 2023-04-21 19:17:44,994]\u001B[0m Trial 323 finished with value: 0.7547016319968074 and parameters: {'p': -0.7405733024433049, 'w0': 0.8422649865765681, 'w1': 0.8799572284286863, 'w2': 0.4573588080232104}. Best is trial 82 with value: 0.7547131438482584.\u001B[0m\n",
      "\u001B[32m[I 2023-04-21 19:17:45,080]\u001B[0m Trial 324 finished with value: 0.7547169811320754 and parameters: {'p': -0.7225365962059791, 'w0': 0.8385974389135191, 'w1': 0.8859984251596392, 'w2': 0.4655678908307195}. Best is trial 324 with value: 0.7547169811320754.\u001B[0m\n",
      "\u001B[32m[I 2023-04-21 19:17:45,166]\u001B[0m Trial 325 finished with value: 0.7546133744690159 and parameters: {'p': -0.7429947125976661, 'w0': 0.8489905115164192, 'w1': 0.883485370568003, 'w2': 0.4829472380908617}. Best is trial 324 with value: 0.7547169811320754.\u001B[0m\n",
      "\u001B[32m[I 2023-04-21 19:17:45,252]\u001B[0m Trial 326 finished with value: 0.7546248863204669 and parameters: {'p': -0.6503731870418881, 'w0': 0.8444818012288587, 'w1': 0.8918024062276235, 'w2': 0.5143109797361973}. Best is trial 324 with value: 0.7547169811320754.\u001B[0m\n",
      "\u001B[32m[I 2023-04-21 19:17:45,337]\u001B[0m Trial 327 finished with value: 0.754651747307186 and parameters: {'p': -0.7230055370318711, 'w0': 0.8649237503158825, 'w1': 0.8745366317354801, 'w2': 0.4670615743194679}. Best is trial 324 with value: 0.7547169811320754.\u001B[0m\n",
      "\u001B[32m[I 2023-04-21 19:17:45,423]\u001B[0m Trial 328 finished with value: 0.7546056999013817 and parameters: {'p': -0.7128019948388746, 'w0': 0.8753397306376673, 'w1': 0.8664899800083607, 'w2': 0.47107204672106734}. Best is trial 324 with value: 0.7547169811320754.\u001B[0m\n",
      "\u001B[32m[I 2023-04-21 19:17:45,509]\u001B[0m Trial 329 finished with value: 0.7546248863204669 and parameters: {'p': -0.624124118386106, 'w0': 0.8616141166951626, 'w1': 0.8965624432263942, 'w2': 0.49977556388018834}. Best is trial 324 with value: 0.7547169811320754.\u001B[0m\n",
      "\u001B[32m[I 2023-04-21 19:17:45,595]\u001B[0m Trial 330 finished with value: 0.7547016319968074 and parameters: {'p': -0.7065305707948756, 'w0': 0.8505637298335923, 'w1': 0.8820854249000801, 'w2': 0.45993681484479887}. Best is trial 324 with value: 0.7547169811320754.\u001B[0m\n",
      "\u001B[32m[I 2023-04-21 19:17:45,681]\u001B[0m Trial 331 finished with value: 0.7546363981719181 and parameters: {'p': -0.5760707767141338, 'w0': 0.8634263434461875, 'w1': 0.9093721701486029, 'w2': 0.46056454297467053}. Best is trial 324 with value: 0.7547169811320754.\u001B[0m\n",
      "\u001B[32m[I 2023-04-21 19:17:45,768]\u001B[0m Trial 332 finished with value: 0.7546210490366501 and parameters: {'p': -0.7051932838653521, 'w0': 0.8370152488105708, 'w1': 0.87670496627722, 'w2': 0.48666413143549997}. Best is trial 324 with value: 0.7547169811320754.\u001B[0m\n",
      "\u001B[32m[I 2023-04-21 19:17:45,854]\u001B[0m Trial 333 finished with value: 0.754651747307186 and parameters: {'p': -0.6518037624282748, 'w0': 0.8823278916593545, 'w1': 0.8886493162509369, 'w2': 0.4598260069029231}. Best is trial 324 with value: 0.7547169811320754.\u001B[0m\n",
      "\u001B[32m[I 2023-04-21 19:17:45,941]\u001B[0m Trial 334 finished with value: 0.7546363981719181 and parameters: {'p': -0.7795388417739879, 'w0': 0.8343097895794469, 'w1': 0.9053501731585701, 'w2': 0.4717600786904247}. Best is trial 324 with value: 0.7547169811320754.\u001B[0m\n",
      "\u001B[32m[I 2023-04-21 19:17:46,027]\u001B[0m Trial 335 finished with value: 0.7546248863204669 and parameters: {'p': -0.5364260497793998, 'w0': 0.8519324672913271, 'w1': 0.8805135356784524, 'w2': 0.5050585078925706}. Best is trial 324 with value: 0.7547169811320754.\u001B[0m\n",
      "\u001B[32m[I 2023-04-21 19:17:46,113]\u001B[0m Trial 336 finished with value: 0.754482906819237 and parameters: {'p': -0.7112243921897052, 'w0': 0.8273258906173627, 'w1': 0.9225368990703824, 'w2': 0.45611088579107967}. Best is trial 324 with value: 0.7547169811320754.\u001B[0m\n",
      "\u001B[32m[I 2023-04-21 19:17:46,200]\u001B[0m Trial 337 finished with value: 0.7545826761984797 and parameters: {'p': -0.6067944758212092, 'w0': 0.8599840804663683, 'w1': 0.8781134913722184, 'w2': 0.490198087964226}. Best is trial 324 with value: 0.7547169811320754.\u001B[0m\n",
      "\u001B[32m[I 2023-04-21 19:17:46,287]\u001B[0m Trial 338 finished with value: 0.7546901201453563 and parameters: {'p': -1.1308084470748396, 'w0': 0.8208024751880321, 'w1': 0.8710473921713875, 'w2': 0.45011439538548076}. Best is trial 324 with value: 0.7547169811320754.\u001B[0m\n",
      "\u001B[32m[I 2023-04-21 19:17:46,374]\u001B[0m Trial 339 finished with value: 0.7544330221296158 and parameters: {'p': -1.1780373281544418, 'w0': 0.815039258304596, 'w1': 0.8568520847337957, 'w2': 0.6592991983257347}. Best is trial 324 with value: 0.7547169811320754.\u001B[0m\n",
      "\u001B[32m[I 2023-04-21 19:17:46,460]\u001B[0m Trial 340 finished with value: 0.7544176729943477 and parameters: {'p': -1.0640206796825382, 'w0': 0.8264458339781099, 'w1': 0.9057908190836164, 'w2': 0.7334576131144159}. Best is trial 324 with value: 0.7547169811320754.\u001B[0m\n",
      "\u001B[32m[I 2023-04-21 19:17:46,547]\u001B[0m Trial 341 finished with value: 0.7544445339810669 and parameters: {'p': -1.2315954035810202, 'w0': 0.5907216855584391, 'w1': 0.847680270333295, 'w2': 0.44810866046407477}. Best is trial 324 with value: 0.7547169811320754.\u001B[0m\n",
      "\u001B[32m[I 2023-04-21 19:17:46,633]\u001B[0m Trial 342 finished with value: 0.7544944186706881 and parameters: {'p': -1.1448196351443123, 'w0': 0.8441479425183737, 'w1': 0.6422737474004052, 'w2': 0.3321112065243185}. Best is trial 324 with value: 0.7547169811320754.\u001B[0m\n",
      "\u001B[32m[I 2023-04-21 19:17:46,720]\u001B[0m Trial 343 finished with value: 0.7543409273180072 and parameters: {'p': -0.4713066519794576, 'w0': 0.8145319989164803, 'w1': 0.5662405651137253, 'w2': 0.444195191143864}. Best is trial 324 with value: 0.7547169811320754.\u001B[0m\n",
      "\u001B[32m[I 2023-04-21 19:17:46,807]\u001B[0m Trial 344 finished with value: 0.7546287236042839 and parameters: {'p': -1.3210491607731414, 'w0': 0.8128196470346067, 'w1': 0.8578809880265742, 'w2': 0.42009468735355404}. Best is trial 324 with value: 0.7547169811320754.\u001B[0m\n",
      "\u001B[32m[I 2023-04-21 19:17:46,894]\u001B[0m Trial 345 finished with value: 0.7543217408989221 and parameters: {'p': -1.9067936100634455, 'w0': 0.8318889005351809, 'w1': 0.8856300769871414, 'w2': 0.2941205806412096}. Best is trial 324 with value: 0.7547169811320754.\u001B[0m\n",
      "\u001B[32m[I 2023-04-21 19:17:46,981]\u001B[0m Trial 346 finished with value: 0.7545634897793945 and parameters: {'p': -0.5375562738952436, 'w0': 0.8051820891550007, 'w1': 0.6551769786654706, 'w2': 0.4528940433567659}. Best is trial 324 with value: 0.7547169811320754.\u001B[0m\n",
      "\u001B[32m[I 2023-04-21 19:17:47,067]\u001B[0m Trial 347 finished with value: 0.7529671797115131 and parameters: {'p': -1.1651812261080445, 'w0': 0.8363380391101033, 'w1': 0.10035119703554563, 'w2': 0.48276834554813813}. Best is trial 324 with value: 0.7547169811320754.\u001B[0m\n",
      "\u001B[32m[I 2023-04-21 19:17:47,153]\u001B[0m Trial 348 finished with value: 0.7545519779279435 and parameters: {'p': -1.09347517660437, 'w0': 0.882151835772044, 'w1': 0.865055514876952, 'w2': 0.4306621089873951}. Best is trial 324 with value: 0.7547169811320754.\u001B[0m\n",
      "\u001B[32m[I 2023-04-21 19:17:47,241]\u001B[0m Trial 349 finished with value: 0.7546095371851987 and parameters: {'p': -1.3842471326774184, 'w0': 0.8040274551447377, 'w1': 0.8338953254146947, 'w2': 0.4100750528200851}. Best is trial 324 with value: 0.7547169811320754.\u001B[0m\n",
      "\u001B[32m[I 2023-04-21 19:17:47,326]\u001B[0m Trial 350 finished with value: 0.7545903507661137 and parameters: {'p': -1.287287570440934, 'w0': 0.8210970232459166, 'w1': 0.9001472545183471, 'w2': 0.5142838341741875}. Best is trial 324 with value: 0.7547169811320754.\u001B[0m\n",
      "\u001B[32m[I 2023-04-21 19:17:47,413]\u001B[0m Trial 351 finished with value: 0.7543754628723603 and parameters: {'p': -0.4216326516500325, 'w0': 0.8511376323790353, 'w1': 0.5346983656917774, 'w2': 0.45113696432617856}. Best is trial 324 with value: 0.7547169811320754.\u001B[0m\n",
      "\u001B[32m[I 2023-04-21 19:17:47,499]\u001B[0m Trial 352 finished with value: 0.7546095371851987 and parameters: {'p': -0.6493054075308672, 'w0': 0.7870987811919805, 'w1': 0.849041523374473, 'w2': 0.4737687127914786}. Best is trial 324 with value: 0.7547169811320754.\u001B[0m\n",
      "\u001B[32m[I 2023-04-21 19:17:47,586]\u001B[0m Trial 353 finished with value: 0.7543524391694583 and parameters: {'p': -0.8575520807441646, 'w0': 0.6514627008659692, 'w1': 0.4184442503065278, 'w2': 0.3939347654977356}. Best is trial 324 with value: 0.7547169811320754.\u001B[0m\n",
      "\u001B[32m[I 2023-04-21 19:17:47,673]\u001B[0m Trial 354 finished with value: 0.7542449952225816 and parameters: {'p': -0.7936178839312578, 'w0': 0.49610311940790264, 'w1': 0.9348294732468094, 'w2': 0.6889997592309243}. Best is trial 324 with value: 0.7547169811320754.\u001B[0m\n",
      "\u001B[32m[I 2023-04-21 19:17:47,760]\u001B[0m Trial 355 finished with value: 0.7542526697902157 and parameters: {'p': -0.563039392629735, 'w0': 0.7975637524147461, 'w1': 0.825946264410693, 'w2': 0.2590445414711275}. Best is trial 324 with value: 0.7547169811320754.\u001B[0m\n",
      "\u001B[32m[I 2023-04-21 19:17:47,847]\u001B[0m Trial 356 finished with value: 0.7542603443578496 and parameters: {'p': -1.7718762384874824, 'w0': 0.39686135001614553, 'w1': 0.8749572256318487, 'w2': 0.4293608783817411}. Best is trial 324 with value: 0.7547169811320754.\u001B[0m\n",
      "\u001B[32m[I 2023-04-21 19:17:47,933]\u001B[0m Trial 357 finished with value: 0.7538727786923304 and parameters: {'p': -1.983127314700063, 'w0': 0.2252150361582127, 'w1': 0.8260463032478536, 'w2': 0.44355888411891364}. Best is trial 324 with value: 0.7547169811320754.\u001B[0m\n",
      "\u001B[32m[I 2023-04-21 19:17:48,021]\u001B[0m Trial 358 finished with value: 0.7546018626175648 and parameters: {'p': -0.9905384883201598, 'w0': 0.8234060905310695, 'w1': 0.9141153451186036, 'w2': 0.4944061792255636}. Best is trial 324 with value: 0.7547169811320754.\u001B[0m\n",
      "\u001B[32m[I 2023-04-21 19:17:48,108]\u001B[0m Trial 359 finished with value: 0.7545673270632115 and parameters: {'p': -0.14395639594331133, 'w0': 0.8465638276358485, 'w1': 0.8556515008302799, 'w2': 0.41200946860497084}. Best is trial 324 with value: 0.7547169811320754.\u001B[0m\n",
      "\u001B[32m[I 2023-04-21 19:17:48,195]\u001B[0m Trial 360 finished with value: 0.7543639510209094 and parameters: {'p': -0.6631549665456968, 'w0': 0.9938990234890266, 'w1': 0.6919696972945817, 'w2': 0.30988090967896575}. Best is trial 324 with value: 0.7547169811320754.\u001B[0m\n",
      "\u001B[32m[I 2023-04-21 19:17:48,282]\u001B[0m Trial 361 finished with value: 0.7539533616524879 and parameters: {'p': -0.47586376115899853, 'w0': 0.7922402475654649, 'w1': 0.7945561888828289, 'w2': 0.9306092709660522}. Best is trial 324 with value: 0.7547169811320754.\u001B[0m\n",
      "\u001B[32m[I 2023-04-21 19:17:48,368]\u001B[0m Trial 362 finished with value: 0.7546210490366501 and parameters: {'p': -0.762810863422599, 'w0': 0.8942334658207316, 'w1': 0.8907020566889726, 'w2': 0.46406968315103725}. Best is trial 324 with value: 0.7547169811320754.\u001B[0m\n",
      "\u001B[32m[I 2023-04-21 19:17:48,456]\u001B[0m Trial 363 finished with value: 0.7544406966972498 and parameters: {'p': -1.2341516323601027, 'w0': 0.5347607823639546, 'w1': 0.8358043487178078, 'w2': 0.43123882408560094}. Best is trial 324 with value: 0.7547169811320754.\u001B[0m\n",
      "\u001B[32m[I 2023-04-21 19:17:48,543]\u001B[0m Trial 364 finished with value: 0.7545634897793945 and parameters: {'p': -1.1135599858133212, 'w0': 0.8716031449563244, 'w1': 0.8109916956093073, 'w2': 0.38666970450373983}. Best is trial 324 with value: 0.7547169811320754.\u001B[0m\n",
      "\u001B[32m[I 2023-04-21 19:17:48,629]\u001B[0m Trial 365 finished with value: 0.7544368594134329 and parameters: {'p': -0.5854544896526357, 'w0': 0.8083300772009465, 'w1': 0.8678841184611856, 'w2': 0.36087136024754984}. Best is trial 324 with value: 0.7547169811320754.\u001B[0m\n",
      "\u001B[32m[I 2023-04-21 19:17:48,716]\u001B[0m Trial 366 finished with value: 0.7543332527503731 and parameters: {'p': -0.8321269481973665, 'w0': 0.46429969569511814, 'w1': 0.846975898116494, 'w2': 0.4533564433263745}. Best is trial 324 with value: 0.7547169811320754.\u001B[0m\n",
      "\u001B[32m[I 2023-04-21 19:17:48,803]\u001B[0m Trial 367 finished with value: 0.7545788389146626 and parameters: {'p': -1.3853310311544156, 'w0': 0.7700404428517496, 'w1': 0.8228095273464734, 'w2': 0.40912118841984174}. Best is trial 324 with value: 0.7547169811320754.\u001B[0m\n",
      "\u001B[32m[I 2023-04-21 19:17:48,890]\u001B[0m Trial 368 finished with value: 0.7545481406441265 and parameters: {'p': -1.5545277326894462, 'w0': 0.6049130124553502, 'w1': 0.7918765490528387, 'w2': 0.4749688510915177}. Best is trial 324 with value: 0.7547169811320754.\u001B[0m\n",
      "\u001B[32m[I 2023-04-21 19:17:48,977]\u001B[0m Trial 369 finished with value: 0.7544253475619818 and parameters: {'p': -0.6700561610923559, 'w0': 0.6734789813881557, 'w1': 0.8826697865568547, 'w2': 0.430854369653417}. Best is trial 324 with value: 0.7547169811320754.\u001B[0m\n",
      "\u001B[32m[I 2023-04-21 19:17:49,064]\u001B[0m Trial 370 finished with value: 0.7544406966972498 and parameters: {'p': -0.38907881520168436, 'w0': 0.8290066578711444, 'w1': 0.5798400605143564, 'w2': 0.5149574899519517}. Best is trial 324 with value: 0.7547169811320754.\u001B[0m\n",
      "\u001B[32m[I 2023-04-21 19:17:49,151]\u001B[0m Trial 371 finished with value: 0.7541874359653263 and parameters: {'p': -1.2948669220923865, 'w0': 0.7870851770509734, 'w1': 0.6303519696451763, 'w2': 0.6187879944888374}. Best is trial 324 with value: 0.7547169811320754.\u001B[0m\n",
      "\u001B[32m[I 2023-04-21 19:17:49,251]\u001B[0m Trial 372 finished with value: 0.7539188260981347 and parameters: {'p': 1.9319786456742154, 'w0': 0.7592923545470041, 'w1': 0.5064110482853968, 'w2': 0.8009945438379912}. Best is trial 324 with value: 0.7547169811320754.\u001B[0m\n",
      "\u001B[32m[I 2023-04-21 19:17:49,338]\u001B[0m Trial 373 finished with value: 0.7547016319968074 and parameters: {'p': -0.9020642250456998, 'w0': 0.8062552244177199, 'w1': 0.8520649594222245, 'w2': 0.44980478854120526}. Best is trial 324 with value: 0.7547169811320754.\u001B[0m\n",
      "\u001B[32m[I 2023-04-21 19:17:49,425]\u001B[0m Trial 374 finished with value: 0.7544675576839691 and parameters: {'p': -0.8936397157610315, 'w0': 0.5083388185976945, 'w1': 0.9517733812173287, 'w2': 0.3959476124767945}. Best is trial 324 with value: 0.7547169811320754.\u001B[0m\n",
      "\u001B[32m[I 2023-04-21 19:17:49,512]\u001B[0m Trial 375 finished with value: 0.7544368594134329 and parameters: {'p': -1.0073452130015537, 'w0': 0.840201783034877, 'w1': 0.6722041078628505, 'w2': 0.41967375651060984}. Best is trial 324 with value: 0.7547169811320754.\u001B[0m\n",
      "\u001B[32m[I 2023-04-21 19:17:49,600]\u001B[0m Trial 376 finished with value: 0.7545289542250413 and parameters: {'p': -0.9392361531654876, 'w0': 0.6451697214529097, 'w1': 0.8087648513601668, 'w2': 0.44275127179459667}. Best is trial 324 with value: 0.7547169811320754.\u001B[0m\n",
      "\u001B[32m[I 2023-04-21 19:17:49,687]\u001B[0m Trial 377 finished with value: 0.7543217408989221 and parameters: {'p': -1.0483379052838016, 'w0': 0.815730235712168, 'w1': 0.8973792275615776, 'w2': 0.3451597180662749}. Best is trial 324 with value: 0.7547169811320754.\u001B[0m\n",
      "\u001B[32m[I 2023-04-21 19:17:49,774]\u001B[0m Trial 378 finished with value: 0.7545711643470286 and parameters: {'p': -0.8040032555507358, 'w0': 0.6247240154210911, 'w1': 0.6044852008886223, 'w2': 0.3747706127906876}. Best is trial 324 with value: 0.7547169811320754.\u001B[0m\n",
      "\u001B[32m[I 2023-04-21 19:17:49,862]\u001B[0m Trial 379 finished with value: 0.7546172117528329 and parameters: {'p': -1.6695500137294659, 'w0': 0.8561277514217631, 'w1': 0.8297125938758021, 'w2': 0.4427354721718918}. Best is trial 324 with value: 0.7547169811320754.\u001B[0m\n",
      "\u001B[32m[I 2023-04-21 19:17:49,949]\u001B[0m Trial 380 finished with value: 0.7546363981719181 and parameters: {'p': -0.7570627694578034, 'w0': 0.7743783170646039, 'w1': 0.7918611191885176, 'w2': 0.493630461213506}. Best is trial 324 with value: 0.7547169811320754.\u001B[0m\n",
      "\u001B[32m[I 2023-04-21 19:17:50,037]\u001B[0m Trial 381 finished with value: 0.754486744103054 and parameters: {'p': -0.27597537121371807, 'w0': 0.9628169334170102, 'w1': 0.8725910245593798, 'w2': 0.40602517120098064}. Best is trial 324 with value: 0.7547169811320754.\u001B[0m\n",
      "\u001B[32m[I 2023-04-21 19:17:50,124]\u001B[0m Trial 382 finished with value: 0.7544176729943477 and parameters: {'p': -1.2070190324711647, 'w0': 0.5760544873381288, 'w1': 0.9132227814149734, 'w2': 0.4270294765594049}. Best is trial 324 with value: 0.7547169811320754.\u001B[0m\n",
      "\u001B[32m[I 2023-04-21 19:17:50,211]\u001B[0m Trial 383 finished with value: 0.7546632591586372 and parameters: {'p': -1.862164139438272, 'w0': 0.8066664575743456, 'w1': 0.8498477528707584, 'w2': 0.46193189604537904}. Best is trial 324 with value: 0.7547169811320754.\u001B[0m\n",
      "\u001B[32m[I 2023-04-21 19:17:50,298]\u001B[0m Trial 384 finished with value: 0.7541183648566199 and parameters: {'p': -0.8802162123123562, 'w0': 0.8289077926739696, 'w1': 0.45763169280521243, 'w2': 0.48393101218114737}. Best is trial 324 with value: 0.7547169811320754.\u001B[0m\n",
      "\u001B[32m[I 2023-04-21 19:17:50,385]\u001B[0m Trial 385 finished with value: 0.7545020932383222 and parameters: {'p': -1.4201320222689133, 'w0': 0.7532575404574084, 'w1': 0.6048453890601877, 'w2': 0.4612183725965717}. Best is trial 324 with value: 0.7547169811320754.\u001B[0m\n",
      "\u001B[32m[I 2023-04-21 19:17:50,473]\u001B[0m Trial 386 finished with value: 0.7541452258433391 and parameters: {'p': -0.7213553923655441, 'w0': 0.794832106377647, 'w1': 0.8518818550462695, 'w2': 0.18722247952897042}. Best is trial 324 with value: 0.7547169811320754.\u001B[0m\n",
      "\u001B[32m[I 2023-04-21 19:17:50,561]\u001B[0m Trial 387 finished with value: 0.7544675576839691 and parameters: {'p': -1.323454973019545, 'w0': 0.9099307028621468, 'w1': 0.7144962385099849, 'w2': 0.47461299242724275}. Best is trial 324 with value: 0.7547169811320754.\u001B[0m\n",
      "\u001B[32m[I 2023-04-21 19:17:50,648]\u001B[0m Trial 388 finished with value: 0.7546210490366501 and parameters: {'p': -1.585979724062777, 'w0': 0.8656240368933762, 'w1': 0.8633747526822333, 'w2': 0.45144084239223037}. Best is trial 324 with value: 0.7547169811320754.\u001B[0m\n",
      "\u001B[32m[I 2023-04-21 19:17:50,747]\u001B[0m Trial 389 finished with value: 0.754482906819237 and parameters: {'p': 1.260673276156989, 'w0': 0.7741883176768264, 'w1': 0.5513815577880781, 'w2': 0.5034210018172873}. Best is trial 324 with value: 0.7547169811320754.\u001B[0m\n",
      "\u001B[32m[I 2023-04-21 19:17:50,834]\u001B[0m Trial 390 finished with value: 0.7545941880499307 and parameters: {'p': -0.4912031941859912, 'w0': 0.8235461274049278, 'w1': 0.8340490900385087, 'w2': 0.46212198308150876}. Best is trial 324 with value: 0.7547169811320754.\u001B[0m\n",
      "\u001B[32m[I 2023-04-21 19:17:50,921]\u001B[0m Trial 391 finished with value: 0.7544637204001521 and parameters: {'p': -1.1268392635931184, 'w0': 0.8041477107231296, 'w1': 0.8809173425462135, 'w2': 0.394256026423155}. Best is trial 324 with value: 0.7547169811320754.\u001B[0m\n",
      "\u001B[32m[I 2023-04-21 19:17:51,008]\u001B[0m Trial 392 finished with value: 0.7545788389146626 and parameters: {'p': -0.9316110889202963, 'w0': 0.8423464995591645, 'w1': 0.8425335390495735, 'w2': 0.5262578235850849}. Best is trial 324 with value: 0.7547169811320754.\u001B[0m\n",
      "\u001B[32m[I 2023-04-21 19:17:51,096]\u001B[0m Trial 393 finished with value: 0.7540684801669986 and parameters: {'p': -0.667156469804085, 'w0': 0.7485365169774042, 'w1': 0.895256001852427, 'w2': 0.14672287188286737}. Best is trial 324 with value: 0.7547169811320754.\u001B[0m\n",
      "\u001B[32m[I 2023-04-21 19:17:51,184]\u001B[0m Trial 394 finished with value: 0.7532971861197769 and parameters: {'p': -0.02396263094621348, 'w0': 0.05908760245276057, 'w1': 0.9264288137277058, 'w2': 0.42058010265417956}. Best is trial 324 with value: 0.7547169811320754.\u001B[0m\n",
      "\u001B[32m[I 2023-04-21 19:17:51,272]\u001B[0m Trial 395 finished with value: 0.7531168337803769 and parameters: {'p': -1.0533008631551697, 'w0': 0.3053324284849773, 'w1': 0.8199797513883406, 'w2': 0.031259321912967875}. Best is trial 324 with value: 0.7547169811320754.\u001B[0m\n",
      "\u001B[32m[I 2023-04-21 19:17:51,359]\u001B[0m Trial 396 finished with value: 0.7544406966972498 and parameters: {'p': -0.8362910072014047, 'w0': 0.568224970254176, 'w1': 0.8565179507820987, 'w2': 0.44285098950964186}. Best is trial 324 with value: 0.7547169811320754.\u001B[0m\n",
      "\u001B[32m[I 2023-04-21 19:17:51,447]\u001B[0m Trial 397 finished with value: 0.7546056999013817 and parameters: {'p': -0.5583711465614761, 'w0': 0.7820467433692934, 'w1': 0.7886103748126275, 'w2': 0.4857167105057389}. Best is trial 324 with value: 0.7547169811320754.\u001B[0m\n",
      "\u001B[32m[I 2023-04-21 19:17:51,535]\u001B[0m Trial 398 finished with value: 0.754486744103054 and parameters: {'p': -1.2278130140306127, 'w0': 0.8791409965751636, 'w1': 0.8723983524793382, 'w2': 0.40937633547060903}. Best is trial 324 with value: 0.7547169811320754.\u001B[0m\n",
      "\u001B[32m[I 2023-04-21 19:17:51,623]\u001B[0m Trial 399 finished with value: 0.7545443033603093 and parameters: {'p': -1.7292412188600186, 'w0': 0.8123772642590946, 'w1': 0.7389271702516357, 'w2': 0.3732798591580971}. Best is trial 324 with value: 0.7547169811320754.\u001B[0m\n",
      "\u001B[32m[I 2023-04-21 19:17:51,709]\u001B[0m Trial 400 finished with value: 0.7529556678600619 and parameters: {'p': -0.7438218313853924, 'w0': 0.6257275063778485, 'w1': 0.052805490894265894, 'w2': 0.23057537043249254}. Best is trial 324 with value: 0.7547169811320754.\u001B[0m\n",
      "\u001B[32m[I 2023-04-21 19:17:51,797]\u001B[0m Trial 401 finished with value: 0.7541989478167773 and parameters: {'p': -1.4491264892617315, 'w0': 0.766083375941624, 'w1': 0.7740239996412113, 'w2': 0.788108194831273}. Best is trial 324 with value: 0.7547169811320754.\u001B[0m\n",
      "\u001B[32m[I 2023-04-21 19:17:51,884]\u001B[0m Trial 402 finished with value: 0.7538804532599643 and parameters: {'p': -0.6429139734735109, 'w0': 0.7957636029073231, 'w1': 0.36502834803378525, 'w2': 0.46490492517108084}. Best is trial 324 with value: 0.7547169811320754.\u001B[0m\n",
      "\u001B[32m[I 2023-04-21 19:17:51,971]\u001B[0m Trial 403 finished with value: 0.7544752322516031 and parameters: {'p': -1.837551977859011, 'w0': 0.5469844323593347, 'w1': 0.8361176072239053, 'w2': 0.44142664417491045}. Best is trial 324 with value: 0.7547169811320754.\u001B[0m\n",
      "\u001B[32m[I 2023-04-21 19:17:52,059]\u001B[0m Trial 404 finished with value: 0.7546095371851987 and parameters: {'p': -0.4257911441987767, 'w0': 0.8479152487768082, 'w1': 0.8144322351443818, 'w2': 0.5644829642119606}. Best is trial 324 with value: 0.7547169811320754.\u001B[0m\n",
      "\u001B[32m[I 2023-04-21 19:17:52,147]\u001B[0m Trial 405 finished with value: 0.753646378947126 and parameters: {'p': -0.5344644433254189, 'w0': 0.8209769041366681, 'w1': 0.8514359568553834, 'w2': 0.0020544123384269586}. Best is trial 324 with value: 0.7547169811320754.\u001B[0m\n",
      "\u001B[32m[I 2023-04-21 19:17:52,246]\u001B[0m Trial 406 finished with value: 0.7544330221296158 and parameters: {'p': 0.21225013613386162, 'w0': 0.8966402144692199, 'w1': 0.90980242135805, 'w2': 0.42222895355334167}. Best is trial 324 with value: 0.7547169811320754.\u001B[0m\n",
      "\u001B[32m[I 2023-04-21 19:17:52,334]\u001B[0m Trial 407 finished with value: 0.75379603301599 and parameters: {'p': -0.148666153761702, 'w0': 0.7473339632646959, 'w1': 0.8874788268691647, 'w2': 0.07251717079744313}. Best is trial 324 with value: 0.7547169811320754.\u001B[0m\n",
      "\u001B[32m[I 2023-04-21 19:17:52,422]\u001B[0m Trial 408 finished with value: 0.7545596524955775 and parameters: {'p': -0.9737576965592536, 'w0': 0.7840275436801736, 'w1': 0.7632373827153308, 'w2': 0.39360285374863524}. Best is trial 324 with value: 0.7547169811320754.\u001B[0m\n",
      "\u001B[32m[I 2023-04-21 19:17:52,509]\u001B[0m Trial 409 finished with value: 0.7545059305221391 and parameters: {'p': -1.124822755466282, 'w0': 0.5198689751371054, 'w1': 0.8038411598997083, 'w2': 0.4786213403570783}. Best is trial 324 with value: 0.7547169811320754.\u001B[0m\n",
      "\u001B[32m[I 2023-04-21 19:17:52,597]\u001B[0m Trial 410 finished with value: 0.7545634897793945 and parameters: {'p': -1.352386615189779, 'w0': 0.8044691618383736, 'w1': 0.71047934911595, 'w2': 0.4508258045843344}. Best is trial 324 with value: 0.7547169811320754.\u001B[0m\n",
      "\u001B[32m[I 2023-04-21 19:17:52,685]\u001B[0m Trial 411 finished with value: 0.7545980253337479 and parameters: {'p': -0.8549340869375042, 'w0': 0.7667659760525604, 'w1': 0.8279898343598716, 'w2': 0.5020703593592474}. Best is trial 324 with value: 0.7547169811320754.\u001B[0m\n",
      "\u001B[32m[I 2023-04-21 19:17:52,773]\u001B[0m Trial 412 finished with value: 0.754287205344569 and parameters: {'p': -0.6830948705130683, 'w0': 0.7280851156906365, 'w1': 0.9808016705442724, 'w2': 0.9510551020671274}. Best is trial 324 with value: 0.7547169811320754.\u001B[0m\n",
      "\u001B[32m[I 2023-04-21 19:17:52,861]\u001B[0m Trial 413 finished with value: 0.7544138357105307 and parameters: {'p': -0.7792534498671166, 'w0': 0.6665618656466858, 'w1': 0.8721089098302304, 'w2': 0.43049672952636564}. Best is trial 324 with value: 0.7547169811320754.\u001B[0m\n",
      "\u001B[32m[I 2023-04-21 19:17:52,949]\u001B[0m Trial 414 finished with value: 0.7545558152117605 and parameters: {'p': -1.515504175199936, 'w0': 0.8368001516251325, 'w1': 0.6750727558340895, 'w2': 0.462482314298357}. Best is trial 324 with value: 0.7547169811320754.\u001B[0m\n",
      "\u001B[32m[I 2023-04-21 19:17:53,037]\u001B[0m Trial 415 finished with value: 0.7539840599230241 and parameters: {'p': -0.2299411408302388, 'w0': 0.8606879810459512, 'w1': 0.8476239625512039, 'w2': 0.10052197457875467}. Best is trial 324 with value: 0.7547169811320754.\u001B[0m\n",
      "\u001B[32m[I 2023-04-21 19:17:53,124]\u001B[0m Trial 416 finished with value: 0.7537231246234666 and parameters: {'p': -1.2121409453326835, 'w0': 0.7888855549313564, 'w1': 0.26140987293770934, 'w2': 0.4124041307666817}. Best is trial 324 with value: 0.7547169811320754.\u001B[0m\n",
      "\u001B[32m[I 2023-04-21 19:17:53,212]\u001B[0m Trial 417 finished with value: 0.7546095371851987 and parameters: {'p': -0.6290425227679165, 'w0': 0.8099695928183419, 'w1': 0.7739352848344647, 'w2': 0.4466795398571773}. Best is trial 324 with value: 0.7547169811320754.\u001B[0m\n",
      "\u001B[32m[I 2023-04-21 19:17:53,301]\u001B[0m Trial 418 finished with value: 0.7544368594134329 and parameters: {'p': -0.4741805925620787, 'w0': 0.7618488921269759, 'w1': 0.8177286766203857, 'w2': 0.3412754917300389}. Best is trial 324 with value: 0.7547169811320754.\u001B[0m\n",
      "\u001B[32m[I 2023-04-21 19:17:53,388]\u001B[0m Trial 419 finished with value: 0.7544368594134329 and parameters: {'p': -1.014404601707279, 'w0': 0.8331286060579185, 'w1': 0.6233321980155184, 'w2': 0.39015950522753723}. Best is trial 324 with value: 0.7547169811320754.\u001B[0m\n",
      "\u001B[32m[I 2023-04-21 19:17:53,477]\u001B[0m Trial 420 finished with value: 0.7545366287926752 and parameters: {'p': -1.295539306439334, 'w0': 0.9730237476103859, 'w1': 0.7995530969094675, 'w2': 0.4789106649124574}. Best is trial 324 with value: 0.7547169811320754.\u001B[0m\n",
      "\u001B[32m[I 2023-04-21 19:17:53,567]\u001B[0m Trial 421 finished with value: 0.7543984865752625 and parameters: {'p': -0.5799911621451769, 'w0': 0.7192454644323277, 'w1': 0.9575056374457764, 'w2': 0.42909575670230093}. Best is trial 324 with value: 0.7547169811320754.\u001B[0m\n",
      "\u001B[32m[I 2023-04-21 19:17:53,655]\u001B[0m Trial 422 finished with value: 0.7544176729943477 and parameters: {'p': -0.7236874695362718, 'w0': 0.7793484275140105, 'w1': 0.8677276042584018, 'w2': 0.3660696943472808}. Best is trial 324 with value: 0.7547169811320754.\u001B[0m\n",
      "\u001B[32m[I 2023-04-21 19:17:53,744]\u001B[0m Trial 423 finished with value: 0.7545136050897733 and parameters: {'p': -0.3433018402136357, 'w0': 0.7524357493937082, 'w1': 0.8385965125980899, 'w2': 0.4065167756824318}. Best is trial 324 with value: 0.7547169811320754.\u001B[0m\n",
      "\u001B[32m[I 2023-04-21 19:17:53,831]\u001B[0m Trial 424 finished with value: 0.75347370117536 and parameters: {'p': -0.9029165923281615, 'w0': 0.10223546401162131, 'w1': 0.9426386998147942, 'w2': 0.24911272961522624}. Best is trial 324 with value: 0.7547169811320754.\u001B[0m\n",
      "\u001B[32m[I 2023-04-21 19:17:53,920]\u001B[0m Trial 425 finished with value: 0.7545596524955775 and parameters: {'p': -1.6943768415291023, 'w0': 0.9159132862440158, 'w1': 0.9016824992351974, 'w2': 0.45615173244333734}. Best is trial 324 with value: 0.7547169811320754.\u001B[0m\n",
      "\u001B[32m[I 2023-04-21 19:17:54,009]\u001B[0m Trial 426 finished with value: 0.7532741624168748 and parameters: {'p': -1.4256974008563241, 'w0': 0.005714527054230589, 'w1': 0.7899256745013503, 'w2': 0.4966397495059365}. Best is trial 324 with value: 0.7547169811320754.\u001B[0m\n",
      "\u001B[32m[I 2023-04-21 19:17:54,109]\u001B[0m Trial 427 finished with value: 0.7545443033603093 and parameters: {'p': 0.7407873461723797, 'w0': 0.47801286551423516, 'w1': 0.7515671149955411, 'w2': 0.43395526916468896}. Best is trial 324 with value: 0.7547169811320754.\u001B[0m\n",
      "\u001B[32m[I 2023-04-21 19:17:54,197]\u001B[0m Trial 428 finished with value: 0.7545865134822967 and parameters: {'p': -1.1085641837193791, 'w0': 0.8775217922184559, 'w1': 0.826837805805039, 'w2': 0.4714428773631035}. Best is trial 324 with value: 0.7547169811320754.\u001B[0m\n",
      "\u001B[32m[I 2023-04-21 19:17:54,285]\u001B[0m Trial 429 finished with value: 0.7540531310317306 and parameters: {'p': -1.9071651828019434, 'w0': 0.8179416254993593, 'w1': 0.6507963399220926, 'w2': 0.8706087750856766}. Best is trial 324 with value: 0.7547169811320754.\u001B[0m\n",
      "\u001B[32m[I 2023-04-21 19:17:54,373]\u001B[0m Trial 430 finished with value: 0.7545404660764924 and parameters: {'p': -0.5328223538827516, 'w0': 0.6917196511548008, 'w1': 0.8573131535314469, 'w2': 0.5261133275208675}. Best is trial 324 with value: 0.7547169811320754.\u001B[0m\n",
      "\u001B[32m[I 2023-04-21 19:17:54,462]\u001B[0m Trial 431 finished with value: 0.7545327915088583 and parameters: {'p': -0.8045044684774808, 'w0': 0.9320016590299947, 'w1': 0.8846077962504114, 'w2': 0.4174908805874844}. Best is trial 324 with value: 0.7547169811320754.\u001B[0m\n",
      "\u001B[32m[I 2023-04-21 19:17:54,551]\u001B[0m Trial 432 finished with value: 0.7545865134822967 and parameters: {'p': -0.7109408561107614, 'w0': 0.8003994039022397, 'w1': 0.7339770688013985, 'w2': 0.44507293157904176}. Best is trial 324 with value: 0.7547169811320754.\u001B[0m\n",
      "\u001B[32m[I 2023-04-21 19:17:54,640]\u001B[0m Trial 433 finished with value: 0.7545251169412244 and parameters: {'p': -0.6027115441459358, 'w0': 0.7385220268059106, 'w1': 0.8128334656078174, 'w2': 0.38293699340881493}. Best is trial 324 with value: 0.7547169811320754.\u001B[0m\n",
      "\u001B[32m[I 2023-04-21 19:17:54,727]\u001B[0m Trial 434 finished with value: 0.7537730093130878 and parameters: {'p': -1.2560178828402637, 'w0': 0.5589400449777312, 'w1': 0.9215761402302068, 'w2': 0.9879175921422751}. Best is trial 324 with value: 0.7547169811320754.\u001B[0m\n",
      "\u001B[32m[I 2023-04-21 19:17:54,815]\u001B[0m Trial 435 finished with value: 0.7544253475619818 and parameters: {'p': -1.5631790704315602, 'w0': 0.850686051275599, 'w1': 0.84974604530196, 'w2': 0.6540384076209667}. Best is trial 324 with value: 0.7547169811320754.\u001B[0m\n",
      "\u001B[32m[I 2023-04-21 19:17:54,903]\u001B[0m Trial 436 finished with value: 0.7544598831163349 and parameters: {'p': -1.7917218359596205, 'w0': 0.9445218356205448, 'w1': 0.5643094411987641, 'w2': 0.46483791301584965}. Best is trial 324 with value: 0.7547169811320754.\u001B[0m\n",
      "\u001B[32m[I 2023-04-21 19:17:54,992]\u001B[0m Trial 437 finished with value: 0.7543486018856412 and parameters: {'p': -0.40321933060055104, 'w0': 0.7878200729271195, 'w1': 0.5018849449873061, 'w2': 0.400093918869792}. Best is trial 324 with value: 0.7547169811320754.\u001B[0m\n",
      "\u001B[32m[I 2023-04-21 19:17:55,080]\u001B[0m Trial 438 finished with value: 0.7542296460873137 and parameters: {'p': -0.87875648005507, 'w0': 0.7695000422127865, 'w1': 0.7753599673922157, 'w2': 0.7640175316529754}. Best is trial 324 with value: 0.7547169811320754.\u001B[0m\n",
      "\u001B[32m[I 2023-04-21 19:17:55,167]\u001B[0m Trial 439 finished with value: 0.7541183648566199 and parameters: {'p': -1.6072708448272268, 'w0': 0.8285313138590836, 'w1': 0.7987385201396564, 'w2': 0.8327128394950046}. Best is trial 324 with value: 0.7547169811320754.\u001B[0m\n",
      "\u001B[32m[I 2023-04-21 19:17:55,255]\u001B[0m Trial 440 finished with value: 0.7545941880499307 and parameters: {'p': -0.9906008865073489, 'w0': 0.8034580036269771, 'w1': 0.8662044059516955, 'w2': 0.4873902542243205}. Best is trial 324 with value: 0.7547169811320754.\u001B[0m\n",
      "\u001B[32m[I 2023-04-21 19:17:55,343]\u001B[0m Trial 441 finished with value: 0.7543370900341902 and parameters: {'p': -1.1595041769521466, 'w0': 0.4311645206654482, 'w1': 0.826794746034783, 'w2': 0.4259072341392947}. Best is trial 324 with value: 0.7547169811320754.\u001B[0m\n",
      "\u001B[32m[I 2023-04-21 19:17:55,432]\u001B[0m Trial 442 finished with value: 0.7541145275728027 and parameters: {'p': -0.2728918961752012, 'w0': 0.8587153666714402, 'w1': 0.8911281561741873, 'w2': 0.2083624478025632}. Best is trial 324 with value: 0.7547169811320754.\u001B[0m\n",
      "\u001B[32m[I 2023-04-21 19:17:55,520]\u001B[0m Trial 443 finished with value: 0.7544215102781647 and parameters: {'p': -0.7607807066318905, 'w0': 0.9866031207169741, 'w1': 0.7058860617201571, 'w2': 0.448249359663216}. Best is trial 324 with value: 0.7547169811320754.\u001B[0m\n",
      "\u001B[32m[I 2023-04-21 19:17:55,609]\u001B[0m Trial 444 finished with value: 0.7542258088034965 and parameters: {'p': -0.655963716323432, 'w0': 0.5933231792789369, 'w1': 0.47727132023906965, 'w2': 0.5087820787717628}. Best is trial 324 with value: 0.7547169811320754.\u001B[0m\n",
      "\u001B[32m[I 2023-04-21 19:17:55,701]\u001B[0m Trial 445 finished with value: 0.7537346364749176 and parameters: {'p': -0.5092010801049709, 'w0': 0.3705914986407814, 'w1': 0.5443274414590679, 'w2': 0.687994386910499}. Best is trial 324 with value: 0.7547169811320754.\u001B[0m\n",
      "\u001B[32m[I 2023-04-21 19:17:55,790]\u001B[0m Trial 446 finished with value: 0.7545059305221391 and parameters: {'p': -1.971549562465829, 'w0': 0.7566131570164465, 'w1': 0.84136236761188, 'w2': 0.41369374846357315}. Best is trial 324 with value: 0.7547169811320754.\u001B[0m\n",
      "\u001B[32m[I 2023-04-21 19:17:55,879]\u001B[0m Trial 447 finished with value: 0.7545826761984797 and parameters: {'p': -1.3538593878109975, 'w0': 0.7784478687618671, 'w1': 0.7814514673070811, 'w2': 0.4391669901061459}. Best is trial 324 with value: 0.7547169811320754.\u001B[0m\n",
      "\u001B[32m[I 2023-04-21 19:17:55,969]\u001B[0m Trial 448 finished with value: 0.7546210490366501 and parameters: {'p': -0.06989341156098394, 'w0': 0.8241186177205615, 'w1': 0.8126979133083685, 'w2': 0.4715042308738453}. Best is trial 324 with value: 0.7547169811320754.\u001B[0m\n",
      "\u001B[32m[I 2023-04-21 19:17:56,057]\u001B[0m Trial 449 finished with value: 0.7547093065644415 and parameters: {'p': -1.0615468777927548, 'w0': 0.7121484723825808, 'w1': 0.7525550470813303, 'w2': 0.39765103055356926}. Best is trial 324 with value: 0.7547169811320754.\u001B[0m\n",
      "\u001B[32m[I 2023-04-21 19:17:56,146]\u001B[0m Trial 450 finished with value: 0.7545865134822967 and parameters: {'p': -1.0652209511725153, 'w0': 0.7073482213499476, 'w1': 0.7301408967892276, 'w2': 0.3551021726140297}. Best is trial 324 with value: 0.7547169811320754.\u001B[0m\n",
      "\u001B[32m[I 2023-04-21 19:17:56,248]\u001B[0m Trial 451 finished with value: 0.7544330221296158 and parameters: {'p': 0.08728417364718094, 'w0': 0.5216556917920511, 'w1': 0.757543313213811, 'w2': 0.37314203595093565}. Best is trial 324 with value: 0.7547169811320754.\u001B[0m\n",
      "\u001B[32m[I 2023-04-21 19:17:56,337]\u001B[0m Trial 452 finished with value: 0.7544099984267136 and parameters: {'p': -1.1695929867050079, 'w0': 0.7202578566272081, 'w1': 0.9090440083149258, 'w2': 0.39172477384409793}. Best is trial 324 with value: 0.7547169811320754.\u001B[0m\n",
      "\u001B[32m[I 2023-04-21 19:17:56,426]\u001B[0m Trial 453 finished with value: 0.7543255781827392 and parameters: {'p': -1.010579177711472, 'w0': 0.7381881233794498, 'w1': 0.5168942460525515, 'w2': 0.4080575284481547}. Best is trial 324 with value: 0.7547169811320754.\u001B[0m\n",
      "\u001B[32m[I 2023-04-21 19:17:56,515]\u001B[0m Trial 454 finished with value: 0.7542565070740326 and parameters: {'p': -0.9148234368667751, 'w0': 0.6941847446830582, 'w1': 0.8708031261643993, 'w2': 0.28966821678708204}. Best is trial 324 with value: 0.7547169811320754.\u001B[0m\n",
      "\u001B[32m[I 2023-04-21 19:17:56,605]\u001B[0m Trial 455 finished with value: 0.7544598831163349 and parameters: {'p': -1.0925401984075886, 'w0': 0.679247787338689, 'w1': 0.5397887083108464, 'w2': 0.3308009993240391}. Best is trial 324 with value: 0.7547169811320754.\u001B[0m\n",
      "\u001B[32m[I 2023-04-21 19:17:56,693]\u001B[0m Trial 456 finished with value: 0.7545136050897733 and parameters: {'p': -1.2846525840284986, 'w0': 0.6408451952471962, 'w1': 0.7460361664059912, 'w2': 0.38937714519986694}. Best is trial 324 with value: 0.7547169811320754.\u001B[0m\n",
      "\u001B[32m[I 2023-04-21 19:17:56,782]\u001B[0m Trial 457 finished with value: 0.7545750016308457 and parameters: {'p': -0.839093457160997, 'w0': 0.8452908908650985, 'w1': 0.7227879748183232, 'w2': 0.41581755706630025}. Best is trial 324 with value: 0.7547169811320754.\u001B[0m\n",
      "\u001B[32m[I 2023-04-21 19:17:56,871]\u001B[0m Trial 458 finished with value: 0.7546709337262711 and parameters: {'p': -0.9407816719375688, 'w0': 0.8036110501271232, 'w1': 0.8492097174209386, 'w2': 0.43533649096433397}. Best is trial 324 with value: 0.7547169811320754.\u001B[0m\n",
      "\u001B[32m[I 2023-04-21 19:17:56,960]\u001B[0m Trial 459 finished with value: 0.7543869747238114 and parameters: {'p': -0.9483762380413676, 'w0': 0.6123593309598544, 'w1': 0.8586245843663362, 'w2': 0.3657045758381126}. Best is trial 324 with value: 0.7547169811320754.\u001B[0m\n",
      "\u001B[32m[I 2023-04-21 19:17:57,049]\u001B[0m Trial 460 finished with value: 0.7544253475619818 and parameters: {'p': -1.043616499959388, 'w0': 0.8166244269870215, 'w1': 0.6017437155457275, 'w2': 0.42776977553150547}. Best is trial 324 with value: 0.7547169811320754.\u001B[0m\n",
      "\u001B[32m[I 2023-04-21 19:17:57,138]\u001B[0m Trial 461 finished with value: 0.7545558152117605 and parameters: {'p': -0.9839459380204529, 'w0': 0.8036694230016095, 'w1': 0.83985065855125, 'w2': 0.40041423939405224}. Best is trial 324 with value: 0.7547169811320754.\u001B[0m\n",
      "\u001B[32m[I 2023-04-21 19:17:57,240]\u001B[0m Trial 462 finished with value: 0.7545673270632115 and parameters: {'p': 0.19300935137738734, 'w0': 0.8735200666754462, 'w1': 0.895993183779037, 'w2': 0.42843421864491793}. Best is trial 324 with value: 0.7547169811320754.\u001B[0m\n",
      "\u001B[32m[I 2023-04-21 19:17:57,329]\u001B[0m Trial 463 finished with value: 0.7543332527503731 and parameters: {'p': -1.4732313577963818, 'w0': 0.8381110432370997, 'w1': 0.8786291462212549, 'w2': 0.8151389564015855}. Best is trial 324 with value: 0.7547169811320754.\u001B[0m\n",
      "\u001B[32m[I 2023-04-21 19:17:57,419]\u001B[0m Trial 464 finished with value: 0.7544483712648838 and parameters: {'p': -1.1783601921481996, 'w0': 0.8919527640676124, 'w1': 0.9270315874344881, 'w2': 0.37712322074620414}. Best is trial 324 with value: 0.7547169811320754.\u001B[0m\n",
      "\u001B[32m[I 2023-04-21 19:17:57,508]\u001B[0m Trial 465 finished with value: 0.7546977947129904 and parameters: {'p': -0.8958685376141299, 'w0': 0.7929385546732581, 'w1': 0.8321155333883827, 'w2': 0.45100785496960166}. Best is trial 324 with value: 0.7547169811320754.\u001B[0m\n",
      "\u001B[32m[I 2023-04-21 19:17:57,599]\u001B[0m Trial 466 finished with value: 0.7539073142466837 and parameters: {'p': -0.9371758658002648, 'w0': 0.7967868599125525, 'w1': 0.8442101224375892, 'w2': 0.0995396038995261}. Best is trial 324 with value: 0.7547169811320754.\u001B[0m\n",
      "\u001B[32m[I 2023-04-21 19:17:57,688]\u001B[0m Trial 467 finished with value: 0.7546056999013817 and parameters: {'p': -0.8844927875974746, 'w0': 0.8185063758836365, 'w1': 0.8282851371475083, 'w2': 0.45508046932725615}. Best is trial 324 with value: 0.7547169811320754.\u001B[0m\n",
      "\u001B[32m[I 2023-04-21 19:17:57,777]\u001B[0m Trial 468 finished with value: 0.7546555845910031 and parameters: {'p': -1.0731439957701037, 'w0': 0.7895306118857024, 'w1': 0.8612618893099646, 'w2': 0.5494965697888801}. Best is trial 324 with value: 0.7547169811320754.\u001B[0m\n",
      "\u001B[32m[I 2023-04-21 19:17:57,865]\u001B[0m Trial 469 finished with value: 0.7541490631271562 and parameters: {'p': -0.9623016274632872, 'w0': 0.8403541794514579, 'w1': 0.4286017931634359, 'w2': 0.45464356540269013}. Best is trial 324 with value: 0.7547169811320754.\u001B[0m\n",
      "\u001B[32m[I 2023-04-21 19:17:57,955]\u001B[0m Trial 470 finished with value: 0.7544176729943477 and parameters: {'p': -1.263181874797286, 'w0': 0.8127658551395442, 'w1': 0.8249718339739246, 'w2': 0.643482455998432}. Best is trial 324 with value: 0.7547169811320754.\u001B[0m\n",
      "\u001B[32m[I 2023-04-21 19:17:58,044]\u001B[0m Trial 471 finished with value: 0.7545865134822967 and parameters: {'p': -0.8322314381644343, 'w0': 0.7910397034643489, 'w1': 0.8501963512762388, 'w2': 0.4877283198709579}. Best is trial 324 with value: 0.7547169811320754.\u001B[0m\n",
      "\u001B[32m[I 2023-04-21 19:17:58,134]\u001B[0m Trial 472 finished with value: 0.7543562764532754 and parameters: {'p': -1.130024613334826, 'w0': 0.6030914684636517, 'w1': 0.8846266083174874, 'w2': 0.4394812009653984}. Best is trial 324 with value: 0.7547169811320754.\u001B[0m\n",
      "\u001B[32m[I 2023-04-21 19:17:58,223]\u001B[0m Trial 473 finished with value: 0.7544291848457988 and parameters: {'p': -1.419102881185434, 'w0': 0.829821898009454, 'w1': 0.9399793787171327, 'w2': 0.4646757349558111}. Best is trial 324 with value: 0.7547169811320754.\u001B[0m\n",
      "\u001B[32m[I 2023-04-21 19:17:58,313]\u001B[0m Trial 474 finished with value: 0.7546056999013817 and parameters: {'p': -1.8427869261392147, 'w0': 0.8558364387949574, 'w1': 0.8705001707511304, 'w2': 0.42677130418010084}. Best is trial 324 with value: 0.7547169811320754.\u001B[0m\n",
      "\u001B[32m[I 2023-04-21 19:17:58,401]\u001B[0m Trial 475 finished with value: 0.7544368594134329 and parameters: {'p': -0.8055500189615228, 'w0': 0.782081571097919, 'w1': 0.8118269021027249, 'w2': 0.6352564738766132}. Best is trial 324 with value: 0.7547169811320754.\u001B[0m\n",
      "\u001B[32m[I 2023-04-21 19:17:58,490]\u001B[0m Trial 476 finished with value: 0.7546862828615393 and parameters: {'p': -1.029201224728225, 'w0': 0.8090407570947847, 'w1': 0.839791766520563, 'w2': 0.44498051462665844}. Best is trial 324 with value: 0.7547169811320754.\u001B[0m\n",
      "\u001B[32m[I 2023-04-21 19:17:58,580]\u001B[0m Trial 477 finished with value: 0.7543793001561775 and parameters: {'p': -1.0347337775009882, 'w0': 0.4647104160318511, 'w1': 0.8269920882526447, 'w2': 0.4421937156855817}. Best is trial 324 with value: 0.7547169811320754.\u001B[0m\n",
      "\u001B[32m[I 2023-04-21 19:17:58,670]\u001B[0m Trial 478 finished with value: 0.7540569683155475 and parameters: {'p': -0.8959607801653665, 'w0': 0.29407340931225295, 'w1': 0.6825510428484893, 'w2': 0.40733799842607454}. Best is trial 324 with value: 0.7547169811320754.\u001B[0m\n",
      "\u001B[32m[I 2023-04-21 19:17:58,758]\u001B[0m Trial 479 finished with value: 0.7544944186706881 and parameters: {'p': -0.9753464350898038, 'w0': 0.5034456794458883, 'w1': 0.8095103899263763, 'w2': 0.42338939779811385}. Best is trial 324 with value: 0.7547169811320754.\u001B[0m\n",
      "\u001B[32m[I 2023-04-21 19:17:58,848]\u001B[0m Trial 480 finished with value: 0.7546824455777222 and parameters: {'p': -1.0827047386442694, 'w0': 0.8248396453707953, 'w1': 0.8391405737739529, 'w2': 0.44565458413780956}. Best is trial 324 with value: 0.7547169811320754.\u001B[0m\n",
      "\u001B[32m[I 2023-04-21 19:17:58,938]\u001B[0m Trial 481 finished with value: 0.7544023238590796 and parameters: {'p': -1.0554101003983318, 'w0': 0.8763259027388345, 'w1': 0.9038044051829426, 'w2': 0.3245807589320317}. Best is trial 324 with value: 0.7547169811320754.\u001B[0m\n",
      "\u001B[32m[I 2023-04-21 19:17:59,027]\u001B[0m Trial 482 finished with value: 0.7544982559545053 and parameters: {'p': -1.126256438757261, 'w0': 0.8504769903218448, 'w1': 0.8341222963294024, 'w2': 0.3916757474713141}. Best is trial 324 with value: 0.7547169811320754.\u001B[0m\n",
      "\u001B[32m[I 2023-04-21 19:17:59,117]\u001B[0m Trial 483 finished with value: 0.7531667184699982 and parameters: {'p': -1.0058442569843737, 'w0': 0.8294058164063423, 'w1': 0.1499259067010904, 'w2': 0.5722663936491204}. Best is trial 324 with value: 0.7547169811320754.\u001B[0m\n",
      "\u001B[32m[I 2023-04-21 19:17:59,206]\u001B[0m Trial 484 finished with value: 0.7540646428831815 and parameters: {'p': -1.1797123866780503, 'w0': 0.5354798876279095, 'w1': 0.9869498574266546, 'w2': 0.9189088779725096}. Best is trial 324 with value: 0.7547169811320754.\u001B[0m\n",
      "\u001B[32m[I 2023-04-21 19:17:59,308]\u001B[0m Trial 485 finished with value: 0.753819056718892 and parameters: {'p': 0.30539893836948473, 'w0': 0.17359876060160662, 'w1': 0.7968223237441653, 'w2': 0.4399955083139934}. Best is trial 324 with value: 0.7547169811320754.\u001B[0m\n",
      "\u001B[32m[I 2023-04-21 19:17:59,403]\u001B[0m Trial 486 finished with value: 0.7545481406441265 and parameters: {'p': -0.9163527294868791, 'w0': 0.8183605644562444, 'w1': 0.8622038359968442, 'w2': 0.41207457209384873}. Best is trial 324 with value: 0.7547169811320754.\u001B[0m\n",
      "\u001B[32m[I 2023-04-21 19:17:59,494]\u001B[0m Trial 487 finished with value: 0.7544138357105307 and parameters: {'p': -1.0665391679569292, 'w0': 0.8592316227947591, 'w1': 0.818940728224671, 'w2': 0.350360305331711}. Best is trial 324 with value: 0.7547169811320754.\u001B[0m\n",
      "\u001B[32m[I 2023-04-21 19:17:59,584]\u001B[0m Trial 488 finished with value: 0.754482906819237 and parameters: {'p': -1.2254135505574948, 'w0': 0.7715879682299934, 'w1': 0.5983104066590819, 'w2': 0.2997501264727628}. Best is trial 324 with value: 0.7547169811320754.\u001B[0m\n",
      "\u001B[32m[I 2023-04-21 19:17:59,673]\u001B[0m Trial 489 finished with value: 0.7538766159761474 and parameters: {'p': -0.8465772446806357, 'w0': 0.627902732862951, 'w1': 0.8844748178010319, 'w2': 0.9593672468404505}. Best is trial 324 with value: 0.7547169811320754.\u001B[0m\n",
      "\u001B[32m[I 2023-04-21 19:17:59,763]\u001B[0m Trial 490 finished with value: 0.7544752322516031 and parameters: {'p': -0.13412450767498735, 'w0': 0.8399814528638233, 'w1': 0.9731856423387284, 'w2': 0.4432072069912678}. Best is trial 324 with value: 0.7547169811320754.\u001B[0m\n",
      "\u001B[32m[I 2023-04-21 19:17:59,864]\u001B[0m Trial 491 finished with value: 0.7546363981719181 and parameters: {'p': 0.9602321024114808, 'w0': 0.8093083693350619, 'w1': 0.8381520154444652, 'w2': 0.4836136039595346}. Best is trial 324 with value: 0.7547169811320754.\u001B[0m\n",
      "\u001B[32m[I 2023-04-21 19:17:59,953]\u001B[0m Trial 492 finished with value: 0.7545980253337479 and parameters: {'p': -0.94078046139015, 'w0': 0.9118960219157537, 'w1': 0.7940662707231683, 'w2': 0.42202144562676613}. Best is trial 324 with value: 0.7547169811320754.\u001B[0m\n",
      "\u001B[32m[I 2023-04-21 19:18:00,042]\u001B[0m Trial 493 finished with value: 0.7541452258433391 and parameters: {'p': -1.1040492989225694, 'w0': 0.7997049762931648, 'w1': 0.8654851447668646, 'w2': 0.8950711344844537}. Best is trial 324 with value: 0.7547169811320754.\u001B[0m\n",
      "\u001B[32m[I 2023-04-21 19:18:00,132]\u001B[0m Trial 494 finished with value: 0.754137551275705 and parameters: {'p': -0.7721248935462665, 'w0': 0.8305527568982544, 'w1': 0.4016154609202698, 'w2': 0.3869930954191259}. Best is trial 324 with value: 0.7547169811320754.\u001B[0m\n",
      "\u001B[32m[I 2023-04-21 19:18:00,233]\u001B[0m Trial 495 finished with value: 0.7537077754881985 and parameters: {'p': 0.1366831458269797, 'w0': 0.7747587657623073, 'w1': 0.2865898109531484, 'w2': 0.4035234447084128}. Best is trial 324 with value: 0.7547169811320754.\u001B[0m\n",
      "\u001B[32m[I 2023-04-21 19:18:00,323]\u001B[0m Trial 496 finished with value: 0.7525834513298109 and parameters: {'p': -0.020533156805569885, 'w0': 0.8821316712353771, 'w1': 0.03346190949310224, 'w2': 0.457735398986658}. Best is trial 324 with value: 0.7547169811320754.\u001B[0m\n",
      "\u001B[32m[I 2023-04-21 19:18:00,412]\u001B[0m Trial 497 finished with value: 0.7543294154665563 and parameters: {'p': -1.3265181751877815, 'w0': 0.9551702376981135, 'w1': 0.6431280835354238, 'w2': 0.5036640622200244}. Best is trial 324 with value: 0.7547169811320754.\u001B[0m\n",
      "\u001B[32m[I 2023-04-21 19:18:00,502]\u001B[0m Trial 498 finished with value: 0.7546594218748202 and parameters: {'p': -1.0028871742562955, 'w0': 0.7529268195769574, 'w1': 0.8123021709412256, 'w2': 0.44200969813683033}. Best is trial 324 with value: 0.7547169811320754.\u001B[0m\n",
      "\u001B[32m[I 2023-04-21 19:18:00,592]\u001B[0m Trial 499 finished with value: 0.7543140663312881 and parameters: {'p': -1.1962484767575543, 'w0': 0.48732519814114594, 'w1': 0.9164053877668714, 'w2': 0.4731569339823372}. Best is trial 324 with value: 0.7547169811320754.\u001B[0m\n"
     ]
    }
   ],
   "source": [
    "X_prob = np.stack([\n",
    "    y_catboost_3, y_lightgbm_3, y_xgboost_3\n",
    "])\n",
    "y_prob_test = np.stack([\n",
    "    y_catboost_3_test, y_lightgbm_3_test, y_xgboost_3_test\n",
    "])\n",
    "\n",
    "gmb = GeneralizedMeanBlender()\n",
    "gmb.fit(X_prob, y, n_trials=500)"
   ],
   "metadata": {
    "collapsed": false
   }
  },
  {
   "cell_type": "code",
   "execution_count": 268,
   "outputs": [
    {
     "name": "stderr",
     "output_type": "stream",
     "text": [
      "\u001B[32m[I 2023-04-19 23:24:14,753]\u001B[0m A new study created in memory with name: no-name-8c9ec92c-c25e-403f-aef2-3276a56283ec\u001B[0m\n",
      "\u001B[32m[I 2023-04-19 23:24:14,826]\u001B[0m Trial 0 finished with value: 0.7543255781827392 and parameters: {'p': 1.3069103543662046, 'w0': 0.9363767685465416, 'w1': 0.9446372826314027}. Best is trial 0 with value: 0.7543255781827392.\u001B[0m\n",
      "\u001B[32m[I 2023-04-19 23:24:14,890]\u001B[0m Trial 1 finished with value: 0.7556954885054163 and parameters: {'p': -0.4851605348843875, 'w0': 0.9538433035135042, 'w1': 0.1575593770785897}. Best is trial 1 with value: 0.7556954885054163.\u001B[0m\n",
      "\u001B[32m[I 2023-04-19 23:24:14,961]\u001B[0m Trial 2 finished with value: 0.7565320163775273 and parameters: {'p': 0.24361611094684488, 'w0': 0.9032244329698128, 'w1': 0.7155604724796314}. Best is trial 2 with value: 0.7565320163775273.\u001B[0m\n",
      "\u001B[32m[I 2023-04-19 23:24:15,033]\u001B[0m Trial 3 finished with value: 0.7548474487818543 and parameters: {'p': 1.3484387472654653, 'w0': 0.9698426250502845, 'w1': 0.0686979621017475}. Best is trial 2 with value: 0.7565320163775273.\u001B[0m\n",
      "\u001B[32m[I 2023-04-19 23:24:15,104]\u001B[0m Trial 4 finished with value: 0.752641010587066 and parameters: {'p': 0.5469432804776266, 'w0': 0.5317779928437738, 'w1': 0.9177476455995599}. Best is trial 2 with value: 0.7565320163775273.\u001B[0m\n",
      "\u001B[32m[I 2023-04-19 23:24:15,168]\u001B[0m Trial 5 finished with value: 0.7529172950218916 and parameters: {'p': -0.3151209173143834, 'w0': 0.1888714590631414, 'w1': 0.27668144003974415}. Best is trial 2 with value: 0.7565320163775273.\u001B[0m\n",
      "\u001B[32m[I 2023-04-19 23:24:15,239]\u001B[0m Trial 6 finished with value: 0.7525067056534702 and parameters: {'p': 1.3301527408960614, 'w0': 0.4913229513386901, 'w1': 0.6737377181335307}. Best is trial 2 with value: 0.7565320163775273.\u001B[0m\n",
      "\u001B[32m[I 2023-04-19 23:24:15,310]\u001B[0m Trial 7 finished with value: 0.7528175256426493 and parameters: {'p': 0.6862167561969659, 'w0': 0.47800329513766304, 'w1': 0.7443616835133703}. Best is trial 2 with value: 0.7565320163775273.\u001B[0m\n",
      "\u001B[32m[I 2023-04-19 23:24:15,374]\u001B[0m Trial 8 finished with value: 0.7559334001020719 and parameters: {'p': -1.5236495305756907, 'w0': 0.5468735676260866, 'w1': 0.4813287933991295}. Best is trial 2 with value: 0.7565320163775273.\u001B[0m\n",
      "\u001B[32m[I 2023-04-19 23:24:15,438]\u001B[0m Trial 9 finished with value: 0.7462097229097355 and parameters: {'p': -0.6762182796403842, 'w0': 0.16077026176966358, 'w1': 0.9994172115785931}. Best is trial 2 with value: 0.7565320163775273.\u001B[0m\n",
      "\u001B[32m[I 2023-04-19 23:24:15,516]\u001B[0m Trial 10 finished with value: 0.7568888837725105 and parameters: {'p': 0.2531354388614881, 'w0': 0.752674962686724, 'w1': 0.4979824318144301}. Best is trial 10 with value: 0.7568888837725105.\u001B[0m\n",
      "\u001B[32m[I 2023-04-19 23:24:15,594]\u001B[0m Trial 11 finished with value: 0.7568850464886935 and parameters: {'p': 0.5217945073597341, 'w0': 0.7249757376867028, 'w1': 0.4974830506093643}. Best is trial 10 with value: 0.7568888837725105.\u001B[0m\n",
      "\u001B[32m[I 2023-04-19 23:24:15,672]\u001B[0m Trial 12 finished with value: 0.7567967889609019 and parameters: {'p': 1.778017262289646, 'w0': 0.7804642782561365, 'w1': 0.4339441149836768}. Best is trial 10 with value: 0.7568888837725105.\u001B[0m\n",
      "\u001B[32m[I 2023-04-19 23:24:15,749]\u001B[0m Trial 13 finished with value: 0.7572419138836766 and parameters: {'p': 0.21876684284671133, 'w0': 0.736877976156718, 'w1': 0.3595680117290554}. Best is trial 13 with value: 0.7572419138836766.\u001B[0m\n",
      "\u001B[32m[I 2023-04-19 23:24:15,819]\u001B[0m Trial 14 finished with value: 0.7570462124090084 and parameters: {'p': -0.03839792418434135, 'w0': 0.7244739633690621, 'w1': 0.33534891186735777}. Best is trial 13 with value: 0.7572419138836766.\u001B[0m\n",
      "\u001B[32m[I 2023-04-19 23:24:15,891]\u001B[0m Trial 15 finished with value: 0.7570385378413743 and parameters: {'p': -0.9220424688160231, 'w0': 0.653142019602206, 'w1': 0.3387523394392549}. Best is trial 13 with value: 0.7572419138836766.\u001B[0m\n",
      "\u001B[32m[I 2023-04-19 23:24:15,963]\u001B[0m Trial 16 finished with value: 0.7563823623086634 and parameters: {'p': -0.15082328183231486, 'w0': 0.8190061639815838, 'w1': 0.23283020665222537}. Best is trial 13 with value: 0.7572419138836766.\u001B[0m\n",
      "\u001B[32m[I 2023-04-19 23:24:16,034]\u001B[0m Trial 17 finished with value: 0.7570001650032041 and parameters: {'p': -1.0757701922788265, 'w0': 0.599980257885287, 'w1': 0.3528924165233408}. Best is trial 13 with value: 0.7572419138836766.\u001B[0m\n",
      "\u001B[32m[I 2023-04-19 23:24:16,104]\u001B[0m Trial 18 finished with value: 0.7540531310317306 and parameters: {'p': -0.06360076502119302, 'w0': 0.6636012151874973, 'w1': 0.013071078656188007}. Best is trial 13 with value: 0.7572419138836766.\u001B[0m\n",
      "\u001B[32m[I 2023-04-19 23:24:16,175]\u001B[0m Trial 19 finished with value: 0.7559525865211569 and parameters: {'p': -1.4387005627000153, 'w0': 0.8404705288196856, 'w1': 0.1684637192644356}. Best is trial 13 with value: 0.7572419138836766.\u001B[0m\n",
      "\u001B[32m[I 2023-04-19 23:24:16,245]\u001B[0m Trial 20 finished with value: 0.7541912732491435 and parameters: {'p': -1.7586731213207472, 'w0': 0.33072329568820724, 'w1': 0.3836741600795971}. Best is trial 13 with value: 0.7572419138836766.\u001B[0m\n",
      "\u001B[32m[I 2023-04-19 23:24:16,316]\u001B[0m Trial 21 finished with value: 0.7570538869766424 and parameters: {'p': -0.7570365960271284, 'w0': 0.6681885778940283, 'w1': 0.31634025981437713}. Best is trial 13 with value: 0.7572419138836766.\u001B[0m\n",
      "\u001B[32m[I 2023-04-19 23:24:16,386]\u001B[0m Trial 22 finished with value: 0.7569579548812169 and parameters: {'p': -0.526943493977476, 'w0': 0.7056978434186261, 'w1': 0.28071153077955974}. Best is trial 13 with value: 0.7572419138836766.\u001B[0m\n",
      "\u001B[32m[I 2023-04-19 23:24:16,457]\u001B[0m Trial 23 finished with value: 0.7570653988280935 and parameters: {'p': -0.87128041037536, 'w0': 0.8544342848485593, 'w1': 0.40648089873638704}. Best is trial 13 with value: 0.7572419138836766.\u001B[0m\n",
      "\u001B[32m[I 2023-04-19 23:24:16,528]\u001B[0m Trial 24 finished with value: 0.756808300812353 and parameters: {'p': -0.9421486306934734, 'w0': 0.8506546136414347, 'w1': 0.576339040913935}. Best is trial 13 with value: 0.7572419138836766.\u001B[0m\n",
      "\u001B[32m[I 2023-04-19 23:24:16,599]\u001B[0m Trial 25 finished with value: 0.7571229580853488 and parameters: {'p': -1.1546282787915378, 'w0': 0.8786916057331486, 'w1': 0.43031168183241847}. Best is trial 13 with value: 0.7572419138836766.\u001B[0m\n",
      "\u001B[32m[I 2023-04-19 23:24:16,669]\u001B[0m Trial 26 finished with value: 0.7570347005575574 and parameters: {'p': -1.2061656169597796, 'w0': 0.8954554148457285, 'w1': 0.4154829683537221}. Best is trial 13 with value: 0.7572419138836766.\u001B[0m\n",
      "\u001B[32m[I 2023-04-19 23:24:16,740]\u001B[0m Trial 27 finished with value: 0.7569809785841191 and parameters: {'p': -1.371284461142428, 'w0': 0.9879957364746491, 'w1': 0.5765855798792893}. Best is trial 13 with value: 0.7572419138836766.\u001B[0m\n",
      "\u001B[32m[I 2023-04-19 23:24:16,810]\u001B[0m Trial 28 finished with value: 0.7570308632737404 and parameters: {'p': -0.39431553025843175, 'w0': 0.8143805769335191, 'w1': 0.42465811970279943}. Best is trial 13 with value: 0.7572419138836766.\u001B[0m\n",
      "\u001B[32m[I 2023-04-19 23:24:16,882]\u001B[0m Trial 29 finished with value: 0.7562403828074336 and parameters: {'p': -1.7856722268546052, 'w0': 0.9011082256877272, 'w1': 0.2316380383199152}. Best is trial 13 with value: 0.7572419138836766.\u001B[0m\n",
      "\u001B[32m[I 2023-04-19 23:24:16,953]\u001B[0m Trial 30 finished with value: 0.7570730733957276 and parameters: {'p': -1.9791130603361493, 'w0': 0.7837055362617927, 'w1': 0.3785329470364625}. Best is trial 13 with value: 0.7572419138836766.\u001B[0m\n",
      "\u001B[32m[I 2023-04-19 23:24:17,024]\u001B[0m Trial 31 finished with value: 0.7570385378413743 and parameters: {'p': -1.9597241061192654, 'w0': 0.7735844579333221, 'w1': 0.3486877313657541}. Best is trial 13 with value: 0.7572419138836766.\u001B[0m\n",
      "\u001B[32m[I 2023-04-19 23:24:17,095]\u001B[0m Trial 32 finished with value: 0.7570385378413743 and parameters: {'p': -1.2772328421504995, 'w0': 0.9367775948003618, 'w1': 0.4212266100258118}. Best is trial 13 with value: 0.7572419138836766.\u001B[0m\n",
      "\u001B[32m[I 2023-04-19 23:24:17,167]\u001B[0m Trial 33 finished with value: 0.7570462124090084 and parameters: {'p': -1.0621999503140847, 'w0': 0.8783758768312645, 'w1': 0.39024146801471843}. Best is trial 13 with value: 0.7572419138836766.\u001B[0m\n",
      "\u001B[32m[I 2023-04-19 23:24:17,238]\u001B[0m Trial 34 finished with value: 0.756969466732668 and parameters: {'p': -1.5862853760758626, 'w0': 0.9251087251061391, 'w1': 0.5571077283776822}. Best is trial 13 with value: 0.7572419138836766.\u001B[0m\n",
      "\u001B[32m[I 2023-04-19 23:24:17,309]\u001B[0m Trial 35 finished with value: 0.7557300240597695 and parameters: {'p': -1.9655464729632621, 'w0': 0.9871852563276462, 'w1': 0.16784978158886207}. Best is trial 13 with value: 0.7572419138836766.\u001B[0m\n",
      "\u001B[32m[I 2023-04-19 23:24:17,379]\u001B[0m Trial 36 finished with value: 0.7569809785841191 and parameters: {'p': -0.6713434349875604, 'w0': 0.7890693695287091, 'w1': 0.4473169838798764}. Best is trial 13 with value: 0.7572419138836766.\u001B[0m\n",
      "\u001B[32m[I 2023-04-19 23:24:17,451]\u001B[0m Trial 37 finished with value: 0.7568927210563275 and parameters: {'p': -1.2468468407243227, 'w0': 0.8335919613126641, 'w1': 0.28692750616043955}. Best is trial 13 with value: 0.7572419138836766.\u001B[0m\n",
      "\u001B[32m[I 2023-04-19 23:24:17,523]\u001B[0m Trial 38 finished with value: 0.7561789862663613 and parameters: {'p': -1.6413548894393437, 'w0': 0.9320077578594578, 'w1': 0.2284525753848563}. Best is trial 13 with value: 0.7572419138836766.\u001B[0m\n",
      "\u001B[32m[I 2023-04-19 23:24:17,594]\u001B[0m Trial 39 finished with value: 0.7570116768546553 and parameters: {'p': -0.3144265978570715, 'w0': 0.8681056708356163, 'w1': 0.3698944983597371}. Best is trial 13 with value: 0.7572419138836766.\u001B[0m\n",
      "\u001B[32m[I 2023-04-19 23:24:17,665]\u001B[0m Trial 40 finished with value: 0.7570538869766424 and parameters: {'p': -1.4323112738054555, 'w0': 0.9924332620777252, 'w1': 0.5267698417996829}. Best is trial 13 with value: 0.7572419138836766.\u001B[0m\n",
      "\u001B[32m[I 2023-04-19 23:24:17,736]\u001B[0m Trial 41 finished with value: 0.7567584161227318 and parameters: {'p': -0.7439257274210018, 'w0': 0.6784597541053159, 'w1': 0.46628114321135894}. Best is trial 13 with value: 0.7572419138836766.\u001B[0m\n",
      "\u001B[32m[I 2023-04-19 23:24:17,807]\u001B[0m Trial 42 finished with value: 0.7569924904355699 and parameters: {'p': -0.8521830218043935, 'w0': 0.7586255729623326, 'w1': 0.3214576790594852}. Best is trial 13 with value: 0.7572419138836766.\u001B[0m\n",
      "\u001B[32m[I 2023-04-19 23:24:17,879]\u001B[0m Trial 43 finished with value: 0.7570538869766424 and parameters: {'p': -0.591831599307175, 'w0': 0.6449584625219819, 'w1': 0.2968896651237428}. Best is trial 13 with value: 0.7572419138836766.\u001B[0m\n",
      "\u001B[32m[I 2023-04-19 23:24:17,950]\u001B[0m Trial 44 finished with value: 0.7570385378413743 and parameters: {'p': -1.1264233313065806, 'w0': 0.7385120280410147, 'w1': 0.3993227413086112}. Best is trial 13 with value: 0.7572419138836766.\u001B[0m\n",
      "\u001B[32m[I 2023-04-19 23:24:18,022]\u001B[0m Trial 45 finished with value: 0.7570308632737404 and parameters: {'p': -0.8032134239366475, 'w0': 0.8077014572813722, 'w1': 0.4619644225207085}. Best is trial 13 with value: 0.7572419138836766.\u001B[0m\n",
      "\u001B[32m[I 2023-04-19 23:24:18,093]\u001B[0m Trial 46 finished with value: 0.7569387684621318 and parameters: {'p': -0.2672477920117542, 'w0': 0.5983634785497518, 'w1': 0.3834207825064828}. Best is trial 13 with value: 0.7572419138836766.\u001B[0m\n",
      "\u001B[32m[I 2023-04-19 23:24:18,171]\u001B[0m Trial 47 finished with value: 0.7572534257351277 and parameters: {'p': 0.1127566669372155, 'w0': 0.707526977245364, 'w1': 0.323370434764308}. Best is trial 47 with value: 0.7572534257351277.\u001B[0m\n",
      "\u001B[32m[I 2023-04-19 23:24:18,250]\u001B[0m Trial 48 finished with value: 0.756969466732668 and parameters: {'p': 0.15139769424053554, 'w0': 0.7650434489719024, 'w1': 0.4986470318049876}. Best is trial 47 with value: 0.7572534257351277.\u001B[0m\n",
      "\u001B[32m[I 2023-04-19 23:24:18,329]\u001B[0m Trial 49 finished with value: 0.7573992425201745 and parameters: {'p': 0.17858885989873885, 'w0': 0.8894894006446983, 'w1': 0.27642308171281116}. Best is trial 49 with value: 0.7573992425201745.\u001B[0m\n",
      "\u001B[32m[I 2023-04-19 23:24:18,407]\u001B[0m Trial 50 finished with value: 0.7574721509126979 and parameters: {'p': 0.11192567360561544, 'w0': 0.9512941988910301, 'w1': 0.25038874619025925}. Best is trial 50 with value: 0.7574721509126979.\u001B[0m\n",
      "\u001B[32m[I 2023-04-19 23:24:18,486]\u001B[0m Trial 51 finished with value: 0.7572572630189447 and parameters: {'p': 0.19340679461703672, 'w0': 0.933886000583264, 'w1': 0.24247095795230192}. Best is trial 50 with value: 0.7574721509126979.\u001B[0m\n",
      "\u001B[32m[I 2023-04-19 23:24:18,564]\u001B[0m Trial 52 finished with value: 0.7572956358571149 and parameters: {'p': 0.16694797229981068, 'w0': 0.9504642191747876, 'w1': 0.2431248781659634}. Best is trial 50 with value: 0.7574721509126979.\u001B[0m\n",
      "\u001B[32m[I 2023-04-19 23:24:18,642]\u001B[0m Trial 53 finished with value: 0.7568505109343401 and parameters: {'p': 0.3676013684727375, 'w0': 0.9562815480514429, 'w1': 0.25089402069931116}. Best is trial 50 with value: 0.7574721509126979.\u001B[0m\n",
      "\u001B[32m[I 2023-04-19 23:24:18,721]\u001B[0m Trial 54 finished with value: 0.757334008695285 and parameters: {'p': 0.12105720915381188, 'w0': 0.9572357611996205, 'w1': 0.19673001162657228}. Best is trial 50 with value: 0.7574721509126979.\u001B[0m\n",
      "\u001B[32m[I 2023-04-19 23:24:18,801]\u001B[0m Trial 55 finished with value: 0.7575297101699533 and parameters: {'p': 0.048365569069575426, 'w0': 0.9457098415575842, 'w1': 0.19500992119873492}. Best is trial 55 with value: 0.7575297101699533.\u001B[0m\n",
      "\u001B[32m[I 2023-04-19 23:24:18,879]\u001B[0m Trial 56 finished with value: 0.7553002482722628 and parameters: {'p': 0.3996042099683721, 'w0': 0.9583632645913781, 'w1': 0.10940789361198511}. Best is trial 55 with value: 0.7575297101699533.\u001B[0m\n",
      "\u001B[32m[I 2023-04-19 23:24:18,958]\u001B[0m Trial 57 finished with value: 0.7573800561010894 and parameters: {'p': 0.03699567116596486, 'w0': 0.9216722406220622, 'w1': 0.20644497432712344}. Best is trial 55 with value: 0.7575297101699533.\u001B[0m\n",
      "\u001B[32m[I 2023-04-19 23:24:19,037]\u001B[0m Trial 58 finished with value: 0.7574376153583448 and parameters: {'p': 0.02022131267723401, 'w0': 0.9985208541281522, 'w1': 0.19010294100156885}. Best is trial 55 with value: 0.7575297101699533.\u001B[0m\n",
      "\u001B[32m[I 2023-04-19 23:24:19,109]\u001B[0m Trial 59 finished with value: 0.7560101457784122 and parameters: {'p': -0.12273345818859385, 'w0': 0.912949647214537, 'w1': 0.18915703844913}. Best is trial 55 with value: 0.7575297101699533.\u001B[0m\n",
      "\u001B[32m[I 2023-04-19 23:24:19,188]\u001B[0m Trial 60 finished with value: 0.7553194346913481 and parameters: {'p': 0.7263201803903407, 'w0': 0.9991805127115934, 'w1': 0.13069256232869575}. Best is trial 55 with value: 0.7575297101699533.\u001B[0m\n",
      "\u001B[32m[I 2023-04-19 23:24:19,267]\u001B[0m Trial 61 finished with value: 0.7574261035068937 and parameters: {'p': 0.05316738094425735, 'w0': 0.9622967771577823, 'w1': 0.18173073997248052}. Best is trial 55 with value: 0.7575297101699533.\u001B[0m\n",
      "\u001B[32m[I 2023-04-19 23:24:19,345]\u001B[0m Trial 62 finished with value: 0.7574568017774298 and parameters: {'p': 0.0254193640808658, 'w0': 0.9665728267513842, 'w1': 0.18712994203405578}. Best is trial 55 with value: 0.7575297101699533.\u001B[0m\n",
      "\u001B[32m[I 2023-04-19 23:24:19,417]\u001B[0m Trial 63 finished with value: 0.7553846685162374 and parameters: {'p': -0.0004721149622997495, 'w0': 0.906591840767256, 'w1': 0.12815917446550654}. Best is trial 55 with value: 0.7575297101699533.\u001B[0m\n",
      "\u001B[32m[I 2023-04-19 23:24:19,489]\u001B[0m Trial 64 finished with value: 0.7549971028507182 and parameters: {'p': -0.11759785735614066, 'w0': 0.8892053361321642, 'w1': 0.08673743210205555}. Best is trial 55 with value: 0.7575297101699533.\u001B[0m\n",
      "\u001B[32m[I 2023-04-19 23:24:19,561]\u001B[0m Trial 65 finished with value: 0.7560753796033015 and parameters: {'p': -0.2020121617234702, 'w0': 0.9692922510631591, 'w1': 0.20659823244727293}. Best is trial 55 with value: 0.7575297101699533.\u001B[0m\n",
      "\u001B[32m[I 2023-04-19 23:24:19,632]\u001B[0m Trial 66 finished with value: 0.7558604917095483 and parameters: {'p': -0.423069573717063, 'w0': 0.8468294432881707, 'w1': 0.15147909900214807}. Best is trial 55 with value: 0.7575297101699533.\u001B[0m\n",
      "\u001B[32m[I 2023-04-19 23:24:19,704]\u001B[0m Trial 67 finished with value: 0.7543217408989221 and parameters: {'p': -0.019233625772148544, 'w0': 0.9956557772606558, 'w1': 0.03566092427359949}. Best is trial 55 with value: 0.7575297101699533.\u001B[0m\n",
      "\u001B[32m[I 2023-04-19 23:24:19,783]\u001B[0m Trial 68 finished with value: 0.7571306326529829 and parameters: {'p': 0.30789563831492606, 'w0': 0.9143422746461898, 'w1': 0.2635176876207902}. Best is trial 55 with value: 0.7575297101699533.\u001B[0m\n",
      "\u001B[32m[I 2023-04-19 23:24:19,862]\u001B[0m Trial 69 finished with value: 0.756301779348506 and parameters: {'p': 0.5271010495417339, 'w0': 0.8698647486894273, 'w1': 0.2040155552294809}. Best is trial 55 with value: 0.7575297101699533.\u001B[0m\n",
      "\u001B[32m[I 2023-04-19 23:24:19,940]\u001B[0m Trial 70 finished with value: 0.7571997037616893 and parameters: {'p': 0.017774553307504423, 'w0': 0.959251290503011, 'w1': 0.16635552532831754}. Best is trial 55 with value: 0.7575297101699533.\u001B[0m\n",
      "\u001B[32m[I 2023-04-19 23:24:20,019]\u001B[0m Trial 71 finished with value: 0.7575258728861362 and parameters: {'p': 0.03405913909092728, 'w0': 0.9640401128466431, 'w1': 0.19748616817466186}. Best is trial 55 with value: 0.7575297101699533.\u001B[0m\n",
      "\u001B[32m[I 2023-04-19 23:24:20,091]\u001B[0m Trial 72 finished with value: 0.7564974808231743 and parameters: {'p': -0.21673029942356875, 'w0': 0.9278400183027997, 'w1': 0.26929285079900467}. Best is trial 55 with value: 0.7575297101699533.\u001B[0m\n",
      "\u001B[32m[I 2023-04-19 23:24:20,169]\u001B[0m Trial 73 finished with value: 0.7568696973534254 and parameters: {'p': 0.04883338476741658, 'w0': 0.8936560463221915, 'w1': 0.09377164821788873}. Best is trial 55 with value: 0.7575297101699533.\u001B[0m\n",
      "\u001B[32m[I 2023-04-19 23:24:20,248]\u001B[0m Trial 74 finished with value: 0.755960261088791 and parameters: {'p': 0.2848591357732471, 'w0': 0.9661711778443206, 'w1': 0.14948689823526662}. Best is trial 55 with value: 0.7575297101699533.\u001B[0m\n",
      "\u001B[32m[I 2023-04-19 23:24:20,320]\u001B[0m Trial 75 finished with value: 0.7560753796033015 and parameters: {'p': -0.12426630671155725, 'w0': 0.9379739862018076, 'w1': 0.21579331175176752}. Best is trial 55 with value: 0.7575297101699533.\u001B[0m\n",
      "\u001B[32m[I 2023-04-19 23:24:20,399]\u001B[0m Trial 76 finished with value: 0.7547591912540628 and parameters: {'p': 0.4283921040056786, 'w0': 0.9761743188710253, 'w1': 0.06288348889330023}. Best is trial 55 with value: 0.7575297101699533.\u001B[0m\n",
      "\u001B[32m[I 2023-04-19 23:24:20,471]\u001B[0m Trial 77 finished with value: 0.7559832847916931 and parameters: {'p': -0.32146666724755424, 'w0': 0.8930528137759717, 'w1': 0.18322969015998983}. Best is trial 55 with value: 0.7575297101699533.\u001B[0m\n",
      "\u001B[32m[I 2023-04-19 23:24:20,550]\u001B[0m Trial 78 finished with value: 0.7574721509126979 and parameters: {'p': 0.2444710968017108, 'w0': 0.8518063014473309, 'w1': 0.29942638834528196}. Best is trial 55 with value: 0.7575297101699533.\u001B[0m\n",
      "\u001B[32m[I 2023-04-19 23:24:20,622]\u001B[0m Trial 79 finished with value: 0.7568543482181572 and parameters: {'p': -0.06994939899927415, 'w0': 0.8533059949210973, 'w1': 0.3038628458577467}. Best is trial 55 with value: 0.7575297101699533.\u001B[0m\n",
      "\u001B[32m[I 2023-04-19 23:24:20,700]\u001B[0m Trial 80 finished with value: 0.7572611003027616 and parameters: {'p': 0.21274550866458117, 'w0': 0.9995514930693352, 'w1': 0.2741460395919242}. Best is trial 55 with value: 0.7575297101699533.\u001B[0m\n",
      "\u001B[32m[I 2023-04-19 23:24:20,779]\u001B[0m Trial 81 finished with value: 0.7574107543716256 and parameters: {'p': 0.05362476707286329, 'w0': 0.9088655419018768, 'w1': 0.20911997602767593}. Best is trial 55 with value: 0.7575297101699533.\u001B[0m\n",
      "\u001B[32m[I 2023-04-19 23:24:20,858]\u001B[0m Trial 82 finished with value: 0.7575181983185022 and parameters: {'p': 0.07508738964816783, 'w0': 0.8277209728533548, 'w1': 0.2315040682511444}. Best is trial 55 with value: 0.7575297101699533.\u001B[0m\n",
      "\u001B[32m[I 2023-04-19 23:24:20,937]\u001B[0m Trial 83 finished with value: 0.7570807479633617 and parameters: {'p': 0.2902316948583081, 'w0': 0.8340080005003857, 'w1': 0.23006553066170343}. Best is trial 55 with value: 0.7575297101699533.\u001B[0m\n",
      "\u001B[32m[I 2023-04-19 23:24:21,016]\u001B[0m Trial 84 finished with value: 0.7574644763450639 and parameters: {'p': 0.0519567956033718, 'w0': 0.942686719015274, 'w1': 0.18215483031450092}. Best is trial 55 with value: 0.7575297101699533.\u001B[0m\n",
      "\u001B[32m[I 2023-04-19 23:24:21,088]\u001B[0m Trial 85 finished with value: 0.7554460650573098 and parameters: {'p': -0.24241690495965706, 'w0': 0.9389856956167079, 'w1': 0.14460696325456965}. Best is trial 55 with value: 0.7575297101699533.\u001B[0m\n",
      "\u001B[32m[I 2023-04-19 23:24:21,161]\u001B[0m Trial 86 finished with value: 0.7560638677518505 and parameters: {'p': -0.06416004138834239, 'w0': 0.8694935308427647, 'w1': 0.18515490839074009}. Best is trial 55 with value: 0.7575297101699533.\u001B[0m\n",
      "\u001B[32m[I 2023-04-19 23:24:21,233]\u001B[0m Trial 87 finished with value: 0.7559372373858889 and parameters: {'p': -0.1843222357478042, 'w0': 0.8091390580548342, 'w1': 0.16187675563308646}. Best is trial 55 with value: 0.7575297101699533.\u001B[0m\n",
      "\u001B[32m[I 2023-04-19 23:24:21,312]\u001B[0m Trial 88 finished with value: 0.7574261035068937 and parameters: {'p': 0.0628540567942243, 'w0': 0.9726565475927517, 'w1': 0.2444872394866083}. Best is trial 55 with value: 0.7575297101699533.\u001B[0m\n",
      "\u001B[32m[I 2023-04-19 23:24:21,391]\u001B[0m Trial 89 finished with value: 0.7560139830622292 and parameters: {'p': 0.6126013123186329, 'w0': 0.978611062480544, 'w1': 0.18476788576566494}. Best is trial 55 with value: 0.7575297101699533.\u001B[0m\n",
      "\u001B[32m[I 2023-04-19 23:24:21,470]\u001B[0m Trial 90 finished with value: 0.7556763020863312 and parameters: {'p': 0.24385695987814318, 'w0': 0.9446354847826574, 'w1': 0.11884431319449015}. Best is trial 55 with value: 0.7575297101699533.\u001B[0m\n",
      "\u001B[32m[I 2023-04-19 23:24:21,550]\u001B[0m Trial 91 finished with value: 0.7574184289392596 and parameters: {'p': 0.07662256734877007, 'w0': 0.9724423918336158, 'w1': 0.2458719811477445}. Best is trial 55 with value: 0.7575297101699533.\u001B[0m\n",
      "\u001B[32m[I 2023-04-19 23:24:21,621]\u001B[0m Trial 92 finished with value: 0.7565780637833316 and parameters: {'p': -0.045639098251653784, 'w0': 0.9725286233191475, 'w1': 0.293615448237077}. Best is trial 55 with value: 0.7575297101699533.\u001B[0m\n",
      "\u001B[32m[I 2023-04-19 23:24:21,701]\u001B[0m Trial 93 finished with value: 0.7573685442496383 and parameters: {'p': 0.13093879505631092, 'w0': 0.9998117165006896, 'w1': 0.23249872224856177}. Best is trial 55 with value: 0.7575297101699533.\u001B[0m\n",
      "\u001B[32m[I 2023-04-19 23:24:21,781]\u001B[0m Trial 94 finished with value: 0.7569656294488508 and parameters: {'p': 0.360354793202972, 'w0': 0.9412510646972383, 'w1': 0.26163807419897367}. Best is trial 55 with value: 0.7575297101699533.\u001B[0m\n",
      "\u001B[32m[I 2023-04-19 23:24:21,860]\u001B[0m Trial 95 finished with value: 0.7574184289392596 and parameters: {'p': 0.07961068016794014, 'w0': 0.9141701940561469, 'w1': 0.17727482414049517}. Best is trial 55 with value: 0.7575297101699533.\u001B[0m\n",
      "\u001B[32m[I 2023-04-19 23:24:21,939]\u001B[0m Trial 96 finished with value: 0.7565396909451614 and parameters: {'p': 0.47385526424240393, 'w0': 0.8664360502355878, 'w1': 0.217812925751602}. Best is trial 55 with value: 0.7575297101699533.\u001B[0m\n",
      "\u001B[32m[I 2023-04-19 23:24:22,011]\u001B[0m Trial 97 finished with value: 0.7554307159220417 and parameters: {'p': -0.10407982798164972, 'w0': 0.9240865658965008, 'w1': 0.14008974174405872}. Best is trial 55 with value: 0.7575297101699533.\u001B[0m\n",
      "\u001B[32m[I 2023-04-19 23:24:22,090]\u001B[0m Trial 98 finished with value: 0.7573263341276512 and parameters: {'p': 0.2785213818336485, 'w0': 0.9602376196630398, 'w1': 0.3165287639277753}. Best is trial 55 with value: 0.7575297101699533.\u001B[0m\n",
      "\u001B[32m[I 2023-04-19 23:24:22,163]\u001B[0m Trial 99 finished with value: 0.7569080701915955 and parameters: {'p': -0.3142787366727098, 'w0': 0.881709415223124, 'w1': 0.339395995214506}. Best is trial 55 with value: 0.7575297101699533.\u001B[0m\n",
      "\u001B[32m[I 2023-04-19 23:24:22,243]\u001B[0m Trial 100 finished with value: 0.7565512027966126 and parameters: {'p': 0.18704812983802904, 'w0': 0.9798644742371513, 'w1': 0.16296677822238143}. Best is trial 55 with value: 0.7575297101699533.\u001B[0m\n",
      "\u001B[32m[I 2023-04-19 23:24:22,322]\u001B[0m Trial 101 finished with value: 0.757468313628881 and parameters: {'p': 0.0914637975302588, 'w0': 0.9776481267727416, 'w1': 0.25592355449457765}. Best is trial 55 with value: 0.7575297101699533.\u001B[0m\n",
      "\u001B[32m[I 2023-04-19 23:24:22,393]\u001B[0m Trial 102 finished with value: 0.7563363149028591 and parameters: {'p': -0.040640567744503045, 'w0': 0.9479713033695213, 'w1': 0.25351818809889026}. Best is trial 55 with value: 0.7575297101699533.\u001B[0m\n",
      "\u001B[32m[I 2023-04-19 23:24:22,466]\u001B[0m Trial 103 finished with value: 0.7561713116987273 and parameters: {'p': -0.1680102390770138, 'w0': 0.9019348803451834, 'w1': 0.22525785070955023}. Best is trial 55 with value: 0.7575297101699533.\u001B[0m\n",
      "\u001B[32m[I 2023-04-19 23:24:22,546]\u001B[0m Trial 104 finished with value: 0.7574875000479661 and parameters: {'p': 0.08535949824859732, 'w0': 0.9525955130546141, 'w1': 0.19955524746539338}. Best is trial 55 with value: 0.7575297101699533.\u001B[0m\n",
      "\u001B[32m[I 2023-04-19 23:24:22,625]\u001B[0m Trial 105 finished with value: 0.7572956358571149 and parameters: {'p': 0.13936734077881668, 'w0': 0.9236225058959373, 'w1': 0.19572081127456878}. Best is trial 55 with value: 0.7575297101699533.\u001B[0m\n",
      "\u001B[32m[I 2023-04-19 23:24:22,698]\u001B[0m Trial 106 finished with value: 0.7568696973534254 and parameters: {'p': -0.0004196225739803716, 'w0': 0.833585912974171, 'w1': 0.29374865467305605}. Best is trial 55 with value: 0.7575297101699533.\u001B[0m\n",
      "\u001B[32m[I 2023-04-19 23:24:22,776]\u001B[0m Trial 107 finished with value: 0.7565780637833316 and parameters: {'p': 0.2565914282203783, 'w0': 0.9490029256298697, 'w1': 0.17365451538299745}. Best is trial 55 with value: 0.7575297101699533.\u001B[0m\n",
      "\u001B[32m[I 2023-04-19 23:24:22,856]\u001B[0m Trial 108 finished with value: 0.7553539702457013 and parameters: {'p': 0.3544895421173486, 'w0': 0.9793904762738845, 'w1': 0.11380350923880006}. Best is trial 55 with value: 0.7575297101699533.\u001B[0m\n",
      "\u001B[32m[I 2023-04-19 23:24:22,936]\u001B[0m Trial 109 finished with value: 0.7569963277193871 and parameters: {'p': 0.11759815069536288, 'w0': 0.8828212670428595, 'w1': 0.14843846434702582}. Best is trial 55 with value: 0.7575297101699533.\u001B[0m\n",
      "\u001B[32m[I 2023-04-19 23:24:23,008]\u001B[0m Trial 110 finished with value: 0.7561099151576548 and parameters: {'p': -0.14581944130912644, 'w0': 0.9208222051288172, 'w1': 0.217974482330468}. Best is trial 55 with value: 0.7575297101699533.\u001B[0m\n",
      "\u001B[32m[I 2023-04-19 23:24:23,088]\u001B[0m Trial 111 finished with value: 0.7574414526421617 and parameters: {'p': 0.026676122958798405, 'w0': 0.9839974591362362, 'w1': 0.2380168250777015}. Best is trial 55 with value: 0.7575297101699533.\u001B[0m\n",
      "\u001B[32m[I 2023-04-19 23:24:23,167]\u001B[0m Trial 112 finished with value: 0.7574759881965151 and parameters: {'p': 0.005091510806322041, 'w0': 0.9863151228607765, 'w1': 0.19728060770886313}. Best is trial 55 with value: 0.7575297101699533.\u001B[0m\n",
      "\u001B[32m[I 2023-04-19 23:24:23,247]\u001B[0m Trial 113 finished with value: 0.7573263341276512 and parameters: {'p': 0.19352644837253632, 'w0': 0.9366904885347349, 'w1': 0.26083723408967663}. Best is trial 55 with value: 0.7575297101699533.\u001B[0m\n",
      "\u001B[32m[I 2023-04-19 23:24:23,326]\u001B[0m Trial 114 finished with value: 0.7574759881965151 and parameters: {'p': 7.462489259058708e-05, 'w0': 0.9949207195764797, 'w1': 0.20026113393613584}. Best is trial 55 with value: 0.7575297101699533.\u001B[0m\n",
      "\u001B[32m[I 2023-04-19 23:24:23,399]\u001B[0m Trial 115 finished with value: 0.7565013181069911 and parameters: {'p': -0.06380431977658896, 'w0': 0.950866093793014, 'w1': 0.27717745301971825}. Best is trial 55 with value: 0.7575297101699533.\u001B[0m\n",
      "\u001B[32m[I 2023-04-19 23:24:23,484]\u001B[0m Trial 116 finished with value: 0.7571536563558852 and parameters: {'p': 0.20396024034847454, 'w0': 0.9836354762013435, 'w1': 0.2272701239129247}. Best is trial 55 with value: 0.7575297101699533.\u001B[0m\n",
      "\u001B[32m[I 2023-04-19 23:24:23,557]\u001B[0m Trial 117 finished with value: 0.7560561931842165 and parameters: {'p': -0.26345246592782967, 'w0': 0.9100175658881324, 'w1': 0.20685177206373714}. Best is trial 55 with value: 0.7575297101699533.\u001B[0m\n",
      "\u001B[32m[I 2023-04-19 23:24:23,630]\u001B[0m Trial 118 finished with value: 0.7568927210563275 and parameters: {'p': -0.14658039470122078, 'w0': 0.8956259018688892, 'w1': 0.30820780847190665}. Best is trial 55 with value: 0.7575297101699533.\u001B[0m\n",
      "\u001B[32m[I 2023-04-19 23:24:23,710]\u001B[0m Trial 119 finished with value: 0.7569234193268638 and parameters: {'p': 0.3415886892084548, 'w0': 0.957665697082578, 'w1': 0.25199636580806234}. Best is trial 55 with value: 0.7575297101699533.\u001B[0m\n",
      "\u001B[32m[I 2023-04-19 23:24:23,789]\u001B[0m Trial 120 finished with value: 0.7562365455236165 and parameters: {'p': 0.4315894406379552, 'w0': 0.9880838852345631, 'w1': 0.19617820993926094}. Best is trial 55 with value: 0.7575297101699533.\u001B[0m\n",
      "\u001B[32m[I 2023-04-19 23:24:23,868]\u001B[0m Trial 121 finished with value: 0.7572035410455064 and parameters: {'p': 0.000544674495698616, 'w0': 0.999740706912184, 'w1': 0.1675844953563399}. Best is trial 55 with value: 0.7575297101699533.\u001B[0m\n",
      "\u001B[32m[I 2023-04-19 23:24:23,948]\u001B[0m Trial 122 finished with value: 0.7567200432845614 and parameters: {'p': 0.10456121546220337, 'w0': 0.9683873458364813, 'w1': 0.12870422739739837}. Best is trial 55 with value: 0.7575297101699533.\u001B[0m\n",
      "\u001B[32m[I 2023-04-19 23:24:24,028]\u001B[0m Trial 123 finished with value: 0.7574759881965151 and parameters: {'p': 0.0027492931809406096, 'w0': 0.9992854172472249, 'w1': 0.1957958642730603}. Best is trial 55 with value: 0.7575297101699533.\u001B[0m\n",
      "\u001B[32m[I 2023-04-19 23:24:24,101]\u001B[0m Trial 124 finished with value: 0.7561751489825442 and parameters: {'p': -0.09972623512126824, 'w0': 0.936515542298611, 'w1': 0.2317591823786267}. Best is trial 55 with value: 0.7575297101699533.\u001B[0m\n",
      "\u001B[32m[I 2023-04-19 23:24:24,181]\u001B[0m Trial 125 finished with value: 0.7568581855019743 and parameters: {'p': 0.23979814800051397, 'w0': 0.9810659696959741, 'w1': 0.2017182950585129}. Best is trial 55 with value: 0.7575297101699533.\u001B[0m\n",
      "\u001B[32m[I 2023-04-19 23:24:24,253]\u001B[0m Trial 126 finished with value: 0.7567085314331103 and parameters: {'p': -0.21252570799667828, 'w0': 0.864727221261121, 'w1': 0.27860984662140914}. Best is trial 55 with value: 0.7575297101699533.\u001B[0m\n",
      "\u001B[32m[I 2023-04-19 23:24:24,332]\u001B[0m Trial 127 finished with value: 0.7569426057459488 and parameters: {'p': 0.135059057573235, 'w0': 0.9287727553887903, 'w1': 0.15934127333309422}. Best is trial 55 with value: 0.7575297101699533.\u001B[0m\n",
      "\u001B[32m[I 2023-04-19 23:24:24,405]\u001B[0m Trial 128 finished with value: 0.7569234193268638 and parameters: {'p': -0.003834479587073567, 'w0': 0.955071062262577, 'w1': 0.3568867058878856}. Best is trial 55 with value: 0.7575297101699533.\u001B[0m\n",
      "\u001B[32m[I 2023-04-19 23:24:24,478]\u001B[0m Trial 129 finished with value: 0.7561828235501783 and parameters: {'p': -0.41418161262231057, 'w0': 0.9995099377744167, 'w1': 0.24506976103449982}. Best is trial 55 with value: 0.7575297101699533.\u001B[0m\n",
      "\u001B[32m[I 2023-04-19 23:24:24,557]\u001B[0m Trial 130 finished with value: 0.7574836627641489 and parameters: {'p': 0.05045341470940087, 'w0': 0.9129668410391094, 'w1': 0.21576246185233003}. Best is trial 55 with value: 0.7575297101699533.\u001B[0m\n",
      "\u001B[32m[I 2023-04-19 23:24:24,637]\u001B[0m Trial 131 finished with value: 0.757468313628881 and parameters: {'p': 0.06795981845704493, 'w0': 0.9093169014525455, 'w1': 0.2128369826949842}. Best is trial 55 with value: 0.7575297101699533.\u001B[0m\n",
      "\u001B[32m[I 2023-04-19 23:24:24,717]\u001B[0m Trial 132 finished with value: 0.7574030798039916 and parameters: {'p': 0.09968438803688356, 'w0': 0.8996239429327698, 'w1': 0.21973535954825518}. Best is trial 55 with value: 0.7575297101699533.\u001B[0m\n",
      "\u001B[32m[I 2023-04-19 23:24:24,797]\u001B[0m Trial 133 finished with value: 0.7567891143932679 and parameters: {'p': 0.24955251235135792, 'w0': 0.9164074507178603, 'w1': 0.1818665365692972}. Best is trial 55 with value: 0.7575297101699533.\u001B[0m\n",
      "\u001B[32m[I 2023-04-19 23:24:24,870]\u001B[0m Trial 134 finished with value: 0.7556686275186971 and parameters: {'p': -0.06407151478565656, 'w0': 0.851681903949629, 'w1': 0.13928239524472194}. Best is trial 55 with value: 0.7575297101699533.\u001B[0m\n",
      "\u001B[32m[I 2023-04-19 23:24:24,950]\u001B[0m Trial 135 finished with value: 0.7572227274645915 and parameters: {'p': 0.18344135875621884, 'w0': 0.8849872649984751, 'w1': 0.20227291237976341}. Best is trial 55 with value: 0.7575297101699533.\u001B[0m\n",
      "\u001B[32m[I 2023-04-19 23:24:25,030]\u001B[0m Trial 136 finished with value: 0.7574529644936128 and parameters: {'p': 0.06408512546036635, 'w0': 0.7918964719644082, 'w1': 0.2658902959549033}. Best is trial 55 with value: 0.7575297101699533.\u001B[0m\n",
      "\u001B[32m[I 2023-04-19 23:24:25,110]\u001B[0m Trial 137 finished with value: 0.7563363149028591 and parameters: {'p': 0.32931514001604134, 'w0': 0.9380567769800918, 'w1': 0.17340216034263078}. Best is trial 55 with value: 0.7575297101699533.\u001B[0m\n",
      "\u001B[32m[I 2023-04-19 23:24:25,183]\u001B[0m Trial 138 finished with value: 0.7560561931842165 and parameters: {'p': -0.1005498371485078, 'w0': 0.9613620908953897, 'w1': 0.21715441286141995}. Best is trial 55 with value: 0.7575297101699533.\u001B[0m\n",
      "\u001B[32m[I 2023-04-19 23:24:25,255]\u001B[0m Trial 139 finished with value: 0.7567353924198296 and parameters: {'p': -0.19921472505364352, 'w0': 0.9081207948056667, 'w1': 0.2903829708509349}. Best is trial 55 with value: 0.7575297101699533.\u001B[0m\n",
      "\u001B[32m[I 2023-04-19 23:24:25,328]\u001B[0m Trial 140 finished with value: 0.7558643289933653 and parameters: {'p': -0.02413094578247789, 'w0': 0.8371668275688994, 'w1': 0.15166731611923026}. Best is trial 55 with value: 0.7575297101699533.\u001B[0m\n",
      "\u001B[32m[I 2023-04-19 23:24:25,408]\u001B[0m Trial 141 finished with value: 0.7574644763450639 and parameters: {'p': 0.08490072605447985, 'w0': 0.8644845344338746, 'w1': 0.2591238068849685}. Best is trial 55 with value: 0.7575297101699533.\u001B[0m\n",
      "\u001B[32m[I 2023-04-19 23:24:25,488]\u001B[0m Trial 142 finished with value: 0.7572150528969575 and parameters: {'p': 0.14700790231650374, 'w0': 0.8698344020130853, 'w1': 0.19365265065916437}. Best is trial 55 with value: 0.7575297101699533.\u001B[0m\n",
      "\u001B[32m[I 2023-04-19 23:24:25,568]\u001B[0m Trial 143 finished with value: 0.7573838933849064 and parameters: {'p': 0.046164352423382286, 'w0': 0.8186653228707665, 'w1': 0.2616466847473494}. Best is trial 55 with value: 0.7575297101699533.\u001B[0m\n",
      "\u001B[32m[I 2023-04-19 23:24:25,648]\u001B[0m Trial 144 finished with value: 0.7569771413003021 and parameters: {'p': 0.28068646038640727, 'w0': 0.9480758981691781, 'w1': 0.24490526312779698}. Best is trial 55 with value: 0.7575297101699533.\u001B[0m\n",
      "\u001B[32m[I 2023-04-19 23:24:25,729]\u001B[0m Trial 145 finished with value: 0.7573992425201745 and parameters: {'p': 0.12241544409961225, 'w0': 0.9280472249072826, 'w1': 0.21734462711732971}. Best is trial 55 with value: 0.7575297101699533.\u001B[0m\n",
      "\u001B[32m[I 2023-04-19 23:24:25,801]\u001B[0m Trial 146 finished with value: 0.7568812092048766 and parameters: {'p': -0.023125285318303445, 'w0': 0.9736365826775697, 'w1': 0.33430053113190594}. Best is trial 55 with value: 0.7575297101699533.\u001B[0m\n",
      "\u001B[32m[I 2023-04-19 23:24:25,881]\u001B[0m Trial 147 finished with value: 0.7571191208015319 and parameters: {'p': 0.18821214131625338, 'w0': 0.8828592893664489, 'w1': 0.18100417446454334}. Best is trial 55 with value: 0.7575297101699533.\u001B[0m\n",
      "\u001B[32m[I 2023-04-19 23:24:25,955]\u001B[0m Trial 148 finished with value: 0.7563900368762975 and parameters: {'p': -0.13367863197466828, 'w0': 0.8550795271500774, 'w1': 0.23200494428027346}. Best is trial 55 with value: 0.7575297101699533.\u001B[0m\n",
      "\u001B[32m[I 2023-04-19 23:24:26,028]\u001B[0m Trial 149 finished with value: 0.7568198126638039 and parameters: {'p': -0.3080965662370765, 'w0': 0.9090691095736833, 'w1': 0.30567940076922956}. Best is trial 55 with value: 0.7575297101699533.\u001B[0m\n",
      "\u001B[32m[I 2023-04-19 23:24:26,108]\u001B[0m Trial 150 finished with value: 0.7574836627641489 and parameters: {'p': 0.05891313758843616, 'w0': 0.9617559355256499, 'w1': 0.2833861976446799}. Best is trial 55 with value: 0.7575297101699533.\u001B[0m\n",
      "\u001B[32m[I 2023-04-19 23:24:26,189]\u001B[0m Trial 151 finished with value: 0.7574913373317831 and parameters: {'p': 0.023244206924056335, 'w0': 0.9651981875957379, 'w1': 0.2676512030218963}. Best is trial 55 with value: 0.7575297101699533.\u001B[0m\n",
      "\u001B[32m[I 2023-04-19 23:24:26,269]\u001B[0m Trial 152 finished with value: 0.7574644763450639 and parameters: {'p': 0.0668612602952497, 'w0': 0.9477604277762295, 'w1': 0.2859132877606027}. Best is trial 55 with value: 0.7575297101699533.\u001B[0m\n",
      "\u001B[32m[I 2023-04-19 23:24:26,342]\u001B[0m Trial 153 finished with value: 0.7564015487277487 and parameters: {'p': -0.026953613869939604, 'w0': 0.9659874444391817, 'w1': 0.26369720829674037}. Best is trial 55 with value: 0.7575297101699533.\u001B[0m\n",
      "\u001B[32m[I 2023-04-19 23:24:26,421]\u001B[0m Trial 154 finished with value: 0.7572035410455064 and parameters: {'p': 0.2157024998579393, 'w0': 0.9296362623770809, 'w1': 0.2418934632429052}. Best is trial 55 with value: 0.7575297101699533.\u001B[0m\n",
      "\u001B[32m[I 2023-04-19 23:24:26,500]\u001B[0m Trial 155 finished with value: 0.7574299407907108 and parameters: {'p': 0.1086760488560519, 'w0': 0.9998098532850218, 'w1': 0.316209649512186}. Best is trial 55 with value: 0.7575297101699533.\u001B[0m\n",
      "\u001B[32m[I 2023-04-19 23:24:26,573]\u001B[0m Trial 156 finished with value: 0.7564284097144677 and parameters: {'p': -0.0749876625799647, 'w0': 0.9796923918912978, 'w1': 0.2808812669447332}. Best is trial 55 with value: 0.7575297101699533.\u001B[0m\n",
      "\u001B[32m[I 2023-04-19 23:24:26,653]\u001B[0m Trial 157 finished with value: 0.7565550400804295 and parameters: {'p': 0.3928014893519992, 'w0': 0.8996096031051986, 'w1': 0.20542049828799067}. Best is trial 55 with value: 0.7575297101699533.\u001B[0m\n",
      "\u001B[32m[I 2023-04-19 23:24:26,727]\u001B[0m Trial 158 finished with value: 0.75612910157674 and parameters: {'p': -0.17424044768944139, 'w0': 0.9487561246807997, 'w1': 0.22403256385104361}. Best is trial 55 with value: 0.7575297101699533.\u001B[0m\n",
      "\u001B[32m[I 2023-04-19 23:24:26,807]\u001B[0m Trial 159 finished with value: 0.757468313628881 and parameters: {'p': 0.026980324435545305, 'w0': 0.9278174419851206, 'w1': 0.25605715296790343}. Best is trial 55 with value: 0.7575297101699533.\u001B[0m\n",
      "\u001B[32m[I 2023-04-19 23:24:26,887]\u001B[0m Trial 160 finished with value: 0.7565089926746252 and parameters: {'p': 0.27477971235424536, 'w0': 0.9209446030755315, 'w1': 0.169085555769609}. Best is trial 55 with value: 0.7575297101699533.\u001B[0m\n",
      "\u001B[32m[I 2023-04-19 23:24:26,967]\u001B[0m Trial 161 finished with value: 0.7574261035068937 and parameters: {'p': 0.05033981284617886, 'w0': 0.9673029691558216, 'w1': 0.2527722843708018}. Best is trial 55 with value: 0.7575297101699533.\u001B[0m\n",
      "\u001B[32m[I 2023-04-19 23:24:27,048]\u001B[0m Trial 162 finished with value: 0.7569848158679361 and parameters: {'p': 0.18756180406400758, 'w0': 0.4541772406016705, 'w1': 0.2908566408429816}. Best is trial 55 with value: 0.7575297101699533.\u001B[0m\n",
      "\u001B[32m[I 2023-04-19 23:24:27,128]\u001B[0m Trial 163 finished with value: 0.7574606390612468 and parameters: {'p': 0.020476107716871098, 'w0': 0.9424240136721592, 'w1': 0.27189054435345716}. Best is trial 55 with value: 0.7575297101699533.\u001B[0m\n",
      "\u001B[32m[I 2023-04-19 23:24:27,201]\u001B[0m Trial 164 finished with value: 0.7561022405900207 and parameters: {'p': -0.08738619964899631, 'w0': 0.8909277222928185, 'w1': 0.20724034273278483}. Best is trial 55 with value: 0.7575297101699533.\u001B[0m\n",
      "\u001B[32m[I 2023-04-19 23:24:27,281]\u001B[0m Trial 165 finished with value: 0.7573685442496383 and parameters: {'p': 0.13335431708923734, 'w0': 0.979967383840389, 'w1': 0.24675679230399822}. Best is trial 55 with value: 0.7575297101699533.\u001B[0m\n",
      "\u001B[32m[I 2023-04-19 23:24:27,362]\u001B[0m Trial 166 finished with value: 0.7574875000479661 and parameters: {'p': 0.07744100389282665, 'w0': 0.9329680957467773, 'w1': 0.3202167087318504}. Best is trial 55 with value: 0.7575297101699533.\u001B[0m\n",
      "\u001B[32m[I 2023-04-19 23:24:27,436]\u001B[0m Trial 167 finished with value: 0.7568620227857913 and parameters: {'p': -0.06832920869100914, 'w0': 0.9207452322792423, 'w1': 0.32226573669279834}. Best is trial 55 with value: 0.7575297101699533.\u001B[0m\n",
      "\u001B[32m[I 2023-04-19 23:24:27,508]\u001B[0m Trial 168 finished with value: 0.756658646743489 and parameters: {'p': -0.25424321560994084, 'w0': 0.9614478335975719, 'w1': 0.30191682921237295}. Best is trial 55 with value: 0.7575297101699533.\u001B[0m\n",
      "\u001B[32m[I 2023-04-19 23:24:27,588]\u001B[0m Trial 169 finished with value: 0.7567123687169274 and parameters: {'p': 0.3235227487569243, 'w0': 0.9357694556864913, 'w1': 0.2219297901298817}. Best is trial 55 with value: 0.7575297101699533.\u001B[0m\n",
      "\u001B[32m[I 2023-04-19 23:24:27,662]\u001B[0m Trial 170 finished with value: 0.7569003956239615 and parameters: {'p': -0.00516099708445458, 'w0': 0.9847124146119118, 'w1': 0.3483597199398025}. Best is trial 55 with value: 0.7575297101699533.\u001B[0m\n",
      "\u001B[32m[I 2023-04-19 23:24:27,741]\u001B[0m Trial 171 finished with value: 0.7575565711566724 and parameters: {'p': 0.09574682915295692, 'w0': 0.7515772731016347, 'w1': 0.2715605460580534}. Best is trial 171 with value: 0.7575565711566724.\u001B[0m\n",
      "\u001B[32m[I 2023-04-19 23:24:27,822]\u001B[0m Trial 172 finished with value: 0.7572380765998595 and parameters: {'p': 0.1717771016655115, 'w0': 0.7885001408728889, 'w1': 0.18957126523336465}. Best is trial 171 with value: 0.7575565711566724.\u001B[0m\n",
      "\u001B[32m[I 2023-04-19 23:24:27,902]\u001B[0m Trial 173 finished with value: 0.7574990118994172 and parameters: {'p': 0.0913509660261748, 'w0': 0.9545414304511742, 'w1': 0.2774705402689765}. Best is trial 171 with value: 0.7575565711566724.\u001B[0m\n",
      "\u001B[32m[I 2023-04-19 23:24:27,981]\u001B[0m Trial 174 finished with value: 0.7572649375865788 and parameters: {'p': 0.23099961401826913, 'w0': 0.7682316554881574, 'w1': 0.3692848059504039}. Best is trial 171 with value: 0.7575565711566724.\u001B[0m\n",
      "\u001B[32m[I 2023-04-19 23:24:28,062]\u001B[0m Trial 175 finished with value: 0.7572495884513106 and parameters: {'p': 0.09850459382374376, 'w0': 0.7354267758281184, 'w1': 0.3344242946375283}. Best is trial 171 with value: 0.7575565711566724.\u001B[0m\n",
      "\u001B[32m[I 2023-04-19 23:24:28,135]\u001B[0m Trial 176 finished with value: 0.7565089926746252 and parameters: {'p': -0.14093245981398383, 'w0': 0.9586653270837664, 'w1': 0.2804211193138985}. Best is trial 171 with value: 0.7575565711566724.\u001B[0m\n",
      "\u001B[32m[I 2023-04-19 23:24:28,208]\u001B[0m Trial 177 finished with value: 0.7564284097144677 and parameters: {'p': -0.0029757467557662842, 'w0': 0.8272301608481328, 'w1': 0.23428398602236986}. Best is trial 171 with value: 0.7575565711566724.\u001B[0m\n",
      "\u001B[32m[I 2023-04-19 23:24:28,289]\u001B[0m Trial 178 finished with value: 0.7574913373317831 and parameters: {'p': 0.14905388064301123, 'w0': 0.9097033494187621, 'w1': 0.29968810357006737}. Best is trial 171 with value: 0.7575565711566724.\u001B[0m\n",
      "\u001B[32m[I 2023-04-19 23:24:28,370]\u001B[0m Trial 179 finished with value: 0.7574145916554424 and parameters: {'p': 0.1542545431917942, 'w0': 0.8081574824643603, 'w1': 0.31402737029649064}. Best is trial 171 with value: 0.7575565711566724.\u001B[0m\n",
      "\u001B[32m[I 2023-04-19 23:24:28,450]\u001B[0m Trial 180 finished with value: 0.7572227274645915 and parameters: {'p': 0.2656539119284962, 'w0': 0.9994459465637044, 'w1': 0.2841435968817409}. Best is trial 171 with value: 0.7575565711566724.\u001B[0m\n",
      "\u001B[32m[I 2023-04-19 23:24:28,530]\u001B[0m Trial 181 finished with value: 0.7575143610346852 and parameters: {'p': 0.06883682859180577, 'w0': 0.9054240278209872, 'w1': 0.2637445200015289}. Best is trial 171 with value: 0.7575565711566724.\u001B[0m\n",
      "\u001B[32m[I 2023-04-19 23:24:28,611]\u001B[0m Trial 182 finished with value: 0.7574491272097958 and parameters: {'p': 0.10565621309289686, 'w0': 0.9013140030387379, 'w1': 0.26910521131738624}. Best is trial 171 with value: 0.7575565711566724.\u001B[0m\n",
      "\u001B[32m[I 2023-04-19 23:24:28,684]\u001B[0m Trial 183 finished with value: 0.7568198126638039 and parameters: {'p': -0.054162722248183234, 'w0': 0.8724862979545565, 'w1': 0.29438020869806675}. Best is trial 171 with value: 0.7575565711566724.\u001B[0m\n",
      "\u001B[32m[I 2023-04-19 23:24:28,765]\u001B[0m Trial 184 finished with value: 0.7572611003027616 and parameters: {'p': 0.18495808623515858, 'w0': 0.9096202062983023, 'w1': 0.23241600839302307}. Best is trial 171 with value: 0.7575565711566724.\u001B[0m\n",
      "\u001B[32m[I 2023-04-19 23:24:28,845]\u001B[0m Trial 185 finished with value: 0.7574990118994172 and parameters: {'p': 0.07284153730082288, 'w0': 0.9590483946893328, 'w1': 0.33046723353589214}. Best is trial 171 with value: 0.7575565711566724.\u001B[0m\n",
      "\u001B[32m[I 2023-04-19 23:24:28,925]\u001B[0m Trial 186 finished with value: 0.7573608696820042 and parameters: {'p': 0.3042371518336625, 'w0': 0.9644939359612819, 'w1': 0.33702458952005493}. Best is trial 171 with value: 0.7575565711566724.\u001B[0m\n",
      "\u001B[32m[I 2023-04-19 23:24:29,006]\u001B[0m Trial 187 finished with value: 0.757479825480332 and parameters: {'p': 0.13148658125060406, 'w0': 0.9466157124015864, 'w1': 0.30755858799710034}. Best is trial 171 with value: 0.7575565711566724.\u001B[0m\n",
      "\u001B[32m[I 2023-04-19 23:24:29,086]\u001B[0m Trial 188 finished with value: 0.7574951746156001 and parameters: {'p': 0.22566514495352635, 'w0': 0.9448594875642855, 'w1': 0.3540794288929973}. Best is trial 171 with value: 0.7575565711566724.\u001B[0m\n",
      "\u001B[32m[I 2023-04-19 23:24:29,160]\u001B[0m Trial 189 finished with value: 0.7569119074754126 and parameters: {'p': -0.11974438160954606, 'w0': 0.9479315403371524, 'w1': 0.36625596978154473}. Best is trial 171 with value: 0.7575565711566724.\u001B[0m\n",
      "\u001B[32m[I 2023-04-19 23:24:29,240]\u001B[0m Trial 190 finished with value: 0.7572649375865788 and parameters: {'p': 0.010785910213479494, 'w0': 0.9384077618120653, 'w1': 0.3907295501613633}. Best is trial 171 with value: 0.7575565711566724.\u001B[0m\n",
      "\u001B[32m[I 2023-04-19 23:24:29,321]\u001B[0m Trial 191 finished with value: 0.757468313628881 and parameters: {'p': 0.21077744090555317, 'w0': 0.9556507536887006, 'w1': 0.3204172222238788}. Best is trial 171 with value: 0.7575565711566724.\u001B[0m\n",
      "\u001B[32m[I 2023-04-19 23:24:29,402]\u001B[0m Trial 192 finished with value: 0.7574875000479661 and parameters: {'p': 0.13750554359719053, 'w0': 0.9225783027517768, 'w1': 0.3045285540130753}. Best is trial 171 with value: 0.7575565711566724.\u001B[0m\n",
      "\u001B[32m[I 2023-04-19 23:24:29,482]\u001B[0m Trial 193 finished with value: 0.7575066864670512 and parameters: {'p': 0.14111188248582765, 'w0': 0.9262748784042509, 'w1': 0.30806851441895294}. Best is trial 171 with value: 0.7575565711566724.\u001B[0m\n",
      "\u001B[32m[I 2023-04-19 23:24:29,563]\u001B[0m Trial 194 finished with value: 0.7575258728861362 and parameters: {'p': 0.14733404577975, 'w0': 0.9254030815262965, 'w1': 0.3405768426816484}. Best is trial 171 with value: 0.7575565711566724.\u001B[0m\n",
      "\u001B[32m[I 2023-04-19 23:24:29,643]\u001B[0m Trial 195 finished with value: 0.7573301714114681 and parameters: {'p': 0.37772151868076387, 'w0': 0.9202399003254453, 'w1': 0.3312812605910021}. Best is trial 171 with value: 0.7575565711566724.\u001B[0m\n",
      "\u001B[32m[I 2023-04-19 23:24:29,724]\u001B[0m Trial 196 finished with value: 0.7572035410455064 and parameters: {'p': 0.14634407109148184, 'w0': 0.7096417195788041, 'w1': 0.3493859118685755}. Best is trial 171 with value: 0.7575565711566724.\u001B[0m\n",
      "\u001B[32m[I 2023-04-19 23:24:29,804]\u001B[0m Trial 197 finished with value: 0.7574990118994172 and parameters: {'p': 0.07123904243462106, 'w0': 0.8957951485501044, 'w1': 0.31539064149601803}. Best is trial 171 with value: 0.7575565711566724.\u001B[0m\n",
      "\u001B[32m[I 2023-04-19 23:24:29,884]\u001B[0m Trial 198 finished with value: 0.7575220356023192 and parameters: {'p': 0.15198493101117574, 'w0': 0.8953252209344628, 'w1': 0.3077499220423823}. Best is trial 171 with value: 0.7575565711566724.\u001B[0m\n",
      "\u001B[32m[I 2023-04-19 23:24:29,964]\u001B[0m Trial 199 finished with value: 0.7571997037616893 and parameters: {'p': 0.48117776741433266, 'w0': 0.8977946704454238, 'w1': 0.31710739241256874}. Best is trial 171 with value: 0.7575565711566724.\u001B[0m\n",
      "\u001B[32m[I 2023-04-19 23:24:30,046]\u001B[0m Trial 200 finished with value: 0.7573071477085661 and parameters: {'p': 0.24515630977230907, 'w0': 0.881925155023636, 'w1': 0.351898210312329}. Best is trial 171 with value: 0.7575565711566724.\u001B[0m\n",
      "\u001B[32m[I 2023-04-19 23:24:30,126]\u001B[0m Trial 201 finished with value: 0.7575028491832342 and parameters: {'p': 0.10630510325660271, 'w0': 0.9218885178032468, 'w1': 0.307637360554265}. Best is trial 171 with value: 0.7575565711566724.\u001B[0m\n",
      "\u001B[32m[I 2023-04-19 23:24:30,207]\u001B[0m Trial 202 finished with value: 0.7575258728861362 and parameters: {'p': 0.16336730063808955, 'w0': 0.8826206094730793, 'w1': 0.31033278365393735}. Best is trial 171 with value: 0.7575565711566724.\u001B[0m\n",
      "\u001B[32m[I 2023-04-19 23:24:30,289]\u001B[0m Trial 203 finished with value: 0.7574759881965151 and parameters: {'p': 0.16595305255748935, 'w0': 0.8825859730735068, 'w1': 0.33484155806954496}. Best is trial 171 with value: 0.7575565711566724.\u001B[0m\n",
      "\u001B[32m[I 2023-04-19 23:24:30,369]\u001B[0m Trial 204 finished with value: 0.7574491272097958 and parameters: {'p': 0.07696747717142574, 'w0': 0.9146322965259283, 'w1': 0.30242867134174656}. Best is trial 171 with value: 0.7575565711566724.\u001B[0m\n",
      "\u001B[32m[I 2023-04-19 23:24:30,450]\u001B[0m Trial 205 finished with value: 0.7572649375865788 and parameters: {'p': 0.2917893823081473, 'w0': 0.8481333819719911, 'w1': 0.3636813084968348}. Best is trial 171 with value: 0.7575565711566724.\u001B[0m\n",
      "\u001B[32m[I 2023-04-19 23:24:30,531]\u001B[0m Trial 206 finished with value: 0.7574990118994172 and parameters: {'p': 0.1978082401745372, 'w0': 0.8897065532126701, 'w1': 0.30580904061861314}. Best is trial 171 with value: 0.7575565711566724.\u001B[0m\n",
      "\u001B[32m[I 2023-04-19 23:24:30,612]\u001B[0m Trial 207 finished with value: 0.7574951746156001 and parameters: {'p': 0.22527726975321707, 'w0': 0.8888674782469465, 'w1': 0.32464413279267784}. Best is trial 171 with value: 0.7575565711566724.\u001B[0m\n",
      "\u001B[32m[I 2023-04-19 23:24:30,693]\u001B[0m Trial 208 finished with value: 0.7573531951143703 and parameters: {'p': 0.36549866455690244, 'w0': 0.8663877849630357, 'w1': 0.3243076889457341}. Best is trial 171 with value: 0.7575565711566724.\u001B[0m\n",
      "\u001B[32m[I 2023-04-19 23:24:30,774]\u001B[0m Trial 209 finished with value: 0.757334008695285 and parameters: {'p': 0.23636675946374947, 'w0': 0.8899314731311301, 'w1': 0.3722742041410207}. Best is trial 171 with value: 0.7575565711566724.\u001B[0m\n",
      "\u001B[32m[I 2023-04-19 23:24:30,855]\u001B[0m Trial 210 finished with value: 0.7573071477085661 and parameters: {'p': 0.2196300017555799, 'w0': 0.839101821794492, 'w1': 0.3449384534105454}. Best is trial 171 with value: 0.7575565711566724.\u001B[0m\n",
      "\u001B[32m[I 2023-04-19 23:24:30,936]\u001B[0m Trial 211 finished with value: 0.7575297101699533 and parameters: {'p': 0.14689672276112867, 'w0': 0.9044725354094524, 'w1': 0.31000466011661076}. Best is trial 171 with value: 0.7575565711566724.\u001B[0m\n",
      "\u001B[32m[I 2023-04-19 23:24:31,019]\u001B[0m Trial 212 finished with value: 0.7575028491832342 and parameters: {'p': 0.1505858502307889, 'w0': 0.8938900590515207, 'w1': 0.30255163655517464}. Best is trial 171 with value: 0.7575565711566724.\u001B[0m\n",
      "\u001B[32m[I 2023-04-19 23:24:31,101]\u001B[0m Trial 213 finished with value: 0.7573685442496383 and parameters: {'p': 0.32549781379277254, 'w0': 0.8746665121685683, 'w1': 0.320471704114235}. Best is trial 171 with value: 0.7575565711566724.\u001B[0m\n",
      "\u001B[32m[I 2023-04-19 23:24:31,182]\u001B[0m Trial 214 finished with value: 0.7575258728861362 and parameters: {'p': 0.17529190128492028, 'w0': 0.8975098708236657, 'w1': 0.30343118727061}. Best is trial 171 with value: 0.7575565711566724.\u001B[0m\n",
      "\u001B[32m[I 2023-04-19 23:24:31,263]\u001B[0m Trial 215 finished with value: 0.7571728427749702 and parameters: {'p': 0.42757154993097785, 'w0': 0.8916456412487811, 'w1': 0.29558483576150835}. Best is trial 171 with value: 0.7575565711566724.\u001B[0m\n",
      "\u001B[32m[I 2023-04-19 23:24:31,344]\u001B[0m Trial 216 finished with value: 0.757310984992383 and parameters: {'p': 0.1721730104564114, 'w0': 0.8509387920396778, 'w1': 0.3883333315420328}. Best is trial 171 with value: 0.7575565711566724.\u001B[0m\n",
      "\u001B[32m[I 2023-04-19 23:24:31,425]\u001B[0m Trial 217 finished with value: 0.7573762188172724 and parameters: {'p': 0.26873595375143317, 'w0': 0.8987311554754253, 'w1': 0.34354958973605854}. Best is trial 171 with value: 0.7575565711566724.\u001B[0m\n",
      "\u001B[32m[I 2023-04-19 23:24:31,505]\u001B[0m Trial 218 finished with value: 0.7575105237508681 and parameters: {'p': 0.17923463683263502, 'w0': 0.8712075892064509, 'w1': 0.3002605520463995}. Best is trial 171 with value: 0.7575565711566724.\u001B[0m\n",
      "\u001B[32m[I 2023-04-19 23:24:31,587]\u001B[0m Trial 219 finished with value: 0.7574875000479661 and parameters: {'p': 0.21564536251905297, 'w0': 0.8668245996443276, 'w1': 0.29982708917431544}. Best is trial 171 with value: 0.7575565711566724.\u001B[0m\n",
      "\u001B[32m[I 2023-04-19 23:24:31,668]\u001B[0m Trial 220 finished with value: 0.7572380765998595 and parameters: {'p': 0.324934048236451, 'w0': 0.8801763694920273, 'w1': 0.28500424646296685}. Best is trial 171 with value: 0.7575565711566724.\u001B[0m\n",
      "\u001B[32m[I 2023-04-19 23:24:31,749]\u001B[0m Trial 221 finished with value: 0.7575297101699533 and parameters: {'p': 0.14592981240579822, 'w0': 0.9030246928060794, 'w1': 0.31276337892441486}. Best is trial 171 with value: 0.7575565711566724.\u001B[0m\n",
      "\u001B[32m[I 2023-04-19 23:24:31,831]\u001B[0m Trial 222 finished with value: 0.7575335474537703 and parameters: {'p': 0.16507013370000329, 'w0': 0.900388188616878, 'w1': 0.33084450149196715}. Best is trial 171 with value: 0.7575565711566724.\u001B[0m\n",
      "\u001B[32m[I 2023-04-19 23:24:31,912]\u001B[0m Trial 223 finished with value: 0.7574069170878086 and parameters: {'p': 0.13133162628051945, 'w0': 0.8523477660246938, 'w1': 0.33234935968068785}. Best is trial 171 with value: 0.7575565711566724.\u001B[0m\n",
      "\u001B[32m[I 2023-04-19 23:24:31,993]\u001B[0m Trial 224 finished with value: 0.7574107543716256 and parameters: {'p': 0.22018523590426062, 'w0': 0.8226961884525716, 'w1': 0.3144910492207111}. Best is trial 171 with value: 0.7575565711566724.\u001B[0m\n",
      "\u001B[32m[I 2023-04-19 23:24:32,074]\u001B[0m Trial 225 finished with value: 0.7573723815334553 and parameters: {'p': 0.08031811204553722, 'w0': 0.8948138886450268, 'w1': 0.35069986239344336}. Best is trial 171 with value: 0.7575565711566724.\u001B[0m\n",
      "\u001B[32m[I 2023-04-19 23:24:32,156]\u001B[0m Trial 226 finished with value: 0.7572649375865788 and parameters: {'p': 0.2901577647666013, 'w0': 0.8756506681232, 'w1': 0.2787289960715142}. Best is trial 171 with value: 0.7575565711566724.\u001B[0m\n",
      "\u001B[32m[I 2023-04-19 23:24:32,236]\u001B[0m Trial 227 finished with value: 0.7575373847375874 and parameters: {'p': 0.1861444428645006, 'w0': 0.9021417457758215, 'w1': 0.32423757324679514}. Best is trial 171 with value: 0.7575565711566724.\u001B[0m\n",
      "\u001B[32m[I 2023-04-19 23:24:32,317]\u001B[0m Trial 228 finished with value: 0.7573493578305532 and parameters: {'p': 0.19195951163769992, 'w0': 0.8987887411575367, 'w1': 0.3586425178668192}. Best is trial 171 with value: 0.7575565711566724.\u001B[0m\n",
      "\u001B[32m[I 2023-04-19 23:24:32,406]\u001B[0m Trial 229 finished with value: 0.7572611003027616 and parameters: {'p': 0.33350602384684525, 'w0': 0.8706353309732865, 'w1': 0.41068649578681404}. Best is trial 171 with value: 0.7575565711566724.\u001B[0m\n",
      "\u001B[32m[I 2023-04-19 23:24:32,487]\u001B[0m Trial 230 finished with value: 0.7574222662230767 and parameters: {'p': 0.15464339187639134, 'w0': 0.8471468428917924, 'w1': 0.3285774403438843}. Best is trial 171 with value: 0.7575565711566724.\u001B[0m\n",
      "\u001B[32m[I 2023-04-19 23:24:32,568]\u001B[0m Trial 231 finished with value: 0.757468313628881 and parameters: {'p': 0.06454184929768847, 'w0': 0.9191921400720574, 'w1': 0.30765781768945283}. Best is trial 171 with value: 0.7575565711566724.\u001B[0m\n",
      "\u001B[32m[I 2023-04-19 23:24:32,650]\u001B[0m Trial 232 finished with value: 0.757468313628881 and parameters: {'p': 0.22558069807901307, 'w0': 0.9001254406428413, 'w1': 0.3346175935046913}. Best is trial 171 with value: 0.7575565711566724.\u001B[0m\n",
      "\u001B[32m[I 2023-04-19 23:24:32,731]\u001B[0m Trial 233 finished with value: 0.7575488965890385 and parameters: {'p': 0.11031381267871881, 'w0': 0.7565152377294467, 'w1': 0.27567112807409283}. Best is trial 171 with value: 0.7575565711566724.\u001B[0m\n",
      "\u001B[32m[I 2023-04-19 23:24:32,812]\u001B[0m Trial 234 finished with value: 0.7575642457243065 and parameters: {'p': 0.12354957751640756, 'w0': 0.8093230423501687, 'w1': 0.2904257614672584}. Best is trial 234 with value: 0.7575642457243065.\u001B[0m\n",
      "\u001B[32m[I 2023-04-19 23:24:32,893]\u001B[0m Trial 235 finished with value: 0.7574606390612468 and parameters: {'p': 0.1491286818243754, 'w0': 0.7609559771871619, 'w1': 0.2905432387718355}. Best is trial 234 with value: 0.7575642457243065.\u001B[0m\n",
      "\u001B[32m[I 2023-04-19 23:24:32,968]\u001B[0m Trial 236 finished with value: 0.7568658600696083 and parameters: {'p': -0.02869495100371572, 'w0': 0.7944419112942651, 'w1': 0.2768816267908711}. Best is trial 234 with value: 0.7575642457243065.\u001B[0m\n",
      "\u001B[32m[I 2023-04-19 23:24:33,048]\u001B[0m Trial 237 finished with value: 0.7573647069658214 and parameters: {'p': 0.0993763984441875, 'w0': 0.774249638542738, 'w1': 0.3060366028965875}. Best is trial 234 with value: 0.7575642457243065.\u001B[0m\n",
      "\u001B[32m[I 2023-04-19 23:24:33,130]\u001B[0m Trial 238 finished with value: 0.7571690054911532 and parameters: {'p': 0.09818054259078743, 'w0': 0.8055891765444626, 'w1': 0.3785940396091243}. Best is trial 234 with value: 0.7575642457243065.\u001B[0m\n",
      "\u001B[32m[I 2023-04-19 23:24:33,211]\u001B[0m Trial 239 finished with value: 0.7571306326529829 and parameters: {'p': 1.5781441704261838, 'w0': 0.7436211890646511, 'w1': 0.2963217123633997}. Best is trial 234 with value: 0.7575642457243065.\u001B[0m\n",
      "\u001B[32m[I 2023-04-19 23:24:33,293]\u001B[0m Trial 240 finished with value: 0.7573723815334553 and parameters: {'p': 0.02690688679684415, 'w0': 0.8505316423216813, 'w1': 0.27421585804200777}. Best is trial 234 with value: 0.7575642457243065.\u001B[0m\n",
      "\u001B[32m[I 2023-04-19 23:24:33,375]\u001B[0m Trial 241 finished with value: 0.7573877306687234 and parameters: {'p': 0.22424639805761934, 'w0': 0.822503006507596, 'w1': 0.3227790348097502}. Best is trial 234 with value: 0.7575642457243065.\u001B[0m\n",
      "\u001B[32m[I 2023-04-19 23:24:33,457]\u001B[0m Trial 242 finished with value: 0.757287961289481 and parameters: {'p': 0.16688614632194443, 'w0': 0.7484858785231707, 'w1': 0.3159354357532508}. Best is trial 234 with value: 0.7575642457243065.\u001B[0m\n",
      "\u001B[32m[I 2023-04-19 23:24:33,538]\u001B[0m Trial 243 finished with value: 0.7573263341276512 and parameters: {'p': 0.2568901101429204, 'w0': 0.8820301998669979, 'w1': 0.3490771244493507}. Best is trial 234 with value: 0.7575642457243065.\u001B[0m\n",
      "\u001B[32m[I 2023-04-19 23:24:33,620]\u001B[0m Trial 244 finished with value: 0.7575527338728555 and parameters: {'p': 0.12842689755092923, 'w0': 0.9166403701184518, 'w1': 0.3329347030104165}. Best is trial 234 with value: 0.7575642457243065.\u001B[0m\n",
      "\u001B[32m[I 2023-04-19 23:24:33,702]\u001B[0m Trial 245 finished with value: 0.7574030798039916 and parameters: {'p': 0.10508656329461581, 'w0': 0.9232737280123782, 'w1': 0.29393629065196003}. Best is trial 234 with value: 0.7575642457243065.\u001B[0m\n",
      "\u001B[32m[I 2023-04-19 23:24:33,776]\u001B[0m Trial 246 finished with value: 0.7570193514222894 and parameters: {'p': -0.03885345025792164, 'w0': 0.7835247290869752, 'w1': 0.33770895164021614}. Best is trial 234 with value: 0.7575642457243065.\u001B[0m\n",
      "\u001B[32m[I 2023-04-19 23:24:33,858]\u001B[0m Trial 247 finished with value: 0.7572073783293234 and parameters: {'p': 0.14163814995408244, 'w0': 0.6626689562966994, 'w1': 0.3138039271680205}. Best is trial 234 with value: 0.7575642457243065.\u001B[0m\n",
      "\u001B[32m[I 2023-04-19 23:24:33,939]\u001B[0m Trial 248 finished with value: 0.7570270259899234 and parameters: {'p': 0.03718478107057965, 'w0': 0.698118246348638, 'w1': 0.36123141322090335}. Best is trial 234 with value: 0.7575642457243065.\u001B[0m\n",
      "\u001B[32m[I 2023-04-19 23:24:34,021]\u001B[0m Trial 249 finished with value: 0.7574491272097958 and parameters: {'p': 0.16947754072430782, 'w0': 0.9114748010691188, 'w1': 0.27360362176838954}. Best is trial 234 with value: 0.7575642457243065.\u001B[0m\n",
      "\u001B[32m[I 2023-04-19 23:24:34,103]\u001B[0m Trial 250 finished with value: 0.7575105237508681 and parameters: {'p': 0.056457139890311064, 'w0': 0.8312732773242495, 'w1': 0.2946209274429685}. Best is trial 234 with value: 0.7575642457243065.\u001B[0m\n",
      "\u001B[32m[I 2023-04-19 23:24:34,184]\u001B[0m Trial 251 finished with value: 0.7574606390612468 and parameters: {'p': 0.041653852543680814, 'w0': 0.8676492176025963, 'w1': 0.2946281263210329}. Best is trial 234 with value: 0.7575642457243065.\u001B[0m\n",
      "\u001B[32m[I 2023-04-19 23:24:34,259]\u001B[0m Trial 252 finished with value: 0.7566548094596721 and parameters: {'p': -0.9978321193260709, 'w0': 0.8366655876260197, 'w1': 0.26296522929239163}. Best is trial 234 with value: 0.7575642457243065.\u001B[0m\n",
      "\u001B[32m[I 2023-04-19 23:24:34,333]\u001B[0m Trial 253 finished with value: 0.7558336307228292 and parameters: {'p': -0.041583770651843835, 'w0': 0.5411565128664535, 'w1': 0.48183358855706604}. Best is trial 234 with value: 0.7575642457243065.\u001B[0m\n",
      "\u001B[32m[I 2023-04-19 23:24:34,415]\u001B[0m Trial 254 finished with value: 0.7574606390612468 and parameters: {'p': 0.0862141861275135, 'w0': 0.8062318890530836, 'w1': 0.3068268941016457}. Best is trial 234 with value: 0.7575642457243065.\u001B[0m\n",
      "\u001B[32m[I 2023-04-19 23:24:34,489]\u001B[0m Trial 255 finished with value: 0.7568620227857913 and parameters: {'p': -0.6397865937099636, 'w0': 0.8284341283864803, 'w1': 0.28992304259268686}. Best is trial 234 with value: 0.7575642457243065.\u001B[0m\n",
      "\u001B[32m[I 2023-04-19 23:24:34,571]\u001B[0m Trial 256 finished with value: 0.7574376153583448 and parameters: {'p': 0.008278329392769596, 'w0': 0.8576858544604883, 'w1': 0.2663170508176047}. Best is trial 234 with value: 0.7575642457243065.\u001B[0m\n",
      "\u001B[32m[I 2023-04-19 23:24:34,653]\u001B[0m Trial 257 finished with value: 0.7575450593052214 and parameters: {'p': 0.12155750856802827, 'w0': 0.9030665004687551, 'w1': 0.3229040599948716}. Best is trial 234 with value: 0.7575642457243065.\u001B[0m\n",
      "\u001B[32m[I 2023-04-19 23:24:34,734]\u001B[0m Trial 258 finished with value: 0.7567737652579999 and parameters: {'p': 0.8210061832153142, 'w0': 0.9108849735235574, 'w1': 0.6110956185500445}. Best is trial 234 with value: 0.7575642457243065.\u001B[0m\n",
      "\u001B[32m[I 2023-04-19 23:24:34,809]\u001B[0m Trial 259 finished with value: 0.7568581855019743 and parameters: {'p': -0.07752019936395324, 'w0': 0.9266741724653674, 'w1': 0.335255682971424}. Best is trial 234 with value: 0.7575642457243065.\u001B[0m\n",
      "\u001B[32m[I 2023-04-19 23:24:34,891]\u001B[0m Trial 260 finished with value: 0.7570001650032041 and parameters: {'p': 0.09212215578159985, 'w0': 0.7313608693618512, 'w1': 0.4199829694722038}. Best is trial 234 with value: 0.7575642457243065.\u001B[0m\n",
      "\u001B[32m[I 2023-04-19 23:24:34,972]\u001B[0m Trial 261 finished with value: 0.7573033104247491 and parameters: {'p': 0.1253924129401147, 'w0': 0.7614875506835169, 'w1': 0.32400182995487947}. Best is trial 234 with value: 0.7575642457243065.\u001B[0m\n",
      "\u001B[32m[I 2023-04-19 23:24:35,055]\u001B[0m Trial 262 finished with value: 0.7575066864670512 and parameters: {'p': 0.024518166004810826, 'w0': 0.8101392003727556, 'w1': 0.2846547152433065}. Best is trial 234 with value: 0.7575642457243065.\u001B[0m\n",
      "\u001B[32m[I 2023-04-19 23:24:35,136]\u001B[0m Trial 263 finished with value: 0.7568927210563275 and parameters: {'p': -0.04023968704148349, 'w0': 0.8026734386153941, 'w1': 0.27622355822198497}. Best is trial 234 with value: 0.7575642457243065.\u001B[0m\n",
      "\u001B[32m[I 2023-04-19 23:24:35,211]\u001B[0m Trial 264 finished with value: 0.7566125993376848 and parameters: {'p': -1.7447950508964012, 'w0': 0.8266540832306735, 'w1': 0.25633315252109384}. Best is trial 234 with value: 0.7575642457243065.\u001B[0m\n",
      "\u001B[32m[I 2023-04-19 23:24:35,293]\u001B[0m Trial 265 finished with value: 0.7575143610346852 and parameters: {'p': 0.017209385769830856, 'w0': 0.7912959957364951, 'w1': 0.28642362068070926}. Best is trial 234 with value: 0.7575642457243065.\u001B[0m\n",
      "\u001B[32m[I 2023-04-19 23:24:35,368]\u001B[0m Trial 266 finished with value: 0.7568581855019743 and parameters: {'p': -0.11866924415902165, 'w0': 0.794951544137443, 'w1': 0.283030425617648}. Best is trial 234 with value: 0.7575642457243065.\u001B[0m\n",
      "\u001B[32m[I 2023-04-19 23:24:35,443]\u001B[0m Trial 267 finished with value: 0.7567315551360125 and parameters: {'p': -0.01692758550081961, 'w0': 0.7848724381851943, 'w1': 0.256898621423933}. Best is trial 234 with value: 0.7575642457243065.\u001B[0m\n",
      "\u001B[32m[I 2023-04-19 23:24:35,517]\u001B[0m Trial 268 finished with value: 0.7568927210563275 and parameters: {'p': -0.8165105908218131, 'w0': 0.7706680388033488, 'w1': 0.2839704823575287}. Best is trial 234 with value: 0.7575642457243065.\u001B[0m\n",
      "\u001B[32m[I 2023-04-19 23:24:35,598]\u001B[0m Trial 269 finished with value: 0.7572495884513106 and parameters: {'p': 0.27454125808171304, 'w0': 0.812684241336949, 'w1': 0.24853211242366424}. Best is trial 234 with value: 0.7575642457243065.\u001B[0m\n",
      "\u001B[32m[I 2023-04-19 23:24:35,680]\u001B[0m Trial 270 finished with value: 0.7569579548812169 and parameters: {'p': 1.991481943814298, 'w0': 0.6064677679574537, 'w1': 0.3005633348844647}. Best is trial 234 with value: 0.7575642457243065.\u001B[0m\n",
      "\u001B[32m[I 2023-04-19 23:24:35,761]\u001B[0m Trial 271 finished with value: 0.7571997037616893 and parameters: {'p': 0.14375405277568887, 'w0': 0.8381656936900832, 'w1': 0.3983021124031707}. Best is trial 234 with value: 0.7575642457243065.\u001B[0m\n",
      "\u001B[32m[I 2023-04-19 23:24:35,843]\u001B[0m Trial 272 finished with value: 0.7535427722840664 and parameters: {'p': 0.040010070977091264, 'w0': 0.23878661209760788, 'w1': 0.4347114230539965}. Best is trial 234 with value: 0.7575642457243065.\u001B[0m\n",
      "\u001B[32m[I 2023-04-19 23:24:35,926]\u001B[0m Trial 273 finished with value: 0.7572227274645915 and parameters: {'p': 0.3303011653411764, 'w0': 0.8664426480358125, 'w1': 0.460159501174626}. Best is trial 234 with value: 0.7575642457243065.\u001B[0m\n",
      "\u001B[32m[I 2023-04-19 23:24:36,008]\u001B[0m Trial 274 finished with value: 0.7535773078384198 and parameters: {'p': 0.16870944903188934, 'w0': 0.5025313309692807, 'w1': 0.8544927648172309}. Best is trial 234 with value: 0.7575642457243065.\u001B[0m\n",
      "\u001B[32m[I 2023-04-19 23:24:36,088]\u001B[0m Trial 275 finished with value: 0.7567891143932679 and parameters: {'p': -0.059808459464476896, 'w0': 0.8218688777166354, 'w1': 0.2723184031539986}. Best is trial 234 with value: 0.7575642457243065.\u001B[0m\n",
      "\u001B[32m[I 2023-04-19 23:24:36,171]\u001B[0m Trial 276 finished with value: 0.7570231887061063 and parameters: {'p': 0.009702850952390096, 'w0': 0.9258906967606528, 'w1': 0.5235154286188154}. Best is trial 234 with value: 0.7575642457243065.\u001B[0m\n",
      "\u001B[32m[I 2023-04-19 23:24:36,252]\u001B[0m Trial 277 finished with value: 0.7482473206165748 and parameters: {'p': 0.12196299762181534, 'w0': 0.05170654596417823, 'w1': 0.3047500274390784}. Best is trial 234 with value: 0.7575642457243065.\u001B[0m\n",
      "\u001B[32m[I 2023-04-19 23:24:36,326]\u001B[0m Trial 278 finished with value: 0.7568965583401445 and parameters: {'p': -1.252134295795806, 'w0': 0.7839148349232388, 'w1': 0.2878365200110066}. Best is trial 234 with value: 0.7575642457243065.\u001B[0m\n",
      "\u001B[32m[I 2023-04-19 23:24:36,402]\u001B[0m Trial 279 finished with value: 0.7570999343824467 and parameters: {'p': -0.48473192009001564, 'w0': 0.7467286299692387, 'w1': 0.3750109344145452}. Best is trial 234 with value: 0.7575642457243065.\u001B[0m\n",
      "\u001B[32m[I 2023-04-19 23:24:36,485]\u001B[0m Trial 280 finished with value: 0.7568735346372424 and parameters: {'p': 0.39363530368829425, 'w0': 0.8792114495476645, 'w1': 0.24334550017325682}. Best is trial 234 with value: 0.7575642457243065.\u001B[0m\n",
      "\u001B[32m[I 2023-04-19 23:24:36,567]\u001B[0m Trial 281 finished with value: 0.7574030798039916 and parameters: {'p': 0.2813093880202237, 'w0': 0.9076794600526266, 'w1': 0.3423552797475681}. Best is trial 234 with value: 0.7575642457243065.\u001B[0m\n",
      "\u001B[32m[I 2023-04-19 23:24:36,649]\u001B[0m Trial 282 finished with value: 0.7574836627641489 and parameters: {'p': 0.19330685288964977, 'w0': 0.8486572837303616, 'w1': 0.32149892731266444}. Best is trial 234 with value: 0.7575642457243065.\u001B[0m\n",
      "\u001B[32m[I 2023-04-19 23:24:36,731]\u001B[0m Trial 283 finished with value: 0.7574951746156001 and parameters: {'p': 0.03256282284327833, 'w0': 0.9334408012011045, 'w1': 0.26484570202796}. Best is trial 234 with value: 0.7575642457243065.\u001B[0m\n",
      "\u001B[32m[I 2023-04-19 23:24:36,807]\u001B[0m Trial 284 finished with value: 0.7568428363667064 and parameters: {'p': -0.11347028692053596, 'w0': 0.9010225689351534, 'w1': 0.3058357421109693}. Best is trial 234 with value: 0.7575642457243065.\u001B[0m\n",
      "\u001B[32m[I 2023-04-19 23:24:36,889]\u001B[0m Trial 285 finished with value: 0.7573148222762001 and parameters: {'p': 0.07115453258802604, 'w0': 0.6901433060972877, 'w1': 0.2838777307116128}. Best is trial 234 with value: 0.7575642457243065.\u001B[0m\n",
      "\u001B[32m[I 2023-04-19 23:24:36,971]\u001B[0m Trial 286 finished with value: 0.7572994731409319 and parameters: {'p': 0.2120167660677822, 'w0': 0.8022686518400372, 'w1': 0.3567108248720757}. Best is trial 234 with value: 0.7575642457243065.\u001B[0m\n",
      "\u001B[32m[I 2023-04-19 23:24:37,047]\u001B[0m Trial 287 finished with value: 0.7538420804217942 and parameters: {'p': -0.7219485161995138, 'w0': 0.7203706743753718, 'w1': 0.005703521070389295}. Best is trial 234 with value: 0.7575642457243065.\u001B[0m\n",
      "\u001B[32m[I 2023-04-19 23:24:37,129]\u001B[0m Trial 288 finished with value: 0.7575220356023192 and parameters: {'p': 0.14072910690668494, 'w0': 0.8593975545188, 'w1': 0.3145008341050935}. Best is trial 234 with value: 0.7575642457243065.\u001B[0m\n",
      "\u001B[32m[I 2023-04-19 23:24:37,211]\u001B[0m Trial 289 finished with value: 0.7573877306687234 and parameters: {'p': 0.2897094943534296, 'w0': 0.8588200382793488, 'w1': 0.3305517981064128}. Best is trial 234 with value: 0.7575642457243065.\u001B[0m\n",
      "\u001B[32m[I 2023-04-19 23:24:37,294]\u001B[0m Trial 290 finished with value: 0.757468313628881 and parameters: {'p': 0.1318373412768791, 'w0': 0.836561843863521, 'w1': 0.3124836751608417}. Best is trial 234 with value: 0.7575642457243065.\u001B[0m\n",
      "\u001B[32m[I 2023-04-19 23:24:37,369]\u001B[0m Trial 291 finished with value: 0.7569272566106807 and parameters: {'p': -1.3998639963089508, 'w0': 0.8817238710143814, 'w1': 0.34234069368582715}. Best is trial 234 with value: 0.7575642457243065.\u001B[0m\n",
      "\u001B[32m[I 2023-04-19 23:24:37,445]\u001B[0m Trial 292 finished with value: 0.7570270259899234 and parameters: {'p': -0.19945970278321956, 'w0': 0.6793704637626611, 'w1': 0.29326253207978054}. Best is trial 234 with value: 0.7575642457243065.\u001B[0m\n",
      "\u001B[32m[I 2023-04-19 23:24:37,519]\u001B[0m Trial 293 finished with value: 0.7569003956239615 and parameters: {'p': -0.006124320623432891, 'w0': 0.8630205558215026, 'w1': 0.3166237207999155}. Best is trial 234 with value: 0.7575642457243065.\u001B[0m\n",
      "\u001B[32m[I 2023-04-19 23:24:37,601]\u001B[0m Trial 294 finished with value: 0.7546133744690159 and parameters: {'p': 0.2136508739901684, 'w0': 0.8183283404652788, 'w1': 0.03826186397475184}. Best is trial 234 with value: 0.7575642457243065.\u001B[0m\n",
      "\u001B[32m[I 2023-04-19 23:24:37,684]\u001B[0m Trial 295 finished with value: 0.7569003956239615 and parameters: {'p': 0.14533541829746482, 'w0': 0.6214042562397225, 'w1': 0.3866826700881211}. Best is trial 234 with value: 0.7575642457243065.\u001B[0m\n",
      "\u001B[32m[I 2023-04-19 23:24:37,766]\u001B[0m Trial 296 finished with value: 0.7574606390612468 and parameters: {'p': 0.046137938170689896, 'w0': 0.8857861001221526, 'w1': 0.23852559051102562}. Best is trial 234 with value: 0.7575642457243065.\u001B[0m\n",
      "\u001B[32m[I 2023-04-19 23:24:37,842]\u001B[0m Trial 297 finished with value: 0.756815975379987 and parameters: {'p': -0.06638864532746783, 'w0': 0.4457338232651861, 'w1': 0.3011197878566874}. Best is trial 234 with value: 0.7575642457243065.\u001B[0m\n",
      "\u001B[32m[I 2023-04-19 23:24:37,924]\u001B[0m Trial 298 finished with value: 0.7572726121542127 and parameters: {'p': 0.3389612035362828, 'w0': 0.7146575668953563, 'w1': 0.3631003425191848}. Best is trial 234 with value: 0.7575642457243065.\u001B[0m\n",
      "\u001B[32m[I 2023-04-19 23:24:38,006]\u001B[0m Trial 299 finished with value: 0.7575373847375874 and parameters: {'p': 0.1804067371781422, 'w0': 0.7685468192998774, 'w1': 0.2674007998478221}. Best is trial 234 with value: 0.7575642457243065.\u001B[0m\n",
      "\u001B[32m[I 2023-04-19 23:24:38,089]\u001B[0m Trial 300 finished with value: 0.7574222662230767 and parameters: {'p': 0.2612359306147809, 'w0': 0.7716240519572839, 'w1': 0.26290253810666725}. Best is trial 234 with value: 0.7575642457243065.\u001B[0m\n",
      "\u001B[32m[I 2023-04-19 23:24:38,170]\u001B[0m Trial 301 finished with value: 0.757468313628881 and parameters: {'p': 0.08756358368348466, 'w0': 0.7577090865159353, 'w1': 0.250105601684335}. Best is trial 234 with value: 0.7575642457243065.\u001B[0m\n",
      "\u001B[32m[I 2023-04-19 23:24:38,252]\u001B[0m Trial 302 finished with value: 0.7575297101699533 and parameters: {'p': 0.1906995429894937, 'w0': 0.7882794796008269, 'w1': 0.2774875091569285}. Best is trial 234 with value: 0.7575642457243065.\u001B[0m\n",
      "\u001B[32m[I 2023-04-19 23:24:38,334]\u001B[0m Trial 303 finished with value: 0.7572534257351277 and parameters: {'p': 0.39015398700737947, 'w0': 0.7861689618734016, 'w1': 0.2701889835663236}. Best is trial 234 with value: 0.7575642457243065.\u001B[0m\n",
      "\u001B[32m[I 2023-04-19 23:24:38,409]\u001B[0m Trial 304 finished with value: 0.7565895756347826 and parameters: {'p': -1.5135983638030557, 'w0': 0.8051784554097197, 'w1': 0.24515764357337966}. Best is trial 234 with value: 0.7575642457243065.\u001B[0m\n",
      "\u001B[32m[I 2023-04-19 23:24:38,491]\u001B[0m Trial 305 finished with value: 0.7567776025418168 and parameters: {'p': 0.48587353309955994, 'w0': 0.7748385864320935, 'w1': 0.2270710368626605}. Best is trial 234 with value: 0.7575642457243065.\u001B[0m\n",
      "\u001B[32m[I 2023-04-19 23:24:38,574]\u001B[0m Trial 306 finished with value: 0.757468313628881 and parameters: {'p': 0.2220146131217073, 'w0': 0.7479169284747972, 'w1': 0.28116499729540784}. Best is trial 234 with value: 0.7575642457243065.\u001B[0m\n",
      "\u001B[32m[I 2023-04-19 23:24:38,656]\u001B[0m Trial 307 finished with value: 0.7572764494380297 and parameters: {'p': 0.2848301858784176, 'w0': 0.8341903291745438, 'w1': 0.32553177267811406}. Best is trial 234 with value: 0.7575642457243065.\u001B[0m\n",
      "\u001B[32m[I 2023-04-19 23:24:38,737]\u001B[0m Trial 308 finished with value: 0.7574337780745277 and parameters: {'p': 0.19260257254671223, 'w0': 0.809182724084015, 'w1': 0.2625722251329697}. Best is trial 234 with value: 0.7575642457243065.\u001B[0m\n",
      "\u001B[32m[I 2023-04-19 23:24:38,813]\u001B[0m Trial 309 finished with value: 0.7568620227857913 and parameters: {'p': -0.009385802968860324, 'w0': 0.791620634113049, 'w1': 0.28744133307327896}. Best is trial 234 with value: 0.7575642457243065.\u001B[0m\n",
      "\u001B[32m[I 2023-04-19 23:24:38,896]\u001B[0m Trial 310 finished with value: 0.7572265647484084 and parameters: {'p': 0.16408647373105137, 'w0': 0.7342696550232571, 'w1': 0.3439525716539291}. Best is trial 234 with value: 0.7575642457243065.\u001B[0m\n",
      "\u001B[32m[I 2023-04-19 23:24:38,979]\u001B[0m Trial 311 finished with value: 0.7569848158679361 and parameters: {'p': 0.03988768009197566, 'w0': 0.7713771696806984, 'w1': 0.44146779939708536}. Best is trial 234 with value: 0.7575642457243065.\u001B[0m\n",
      "\u001B[32m[I 2023-04-19 23:24:39,054]\u001B[0m Trial 312 finished with value: 0.7563938741601145 and parameters: {'p': -0.08119909513298895, 'w0': 0.846513373129498, 'w1': 0.24080669390520687}. Best is trial 234 with value: 0.7575642457243065.\u001B[0m\n",
      "\u001B[32m[I 2023-04-19 23:24:39,137]\u001B[0m Trial 313 finished with value: 0.7572342393160424 and parameters: {'p': 0.32057520364439596, 'w0': 0.5548781897912253, 'w1': 0.29232985301006575}. Best is trial 234 with value: 0.7575642457243065.\u001B[0m\n",
      "\u001B[32m[I 2023-04-19 23:24:39,220]\u001B[0m Trial 314 finished with value: 0.7573992425201745 and parameters: {'p': 0.13050727951885943, 'w0': 0.8207970556252268, 'w1': 0.32306020882609565}. Best is trial 234 with value: 0.7575642457243065.\u001B[0m\n",
      "\u001B[32m[I 2023-04-19 23:24:39,296]\u001B[0m Trial 315 finished with value: 0.7566049247700508 and parameters: {'p': -0.1489569486887009, 'w0': 0.7555102059454697, 'w1': 0.5738040964595919}. Best is trial 234 with value: 0.7575642457243065.\u001B[0m\n",
      "\u001B[32m[I 2023-04-19 23:24:39,370]\u001B[0m Trial 316 finished with value: 0.7565358536613443 and parameters: {'p': -0.5429708207280339, 'w0': 0.8643678077399055, 'w1': 0.6735473389565778}. Best is trial 234 with value: 0.7575642457243065.\u001B[0m\n",
      "\u001B[32m[I 2023-04-19 23:24:39,445]\u001B[0m Trial 317 finished with value: 0.7565128299584423 and parameters: {'p': -1.897332700230844, 'w0': 0.9100947870202488, 'w1': 0.2658478480752985}. Best is trial 234 with value: 0.7575642457243065.\u001B[0m\n",
      "\u001B[32m[I 2023-04-19 23:24:39,521]\u001B[0m Trial 318 finished with value: 0.7570653988280935 and parameters: {'p': -1.0801356803390267, 'w0': 0.7224965789947585, 'w1': 0.34462052917554226}. Best is trial 234 with value: 0.7575642457243065.\u001B[0m\n",
      "\u001B[32m[I 2023-04-19 23:24:39,605]\u001B[0m Trial 319 finished with value: 0.7573647069658214 and parameters: {'p': 0.21688408060668954, 'w0': 0.7939834412281619, 'w1': 0.31248748043596536}. Best is trial 234 with value: 0.7575642457243065.\u001B[0m\n",
      "\u001B[32m[I 2023-04-19 23:24:39,687]\u001B[0m Trial 320 finished with value: 0.7571191208015319 and parameters: {'p': 1.1740739038117551, 'w0': 0.87786209690391, 'w1': 0.37289836501738804}. Best is trial 234 with value: 0.7575642457243065.\u001B[0m\n",
      "\u001B[32m[I 2023-04-19 23:24:39,770]\u001B[0m Trial 321 finished with value: 0.7574836627641489 and parameters: {'p': 0.06830414138085261, 'w0': 0.835498936233997, 'w1': 0.2871785853795818}. Best is trial 234 with value: 0.7575642457243065.\u001B[0m\n",
      "\u001B[32m[I 2023-04-19 23:24:39,846]\u001B[0m Trial 322 finished with value: 0.7568428363667064 and parameters: {'p': -0.012019655846058325, 'w0': 0.6393563075649842, 'w1': 0.21748209535416324}. Best is trial 234 with value: 0.7575642457243065.\u001B[0m\n",
      "\u001B[32m[I 2023-04-19 23:24:39,930]\u001B[0m Trial 323 finished with value: 0.755634091964344 and parameters: {'p': 0.26288761528766613, 'w0': 0.9341925461610756, 'w1': 0.11781112811888397}. Best is trial 234 with value: 0.7575642457243065.\u001B[0m\n",
      "\u001B[32m[I 2023-04-19 23:24:40,013]\u001B[0m Trial 324 finished with value: 0.7575066864670512 and parameters: {'p': 0.13439676883885618, 'w0': 0.9041115568956465, 'w1': 0.26480614119102525}. Best is trial 234 with value: 0.7575642457243065.\u001B[0m\n",
      "\u001B[32m[I 2023-04-19 23:24:40,095]\u001B[0m Trial 325 finished with value: 0.7570462124090084 and parameters: {'p': 0.5696933757462208, 'w0': 0.8550761942475316, 'w1': 0.3323992515294905}. Best is trial 234 with value: 0.7575642457243065.\u001B[0m\n",
      "\u001B[32m[I 2023-04-19 23:24:40,178]\u001B[0m Trial 326 finished with value: 0.7571881919102382 and parameters: {'p': 0.08352888808831671, 'w0': 0.8191508129473558, 'w1': 0.4060980602365277}. Best is trial 234 with value: 0.7575642457243065.\u001B[0m\n",
      "\u001B[32m[I 2023-04-19 23:24:40,261]\u001B[0m Trial 327 finished with value: 0.7575220356023192 and parameters: {'p': 0.20334181512577434, 'w0': 0.8908311680480738, 'w1': 0.3007770261172312}. Best is trial 234 with value: 0.7575642457243065.\u001B[0m\n",
      "\u001B[32m[I 2023-04-19 23:24:40,336]\u001B[0m Trial 328 finished with value: 0.7545136050897733 and parameters: {'p': -1.14479319332961, 'w0': 0.8871860293848877, 'w1': 0.9927090398875866}. Best is trial 234 with value: 0.7575642457243065.\u001B[0m\n",
      "\u001B[32m[I 2023-04-19 23:24:40,419]\u001B[0m Trial 329 finished with value: 0.757287961289481 and parameters: {'p': 0.356739756214011, 'w0': 0.9170650440703519, 'w1': 0.3115418201134865}. Best is trial 234 with value: 0.7575642457243065.\u001B[0m\n",
      "\u001B[32m[I 2023-04-19 23:24:40,502]\u001B[0m Trial 330 finished with value: 0.7573531951143703 and parameters: {'p': 0.19152196796445348, 'w0': 0.8741551679553989, 'w1': 0.349120205182997}. Best is trial 234 with value: 0.7575642457243065.\u001B[0m\n",
      "\u001B[32m[I 2023-04-19 23:24:40,585]\u001B[0m Trial 331 finished with value: 0.7572534257351277 and parameters: {'p': 0.3880935864423922, 'w0': 0.5747568721405188, 'w1': 0.29615990486357885}. Best is trial 234 with value: 0.7575642457243065.\u001B[0m\n",
      "\u001B[32m[I 2023-04-19 23:24:40,668]\u001B[0m Trial 332 finished with value: 0.7570615615442766 and parameters: {'p': 0.2771733625217019, 'w0': 0.8958501413794281, 'w1': 0.23389578745045986}. Best is trial 234 with value: 0.7575642457243065.\u001B[0m\n",
      "\u001B[32m[I 2023-04-19 23:24:40,751]\u001B[0m Trial 333 finished with value: 0.7575412220214044 and parameters: {'p': 0.1785060792248908, 'w0': 0.9160485730885791, 'w1': 0.33032702069180553}. Best is trial 234 with value: 0.7575642457243065.\u001B[0m\n",
      "\u001B[32m[I 2023-04-19 23:24:40,833]\u001B[0m Trial 334 finished with value: 0.7571114462338979 and parameters: {'p': 0.2396998296507102, 'w0': 0.6554398547407432, 'w1': 0.3625794637029815}. Best is trial 234 with value: 0.7575642457243065.\u001B[0m\n",
      "\u001B[32m[I 2023-04-19 23:24:40,916]\u001B[0m Trial 335 finished with value: 0.7564284097144677 and parameters: {'p': 0.16599524870468002, 'w0': 0.3995798522082161, 'w1': 0.32783592902101105}. Best is trial 234 with value: 0.7575642457243065.\u001B[0m\n",
      "\u001B[32m[I 2023-04-19 23:24:40,998]\u001B[0m Trial 336 finished with value: 0.757149819072068 and parameters: {'p': 0.45404968356503284, 'w0': 0.9007486333435177, 'w1': 0.37892195652345617}. Best is trial 234 with value: 0.7575642457243065.\u001B[0m\n",
      "\u001B[32m[I 2023-04-19 23:24:41,081]\u001B[0m Trial 337 finished with value: 0.7572112156131404 and parameters: {'p': 0.31393229130329925, 'w0': 0.6884287341155207, 'w1': 0.3345929127580733}. Best is trial 234 with value: 0.7575642457243065.\u001B[0m\n",
      "\u001B[32m[I 2023-04-19 23:24:41,165]\u001B[0m Trial 338 finished with value: 0.7575028491832342 and parameters: {'p': 0.10054333839884524, 'w0': 0.93511456894047, 'w1': 0.27436668442880663}. Best is trial 234 with value: 0.7575642457243065.\u001B[0m\n",
      "\u001B[32m[I 2023-04-19 23:24:41,247]\u001B[0m Trial 339 finished with value: 0.7574030798039916 and parameters: {'p': 0.20719502855780897, 'w0': 0.8610212426224216, 'w1': 0.25845530761437674}. Best is trial 234 with value: 0.7575642457243065.\u001B[0m\n",
      "\u001B[32m[I 2023-04-19 23:24:41,323]\u001B[0m Trial 340 finished with value: 0.7566739958787572 and parameters: {'p': -0.04598985042172028, 'w0': 0.5830977501580625, 'w1': 0.4117221401219704}. Best is trial 234 with value: 0.7575642457243065.\u001B[0m\n",
      "\u001B[32m[I 2023-04-19 23:24:41,406]\u001B[0m Trial 341 finished with value: 0.7574759881965151 and parameters: {'p': 0.05112937999790581, 'w0': 0.8787252879869085, 'w1': 0.3020580266364173}. Best is trial 234 with value: 0.7575642457243065.\u001B[0m\n",
      "\u001B[32m[I 2023-04-19 23:24:41,490]\u001B[0m Trial 342 finished with value: 0.7574491272097958 and parameters: {'p': 0.2604167457306556, 'w0': 0.9155873227313395, 'w1': 0.3193161642608124}. Best is trial 234 with value: 0.7575642457243065.\u001B[0m\n",
      "\u001B[32m[I 2023-04-19 23:24:41,574]\u001B[0m Trial 343 finished with value: 0.7574721509126979 and parameters: {'p': 0.1654037645559861, 'w0': 0.5089510431812613, 'w1': 0.14581464462608987}. Best is trial 234 with value: 0.7575642457243065.\u001B[0m\n",
      "\u001B[32m[I 2023-04-19 23:24:41,657]\u001B[0m Trial 344 finished with value: 0.7571766800587871 and parameters: {'p': 0.3951509793634582, 'w0': 0.8414780174478236, 'w1': 0.3559925799266862}. Best is trial 234 with value: 0.7575642457243065.\u001B[0m\n",
      "\u001B[32m[I 2023-04-19 23:24:41,732]\u001B[0m Trial 345 finished with value: 0.7564015487277487 and parameters: {'p': -0.2918257508497007, 'w0': 0.8958101229549195, 'w1': 0.24437791586982813}. Best is trial 234 with value: 0.7575642457243065.\u001B[0m\n",
      "\u001B[32m[I 2023-04-19 23:24:41,809]\u001B[0m Trial 346 finished with value: 0.7568620227857913 and parameters: {'p': -0.1707949205393584, 'w0': 0.6747094454863728, 'w1': 0.45054256567606565}. Best is trial 234 with value: 0.7575642457243065.\u001B[0m\n",
      "\u001B[32m[I 2023-04-19 23:24:41,885]\u001B[0m Trial 347 finished with value: 0.7560600304680335 and parameters: {'p': -0.9394688335394041, 'w0': 0.7536754801015295, 'w1': 0.1627873723400773}. Best is trial 234 with value: 0.7575642457243065.\u001B[0m\n",
      "\u001B[32m[I 2023-04-19 23:24:41,968]\u001B[0m Trial 348 finished with value: 0.7574875000479661 and parameters: {'p': 0.09821573005307815, 'w0': 0.7751825065729363, 'w1': 0.2877779254574105}. Best is trial 234 with value: 0.7575642457243065.\u001B[0m\n",
      "\u001B[32m[I 2023-04-19 23:24:42,043]\u001B[0m Trial 349 finished with value: 0.7570615615442766 and parameters: {'p': -1.228692644013056, 'w0': 0.7176201588662519, 'w1': 0.34157322547612373}. Best is trial 234 with value: 0.7575642457243065.\u001B[0m\n",
      "\u001B[32m[I 2023-04-19 23:24:42,119]\u001B[0m Trial 350 finished with value: 0.7561060778738378 and parameters: {'p': -0.06661138240788864, 'w0': 0.9426173565685824, 'w1': 0.22198023165229627}. Best is trial 234 with value: 0.7575642457243065.\u001B[0m\n",
      "\u001B[32m[I 2023-04-19 23:24:42,201]\u001B[0m Trial 351 finished with value: 0.7575143610346852 and parameters: {'p': 0.024444394880146436, 'w0': 0.8595435750133021, 'w1': 0.31148275526470165}. Best is trial 234 with value: 0.7575642457243065.\u001B[0m\n",
      "\u001B[32m[I 2023-04-19 23:24:42,285]\u001B[0m Trial 352 finished with value: 0.7575181983185022 and parameters: {'p': 0.20919312994853234, 'w0': 0.8673246345377805, 'w1': 0.3183535603896266}. Best is trial 234 with value: 0.7575642457243065.\u001B[0m\n",
      "\u001B[32m[I 2023-04-19 23:24:42,368]\u001B[0m Trial 353 finished with value: 0.7563478267543102 and parameters: {'p': 0.31951074248732825, 'w0': 0.9148343048342966, 'w1': 0.7992306160124207}. Best is trial 234 with value: 0.7575642457243065.\u001B[0m\n",
      "\u001B[32m[I 2023-04-19 23:24:42,451]\u001B[0m Trial 354 finished with value: 0.7574107543716256 and parameters: {'p': 0.0054984007953152135, 'w0': 0.8619056519289732, 'w1': 0.3216803681753396}. Best is trial 234 with value: 0.7575642457243065.\u001B[0m\n",
      "\u001B[32m[I 2023-04-19 23:24:42,535]\u001B[0m Trial 355 finished with value: 0.7573378459791021 and parameters: {'p': 0.20552617389181152, 'w0': 0.8973904908135344, 'w1': 0.37141417523511266}. Best is trial 234 with value: 0.7575642457243065.\u001B[0m\n",
      "\u001B[32m[I 2023-04-19 23:24:42,618]\u001B[0m Trial 356 finished with value: 0.756973304016485 and parameters: {'p': 0.12486194501031367, 'w0': 0.8840604151501276, 'w1': 0.5159630504980992}. Best is trial 234 with value: 0.7575642457243065.\u001B[0m\n",
      "\u001B[32m[I 2023-04-19 23:24:42,693]\u001B[0m Trial 357 finished with value: 0.755131407784314 and parameters: {'p': -0.8735589230019372, 'w0': 0.328740441736371, 'w1': 0.3373060915572325}. Best is trial 234 with value: 0.7575642457243065.\u001B[0m\n",
      "\u001B[32m[I 2023-04-19 23:24:42,777]\u001B[0m Trial 358 finished with value: 0.7567200432845614 and parameters: {'p': 0.2666170074320168, 'w0': 0.9301937509420213, 'w1': 0.18467374446598778}. Best is trial 234 with value: 0.7575642457243065.\u001B[0m\n",
      "\u001B[32m[I 2023-04-19 23:24:42,853]\u001B[0m Trial 359 finished with value: 0.7568965583401445 and parameters: {'p': -0.09739453112861225, 'w0': 0.8535775686377342, 'w1': 0.31335465925522127}. Best is trial 234 with value: 0.7575642457243065.\u001B[0m\n",
      "\u001B[32m[I 2023-04-19 23:24:42,936]\u001B[0m Trial 360 finished with value: 0.7574222662230767 and parameters: {'p': 0.016581224617467083, 'w0': 0.9092406833833134, 'w1': 0.2765576786209924}. Best is trial 234 with value: 0.7575642457243065.\u001B[0m\n",
      "\u001B[32m[I 2023-04-19 23:24:43,020]\u001B[0m Trial 361 finished with value: 0.7572419138836766 and parameters: {'p': 0.1038561010224339, 'w0': 0.8790049062809446, 'w1': 0.4012176327996219}. Best is trial 234 with value: 0.7575642457243065.\u001B[0m\n",
      "\u001B[32m[I 2023-04-19 23:24:43,103]\u001B[0m Trial 362 finished with value: 0.7574414526421617 and parameters: {'p': 0.25539213698251045, 'w0': 0.9385908905779176, 'w1': 0.3493418317692777}. Best is trial 234 with value: 0.7575642457243065.\u001B[0m\n",
      "\u001B[32m[I 2023-04-19 23:24:43,186]\u001B[0m Trial 363 finished with value: 0.7572457511674936 and parameters: {'p': 0.4008478066801854, 'w0': 0.7354054376301351, 'w1': 0.24839916611699608}. Best is trial 234 with value: 0.7575642457243065.\u001B[0m\n",
      "\u001B[32m[I 2023-04-19 23:24:43,262]\u001B[0m Trial 364 finished with value: 0.7563248030514081 and parameters: {'p': -0.5855507039719752, 'w0': 0.78234655242319, 'w1': 0.20786415821240867}. Best is trial 234 with value: 0.7575642457243065.\u001B[0m\n",
      "\u001B[32m[I 2023-04-19 23:24:43,346]\u001B[0m Trial 365 finished with value: 0.7574299407907108 and parameters: {'p': 0.17270814132748052, 'w0': 0.8454389032744652, 'w1': 0.32660235889501127}. Best is trial 234 with value: 0.7575642457243065.\u001B[0m\n",
      "\u001B[32m[I 2023-04-19 23:24:43,423]\u001B[0m Trial 366 finished with value: 0.7570769106795447 and parameters: {'p': -1.6002923319085247, 'w0': 0.6386309701254723, 'w1': 0.3031828841687551}. Best is trial 234 with value: 0.7575642457243065.\u001B[0m\n",
      "\u001B[32m[I 2023-04-19 23:24:43,499]\u001B[0m Trial 367 finished with value: 0.7570270259899234 and parameters: {'p': -0.025957765682583206, 'w0': 0.7076552963707587, 'w1': 0.3847549445875616}. Best is trial 234 with value: 0.7575642457243065.\u001B[0m\n",
      "\u001B[32m[I 2023-04-19 23:24:43,576]\u001B[0m Trial 368 finished with value: 0.7552043161768375 and parameters: {'p': -0.3948262934802934, 'w0': 0.9114700686822886, 'w1': 0.11113967602643135}. Best is trial 234 with value: 0.7575642457243065.\u001B[0m\n",
      "\u001B[32m[I 2023-04-19 23:24:43,659]\u001B[0m Trial 369 finished with value: 0.7569310938944978 and parameters: {'p': 0.5338622674918233, 'w0': 0.6284007965732583, 'w1': 0.42640520306181606}. Best is trial 234 with value: 0.7575642457243065.\u001B[0m\n",
      "\u001B[32m[I 2023-04-19 23:24:43,743]\u001B[0m Trial 370 finished with value: 0.757322496843834 and parameters: {'p': 0.06908645018848042, 'w0': 0.8880998664225132, 'w1': 0.35217481677259305}. Best is trial 234 with value: 0.7575642457243065.\u001B[0m\n",
      "\u001B[32m[I 2023-04-19 23:24:43,826]\u001B[0m Trial 371 finished with value: 0.7553885058000545 and parameters: {'p': 0.32469616642804155, 'w0': 0.7992321987766301, 'w1': 0.09162815493844989}. Best is trial 234 with value: 0.7575642457243065.\u001B[0m\n",
      "\u001B[32m[I 2023-04-19 23:24:43,910]\u001B[0m Trial 372 finished with value: 0.7570116768546553 and parameters: {'p': 0.17963783925177673, 'w0': 0.9296622406302322, 'w1': 0.5353312364091223}. Best is trial 234 with value: 0.7575642457243065.\u001B[0m\n",
      "\u001B[32m[I 2023-04-19 23:24:43,993]\u001B[0m Trial 373 finished with value: 0.7570500496928254 and parameters: {'p': 0.6596227340321452, 'w0': 0.8697550446532283, 'w1': 0.487012361119033}. Best is trial 234 with value: 0.7575642457243065.\u001B[0m\n",
      "\u001B[32m[I 2023-04-19 23:24:44,069]\u001B[0m Trial 374 finished with value: 0.7566931822978423 and parameters: {'p': -0.1347419966291293, 'w0': 0.8287807946129028, 'w1': 0.26908409994381177}. Best is trial 234 with value: 0.7575642457243065.\u001B[0m\n",
      "\u001B[32m[I 2023-04-19 23:24:44,153]\u001B[0m Trial 375 finished with value: 0.7550623366756075 and parameters: {'p': 0.11078100031835311, 'w0': 0.7611363528035588, 'w1': 0.917591931430215}. Best is trial 234 with value: 0.7575642457243065.\u001B[0m\n",
      "\u001B[32m[I 2023-04-19 23:24:44,231]\u001B[0m Trial 376 finished with value: 0.7571267953691659 and parameters: {'p': -0.002295735972780953, 'w0': 0.5913688000914246, 'w1': 0.2885522746029524}. Best is trial 234 with value: 0.7575642457243065.\u001B[0m\n",
      "\u001B[32m[I 2023-04-19 23:24:44,307]\u001B[0m Trial 377 finished with value: 0.7570500496928254 and parameters: {'p': -1.4358551766217316, 'w0': 0.6161278517800138, 'w1': 0.31681547787496595}. Best is trial 234 with value: 0.7575642457243065.\u001B[0m\n",
      "\u001B[32m[I 2023-04-19 23:24:44,391]\u001B[0m Trial 378 finished with value: 0.7568351617990722 and parameters: {'p': 0.2200921054367731, 'w0': 0.6656008383884399, 'w1': 0.4621908105378872}. Best is trial 234 with value: 0.7575642457243065.\u001B[0m\n",
      "\u001B[32m[I 2023-04-19 23:24:44,468]\u001B[0m Trial 379 finished with value: 0.7567852771094508 and parameters: {'p': -1.511979482840463, 'w0': 0.9004659565797889, 'w1': 0.611883664193902}. Best is trial 234 with value: 0.7575642457243065.\u001B[0m\n",
      "\u001B[32m[I 2023-04-19 23:24:44,552]\u001B[0m Trial 380 finished with value: 0.7574376153583448 and parameters: {'p': 0.05447471096024492, 'w0': 0.9522306762760049, 'w1': 0.23095754360133508}. Best is trial 234 with value: 0.7575642457243065.\u001B[0m\n",
      "\u001B[32m[I 2023-04-19 23:24:44,629]\u001B[0m Trial 381 finished with value: 0.7566010874862338 and parameters: {'p': -0.20602433147243018, 'w0': 0.8602004983355005, 'w1': 0.2639745181820677}. Best is trial 234 with value: 0.7575642457243065.\u001B[0m\n",
      "\u001B[32m[I 2023-04-19 23:24:44,713]\u001B[0m Trial 382 finished with value: 0.7575527338728555 and parameters: {'p': 0.14545600846683387, 'w0': 0.9252036178542881, 'w1': 0.33418187026178114}. Best is trial 234 with value: 0.7575642457243065.\u001B[0m\n",
      "\u001B[32m[I 2023-04-19 23:24:44,797]\u001B[0m Trial 383 finished with value: 0.7570423751251913 and parameters: {'p': 0.44757336393360525, 'w0': 0.5692198062141145, 'w1': 0.3551741724057342}. Best is trial 234 with value: 0.7575642457243065.\u001B[0m\n",
      "\u001B[32m[I 2023-04-19 23:24:44,880]\u001B[0m Trial 384 finished with value: 0.7573685442496383 and parameters: {'p': 0.3040668450686881, 'w0': 0.9270450112740246, 'w1': 0.3343326629769874}. Best is trial 234 with value: 0.7575642457243065.\u001B[0m\n",
      "\u001B[32m[I 2023-04-19 23:24:44,964]\u001B[0m Trial 385 finished with value: 0.7574261035068937 and parameters: {'p': 0.17065704020264344, 'w0': 0.9466244418703761, 'w1': 0.3653708696278171}. Best is trial 234 with value: 0.7575642457243065.\u001B[0m\n",
      "\u001B[32m[I 2023-04-19 23:24:45,048]\u001B[0m Trial 386 finished with value: 0.7572841240056638 and parameters: {'p': 0.2434934040398563, 'w0': 0.9171247777478632, 'w1': 0.2846473470236838}. Best is trial 234 with value: 0.7575642457243065.\u001B[0m\n",
      "\u001B[32m[I 2023-04-19 23:24:45,125]\u001B[0m Trial 387 finished with value: 0.7557492104788547 and parameters: {'p': -0.7687471573678664, 'w0': 0.5262932999773198, 'w1': 0.4822507859471843}. Best is trial 234 with value: 0.7575642457243065.\u001B[0m\n",
      "\u001B[32m[I 2023-04-19 23:24:45,202]\u001B[0m Trial 388 finished with value: 0.7545711643470286 and parameters: {'p': -1.7279835404116297, 'w0': 0.9633505173320175, 'w1': 0.051409857536647174}. Best is trial 234 with value: 0.7575642457243065.\u001B[0m\n",
      "\u001B[32m[I 2023-04-19 23:24:45,285]\u001B[0m Trial 389 finished with value: 0.7574222662230767 and parameters: {'p': 0.14920151981261945, 'w0': 0.740727373148078, 'w1': 0.2009067623647976}. Best is trial 234 with value: 0.7575642457243065.\u001B[0m\n",
      "\u001B[32m[I 2023-04-19 23:24:45,368]\u001B[0m Trial 390 finished with value: 0.7573570323981873 and parameters: {'p': 0.33135877194826424, 'w0': 0.8999214268566644, 'w1': 0.33072171087714614}. Best is trial 234 with value: 0.7575642457243065.\u001B[0m\n",
      "\u001B[32m[I 2023-04-19 23:24:45,453]\u001B[0m Trial 391 finished with value: 0.7574491272097958 and parameters: {'p': 0.11425495490547649, 'w0': 0.9244565151419276, 'w1': 0.24833031452151502}. Best is trial 234 with value: 0.7575642457243065.\u001B[0m\n",
      "\u001B[32m[I 2023-04-19 23:24:45,536]\u001B[0m Trial 392 finished with value: 0.7573570323981873 and parameters: {'p': 0.24778567965406548, 'w0': 0.8891530917121321, 'w1': 0.2946551363406179}. Best is trial 234 with value: 0.7575642457243065.\u001B[0m\n",
      "\u001B[32m[I 2023-04-19 23:24:45,620]\u001B[0m Trial 393 finished with value: 0.7573263341276512 and parameters: {'p': 0.1780125314107887, 'w0': 0.9445080748545724, 'w1': 0.3876874110551617}. Best is trial 234 with value: 0.7575642457243065.\u001B[0m\n",
      "\u001B[32m[I 2023-04-19 23:24:45,705]\u001B[0m Trial 394 finished with value: 0.7573647069658214 and parameters: {'p': 0.09050311841792638, 'w0': 0.793560026798443, 'w1': 0.3201974708498259}. Best is trial 234 with value: 0.7575642457243065.\u001B[0m\n",
      "\u001B[32m[I 2023-04-19 23:24:45,789]\u001B[0m Trial 395 finished with value: 0.755469088760212 and parameters: {'p': 0.9214068376265758, 'w0': 0.9108823674363077, 'w1': 0.13560800884137802}. Best is trial 234 with value: 0.7575642457243065.\u001B[0m\n",
      "\u001B[32m[I 2023-04-19 23:24:45,871]\u001B[0m Trial 396 finished with value: 0.7478060329776172 and parameters: {'p': 0.3811903267090113, 'w0': 0.040505657194639944, 'w1': 0.22453679817781869}. Best is trial 234 with value: 0.7575642457243065.\u001B[0m\n",
      "\u001B[32m[I 2023-04-19 23:24:45,948]\u001B[0m Trial 397 finished with value: 0.7549817537154501 and parameters: {'p': -0.07074141324828756, 'w0': 0.9705725652576465, 'w1': 0.08657683305004038}. Best is trial 234 with value: 0.7575642457243065.\u001B[0m\n",
      "\u001B[32m[I 2023-04-19 23:24:46,032]\u001B[0m Trial 398 finished with value: 0.7568351617990722 and parameters: {'p': 1.19665529009405, 'w0': 0.8787985258548803, 'w1': 0.2688545898859501}. Best is trial 234 with value: 0.7575642457243065.\u001B[0m\n",
      "\u001B[32m[I 2023-04-19 23:24:46,119]\u001B[0m Trial 399 finished with value: 0.7568428363667064 and parameters: {'p': 0.25100225025865763, 'w0': 0.8093346693427229, 'w1': 0.1702754100725963}. Best is trial 234 with value: 0.7575642457243065.\u001B[0m\n",
      "\u001B[32m[I 2023-04-19 23:24:46,197]\u001B[0m Trial 400 finished with value: 0.7569541175973998 and parameters: {'p': -1.3363324820633826, 'w0': 0.764302080174874, 'w1': 0.30436981686048814}. Best is trial 234 with value: 0.7575642457243065.\u001B[0m\n",
      "\u001B[32m[I 2023-04-19 23:24:46,281]\u001B[0m Trial 401 finished with value: 0.7574414526421617 and parameters: {'p': 0.05028147872488303, 'w0': 0.9249012155429882, 'w1': 0.3446682742039976}. Best is trial 234 with value: 0.7575642457243065.\u001B[0m\n",
      "\u001B[32m[I 2023-04-19 23:24:46,365]\u001B[0m Trial 402 finished with value: 0.7556417665319781 and parameters: {'p': 0.14399353445666774, 'w0': 0.7085031964345188, 'w1': 0.7538010098723509}. Best is trial 234 with value: 0.7575642457243065.\u001B[0m\n",
      "\u001B[32m[I 2023-04-19 23:24:46,449]\u001B[0m Trial 403 finished with value: 0.7568428363667064 and parameters: {'p': 1.520630654442881, 'w0': 0.8931695366397361, 'w1': 0.2499265603867969}. Best is trial 234 with value: 0.7575642457243065.\u001B[0m\n",
      "\u001B[32m[I 2023-04-19 23:24:46,526]\u001B[0m Trial 404 finished with value: 0.7540454564640966 and parameters: {'p': -0.010212141439328984, 'w0': 0.941918843016123, 'w1': 0.016273908154266215}. Best is trial 234 with value: 0.7575642457243065.\u001B[0m\n",
      "\u001B[32m[I 2023-04-19 23:24:46,604]\u001B[0m Trial 405 finished with value: 0.7570231887061063 and parameters: {'p': -0.4477744665352619, 'w0': 0.8411525735830773, 'w1': 0.3667431822938512}. Best is trial 234 with value: 0.7575642457243065.\u001B[0m\n",
      "\u001B[32m[I 2023-04-19 23:24:46,687]\u001B[0m Trial 406 finished with value: 0.7573455205467362 and parameters: {'p': 0.1979832904017111, 'w0': 0.9094799656780431, 'w1': 0.27884742213933256}. Best is trial 234 with value: 0.7575642457243065.\u001B[0m\n",
      "\u001B[32m[I 2023-04-19 23:24:46,770]\u001B[0m Trial 407 finished with value: 0.748784540350958 and parameters: {'p': 0.3205945129717591, 'w0': 0.0699319225659979, 'w1': 0.30720402484098047}. Best is trial 234 with value: 0.7575642457243065.\u001B[0m\n",
      "\u001B[32m[I 2023-04-19 23:24:46,854]\u001B[0m Trial 408 finished with value: 0.7569080701915955 and parameters: {'p': 0.08922816108829301, 'w0': 0.5454425868352386, 'w1': 0.3307588608569269}. Best is trial 234 with value: 0.7575642457243065.\u001B[0m\n",
      "\u001B[32m[I 2023-04-19 23:24:46,939]\u001B[0m Trial 409 finished with value: 0.757145981788251 and parameters: {'p': 0.21769120494284497, 'w0': 0.7822449291824988, 'w1': 0.4285325740814527}. Best is trial 234 with value: 0.7575642457243065.\u001B[0m\n",
      "\u001B[32m[I 2023-04-19 23:24:47,022]\u001B[0m Trial 410 finished with value: 0.75630945391614 and parameters: {'p': 0.48421850816373624, 'w0': 0.8748864624428648, 'w1': 0.18741767837096404}. Best is trial 234 with value: 0.7575642457243065.\u001B[0m\n",
      "\u001B[32m[I 2023-04-19 23:24:47,099]\u001B[0m Trial 411 finished with value: 0.7568581855019743 and parameters: {'p': -0.06981754079879882, 'w0': 0.8112438411577161, 'w1': 0.29459529334804335}. Best is trial 234 with value: 0.7575642457243065.\u001B[0m\n",
      "\u001B[32m[I 2023-04-19 23:24:47,183]\u001B[0m Trial 412 finished with value: 0.7573723815334553 and parameters: {'p': 0.11528892495139398, 'w0': 0.9365552408461931, 'w1': 0.2130814378157581}. Best is trial 234 with value: 0.7575642457243065.\u001B[0m\n",
      "\u001B[32m[I 2023-04-19 23:24:47,259]\u001B[0m Trial 413 finished with value: 0.7570423751251913 and parameters: {'p': -0.989070827543387, 'w0': 0.5935634970038549, 'w1': 0.2599720165149773}. Best is trial 234 with value: 0.7575642457243065.\u001B[0m\n",
      "\u001B[32m[I 2023-04-19 23:24:47,343]\u001B[0m Trial 414 finished with value: 0.7571651682073361 and parameters: {'p': 0.030333496665042106, 'w0': 0.7473837251650723, 'w1': 0.3369680769558355}. Best is trial 234 with value: 0.7575642457243065.\u001B[0m\n",
      "\u001B[32m[I 2023-04-19 23:24:47,428]\u001B[0m Trial 415 finished with value: 0.7490032655285283 and parameters: {'p': 1.983546562741478, 'w0': 0.25250058930560365, 'w1': 0.5519877886207414}. Best is trial 234 with value: 0.7575642457243065.\u001B[0m\n",
      "\u001B[32m[I 2023-04-19 23:24:47,511]\u001B[0m Trial 416 finished with value: 0.7572802867218468 and parameters: {'p': 0.2815847151198867, 'w0': 0.6512114618015493, 'w1': 0.3138565410552912}. Best is trial 234 with value: 0.7575642457243065.\u001B[0m\n",
      "\u001B[32m[I 2023-04-19 23:24:47,601]\u001B[0m Trial 417 finished with value: 0.7574222662230767 and parameters: {'p': 0.15998447917028907, 'w0': 0.9029209791736069, 'w1': 0.2798099248931043}. Best is trial 234 with value: 0.7575642457243065.\u001B[0m\n",
      "\u001B[32m[I 2023-04-19 23:24:47,686]\u001B[0m Trial 418 finished with value: 0.7574529644936128 and parameters: {'p': 0.058637262509292506, 'w0': 0.9752892038946428, 'w1': 0.23629439032777558}. Best is trial 234 with value: 0.7575642457243065.\u001B[0m\n",
      "\u001B[32m[I 2023-04-19 23:24:47,763]\u001B[0m Trial 419 finished with value: 0.7569848158679361 and parameters: {'p': -0.258169006885757, 'w0': 0.8778747173337151, 'w1': 0.37184517480679125}. Best is trial 234 with value: 0.7575642457243065.\u001B[0m\n",
      "\u001B[32m[I 2023-04-19 23:24:47,846]\u001B[0m Trial 420 finished with value: 0.7572611003027616 and parameters: {'p': 0.3881839282631614, 'w0': 0.6829552988336672, 'w1': 0.3476327199409278}. Best is trial 234 with value: 0.7575642457243065.\u001B[0m\n",
      "\u001B[32m[I 2023-04-19 23:24:47,931]\u001B[0m Trial 421 finished with value: 0.7575028491832342 and parameters: {'p': 0.22734052676380723, 'w0': 0.8224569601569429, 'w1': 0.29669423025459035}. Best is trial 234 with value: 0.7575642457243065.\u001B[0m\n",
      "\u001B[32m[I 2023-04-19 23:24:48,008]\u001B[0m Trial 422 finished with value: 0.7570385378413743 and parameters: {'p': -0.12669285658770185, 'w0': 0.7257153190906862, 'w1': 0.32016335513296534}. Best is trial 234 with value: 0.7575642457243065.\u001B[0m\n",
      "\u001B[32m[I 2023-04-19 23:24:48,092]\u001B[0m Trial 423 finished with value: 0.7574452899259788 and parameters: {'p': 0.1436835036067108, 'w0': 0.8476113915420425, 'w1': 0.26488761133997324}. Best is trial 234 with value: 0.7575642457243065.\u001B[0m\n",
      "\u001B[32m[I 2023-04-19 23:24:48,169]\u001B[0m Trial 424 finished with value: 0.7570730733957276 and parameters: {'p': -0.028452860948201153, 'w0': 0.9242622416322688, 'w1': 0.44691722548136475}. Best is trial 234 with value: 0.7575642457243065.\u001B[0m\n",
      "\u001B[32m[I 2023-04-19 23:24:48,253]\u001B[0m Trial 425 finished with value: 0.7574069170878086 and parameters: {'p': 0.2853966000119637, 'w0': 0.7740255431931913, 'w1': 0.28061642763761435}. Best is trial 234 with value: 0.7575642457243065.\u001B[0m\n",
      "\u001B[32m[I 2023-04-19 23:24:48,338]\u001B[0m Trial 426 finished with value: 0.7570615615442766 and parameters: {'p': 0.7484693621454508, 'w0': 0.9547218090363151, 'w1': 0.39637051120908395}. Best is trial 234 with value: 0.7575642457243065.\u001B[0m\n",
      "\u001B[32m[I 2023-04-19 23:24:48,422]\u001B[0m Trial 427 finished with value: 0.7569272566106807 and parameters: {'p': 0.10704878593859224, 'w0': 0.5174479232200002, 'w1': 0.305995688321158}. Best is trial 234 with value: 0.7575642457243065.\u001B[0m\n",
      "\u001B[32m[I 2023-04-19 23:24:48,506]\u001B[0m Trial 428 finished with value: 0.7574452899259788 and parameters: {'p': 0.020384895136792563, 'w0': 0.8928265272813791, 'w1': 0.23566933155949094}. Best is trial 234 with value: 0.7575642457243065.\u001B[0m\n",
      "\u001B[32m[I 2023-04-19 23:24:48,591]\u001B[0m Trial 429 finished with value: 0.7565742264995146 and parameters: {'p': 0.5695331404982098, 'w0': 0.4390556254949236, 'w1': 0.33505847340652}. Best is trial 234 with value: 0.7575642457243065.\u001B[0m\n",
      "\u001B[32m[I 2023-04-19 23:24:48,676]\u001B[0m Trial 430 finished with value: 0.7573033104247491 and parameters: {'p': 0.20144031673879456, 'w0': 0.869007065033768, 'w1': 0.3579063368168952}. Best is trial 234 with value: 0.7575642457243065.\u001B[0m\n",
      "\u001B[32m[I 2023-04-19 23:24:48,760]\u001B[0m Trial 431 finished with value: 0.7570577242604595 and parameters: {'p': 0.3350096497910917, 'w0': 0.9114688243557229, 'w1': 0.2553769475607796}. Best is trial 234 with value: 0.7575642457243065.\u001B[0m\n",
      "\u001B[32m[I 2023-04-19 23:24:48,845]\u001B[0m Trial 432 finished with value: 0.7574529644936128 and parameters: {'p': 0.09925248049516677, 'w0': 0.6952171179121122, 'w1': 0.16392540791198665}. Best is trial 234 with value: 0.7575642457243065.\u001B[0m\n",
      "\u001B[32m[I 2023-04-19 23:24:48,923]\u001B[0m Trial 433 finished with value: 0.7561406134281909 and parameters: {'p': -1.9608133363631222, 'w0': 0.8362732769211385, 'w1': 0.20150546926078391}. Best is trial 234 with value: 0.7575642457243065.\u001B[0m\n",
      "\u001B[32m[I 2023-04-19 23:24:49,000]\u001B[0m Trial 434 finished with value: 0.7570462124090084 and parameters: {'p': -1.6492327666688005, 'w0': 0.5686903928342013, 'w1': 0.2910787290043373}. Best is trial 234 with value: 0.7575642457243065.\u001B[0m\n",
      "\u001B[32m[I 2023-04-19 23:24:49,078]\u001B[0m Trial 435 finished with value: 0.7440761931074709 and parameters: {'p': -0.04298619002891185, 'w0': 0.013938243291314545, 'w1': 0.321122329870026}. Best is trial 234 with value: 0.7575642457243065.\u001B[0m\n",
      "\u001B[32m[I 2023-04-19 23:24:49,162]\u001B[0m Trial 436 finished with value: 0.7575335474537703 and parameters: {'p': 0.1769629036033193, 'w0': 0.7948101950466299, 'w1': 0.2749343064853865}. Best is trial 234 with value: 0.7575642457243065.\u001B[0m\n",
      "\u001B[32m[I 2023-04-19 23:24:49,247]\u001B[0m Trial 437 finished with value: 0.7571958664778723 and parameters: {'p': 0.2457721902525543, 'w0': 0.471145482330408, 'w1': 0.23197771988444715}. Best is trial 234 with value: 0.7575642457243065.\u001B[0m\n",
      "\u001B[32m[I 2023-04-19 23:24:49,324]\u001B[0m Trial 438 finished with value: 0.7570308632737404 and parameters: {'p': -0.34824937843646364, 'w0': 0.6098377783292078, 'w1': 0.2679535568437508}. Best is trial 234 with value: 0.7575642457243065.\u001B[0m\n",
      "\u001B[32m[I 2023-04-19 23:24:49,409]\u001B[0m Trial 439 finished with value: 0.7556033936938078 and parameters: {'p': 0.42830741885084567, 'w0': 0.9430067483356216, 'w1': 0.13664638592923428}. Best is trial 234 with value: 0.7575642457243065.\u001B[0m\n",
      "\u001B[32m[I 2023-04-19 23:24:49,494]\u001B[0m Trial 440 finished with value: 0.7567085314331103 and parameters: {'p': 0.1804624532760237, 'w0': 0.6320085049315797, 'w1': 0.4622498748222402}. Best is trial 234 with value: 0.7575642457243065.\u001B[0m\n",
      "\u001B[32m[I 2023-04-19 23:24:49,579]\u001B[0m Trial 441 finished with value: 0.7551237332166799 and parameters: {'p': 0.2810647398056088, 'w0': 0.8878481991652682, 'w1': 0.07483661520841994}. Best is trial 234 with value: 0.7575642457243065.\u001B[0m\n",
      "\u001B[32m[I 2023-04-19 23:24:49,663]\u001B[0m Trial 442 finished with value: 0.7575297101699533 and parameters: {'p': 0.16645980240621988, 'w0': 0.8548179776435502, 'w1': 0.3075813966153528}. Best is trial 234 with value: 0.7575642457243065.\u001B[0m\n",
      "\u001B[32m[I 2023-04-19 23:24:49,748]\u001B[0m Trial 443 finished with value: 0.7572419138836766 and parameters: {'p': 0.34482440755829336, 'w0': 0.8590648723680362, 'w1': 0.3379453478708449}. Best is trial 234 with value: 0.7575642457243065.\u001B[0m\n",
      "\u001B[32m[I 2023-04-19 23:24:49,833]\u001B[0m Trial 444 finished with value: 0.7574184289392596 and parameters: {'p': 0.18715810519739554, 'w0': 0.8040928214284718, 'w1': 0.31598953120609935}. Best is trial 234 with value: 0.7575642457243065.\u001B[0m\n",
      "\u001B[32m[I 2023-04-19 23:24:49,917]\u001B[0m Trial 445 finished with value: 0.757287961289481 and parameters: {'p': 0.24758221579479406, 'w0': 0.8328900126330302, 'w1': 0.3599572601446265}. Best is trial 234 with value: 0.7575642457243065.\u001B[0m\n",
      "\u001B[32m[I 2023-04-19 23:24:50,002]\u001B[0m Trial 446 finished with value: 0.7575297101699533 and parameters: {'p': 0.13999495770569867, 'w0': 0.8511126299888582, 'w1': 0.3023745930107453}. Best is trial 234 with value: 0.7575642457243065.\u001B[0m\n",
      "\u001B[32m[I 2023-04-19 23:24:50,086]\u001B[0m Trial 447 finished with value: 0.7575143610346852 and parameters: {'p': 0.13984502915204047, 'w0': 0.8218950312557506, 'w1': 0.3027451385543899}. Best is trial 234 with value: 0.7575642457243065.\u001B[0m\n",
      "\u001B[32m[I 2023-04-19 23:24:50,171]\u001B[0m Trial 448 finished with value: 0.7570001650032041 and parameters: {'p': 0.09509905824755605, 'w0': 0.8507119217734903, 'w1': 0.48236125155330606}. Best is trial 234 with value: 0.7575642457243065.\u001B[0m\n",
      "\u001B[32m[I 2023-04-19 23:24:50,250]\u001B[0m Trial 449 finished with value: 0.7570922598148125 and parameters: {'p': -1.035824529493794, 'w0': 0.7670897169355917, 'w1': 0.3876951491423406}. Best is trial 234 with value: 0.7575642457243065.\u001B[0m\n",
      "\u001B[32m[I 2023-04-19 23:24:50,335]\u001B[0m Trial 450 finished with value: 0.7574721509126979 and parameters: {'p': 0.1509356235190397, 'w0': 0.7886079518297255, 'w1': 0.2939620117233262}. Best is trial 234 with value: 0.7575642457243065.\u001B[0m\n",
      "\u001B[32m[I 2023-04-19 23:24:50,413]\u001B[0m Trial 451 finished with value: 0.7570193514222894 and parameters: {'p': -1.3330271496099173, 'w0': 0.409242169720738, 'w1': 0.18309113081006026}. Best is trial 234 with value: 0.7575642457243065.\u001B[0m\n",
      "\u001B[32m[I 2023-04-19 23:24:50,498]\u001B[0m Trial 452 finished with value: 0.757157493639702 and parameters: {'p': 0.05036760718780121, 'w0': 0.5610050775828844, 'w1': 0.2784317525079778}. Best is trial 234 with value: 0.7575642457243065.\u001B[0m\n",
      "\u001B[32m[I 2023-04-19 23:24:50,583]\u001B[0m Trial 453 finished with value: 0.7571229580853488 and parameters: {'p': 0.9761850114474557, 'w0': 0.739177185789549, 'w1': 0.3391549563239508}. Best is trial 234 with value: 0.7575642457243065.\u001B[0m\n",
      "\u001B[32m[I 2023-04-19 23:24:50,668]\u001B[0m Trial 454 finished with value: 0.7572572630189447 and parameters: {'p': 0.32544574699009277, 'w0': 0.9791279092654169, 'w1': 0.5048492088399824}. Best is trial 234 with value: 0.7575642457243065.\u001B[0m\n",
      "\u001B[32m[I 2023-04-19 23:24:50,753]\u001B[0m Trial 455 finished with value: 0.7572764494380297 and parameters: {'p': 0.42310181472604724, 'w0': 0.8230700788543014, 'w1': 0.3099491529146491}. Best is trial 234 with value: 0.7575642457243065.\u001B[0m\n",
      "\u001B[32m[I 2023-04-19 23:24:50,837]\u001B[0m Trial 456 finished with value: 0.7564552707011869 and parameters: {'p': 0.24299968824721874, 'w0': 0.8526319283340893, 'w1': 0.7068771632827529}. Best is trial 234 with value: 0.7575642457243065.\u001B[0m\n",
      "\u001B[32m[I 2023-04-19 23:24:50,923]\u001B[0m Trial 457 finished with value: 0.7568121380961699 and parameters: {'p': 0.1292551998964237, 'w0': 0.8829633600060496, 'w1': 0.6079808366538582}. Best is trial 234 with value: 0.7575642457243065.\u001B[0m\n",
      "\u001B[32m[I 2023-04-19 23:24:51,007]\u001B[0m Trial 458 finished with value: 0.7563900368762975 and parameters: {'p': 1.4662696999073455, 'w0': 0.9227239027966667, 'w1': 0.21443785483090183}. Best is trial 234 with value: 0.7575642457243065.\u001B[0m\n",
      "\u001B[32m[I 2023-04-19 23:24:51,085]\u001B[0m Trial 459 finished with value: 0.7553731566647864 and parameters: {'p': -0.844119958994249, 'w0': 0.5162313354124466, 'w1': 0.07228860083551536}. Best is trial 234 with value: 0.7575642457243065.\u001B[0m\n",
      "\u001B[32m[I 2023-04-19 23:24:51,170]\u001B[0m Trial 460 finished with value: 0.757291798573298 and parameters: {'p': 0.044538219102374016, 'w0': 0.8032888350455181, 'w1': 0.3297362325772219}. Best is trial 234 with value: 0.7575642457243065.\u001B[0m\n",
      "\u001B[32m[I 2023-04-19 23:24:51,254]\u001B[0m Trial 461 finished with value: 0.7505458536229715 and parameters: {'p': 0.18742117642138656, 'w0': 0.13373369507819333, 'w1': 0.4136740627624198}. Best is trial 234 with value: 0.7575642457243065.\u001B[0m\n",
      "\u001B[32m[I 2023-04-19 23:24:51,340]\u001B[0m Trial 462 finished with value: 0.7570615615442766 and parameters: {'p': 0.5371286872887067, 'w0': 0.7584542677301627, 'w1': 0.2507606780017012}. Best is trial 234 with value: 0.7575642457243065.\u001B[0m\n",
      "\u001B[32m[I 2023-04-19 23:24:51,418]\u001B[0m Trial 463 finished with value: 0.755131407784314 and parameters: {'p': -0.03414424851179576, 'w0': 0.9018706190601948, 'w1': 0.10512139623851506}. Best is trial 234 with value: 0.7575642457243065.\u001B[0m\n",
      "\u001B[32m[I 2023-04-19 23:24:51,497]\u001B[0m Trial 464 finished with value: 0.7565819010671486 and parameters: {'p': -1.1803753425076535, 'w0': 0.9620506811873181, 'w1': 0.2901793819434894}. Best is trial 234 with value: 0.7575642457243065.\u001B[0m\n",
      "\u001B[32m[I 2023-04-19 23:24:51,582]\u001B[0m Trial 465 finished with value: 0.7571997037616893 and parameters: {'p': 0.2973379099245699, 'w0': 0.6667742089334296, 'w1': 0.3564760330629866}. Best is trial 234 with value: 0.7575642457243065.\u001B[0m\n",
      "\u001B[32m[I 2023-04-19 23:24:51,667]\u001B[0m Trial 466 finished with value: 0.7575220356023192 and parameters: {'p': 0.10605164617204915, 'w0': 0.8670005083424803, 'w1': 0.3026124917259952}. Best is trial 234 with value: 0.7575642457243065.\u001B[0m\n",
      "\u001B[32m[I 2023-04-19 23:24:51,753]\u001B[0m Trial 467 finished with value: 0.7563938741601145 and parameters: {'p': 0.12734331938280055, 'w0': 0.5966720511455905, 'w1': 0.4997456874867048}. Best is trial 234 with value: 0.7575642457243065.\u001B[0m\n",
      "\u001B[32m[I 2023-04-19 23:24:51,838]\u001B[0m Trial 468 finished with value: 0.7575181983185022 and parameters: {'p': 0.21843396949323954, 'w0': 0.8750219207876093, 'w1': 0.30669883243466084}. Best is trial 234 with value: 0.7575642457243065.\u001B[0m\n",
      "\u001B[32m[I 2023-04-19 23:24:51,924]\u001B[0m Trial 469 finished with value: 0.7572150528969575 and parameters: {'p': 0.3559071399153425, 'w0': 0.35259410540634384, 'w1': 0.15762474442313035}. Best is trial 234 with value: 0.7575642457243065.\u001B[0m\n",
      "\u001B[32m[I 2023-04-19 23:24:52,008]\u001B[0m Trial 470 finished with value: 0.7575181983185022 and parameters: {'p': 0.07941688935801357, 'w0': 0.9265521792194306, 'w1': 0.32973956373578694}. Best is trial 234 with value: 0.7575642457243065.\u001B[0m\n",
      "\u001B[32m[I 2023-04-19 23:24:52,086]\u001B[0m Trial 471 finished with value: 0.7570040022870211 and parameters: {'p': -0.10601643505338704, 'w0': 0.8941889234536818, 'w1': 0.3752278826005261}. Best is trial 234 with value: 0.7575642457243065.\u001B[0m\n",
      "\u001B[32m[I 2023-04-19 23:24:52,171]\u001B[0m Trial 472 finished with value: 0.75612910157674 and parameters: {'p': 0.17824493082451487, 'w0': 0.8605342889405279, 'w1': 0.11586094041225234}. Best is trial 234 with value: 0.7575642457243065.\u001B[0m\n",
      "\u001B[32m[I 2023-04-19 23:24:52,249]\u001B[0m Trial 473 finished with value: 0.7565166672422592 and parameters: {'p': -1.2822656719492396, 'w0': 0.944343909129973, 'w1': 0.28065438298796236}. Best is trial 234 with value: 0.7575642457243065.\u001B[0m\n",
      "\u001B[32m[I 2023-04-19 23:24:52,335]\u001B[0m Trial 474 finished with value: 0.7573877306687234 and parameters: {'p': 0.012860950321001235, 'w0': 0.9102650258881099, 'w1': 0.34870761614285267}. Best is trial 234 with value: 0.7575642457243065.\u001B[0m\n",
      "\u001B[32m[I 2023-04-19 23:24:52,413]\u001B[0m Trial 475 finished with value: 0.7568696973534254 and parameters: {'p': -0.7743361710588921, 'w0': 0.8730582157135313, 'w1': 0.3040728972983627}. Best is trial 234 with value: 0.7575642457243065.\u001B[0m\n",
      "\u001B[32m[I 2023-04-19 23:24:52,499]\u001B[0m Trial 476 finished with value: 0.757287961289481 and parameters: {'p': 0.23987881017596, 'w0': 0.7194221885046581, 'w1': 0.32173581300585774}. Best is trial 234 with value: 0.7575642457243065.\u001B[0m\n",
      "\u001B[32m[I 2023-04-19 23:24:52,584]\u001B[0m Trial 477 finished with value: 0.7574491272097958 and parameters: {'p': 0.10962805876835731, 'w0': 0.889666368972414, 'w1': 0.27889169071799613}. Best is trial 234 with value: 0.7575642457243065.\u001B[0m\n",
      "\u001B[32m[I 2023-04-19 23:24:52,662]\u001B[0m Trial 478 finished with value: 0.7568965583401445 and parameters: {'p': -0.7180009961112801, 'w0': 0.847097334618975, 'w1': 0.2998205590444534}. Best is trial 234 with value: 0.7575642457243065.\u001B[0m\n",
      "\u001B[32m[I 2023-04-19 23:24:52,747]\u001B[0m Trial 479 finished with value: 0.7570884225309955 and parameters: {'p': 1.6866657121769415, 'w0': 0.912584627209923, 'w1': 0.32542622535240323}. Best is trial 234 with value: 0.7575642457243065.\u001B[0m\n",
      "\u001B[32m[I 2023-04-19 23:24:52,833]\u001B[0m Trial 480 finished with value: 0.7567507415550977 and parameters: {'p': 1.2890788348275066, 'w0': 0.48758846210887313, 'w1': 0.14183599425775628}. Best is trial 234 with value: 0.7575642457243065.\u001B[0m\n",
      "\u001B[32m[I 2023-04-19 23:24:52,911]\u001B[0m Trial 481 finished with value: 0.7546287236042839 and parameters: {'p': -0.48416513730842337, 'w0': 0.9360202331516422, 'w1': 0.055196413006436185}. Best is trial 234 with value: 0.7575642457243065.\u001B[0m\n",
      "\u001B[32m[I 2023-04-19 23:24:52,997]\u001B[0m Trial 482 finished with value: 0.7572073783293234 and parameters: {'p': 0.29594264028693784, 'w0': 0.6543415247516319, 'w1': 0.34959450463943814}. Best is trial 234 with value: 0.7575642457243065.\u001B[0m\n",
      "\u001B[32m[I 2023-04-19 23:24:53,083]\u001B[0m Trial 483 finished with value: 0.7573838933849064 and parameters: {'p': 0.03525162082851893, 'w0': 0.8408700808170074, 'w1': 0.2654346094631115}. Best is trial 234 with value: 0.7575642457243065.\u001B[0m\n",
      "\u001B[32m[I 2023-04-19 23:24:53,169]\u001B[0m Trial 484 finished with value: 0.7543179036151051 and parameters: {'p': 1.7545184103686209, 'w0': 0.8734898343127142, 'w1': 0.02657632302759544}. Best is trial 234 with value: 0.7575642457243065.\u001B[0m\n",
      "\u001B[32m[I 2023-04-19 23:24:53,247]\u001B[0m Trial 485 finished with value: 0.7569234193268638 and parameters: {'p': -0.18107017713212342, 'w0': 0.9588246331985321, 'w1': 0.3735701520187384}. Best is trial 234 with value: 0.7575642457243065.\u001B[0m\n",
      "\u001B[32m[I 2023-04-19 23:24:53,333]\u001B[0m Trial 486 finished with value: 0.7571344699367999 and parameters: {'p': 0.44971952576166085, 'w0': 0.777101874690234, 'w1': 0.3100952685041413}. Best is trial 234 with value: 0.7575642457243065.\u001B[0m\n",
      "\u001B[32m[I 2023-04-19 23:24:53,418]\u001B[0m Trial 487 finished with value: 0.7574337780745277 and parameters: {'p': 0.17702018678955508, 'w0': 0.7521519663935521, 'w1': 0.29148212688458575}. Best is trial 234 with value: 0.7575642457243065.\u001B[0m\n",
      "\u001B[32m[I 2023-04-19 23:24:53,503]\u001B[0m Trial 488 finished with value: 0.7574529644936128 and parameters: {'p': 0.11241908201901325, 'w0': 0.8921629277788615, 'w1': 0.3385300449591668}. Best is trial 234 with value: 0.7575642457243065.\u001B[0m\n",
      "\u001B[32m[I 2023-04-19 23:24:53,582]\u001B[0m Trial 489 finished with value: 0.756639460324404 and parameters: {'p': -0.02067530984999838, 'w0': 0.9222486889530138, 'w1': 0.6641507165251905}. Best is trial 234 with value: 0.7575642457243065.\u001B[0m\n",
      "\u001B[32m[I 2023-04-19 23:24:53,668]\u001B[0m Trial 490 finished with value: 0.7570423751251913 and parameters: {'p': 0.28398062431161897, 'w0': 0.9792151598908472, 'w1': 0.2566396373222447}. Best is trial 234 with value: 0.7575642457243065.\u001B[0m\n",
      "\u001B[32m[I 2023-04-19 23:24:53,753]\u001B[0m Trial 491 finished with value: 0.7572073783293234 and parameters: {'p': 0.17627667531338073, 'w0': 0.8139155999687133, 'w1': 0.4021629866239313}. Best is trial 234 with value: 0.7575642457243065.\u001B[0m\n",
      "\u001B[32m[I 2023-04-19 23:24:53,838]\u001B[0m Trial 492 finished with value: 0.7572994731409319 and parameters: {'p': 0.3675625923285841, 'w0': 0.902016717170497, 'w1': 0.3145994247226688}. Best is trial 234 with value: 0.7575642457243065.\u001B[0m\n",
      "\u001B[32m[I 2023-04-19 23:24:53,924]\u001B[0m Trial 493 finished with value: 0.7575143610346852 and parameters: {'p': 0.0807343697551533, 'w0': 0.9436727322003359, 'w1': 0.28627593869351775}. Best is trial 234 with value: 0.7575642457243065.\u001B[0m\n",
      "\u001B[32m[I 2023-04-19 23:24:54,010]\u001B[0m Trial 494 finished with value: 0.7560446813327654 and parameters: {'p': 0.621528477771675, 'w0': 0.8579538054866647, 'w1': 0.17019289835523416}. Best is trial 234 with value: 0.7575642457243065.\u001B[0m\n",
      "\u001B[32m[I 2023-04-19 23:24:54,087]\u001B[0m Trial 495 finished with value: 0.7570193514222894 and parameters: {'p': -1.4735310121900174, 'w0': 0.7886263062500277, 'w1': 0.3429607665174247}. Best is trial 234 with value: 0.7575642457243065.\u001B[0m\n",
      "\u001B[32m[I 2023-04-19 23:24:54,166]\u001B[0m Trial 496 finished with value: 0.7569195820430467 and parameters: {'p': -1.676705708659962, 'w0': 0.7259648176597013, 'w1': 0.27243419728158974}. Best is trial 234 with value: 0.7575642457243065.\u001B[0m\n",
      "\u001B[32m[I 2023-04-19 23:24:54,252]\u001B[0m Trial 497 finished with value: 0.7574030798039916 and parameters: {'p': 0.23766138095251976, 'w0': 0.8350223924743455, 'w1': 0.32001914504069057}. Best is trial 234 with value: 0.7575642457243065.\u001B[0m\n",
      "\u001B[32m[I 2023-04-19 23:24:54,330]\u001B[0m Trial 498 finished with value: 0.7557338613435866 and parameters: {'p': -1.7703305106393157, 'w0': 0.2702151176441144, 'w1': 0.24501581821917043}. Best is trial 234 with value: 0.7575642457243065.\u001B[0m\n",
      "\u001B[32m[I 2023-04-19 23:24:54,408]\u001B[0m Trial 499 finished with value: 0.7568389990828893 and parameters: {'p': -0.375884115966274, 'w0': 0.8816544166336989, 'w1': 0.2992133970366252}. Best is trial 234 with value: 0.7575642457243065.\u001B[0m\n"
     ]
    }
   ],
   "source": [
    "X_prob2 = np.stack([\n",
    "    gmb.transform(X_prob, return_prob=True), gt_train\n",
    "])\n",
    "y_prob2_test = np.stack([\n",
    "    gmb.transform(y_prob_test, return_prob=True), gt_test\n",
    "])\n",
    "\n",
    "gmb2 = GeneralizedMeanBlender()\n",
    "gmb2.fit(X_prob2, y, n_trials=500)"
   ],
   "metadata": {
    "collapsed": false
   }
  },
  {
   "cell_type": "code",
   "execution_count": 297,
   "outputs": [
    {
     "data": {
      "text/plain": "0.7547169811320754"
     },
     "execution_count": 297,
     "metadata": {},
     "output_type": "execute_result"
    }
   ],
   "source": [
    "f1_score(y, gmb.transform(X_prob), average='micro')"
   ],
   "metadata": {
    "collapsed": false
   }
  },
  {
   "cell_type": "code",
   "execution_count": 278,
   "outputs": [
    {
     "name": "stdout",
     "output_type": "stream",
     "text": [
      "gmb [0.3371862  0.47654352 0.18627028] -0.39627827486783557\n",
      "gmb2 [0.73591627 0.26408373] 0.12354957751640756\n"
     ]
    }
   ],
   "source": [
    "print('gmb', gmb.weights, gmb.p)\n",
    "print('gmb2', gmb2.weights, gmb2.p)"
   ],
   "metadata": {
    "collapsed": false
   }
  },
  {
   "cell_type": "code",
   "execution_count": 279,
   "outputs": [
    {
     "data": {
      "application/vnd.plotly.v1+json": {
       "data": [
        {
         "cliponaxis": false,
         "hovertemplate": [
          "w0 (FloatDistribution): 0.10524703849246768<extra></extra>",
          "p (FloatDistribution): 0.2191740189432152<extra></extra>",
          "w1 (FloatDistribution): 0.22040006823130603<extra></extra>",
          "w2 (FloatDistribution): 0.45517887433301113<extra></extra>"
         ],
         "marker": {
          "color": "rgb(66,146,198)"
         },
         "orientation": "h",
         "text": [
          "0.11",
          "0.22",
          "0.22",
          "0.46"
         ],
         "textposition": "outside",
         "x": [
          0.10524703849246768,
          0.2191740189432152,
          0.22040006823130603,
          0.45517887433301113
         ],
         "y": [
          "w0",
          "p",
          "w1",
          "w2"
         ],
         "type": "bar"
        }
       ],
       "layout": {
        "showlegend": false,
        "title": {
         "text": "Hyperparameter Importances"
        },
        "xaxis": {
         "title": {
          "text": "Importance for Objective Value"
         }
        },
        "yaxis": {
         "title": {
          "text": "Hyperparameter"
         }
        },
        "template": {
         "data": {
          "histogram2dcontour": [
           {
            "type": "histogram2dcontour",
            "colorbar": {
             "outlinewidth": 0,
             "ticks": ""
            },
            "colorscale": [
             [
              0.0,
              "#0d0887"
             ],
             [
              0.1111111111111111,
              "#46039f"
             ],
             [
              0.2222222222222222,
              "#7201a8"
             ],
             [
              0.3333333333333333,
              "#9c179e"
             ],
             [
              0.4444444444444444,
              "#bd3786"
             ],
             [
              0.5555555555555556,
              "#d8576b"
             ],
             [
              0.6666666666666666,
              "#ed7953"
             ],
             [
              0.7777777777777778,
              "#fb9f3a"
             ],
             [
              0.8888888888888888,
              "#fdca26"
             ],
             [
              1.0,
              "#f0f921"
             ]
            ]
           }
          ],
          "choropleth": [
           {
            "type": "choropleth",
            "colorbar": {
             "outlinewidth": 0,
             "ticks": ""
            }
           }
          ],
          "histogram2d": [
           {
            "type": "histogram2d",
            "colorbar": {
             "outlinewidth": 0,
             "ticks": ""
            },
            "colorscale": [
             [
              0.0,
              "#0d0887"
             ],
             [
              0.1111111111111111,
              "#46039f"
             ],
             [
              0.2222222222222222,
              "#7201a8"
             ],
             [
              0.3333333333333333,
              "#9c179e"
             ],
             [
              0.4444444444444444,
              "#bd3786"
             ],
             [
              0.5555555555555556,
              "#d8576b"
             ],
             [
              0.6666666666666666,
              "#ed7953"
             ],
             [
              0.7777777777777778,
              "#fb9f3a"
             ],
             [
              0.8888888888888888,
              "#fdca26"
             ],
             [
              1.0,
              "#f0f921"
             ]
            ]
           }
          ],
          "heatmap": [
           {
            "type": "heatmap",
            "colorbar": {
             "outlinewidth": 0,
             "ticks": ""
            },
            "colorscale": [
             [
              0.0,
              "#0d0887"
             ],
             [
              0.1111111111111111,
              "#46039f"
             ],
             [
              0.2222222222222222,
              "#7201a8"
             ],
             [
              0.3333333333333333,
              "#9c179e"
             ],
             [
              0.4444444444444444,
              "#bd3786"
             ],
             [
              0.5555555555555556,
              "#d8576b"
             ],
             [
              0.6666666666666666,
              "#ed7953"
             ],
             [
              0.7777777777777778,
              "#fb9f3a"
             ],
             [
              0.8888888888888888,
              "#fdca26"
             ],
             [
              1.0,
              "#f0f921"
             ]
            ]
           }
          ],
          "heatmapgl": [
           {
            "type": "heatmapgl",
            "colorbar": {
             "outlinewidth": 0,
             "ticks": ""
            },
            "colorscale": [
             [
              0.0,
              "#0d0887"
             ],
             [
              0.1111111111111111,
              "#46039f"
             ],
             [
              0.2222222222222222,
              "#7201a8"
             ],
             [
              0.3333333333333333,
              "#9c179e"
             ],
             [
              0.4444444444444444,
              "#bd3786"
             ],
             [
              0.5555555555555556,
              "#d8576b"
             ],
             [
              0.6666666666666666,
              "#ed7953"
             ],
             [
              0.7777777777777778,
              "#fb9f3a"
             ],
             [
              0.8888888888888888,
              "#fdca26"
             ],
             [
              1.0,
              "#f0f921"
             ]
            ]
           }
          ],
          "contourcarpet": [
           {
            "type": "contourcarpet",
            "colorbar": {
             "outlinewidth": 0,
             "ticks": ""
            }
           }
          ],
          "contour": [
           {
            "type": "contour",
            "colorbar": {
             "outlinewidth": 0,
             "ticks": ""
            },
            "colorscale": [
             [
              0.0,
              "#0d0887"
             ],
             [
              0.1111111111111111,
              "#46039f"
             ],
             [
              0.2222222222222222,
              "#7201a8"
             ],
             [
              0.3333333333333333,
              "#9c179e"
             ],
             [
              0.4444444444444444,
              "#bd3786"
             ],
             [
              0.5555555555555556,
              "#d8576b"
             ],
             [
              0.6666666666666666,
              "#ed7953"
             ],
             [
              0.7777777777777778,
              "#fb9f3a"
             ],
             [
              0.8888888888888888,
              "#fdca26"
             ],
             [
              1.0,
              "#f0f921"
             ]
            ]
           }
          ],
          "surface": [
           {
            "type": "surface",
            "colorbar": {
             "outlinewidth": 0,
             "ticks": ""
            },
            "colorscale": [
             [
              0.0,
              "#0d0887"
             ],
             [
              0.1111111111111111,
              "#46039f"
             ],
             [
              0.2222222222222222,
              "#7201a8"
             ],
             [
              0.3333333333333333,
              "#9c179e"
             ],
             [
              0.4444444444444444,
              "#bd3786"
             ],
             [
              0.5555555555555556,
              "#d8576b"
             ],
             [
              0.6666666666666666,
              "#ed7953"
             ],
             [
              0.7777777777777778,
              "#fb9f3a"
             ],
             [
              0.8888888888888888,
              "#fdca26"
             ],
             [
              1.0,
              "#f0f921"
             ]
            ]
           }
          ],
          "mesh3d": [
           {
            "type": "mesh3d",
            "colorbar": {
             "outlinewidth": 0,
             "ticks": ""
            }
           }
          ],
          "scatter": [
           {
            "marker": {
             "line": {
              "color": "#283442"
             }
            },
            "type": "scatter"
           }
          ],
          "parcoords": [
           {
            "type": "parcoords",
            "line": {
             "colorbar": {
              "outlinewidth": 0,
              "ticks": ""
             }
            }
           }
          ],
          "scatterpolargl": [
           {
            "type": "scatterpolargl",
            "marker": {
             "colorbar": {
              "outlinewidth": 0,
              "ticks": ""
             }
            }
           }
          ],
          "bar": [
           {
            "error_x": {
             "color": "#f2f5fa"
            },
            "error_y": {
             "color": "#f2f5fa"
            },
            "marker": {
             "line": {
              "color": "rgb(17,17,17)",
              "width": 0.5
             },
             "pattern": {
              "fillmode": "overlay",
              "size": 10,
              "solidity": 0.2
             }
            },
            "type": "bar"
           }
          ],
          "scattergeo": [
           {
            "type": "scattergeo",
            "marker": {
             "colorbar": {
              "outlinewidth": 0,
              "ticks": ""
             }
            }
           }
          ],
          "scatterpolar": [
           {
            "type": "scatterpolar",
            "marker": {
             "colorbar": {
              "outlinewidth": 0,
              "ticks": ""
             }
            }
           }
          ],
          "histogram": [
           {
            "marker": {
             "pattern": {
              "fillmode": "overlay",
              "size": 10,
              "solidity": 0.2
             }
            },
            "type": "histogram"
           }
          ],
          "scattergl": [
           {
            "marker": {
             "line": {
              "color": "#283442"
             }
            },
            "type": "scattergl"
           }
          ],
          "scatter3d": [
           {
            "type": "scatter3d",
            "line": {
             "colorbar": {
              "outlinewidth": 0,
              "ticks": ""
             }
            },
            "marker": {
             "colorbar": {
              "outlinewidth": 0,
              "ticks": ""
             }
            }
           }
          ],
          "scattermapbox": [
           {
            "type": "scattermapbox",
            "marker": {
             "colorbar": {
              "outlinewidth": 0,
              "ticks": ""
             }
            }
           }
          ],
          "scatterternary": [
           {
            "type": "scatterternary",
            "marker": {
             "colorbar": {
              "outlinewidth": 0,
              "ticks": ""
             }
            }
           }
          ],
          "scattercarpet": [
           {
            "type": "scattercarpet",
            "marker": {
             "colorbar": {
              "outlinewidth": 0,
              "ticks": ""
             }
            }
           }
          ],
          "carpet": [
           {
            "aaxis": {
             "endlinecolor": "#A2B1C6",
             "gridcolor": "#506784",
             "linecolor": "#506784",
             "minorgridcolor": "#506784",
             "startlinecolor": "#A2B1C6"
            },
            "baxis": {
             "endlinecolor": "#A2B1C6",
             "gridcolor": "#506784",
             "linecolor": "#506784",
             "minorgridcolor": "#506784",
             "startlinecolor": "#A2B1C6"
            },
            "type": "carpet"
           }
          ],
          "table": [
           {
            "cells": {
             "fill": {
              "color": "#506784"
             },
             "line": {
              "color": "rgb(17,17,17)"
             }
            },
            "header": {
             "fill": {
              "color": "#2a3f5f"
             },
             "line": {
              "color": "rgb(17,17,17)"
             }
            },
            "type": "table"
           }
          ],
          "barpolar": [
           {
            "marker": {
             "line": {
              "color": "rgb(17,17,17)",
              "width": 0.5
             },
             "pattern": {
              "fillmode": "overlay",
              "size": 10,
              "solidity": 0.2
             }
            },
            "type": "barpolar"
           }
          ],
          "pie": [
           {
            "automargin": true,
            "type": "pie"
           }
          ]
         },
         "layout": {
          "autotypenumbers": "strict",
          "colorway": [
           "#636efa",
           "#EF553B",
           "#00cc96",
           "#ab63fa",
           "#FFA15A",
           "#19d3f3",
           "#FF6692",
           "#B6E880",
           "#FF97FF",
           "#FECB52"
          ],
          "font": {
           "color": "#f2f5fa"
          },
          "hovermode": "closest",
          "hoverlabel": {
           "align": "left"
          },
          "paper_bgcolor": "rgb(17,17,17)",
          "plot_bgcolor": "rgb(17,17,17)",
          "polar": {
           "bgcolor": "rgb(17,17,17)",
           "angularaxis": {
            "gridcolor": "#506784",
            "linecolor": "#506784",
            "ticks": ""
           },
           "radialaxis": {
            "gridcolor": "#506784",
            "linecolor": "#506784",
            "ticks": ""
           }
          },
          "ternary": {
           "bgcolor": "rgb(17,17,17)",
           "aaxis": {
            "gridcolor": "#506784",
            "linecolor": "#506784",
            "ticks": ""
           },
           "baxis": {
            "gridcolor": "#506784",
            "linecolor": "#506784",
            "ticks": ""
           },
           "caxis": {
            "gridcolor": "#506784",
            "linecolor": "#506784",
            "ticks": ""
           }
          },
          "coloraxis": {
           "colorbar": {
            "outlinewidth": 0,
            "ticks": ""
           }
          },
          "colorscale": {
           "sequential": [
            [
             0.0,
             "#0d0887"
            ],
            [
             0.1111111111111111,
             "#46039f"
            ],
            [
             0.2222222222222222,
             "#7201a8"
            ],
            [
             0.3333333333333333,
             "#9c179e"
            ],
            [
             0.4444444444444444,
             "#bd3786"
            ],
            [
             0.5555555555555556,
             "#d8576b"
            ],
            [
             0.6666666666666666,
             "#ed7953"
            ],
            [
             0.7777777777777778,
             "#fb9f3a"
            ],
            [
             0.8888888888888888,
             "#fdca26"
            ],
            [
             1.0,
             "#f0f921"
            ]
           ],
           "sequentialminus": [
            [
             0.0,
             "#0d0887"
            ],
            [
             0.1111111111111111,
             "#46039f"
            ],
            [
             0.2222222222222222,
             "#7201a8"
            ],
            [
             0.3333333333333333,
             "#9c179e"
            ],
            [
             0.4444444444444444,
             "#bd3786"
            ],
            [
             0.5555555555555556,
             "#d8576b"
            ],
            [
             0.6666666666666666,
             "#ed7953"
            ],
            [
             0.7777777777777778,
             "#fb9f3a"
            ],
            [
             0.8888888888888888,
             "#fdca26"
            ],
            [
             1.0,
             "#f0f921"
            ]
           ],
           "diverging": [
            [
             0,
             "#8e0152"
            ],
            [
             0.1,
             "#c51b7d"
            ],
            [
             0.2,
             "#de77ae"
            ],
            [
             0.3,
             "#f1b6da"
            ],
            [
             0.4,
             "#fde0ef"
            ],
            [
             0.5,
             "#f7f7f7"
            ],
            [
             0.6,
             "#e6f5d0"
            ],
            [
             0.7,
             "#b8e186"
            ],
            [
             0.8,
             "#7fbc41"
            ],
            [
             0.9,
             "#4d9221"
            ],
            [
             1,
             "#276419"
            ]
           ]
          },
          "xaxis": {
           "gridcolor": "#283442",
           "linecolor": "#506784",
           "ticks": "",
           "title": {
            "standoff": 15
           },
           "zerolinecolor": "#283442",
           "automargin": true,
           "zerolinewidth": 2
          },
          "yaxis": {
           "gridcolor": "#283442",
           "linecolor": "#506784",
           "ticks": "",
           "title": {
            "standoff": 15
           },
           "zerolinecolor": "#283442",
           "automargin": true,
           "zerolinewidth": 2
          },
          "scene": {
           "xaxis": {
            "backgroundcolor": "rgb(17,17,17)",
            "gridcolor": "#506784",
            "linecolor": "#506784",
            "showbackground": true,
            "ticks": "",
            "zerolinecolor": "#C8D4E3",
            "gridwidth": 2
           },
           "yaxis": {
            "backgroundcolor": "rgb(17,17,17)",
            "gridcolor": "#506784",
            "linecolor": "#506784",
            "showbackground": true,
            "ticks": "",
            "zerolinecolor": "#C8D4E3",
            "gridwidth": 2
           },
           "zaxis": {
            "backgroundcolor": "rgb(17,17,17)",
            "gridcolor": "#506784",
            "linecolor": "#506784",
            "showbackground": true,
            "ticks": "",
            "zerolinecolor": "#C8D4E3",
            "gridwidth": 2
           }
          },
          "shapedefaults": {
           "line": {
            "color": "#f2f5fa"
           }
          },
          "annotationdefaults": {
           "arrowcolor": "#f2f5fa",
           "arrowhead": 0,
           "arrowwidth": 1
          },
          "geo": {
           "bgcolor": "rgb(17,17,17)",
           "landcolor": "rgb(17,17,17)",
           "subunitcolor": "#506784",
           "showland": true,
           "showlakes": true,
           "lakecolor": "rgb(17,17,17)"
          },
          "title": {
           "x": 0.05
          },
          "updatemenudefaults": {
           "bgcolor": "#506784",
           "borderwidth": 0
          },
          "sliderdefaults": {
           "bgcolor": "#C8D4E3",
           "borderwidth": 1,
           "bordercolor": "rgb(17,17,17)",
           "tickwidth": 0
          },
          "mapbox": {
           "style": "dark"
          }
         }
        }
       },
       "config": {
        "plotlyServerURL": "https://plot.ly"
       }
      },
      "text/html": "<div>                            <div id=\"61c7a9f4-e25a-4c8a-9795-3625012b0ad5\" class=\"plotly-graph-div\" style=\"height:525px; width:100%;\"></div>            <script type=\"text/javascript\">                require([\"plotly\"], function(Plotly) {                    window.PLOTLYENV=window.PLOTLYENV || {};                                    if (document.getElementById(\"61c7a9f4-e25a-4c8a-9795-3625012b0ad5\")) {                    Plotly.newPlot(                        \"61c7a9f4-e25a-4c8a-9795-3625012b0ad5\",                        [{\"cliponaxis\":false,\"hovertemplate\":[\"w0 (FloatDistribution): 0.10524703849246768<extra></extra>\",\"p (FloatDistribution): 0.2191740189432152<extra></extra>\",\"w1 (FloatDistribution): 0.22040006823130603<extra></extra>\",\"w2 (FloatDistribution): 0.45517887433301113<extra></extra>\"],\"marker\":{\"color\":\"rgb(66,146,198)\"},\"orientation\":\"h\",\"text\":[\"0.11\",\"0.22\",\"0.22\",\"0.46\"],\"textposition\":\"outside\",\"x\":[0.10524703849246768,0.2191740189432152,0.22040006823130603,0.45517887433301113],\"y\":[\"w0\",\"p\",\"w1\",\"w2\"],\"type\":\"bar\"}],                        {\"showlegend\":false,\"title\":{\"text\":\"Hyperparameter Importances\"},\"xaxis\":{\"title\":{\"text\":\"Importance for Objective Value\"}},\"yaxis\":{\"title\":{\"text\":\"Hyperparameter\"}},\"template\":{\"data\":{\"histogram2dcontour\":[{\"type\":\"histogram2dcontour\",\"colorbar\":{\"outlinewidth\":0,\"ticks\":\"\"},\"colorscale\":[[0.0,\"#0d0887\"],[0.1111111111111111,\"#46039f\"],[0.2222222222222222,\"#7201a8\"],[0.3333333333333333,\"#9c179e\"],[0.4444444444444444,\"#bd3786\"],[0.5555555555555556,\"#d8576b\"],[0.6666666666666666,\"#ed7953\"],[0.7777777777777778,\"#fb9f3a\"],[0.8888888888888888,\"#fdca26\"],[1.0,\"#f0f921\"]]}],\"choropleth\":[{\"type\":\"choropleth\",\"colorbar\":{\"outlinewidth\":0,\"ticks\":\"\"}}],\"histogram2d\":[{\"type\":\"histogram2d\",\"colorbar\":{\"outlinewidth\":0,\"ticks\":\"\"},\"colorscale\":[[0.0,\"#0d0887\"],[0.1111111111111111,\"#46039f\"],[0.2222222222222222,\"#7201a8\"],[0.3333333333333333,\"#9c179e\"],[0.4444444444444444,\"#bd3786\"],[0.5555555555555556,\"#d8576b\"],[0.6666666666666666,\"#ed7953\"],[0.7777777777777778,\"#fb9f3a\"],[0.8888888888888888,\"#fdca26\"],[1.0,\"#f0f921\"]]}],\"heatmap\":[{\"type\":\"heatmap\",\"colorbar\":{\"outlinewidth\":0,\"ticks\":\"\"},\"colorscale\":[[0.0,\"#0d0887\"],[0.1111111111111111,\"#46039f\"],[0.2222222222222222,\"#7201a8\"],[0.3333333333333333,\"#9c179e\"],[0.4444444444444444,\"#bd3786\"],[0.5555555555555556,\"#d8576b\"],[0.6666666666666666,\"#ed7953\"],[0.7777777777777778,\"#fb9f3a\"],[0.8888888888888888,\"#fdca26\"],[1.0,\"#f0f921\"]]}],\"heatmapgl\":[{\"type\":\"heatmapgl\",\"colorbar\":{\"outlinewidth\":0,\"ticks\":\"\"},\"colorscale\":[[0.0,\"#0d0887\"],[0.1111111111111111,\"#46039f\"],[0.2222222222222222,\"#7201a8\"],[0.3333333333333333,\"#9c179e\"],[0.4444444444444444,\"#bd3786\"],[0.5555555555555556,\"#d8576b\"],[0.6666666666666666,\"#ed7953\"],[0.7777777777777778,\"#fb9f3a\"],[0.8888888888888888,\"#fdca26\"],[1.0,\"#f0f921\"]]}],\"contourcarpet\":[{\"type\":\"contourcarpet\",\"colorbar\":{\"outlinewidth\":0,\"ticks\":\"\"}}],\"contour\":[{\"type\":\"contour\",\"colorbar\":{\"outlinewidth\":0,\"ticks\":\"\"},\"colorscale\":[[0.0,\"#0d0887\"],[0.1111111111111111,\"#46039f\"],[0.2222222222222222,\"#7201a8\"],[0.3333333333333333,\"#9c179e\"],[0.4444444444444444,\"#bd3786\"],[0.5555555555555556,\"#d8576b\"],[0.6666666666666666,\"#ed7953\"],[0.7777777777777778,\"#fb9f3a\"],[0.8888888888888888,\"#fdca26\"],[1.0,\"#f0f921\"]]}],\"surface\":[{\"type\":\"surface\",\"colorbar\":{\"outlinewidth\":0,\"ticks\":\"\"},\"colorscale\":[[0.0,\"#0d0887\"],[0.1111111111111111,\"#46039f\"],[0.2222222222222222,\"#7201a8\"],[0.3333333333333333,\"#9c179e\"],[0.4444444444444444,\"#bd3786\"],[0.5555555555555556,\"#d8576b\"],[0.6666666666666666,\"#ed7953\"],[0.7777777777777778,\"#fb9f3a\"],[0.8888888888888888,\"#fdca26\"],[1.0,\"#f0f921\"]]}],\"mesh3d\":[{\"type\":\"mesh3d\",\"colorbar\":{\"outlinewidth\":0,\"ticks\":\"\"}}],\"scatter\":[{\"marker\":{\"line\":{\"color\":\"#283442\"}},\"type\":\"scatter\"}],\"parcoords\":[{\"type\":\"parcoords\",\"line\":{\"colorbar\":{\"outlinewidth\":0,\"ticks\":\"\"}}}],\"scatterpolargl\":[{\"type\":\"scatterpolargl\",\"marker\":{\"colorbar\":{\"outlinewidth\":0,\"ticks\":\"\"}}}],\"bar\":[{\"error_x\":{\"color\":\"#f2f5fa\"},\"error_y\":{\"color\":\"#f2f5fa\"},\"marker\":{\"line\":{\"color\":\"rgb(17,17,17)\",\"width\":0.5},\"pattern\":{\"fillmode\":\"overlay\",\"size\":10,\"solidity\":0.2}},\"type\":\"bar\"}],\"scattergeo\":[{\"type\":\"scattergeo\",\"marker\":{\"colorbar\":{\"outlinewidth\":0,\"ticks\":\"\"}}}],\"scatterpolar\":[{\"type\":\"scatterpolar\",\"marker\":{\"colorbar\":{\"outlinewidth\":0,\"ticks\":\"\"}}}],\"histogram\":[{\"marker\":{\"pattern\":{\"fillmode\":\"overlay\",\"size\":10,\"solidity\":0.2}},\"type\":\"histogram\"}],\"scattergl\":[{\"marker\":{\"line\":{\"color\":\"#283442\"}},\"type\":\"scattergl\"}],\"scatter3d\":[{\"type\":\"scatter3d\",\"line\":{\"colorbar\":{\"outlinewidth\":0,\"ticks\":\"\"}},\"marker\":{\"colorbar\":{\"outlinewidth\":0,\"ticks\":\"\"}}}],\"scattermapbox\":[{\"type\":\"scattermapbox\",\"marker\":{\"colorbar\":{\"outlinewidth\":0,\"ticks\":\"\"}}}],\"scatterternary\":[{\"type\":\"scatterternary\",\"marker\":{\"colorbar\":{\"outlinewidth\":0,\"ticks\":\"\"}}}],\"scattercarpet\":[{\"type\":\"scattercarpet\",\"marker\":{\"colorbar\":{\"outlinewidth\":0,\"ticks\":\"\"}}}],\"carpet\":[{\"aaxis\":{\"endlinecolor\":\"#A2B1C6\",\"gridcolor\":\"#506784\",\"linecolor\":\"#506784\",\"minorgridcolor\":\"#506784\",\"startlinecolor\":\"#A2B1C6\"},\"baxis\":{\"endlinecolor\":\"#A2B1C6\",\"gridcolor\":\"#506784\",\"linecolor\":\"#506784\",\"minorgridcolor\":\"#506784\",\"startlinecolor\":\"#A2B1C6\"},\"type\":\"carpet\"}],\"table\":[{\"cells\":{\"fill\":{\"color\":\"#506784\"},\"line\":{\"color\":\"rgb(17,17,17)\"}},\"header\":{\"fill\":{\"color\":\"#2a3f5f\"},\"line\":{\"color\":\"rgb(17,17,17)\"}},\"type\":\"table\"}],\"barpolar\":[{\"marker\":{\"line\":{\"color\":\"rgb(17,17,17)\",\"width\":0.5},\"pattern\":{\"fillmode\":\"overlay\",\"size\":10,\"solidity\":0.2}},\"type\":\"barpolar\"}],\"pie\":[{\"automargin\":true,\"type\":\"pie\"}]},\"layout\":{\"autotypenumbers\":\"strict\",\"colorway\":[\"#636efa\",\"#EF553B\",\"#00cc96\",\"#ab63fa\",\"#FFA15A\",\"#19d3f3\",\"#FF6692\",\"#B6E880\",\"#FF97FF\",\"#FECB52\"],\"font\":{\"color\":\"#f2f5fa\"},\"hovermode\":\"closest\",\"hoverlabel\":{\"align\":\"left\"},\"paper_bgcolor\":\"rgb(17,17,17)\",\"plot_bgcolor\":\"rgb(17,17,17)\",\"polar\":{\"bgcolor\":\"rgb(17,17,17)\",\"angularaxis\":{\"gridcolor\":\"#506784\",\"linecolor\":\"#506784\",\"ticks\":\"\"},\"radialaxis\":{\"gridcolor\":\"#506784\",\"linecolor\":\"#506784\",\"ticks\":\"\"}},\"ternary\":{\"bgcolor\":\"rgb(17,17,17)\",\"aaxis\":{\"gridcolor\":\"#506784\",\"linecolor\":\"#506784\",\"ticks\":\"\"},\"baxis\":{\"gridcolor\":\"#506784\",\"linecolor\":\"#506784\",\"ticks\":\"\"},\"caxis\":{\"gridcolor\":\"#506784\",\"linecolor\":\"#506784\",\"ticks\":\"\"}},\"coloraxis\":{\"colorbar\":{\"outlinewidth\":0,\"ticks\":\"\"}},\"colorscale\":{\"sequential\":[[0.0,\"#0d0887\"],[0.1111111111111111,\"#46039f\"],[0.2222222222222222,\"#7201a8\"],[0.3333333333333333,\"#9c179e\"],[0.4444444444444444,\"#bd3786\"],[0.5555555555555556,\"#d8576b\"],[0.6666666666666666,\"#ed7953\"],[0.7777777777777778,\"#fb9f3a\"],[0.8888888888888888,\"#fdca26\"],[1.0,\"#f0f921\"]],\"sequentialminus\":[[0.0,\"#0d0887\"],[0.1111111111111111,\"#46039f\"],[0.2222222222222222,\"#7201a8\"],[0.3333333333333333,\"#9c179e\"],[0.4444444444444444,\"#bd3786\"],[0.5555555555555556,\"#d8576b\"],[0.6666666666666666,\"#ed7953\"],[0.7777777777777778,\"#fb9f3a\"],[0.8888888888888888,\"#fdca26\"],[1.0,\"#f0f921\"]],\"diverging\":[[0,\"#8e0152\"],[0.1,\"#c51b7d\"],[0.2,\"#de77ae\"],[0.3,\"#f1b6da\"],[0.4,\"#fde0ef\"],[0.5,\"#f7f7f7\"],[0.6,\"#e6f5d0\"],[0.7,\"#b8e186\"],[0.8,\"#7fbc41\"],[0.9,\"#4d9221\"],[1,\"#276419\"]]},\"xaxis\":{\"gridcolor\":\"#283442\",\"linecolor\":\"#506784\",\"ticks\":\"\",\"title\":{\"standoff\":15},\"zerolinecolor\":\"#283442\",\"automargin\":true,\"zerolinewidth\":2},\"yaxis\":{\"gridcolor\":\"#283442\",\"linecolor\":\"#506784\",\"ticks\":\"\",\"title\":{\"standoff\":15},\"zerolinecolor\":\"#283442\",\"automargin\":true,\"zerolinewidth\":2},\"scene\":{\"xaxis\":{\"backgroundcolor\":\"rgb(17,17,17)\",\"gridcolor\":\"#506784\",\"linecolor\":\"#506784\",\"showbackground\":true,\"ticks\":\"\",\"zerolinecolor\":\"#C8D4E3\",\"gridwidth\":2},\"yaxis\":{\"backgroundcolor\":\"rgb(17,17,17)\",\"gridcolor\":\"#506784\",\"linecolor\":\"#506784\",\"showbackground\":true,\"ticks\":\"\",\"zerolinecolor\":\"#C8D4E3\",\"gridwidth\":2},\"zaxis\":{\"backgroundcolor\":\"rgb(17,17,17)\",\"gridcolor\":\"#506784\",\"linecolor\":\"#506784\",\"showbackground\":true,\"ticks\":\"\",\"zerolinecolor\":\"#C8D4E3\",\"gridwidth\":2}},\"shapedefaults\":{\"line\":{\"color\":\"#f2f5fa\"}},\"annotationdefaults\":{\"arrowcolor\":\"#f2f5fa\",\"arrowhead\":0,\"arrowwidth\":1},\"geo\":{\"bgcolor\":\"rgb(17,17,17)\",\"landcolor\":\"rgb(17,17,17)\",\"subunitcolor\":\"#506784\",\"showland\":true,\"showlakes\":true,\"lakecolor\":\"rgb(17,17,17)\"},\"title\":{\"x\":0.05},\"updatemenudefaults\":{\"bgcolor\":\"#506784\",\"borderwidth\":0},\"sliderdefaults\":{\"bgcolor\":\"#C8D4E3\",\"borderwidth\":1,\"bordercolor\":\"rgb(17,17,17)\",\"tickwidth\":0},\"mapbox\":{\"style\":\"dark\"}}}},                        {\"responsive\": true}                    ).then(function(){\n                            \nvar gd = document.getElementById('61c7a9f4-e25a-4c8a-9795-3625012b0ad5');\nvar x = new MutationObserver(function (mutations, observer) {{\n        var display = window.getComputedStyle(gd).display;\n        if (!display || display === 'none') {{\n            console.log([gd, 'removed!']);\n            Plotly.purge(gd);\n            observer.disconnect();\n        }}\n}});\n\n// Listen for the removal of the full notebook cells\nvar notebookContainer = gd.closest('#notebook-container');\nif (notebookContainer) {{\n    x.observe(notebookContainer, {childList: true});\n}}\n\n// Listen for the clearing of the current output cell\nvar outputEl = gd.closest('.output');\nif (outputEl) {{\n    x.observe(outputEl, {childList: true});\n}}\n\n                        })                };                });            </script>        </div>"
     },
     "metadata": {},
     "output_type": "display_data"
    }
   ],
   "source": [
    "fig = optuna.visualization.plot_param_importances(gmb.study)\n",
    "fig.show()"
   ],
   "metadata": {
    "collapsed": false
   }
  },
  {
   "cell_type": "markdown",
   "source": [
    "## Submit"
   ],
   "metadata": {
    "collapsed": false
   }
  },
  {
   "cell_type": "code",
   "execution_count": 296,
   "outputs": [],
   "source": [
    "test_preds = gmb.transform(y_prob_test)\n",
    "\n",
    "submission_format = pd.read_csv(DATA_DIR + '/submission_format.csv', index_col='building_id')\n",
    "my_submission = pd.DataFrame(data=test_preds,\n",
    "                             columns=submission_format.columns,\n",
    "                             index=submission_format.index)\n",
    "my_submission['damage_grade'] = my_submission['damage_grade'].astype(int)\n",
    "my_submission.to_csv(DATA_DIR + '/submission/mixture_{}.csv'.format('cat_lgb_xgb_v2'))"
   ],
   "metadata": {
    "collapsed": false
   }
  }
 ],
 "metadata": {
  "kernelspec": {
   "display_name": "Python 3",
   "language": "python",
   "name": "python3"
  },
  "language_info": {
   "codemirror_mode": {
    "name": "ipython",
    "version": 2
   },
   "file_extension": ".py",
   "mimetype": "text/x-python",
   "name": "python",
   "nbconvert_exporter": "python",
   "pygments_lexer": "ipython2",
   "version": "2.7.6"
  }
 },
 "nbformat": 4,
 "nbformat_minor": 0
}
