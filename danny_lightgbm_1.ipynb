{
 "cells": [
  {
   "cell_type": "code",
   "execution_count": 56,
   "metadata": {
    "collapsed": true
   },
   "outputs": [
    {
     "data": {
      "text/html": "        <script type=\"text/javascript\">\n        window.PlotlyConfig = {MathJaxConfig: 'local'};\n        if (window.MathJax && window.MathJax.Hub && window.MathJax.Hub.Config) {window.MathJax.Hub.Config({SVG: {font: \"STIX-Web\"}});}\n        if (typeof require !== 'undefined') {\n        require.undef(\"plotly\");\n        requirejs.config({\n            paths: {\n                'plotly': ['https://cdn.plot.ly/plotly-2.12.1.min']\n            }\n        });\n        require(['plotly'], function(Plotly) {\n            window._Plotly = Plotly;\n        });\n        }\n        </script>\n        "
     },
     "metadata": {},
     "output_type": "display_data"
    }
   ],
   "source": [
    "import pandas as pd\n",
    "import matplotlib.pyplot as plt\n",
    "import seaborn as sns\n",
    "import ydata_profiling\n",
    "import cufflinks as cf\n",
    "import plotly.offline\n",
    "from sklearn.model_selection import train_test_split\n",
    "from sklearn.model_selection import GridSearchCV\n",
    "from catboost import CatBoostClassifier\n",
    "from sklearn.metrics import f1_score\n",
    "import numpy as np\n",
    "from sklearn.model_selection import train_test_split\n",
    "import lightgbm as lgb\n",
    "from sklearn.metrics import f1_score\n",
    "\n",
    "cf.go_offline()\n",
    "cf.set_config_file(offline=False, world_readable=True)\n",
    "pd.set_option('display.max_columns', 38)\n",
    "\n",
    "DATA_DIR = \"/home/gangda/workspace/ds-richter/data\"\n",
    "\n",
    "X = pd.read_csv(DATA_DIR + '/train_values.csv', index_col='building_id')\n",
    "y = pd.read_csv(DATA_DIR + '/train_labels.csv', index_col='building_id')\n",
    "X_test = pd.read_csv(DATA_DIR + '/test_values.csv', index_col='building_id')\n",
    "\n",
    "cat_cols = ['geo_level_1_id', 'geo_level_2_id', 'geo_level_3_id', 'count_floors_pre_eq', 'has_superstructure_adobe_mud',\n",
    "            'has_superstructure_mud_mortar_stone', 'has_superstructure_stone_flag',\n",
    "            'has_superstructure_cement_mortar_stone',\n",
    "            'has_superstructure_mud_mortar_brick',\n",
    "            'has_superstructure_cement_mortar_brick', 'has_superstructure_timber',\n",
    "            'has_superstructure_bamboo', 'has_superstructure_rc_non_engineered',\n",
    "            'has_superstructure_rc_engineered', 'has_superstructure_other', 'has_secondary_use',\n",
    "            'has_secondary_use_agriculture', 'has_secondary_use_hotel',\n",
    "            'has_secondary_use_rental', 'has_secondary_use_institution',\n",
    "            'has_secondary_use_school', 'has_secondary_use_industry',\n",
    "            'has_secondary_use_health_post', 'has_secondary_use_gov_office',\n",
    "            'has_secondary_use_use_police', 'has_secondary_use_other',\n",
    "            'land_surface_condition_n', 'land_surface_condition_o',\n",
    "            'land_surface_condition_t', 'foundation_type_h', 'foundation_type_i',\n",
    "            'foundation_type_r', 'foundation_type_u', 'foundation_type_w',\n",
    "            'roof_type_n', 'roof_type_q', 'roof_type_x', 'ground_floor_type_f',\n",
    "            'ground_floor_type_m', 'ground_floor_type_v', 'ground_floor_type_x',\n",
    "            'ground_floor_type_z', 'other_floor_type_j', 'other_floor_type_q',\n",
    "            'other_floor_type_s', 'other_floor_type_x', 'position_j', 'position_o',\n",
    "            'position_s', 'position_t', 'plan_configuration_a',\n",
    "            'plan_configuration_c', 'plan_configuration_d', 'plan_configuration_f',\n",
    "            'plan_configuration_m', 'plan_configuration_n', 'plan_configuration_o',\n",
    "            'plan_configuration_q', 'plan_configuration_s', 'plan_configuration_u',\n",
    "            'legal_ownership_status_a', 'legal_ownership_status_r',\n",
    "            'legal_ownership_status_v', 'legal_ownership_status_w']\n",
    "\n",
    "non_numeric_columns = ['land_surface_condition', 'foundation_type', 'roof_type', 'ground_floor_type',\n",
    "                            'other_floor_type', 'position', 'plan_configuration', 'legal_ownership_status']\n",
    "X = pd.get_dummies(X, columns=non_numeric_columns)\n",
    "y = y - 1\n",
    "X_test = pd.get_dummies(X_test, columns=non_numeric_columns)"
   ]
  },
  {
   "cell_type": "code",
   "execution_count": 61,
   "outputs": [],
   "source": [
    "def evaluate_microF1_lgb(preds, train_data):\n",
    "    labels = train_data.get_label()\n",
    "    num_classes = len(np.unique(labels))\n",
    "    preds = preds.reshape(num_classes, -1).argmax(axis=0)\n",
    "    f1 = f1_score(labels, preds, average='micro')\n",
    "    return 'microF1', f1, True\n",
    "\n",
    "\n",
    "# params = {\n",
    "#     'objective': 'multiclass',\n",
    "#     'num_class': 3,\n",
    "#     'boosting': 'gbdt',\n",
    "#     'metric': 'None',\n",
    "#     'seed': 42,\n",
    "# }\n",
    "\n",
    "params = {\n",
    "    'objective': 'multiclass',\n",
    "    'num_class': 3,\n",
    "    'boosting': 'gbdt',\n",
    "    'metric': 'None',\n",
    "    'seed': 42,\n",
    "    \"bagging_fraction\": 0.8883295045279088,\n",
    "    \"bagging_freq\": 2,\n",
    "    \"feature_fraction\": 0.5542528475943183,\n",
    "    \"lambda_l1\": 1.4756834962246912e-07,\n",
    "    \"lambda_l2\": 0.001245081454069126,\n",
    "    \"min_child_samples\": 14\n",
    "}"
   ],
   "metadata": {
    "collapsed": false
   }
  },
  {
   "cell_type": "code",
   "execution_count": 68,
   "outputs": [
    {
     "name": "stderr",
     "output_type": "stream",
     "text": [
      "/home/gangda/anaconda3/lib/python3.9/site-packages/lightgbm/engine.py:181: UserWarning:\n",
      "\n",
      "'early_stopping_rounds' argument is deprecated and will be removed in a future release of LightGBM. Pass 'early_stopping()' callback via 'callbacks' argument instead.\n",
      "\n",
      "/home/gangda/anaconda3/lib/python3.9/site-packages/lightgbm/basic.py:2065: UserWarning:\n",
      "\n",
      "Using categorical_feature in Dataset.\n",
      "\n",
      "/home/gangda/anaconda3/lib/python3.9/site-packages/lightgbm/engine.py:239: UserWarning:\n",
      "\n",
      "'verbose_eval' argument is deprecated and will be removed in a future release of LightGBM. Pass 'log_evaluation()' callback via 'callbacks' argument instead.\n",
      "\n"
     ]
    },
    {
     "name": "stdout",
     "output_type": "stream",
     "text": [
      "[LightGBM] [Warning] Auto-choosing col-wise multi-threading, the overhead of testing was 0.141326 seconds.\n",
      "You can set `force_col_wise=true` to remove the overhead.\n",
      "[LightGBM] [Info] Total Bins 10607\n",
      "[LightGBM] [Info] Number of data points in the train set: 173734, number of used features: 66\n"
     ]
    },
    {
     "name": "stderr",
     "output_type": "stream",
     "text": [
      "/home/gangda/anaconda3/lib/python3.9/site-packages/lightgbm/basic.py:1780: UserWarning:\n",
      "\n",
      "Overriding the parameters from Reference Dataset.\n",
      "\n",
      "/home/gangda/anaconda3/lib/python3.9/site-packages/lightgbm/basic.py:1513: UserWarning:\n",
      "\n",
      "categorical_column in param dict is overridden.\n",
      "\n"
     ]
    },
    {
     "name": "stdout",
     "output_type": "stream",
     "text": [
      "[LightGBM] [Info] Start training from score -2.340501\n",
      "[LightGBM] [Info] Start training from score -0.563022\n",
      "[LightGBM] [Info] Start training from score -1.095911\n",
      "Training until validation scores don't improve for 200 rounds\n",
      "[25]\ttraining's microF1: 0.753733\tvalid_1's microF1: 0.739855\n",
      "[50]\ttraining's microF1: 0.769055\tvalid_1's microF1: 0.745277\n",
      "[75]\ttraining's microF1: 0.77827\tvalid_1's microF1: 0.74705\n",
      "[100]\ttraining's microF1: 0.783071\tvalid_1's microF1: 0.74758\n",
      "[125]\ttraining's microF1: 0.787163\tvalid_1's microF1: 0.747983\n",
      "[150]\ttraining's microF1: 0.789926\tvalid_1's microF1: 0.747246\n",
      "[175]\ttraining's microF1: 0.791791\tvalid_1's microF1: 0.747476\n",
      "[200]\ttraining's microF1: 0.793144\tvalid_1's microF1: 0.747683\n",
      "[225]\ttraining's microF1: 0.794749\tvalid_1's microF1: 0.747856\n",
      "[250]\ttraining's microF1: 0.795866\tvalid_1's microF1: 0.748052\n",
      "[275]\ttraining's microF1: 0.796885\tvalid_1's microF1: 0.747718\n",
      "[300]\ttraining's microF1: 0.798076\tvalid_1's microF1: 0.748213\n",
      "[325]\ttraining's microF1: 0.799251\tvalid_1's microF1: 0.74796\n",
      "[350]\ttraining's microF1: 0.800131\tvalid_1's microF1: 0.747741\n",
      "[375]\ttraining's microF1: 0.801242\tvalid_1's microF1: 0.747649\n",
      "[400]\ttraining's microF1: 0.802198\tvalid_1's microF1: 0.747741\n",
      "[425]\ttraining's microF1: 0.802929\tvalid_1's microF1: 0.748006\n",
      "[450]\ttraining's microF1: 0.803723\tvalid_1's microF1: 0.747879\n",
      "[475]\ttraining's microF1: 0.804661\tvalid_1's microF1: 0.747798\n",
      "[500]\ttraining's microF1: 0.805576\tvalid_1's microF1: 0.747833\n",
      "Early stopping, best iteration is:\n",
      "[302]\ttraining's microF1: 0.798243\tvalid_1's microF1: 0.748408\n"
     ]
    },
    {
     "name": "stderr",
     "output_type": "stream",
     "text": [
      "/home/gangda/anaconda3/lib/python3.9/site-packages/lightgbm/engine.py:181: UserWarning:\n",
      "\n",
      "'early_stopping_rounds' argument is deprecated and will be removed in a future release of LightGBM. Pass 'early_stopping()' callback via 'callbacks' argument instead.\n",
      "\n",
      "/home/gangda/anaconda3/lib/python3.9/site-packages/lightgbm/basic.py:2065: UserWarning:\n",
      "\n",
      "Using categorical_feature in Dataset.\n",
      "\n",
      "/home/gangda/anaconda3/lib/python3.9/site-packages/lightgbm/engine.py:239: UserWarning:\n",
      "\n",
      "'verbose_eval' argument is deprecated and will be removed in a future release of LightGBM. Pass 'log_evaluation()' callback via 'callbacks' argument instead.\n",
      "\n"
     ]
    },
    {
     "name": "stdout",
     "output_type": "stream",
     "text": [
      "[LightGBM] [Warning] Auto-choosing col-wise multi-threading, the overhead of testing was 0.098156 seconds.\n",
      "You can set `force_col_wise=true` to remove the overhead.\n",
      "[LightGBM] [Info] Total Bins 10561\n",
      "[LightGBM] [Info] Number of data points in the train set: 173734, number of used features: 68\n"
     ]
    },
    {
     "name": "stderr",
     "output_type": "stream",
     "text": [
      "/home/gangda/anaconda3/lib/python3.9/site-packages/lightgbm/basic.py:1780: UserWarning:\n",
      "\n",
      "Overriding the parameters from Reference Dataset.\n",
      "\n",
      "/home/gangda/anaconda3/lib/python3.9/site-packages/lightgbm/basic.py:1513: UserWarning:\n",
      "\n",
      "categorical_column in param dict is overridden.\n",
      "\n"
     ]
    },
    {
     "name": "stdout",
     "output_type": "stream",
     "text": [
      "[LightGBM] [Info] Start training from score -2.339008\n",
      "[LightGBM] [Info] Start training from score -0.565015\n",
      "[LightGBM] [Info] Start training from score -1.092953\n",
      "Training until validation scores don't improve for 200 rounds\n",
      "[25]\ttraining's microF1: 0.752754\tvalid_1's microF1: 0.740178\n",
      "[50]\ttraining's microF1: 0.769832\tvalid_1's microF1: 0.746313\n",
      "[75]\ttraining's microF1: 0.778005\tvalid_1's microF1: 0.747545\n",
      "[100]\ttraining's microF1: 0.782196\tvalid_1's microF1: 0.74819\n",
      "[125]\ttraining's microF1: 0.785655\tvalid_1's microF1: 0.748823\n",
      "[150]\ttraining's microF1: 0.788286\tvalid_1's microF1: 0.74903\n",
      "[175]\ttraining's microF1: 0.790076\tvalid_1's microF1: 0.749099\n",
      "[200]\ttraining's microF1: 0.791958\tvalid_1's microF1: 0.749191\n",
      "[225]\ttraining's microF1: 0.793644\tvalid_1's microF1: 0.749525\n",
      "[250]\ttraining's microF1: 0.794882\tvalid_1's microF1: 0.749157\n",
      "[275]\ttraining's microF1: 0.796165\tvalid_1's microF1: 0.749099\n",
      "[300]\ttraining's microF1: 0.796891\tvalid_1's microF1: 0.749168\n",
      "[325]\ttraining's microF1: 0.798122\tvalid_1's microF1: 0.749997\n",
      "[350]\ttraining's microF1: 0.799158\tvalid_1's microF1: 0.75002\n",
      "[375]\ttraining's microF1: 0.800195\tvalid_1's microF1: 0.749997\n",
      "[400]\ttraining's microF1: 0.800914\tvalid_1's microF1: 0.750158\n",
      "[425]\ttraining's microF1: 0.801645\tvalid_1's microF1: 0.74979\n",
      "[450]\ttraining's microF1: 0.802388\tvalid_1's microF1: 0.749594\n",
      "[475]\ttraining's microF1: 0.803165\tvalid_1's microF1: 0.749709\n",
      "[500]\ttraining's microF1: 0.804126\tvalid_1's microF1: 0.749721\n",
      "[525]\ttraining's microF1: 0.80488\tvalid_1's microF1: 0.749364\n",
      "[550]\ttraining's microF1: 0.805415\tvalid_1's microF1: 0.749606\n",
      "[575]\ttraining's microF1: 0.80652\tvalid_1's microF1: 0.749963\n",
      "Early stopping, best iteration is:\n",
      "[384]\ttraining's microF1: 0.800258\tvalid_1's microF1: 0.750412\n"
     ]
    },
    {
     "name": "stderr",
     "output_type": "stream",
     "text": [
      "/home/gangda/anaconda3/lib/python3.9/site-packages/lightgbm/engine.py:181: UserWarning:\n",
      "\n",
      "'early_stopping_rounds' argument is deprecated and will be removed in a future release of LightGBM. Pass 'early_stopping()' callback via 'callbacks' argument instead.\n",
      "\n",
      "/home/gangda/anaconda3/lib/python3.9/site-packages/lightgbm/basic.py:2065: UserWarning:\n",
      "\n",
      "Using categorical_feature in Dataset.\n",
      "\n",
      "/home/gangda/anaconda3/lib/python3.9/site-packages/lightgbm/engine.py:239: UserWarning:\n",
      "\n",
      "'verbose_eval' argument is deprecated and will be removed in a future release of LightGBM. Pass 'log_evaluation()' callback via 'callbacks' argument instead.\n",
      "\n"
     ]
    },
    {
     "name": "stdout",
     "output_type": "stream",
     "text": [
      "[LightGBM] [Warning] Auto-choosing col-wise multi-threading, the overhead of testing was 0.169734 seconds.\n",
      "You can set `force_col_wise=true` to remove the overhead.\n",
      "[LightGBM] [Info] Total Bins 10572\n",
      "[LightGBM] [Info] Number of data points in the train set: 173734, number of used features: 68\n"
     ]
    },
    {
     "name": "stderr",
     "output_type": "stream",
     "text": [
      "/home/gangda/anaconda3/lib/python3.9/site-packages/lightgbm/basic.py:1780: UserWarning:\n",
      "\n",
      "Overriding the parameters from Reference Dataset.\n",
      "\n",
      "/home/gangda/anaconda3/lib/python3.9/site-packages/lightgbm/basic.py:1513: UserWarning:\n",
      "\n",
      "categorical_column in param dict is overridden.\n",
      "\n"
     ]
    },
    {
     "name": "stdout",
     "output_type": "stream",
     "text": [
      "[LightGBM] [Info] Start training from score -2.337993\n",
      "[LightGBM] [Info] Start training from score -0.564053\n",
      "[LightGBM] [Info] Start training from score -1.094878\n",
      "Training until validation scores don't improve for 200 rounds\n",
      "[25]\ttraining's microF1: 0.753848\tvalid_1's microF1: 0.739556\n",
      "[50]\ttraining's microF1: 0.769798\tvalid_1's microF1: 0.746037\n",
      "[75]\ttraining's microF1: 0.778362\tvalid_1's microF1: 0.747534\n",
      "[100]\ttraining's microF1: 0.782645\tvalid_1's microF1: 0.747568\n",
      "[125]\ttraining's microF1: 0.786058\tvalid_1's microF1: 0.748201\n",
      "[150]\ttraining's microF1: 0.788665\tvalid_1's microF1: 0.748328\n",
      "[175]\ttraining's microF1: 0.790853\tvalid_1's microF1: 0.747971\n",
      "[200]\ttraining's microF1: 0.792113\tvalid_1's microF1: 0.748144\n",
      "[225]\ttraining's microF1: 0.793961\tvalid_1's microF1: 0.748696\n",
      "[250]\ttraining's microF1: 0.795285\tvalid_1's microF1: 0.748742\n",
      "[275]\ttraining's microF1: 0.796597\tvalid_1's microF1: 0.74903\n",
      "[300]\ttraining's microF1: 0.797927\tvalid_1's microF1: 0.748996\n",
      "[325]\ttraining's microF1: 0.799199\tvalid_1's microF1: 0.749122\n",
      "[350]\ttraining's microF1: 0.800269\tvalid_1's microF1: 0.748754\n",
      "[375]\ttraining's microF1: 0.800551\tvalid_1's microF1: 0.749778\n",
      "[400]\ttraining's microF1: 0.801639\tvalid_1's microF1: 0.749318\n",
      "[425]\ttraining's microF1: 0.801939\tvalid_1's microF1: 0.748927\n",
      "[450]\ttraining's microF1: 0.802963\tvalid_1's microF1: 0.748524\n",
      "[475]\ttraining's microF1: 0.803832\tvalid_1's microF1: 0.749249\n",
      "[500]\ttraining's microF1: 0.804713\tvalid_1's microF1: 0.749226\n",
      "[525]\ttraining's microF1: 0.80553\tvalid_1's microF1: 0.748984\n",
      "[550]\ttraining's microF1: 0.806043\tvalid_1's microF1: 0.749214\n",
      "[575]\ttraining's microF1: 0.807441\tvalid_1's microF1: 0.749122\n",
      "Early stopping, best iteration is:\n",
      "[378]\ttraining's microF1: 0.800741\tvalid_1's microF1: 0.749813\n",
      "\n",
      " ========================================================\n",
      "val_acc:  0.74954\n"
     ]
    }
   ],
   "source": [
    "from sklearn.model_selection import KFold\n",
    "\n",
    "kf = KFold(n_splits=3)\n",
    "best_models = []\n",
    "val_acc = 0\n",
    "for train_index, val_index in kf.split(X):\n",
    "    X_train = X.iloc[train_index, :]\n",
    "    y_train = y.iloc[train_index, :]\n",
    "\n",
    "    X_val = X.iloc[val_index, :]\n",
    "    y_val = y.iloc[val_index, :]\n",
    "\n",
    "    d_training = lgb.Dataset(X_train, label=y_train, categorical_feature=cat_cols, free_raw_data=False)\n",
    "    d_test = lgb.Dataset(X_val, label=y_val, categorical_feature=cat_cols, free_raw_data=False)\n",
    "\n",
    "    model = lgb.train(params, train_set=d_training, valid_sets=[d_training, d_test], feval=evaluate_microF1_lgb,\n",
    "                      verbose_eval=25, early_stopping_rounds=200, num_boost_round=2000)\n",
    "\n",
    "    val_preds = model.predict(X_val).argmax(axis=1)\n",
    "    val_acc += f1_score(y_val, val_preds, average='micro')\n",
    "    best_models.append(model)\n",
    "\n",
    "print(\"\\n ========================================================\")\n",
    "print(f'val_acc: {val_acc/len(best_models): .5f}')"
   ],
   "metadata": {
    "collapsed": false
   }
  },
  {
   "cell_type": "code",
   "execution_count": 69,
   "outputs": [
    {
     "data": {
      "text/plain": "array([[2.55035211e-04, 9.61508595e-02, 9.03594105e-01],\n       [2.82510527e-03, 8.02580378e-01, 1.94594517e-01],\n       [1.34332425e-03, 2.21777427e-01, 7.76879249e-01],\n       ...,\n       [2.16822781e-04, 1.25319838e-02, 9.87251193e-01],\n       [2.11758990e-01, 7.84060099e-01, 4.18091071e-03],\n       [2.52737982e-04, 5.97061897e-02, 9.40041072e-01]])"
     },
     "execution_count": 69,
     "metadata": {},
     "output_type": "execute_result"
    }
   ],
   "source": [
    "val_probs = []\n",
    "for i, (train_index, val_index) in enumerate(kf.split(X)):\n",
    "    X_val = X.iloc[val_index, :]\n",
    "    val_probs.append(best_models[i].predict(X_val))\n",
    "\n",
    "val_probs = np.concatenate(val_probs, axis=0)\n",
    "val_probs"
   ],
   "metadata": {
    "collapsed": false
   }
  },
  {
   "cell_type": "code",
   "execution_count": 70,
   "outputs": [
    {
     "data": {
      "text/plain": "array([[0.00099906, 0.27957054, 0.7194304 ],\n       [0.00110119, 0.90006587, 0.09883294],\n       [0.01312887, 0.79558352, 0.19128761],\n       ...,\n       [0.02682265, 0.85498407, 0.11819328],\n       [0.00669397, 0.83543399, 0.15787204],\n       [0.5832066 , 0.39083669, 0.02595671]])"
     },
     "execution_count": 70,
     "metadata": {},
     "output_type": "execute_result"
    }
   ],
   "source": [
    "test_probs = None\n",
    "for best_model in best_models:\n",
    "    if test_probs is None:\n",
    "        test_probs = best_model.predict(X_test, num_iteration=best_model.best_iteration)\n",
    "    else:\n",
    "        test_probs += best_model.predict(X_test, num_iteration=best_model.best_iteration)\n",
    "\n",
    "test_probs /= len(best_models)\n",
    "test_probs"
   ],
   "metadata": {
    "collapsed": false
   }
  },
  {
   "cell_type": "code",
   "execution_count": 71,
   "outputs": [],
   "source": [
    "version = 1"
   ],
   "metadata": {
    "collapsed": false
   }
  },
  {
   "cell_type": "code",
   "execution_count": 72,
   "outputs": [],
   "source": [
    "np.save(DATA_DIR + '/intermediate/lightgbm_{}fold_v{}_train.npy'.format(kf.n_splits, version), val_probs)\n",
    "np.save(DATA_DIR + '/intermediate/lightgbm_{}fold_v{}_test.npy'.format(kf.n_splits, version), test_probs)"
   ],
   "metadata": {
    "collapsed": false
   }
  },
  {
   "cell_type": "code",
   "execution_count": 32,
   "outputs": [],
   "source": [
    "test_preds = np.argmax(test_probs, axis=1) + 1\n",
    "\n",
    "submission_format = pd.read_csv(DATA_DIR + '/submission_format.csv', index_col='building_id')\n",
    "my_submission = pd.DataFrame(data=test_preds,\n",
    "                             columns=submission_format.columns,\n",
    "                             index=submission_format.index)\n",
    "my_submission['damage_grade'] = my_submission['damage_grade'].astype(int)\n",
    "my_submission.to_csv(DATA_DIR + '/submission/lightgbm_{}fold_v{}.csv'.format(kf.n_splits, version))"
   ],
   "metadata": {
    "collapsed": false
   }
  }
 ],
 "metadata": {
  "kernelspec": {
   "display_name": "Python 3",
   "language": "python",
   "name": "python3"
  },
  "language_info": {
   "codemirror_mode": {
    "name": "ipython",
    "version": 2
   },
   "file_extension": ".py",
   "mimetype": "text/x-python",
   "name": "python",
   "nbconvert_exporter": "python",
   "pygments_lexer": "ipython2",
   "version": "2.7.6"
  }
 },
 "nbformat": 4,
 "nbformat_minor": 0
}
